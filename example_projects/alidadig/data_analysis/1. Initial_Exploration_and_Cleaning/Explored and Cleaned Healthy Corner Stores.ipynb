{
 "cells": [
  {
   "cell_type": "code",
   "execution_count": 1,
   "metadata": {},
   "outputs": [],
   "source": [
    "%matplotlib inline\n",
    "import pandas as pd\n",
    "import geopandas as gpd\n",
    "import plotly.express as px\n",
    "import plotly\n",
    "import matplotlib.pyplot as plt\n",
    "import pandas as pd\n",
    "from IPython.display import display\n",
    "from IPython.display import Image\n",
    "import pandas as pd\n",
    "import numpy as np"
   ]
  },
  {
   "cell_type": "code",
   "execution_count": 2,
   "metadata": {},
   "outputs": [],
   "source": [
    "healthy_corner_stores_geo_df=gpd.read_file('../../data/Raw_Data/PhillyHealth_Healthy_corner_stores.geojson')"
   ]
  },
  {
   "cell_type": "markdown",
   "metadata": {},
   "source": [
    "* This dataset shows the locations of healthy corner stores in Philly. By plotting these dots against other maps such as heatmaps of income and diabetes rates, I can see the relationship between access to healthy corner stores and these other variables. As I analyze my data in more depth and begin to produce my own data, I can merge this data with a dataset showing locations of farmers markets to get a more comprehensive dataset surrounding overall access to healthy foods."
   ]
  },
  {
   "cell_type": "markdown",
   "metadata": {},
   "source": [
    "# Exploration"
   ]
  },
  {
   "cell_type": "code",
   "execution_count": 3,
   "metadata": {},
   "outputs": [
    {
     "data": {
      "text/plain": [
       "(669, 6)"
      ]
     },
     "execution_count": 3,
     "metadata": {},
     "output_type": "execute_result"
    }
   ],
   "source": [
    "healthy_corner_stores_geo_df.shape"
   ]
  },
  {
   "cell_type": "markdown",
   "metadata": {},
   "source": [
    "* There are 669 healthy corner stores documented in this dataset and 6 columns of details pertaining to each corner store. "
   ]
  },
  {
   "cell_type": "code",
   "execution_count": 4,
   "metadata": {},
   "outputs": [
    {
     "data": {
      "text/html": [
       "<div>\n",
       "<style scoped>\n",
       "    .dataframe tbody tr th:only-of-type {\n",
       "        vertical-align: middle;\n",
       "    }\n",
       "\n",
       "    .dataframe tbody tr th {\n",
       "        vertical-align: top;\n",
       "    }\n",
       "\n",
       "    .dataframe thead th {\n",
       "        text-align: right;\n",
       "    }\n",
       "</style>\n",
       "<table border=\"1\" class=\"dataframe\">\n",
       "  <thead>\n",
       "    <tr style=\"text-align: right;\">\n",
       "      <th></th>\n",
       "      <th>CATEGORY</th>\n",
       "      <th>STORE_ADDR</th>\n",
       "      <th>OFFICIAL_S</th>\n",
       "      <th>ZIP</th>\n",
       "      <th>CDC_STORE_</th>\n",
       "      <th>geometry</th>\n",
       "    </tr>\n",
       "  </thead>\n",
       "  <tbody>\n",
       "    <tr>\n",
       "      <th>0</th>\n",
       "      <td>Basic</td>\n",
       "      <td>1739 South St</td>\n",
       "      <td>Adabel Deli Inc</td>\n",
       "      <td>19146</td>\n",
       "      <td>1.0</td>\n",
       "      <td>POINT (-75.17094707694254 39.94437406209261)</td>\n",
       "    </tr>\n",
       "    <tr>\n",
       "      <th>1</th>\n",
       "      <td>Enhanced</td>\n",
       "      <td>1643 W Diamond St</td>\n",
       "      <td>Adan Grocery</td>\n",
       "      <td>19121</td>\n",
       "      <td>3.0</td>\n",
       "      <td>POINT (-75.16048543262013 39.98528161550929)</td>\n",
       "    </tr>\n",
       "    <tr>\n",
       "      <th>2</th>\n",
       "      <td>Basic</td>\n",
       "      <td>2568 N Bancroft St</td>\n",
       "      <td>Agramonte Grocery Store</td>\n",
       "      <td>19132</td>\n",
       "      <td>2.0</td>\n",
       "      <td>POINT (-75.15885414520487 39.99238311557681)</td>\n",
       "    </tr>\n",
       "    <tr>\n",
       "      <th>3</th>\n",
       "      <td>Enhanced</td>\n",
       "      <td>4600 N 11th St</td>\n",
       "      <td>Ailyn Mini Market LLC</td>\n",
       "      <td>19140</td>\n",
       "      <td>3.0</td>\n",
       "      <td>POINT (-75.14294922174258 40.02234870746425)</td>\n",
       "    </tr>\n",
       "    <tr>\n",
       "      <th>4</th>\n",
       "      <td>Basic</td>\n",
       "      <td>419 East Wyoming Ave</td>\n",
       "      <td>Al Aqsa Halal</td>\n",
       "      <td>19120</td>\n",
       "      <td>2.0</td>\n",
       "      <td>POINT (-75.11744231378752 40.02075034319167)</td>\n",
       "    </tr>\n",
       "  </tbody>\n",
       "</table>\n",
       "</div>"
      ],
      "text/plain": [
       "   CATEGORY            STORE_ADDR               OFFICIAL_S    ZIP  CDC_STORE_  \\\n",
       "0     Basic         1739 South St          Adabel Deli Inc  19146         1.0   \n",
       "1  Enhanced     1643 W Diamond St             Adan Grocery  19121         3.0   \n",
       "2     Basic    2568 N Bancroft St  Agramonte Grocery Store  19132         2.0   \n",
       "3  Enhanced        4600 N 11th St    Ailyn Mini Market LLC  19140         3.0   \n",
       "4     Basic  419 East Wyoming Ave            Al Aqsa Halal  19120         2.0   \n",
       "\n",
       "                                       geometry  \n",
       "0  POINT (-75.17094707694254 39.94437406209261)  \n",
       "1  POINT (-75.16048543262013 39.98528161550929)  \n",
       "2  POINT (-75.15885414520487 39.99238311557681)  \n",
       "3  POINT (-75.14294922174258 40.02234870746425)  \n",
       "4  POINT (-75.11744231378752 40.02075034319167)  "
      ]
     },
     "execution_count": 4,
     "metadata": {},
     "output_type": "execute_result"
    }
   ],
   "source": [
    "healthy_corner_stores_geo_df.head()"
   ]
  },
  {
   "cell_type": "code",
   "execution_count": 5,
   "metadata": {},
   "outputs": [
    {
     "data": {
      "text/plain": [
       "Index(['CATEGORY', 'STORE_ADDR', 'OFFICIAL_S', 'ZIP', 'CDC_STORE_',\n",
       "       'geometry'],\n",
       "      dtype='object')"
      ]
     },
     "execution_count": 5,
     "metadata": {},
     "output_type": "execute_result"
    }
   ],
   "source": [
    "healthy_corner_stores_geo_df.columns"
   ]
  },
  {
   "cell_type": "markdown",
   "metadata": {},
   "source": [
    "* The information most relevant to me would be the primarily the __geometry, address, names, and zipcodes__. "
   ]
  },
  {
   "cell_type": "code",
   "execution_count": 6,
   "metadata": {},
   "outputs": [
    {
     "data": {
      "text/plain": [
       "0    POINT (-75.17094707694254 39.94437406209261)\n",
       "1    POINT (-75.16048543262013 39.98528161550929)\n",
       "2    POINT (-75.15885414520487 39.99238311557681)\n",
       "3    POINT (-75.14294922174258 40.02234870746425)\n",
       "4    POINT (-75.11744231378752 40.02075034319167)\n",
       "Name: geometry, dtype: object"
      ]
     },
     "execution_count": 6,
     "metadata": {},
     "output_type": "execute_result"
    }
   ],
   "source": [
    "healthy_corner_stores_geo_df['geometry'].head()"
   ]
  },
  {
   "cell_type": "code",
   "execution_count": 7,
   "metadata": {},
   "outputs": [
    {
     "data": {
      "text/plain": [
       "0           1739 South St\n",
       "1       1643 W Diamond St\n",
       "2      2568 N Bancroft St\n",
       "3          4600 N 11th St\n",
       "4    419 East Wyoming Ave\n",
       "Name: STORE_ADDR, dtype: object"
      ]
     },
     "execution_count": 7,
     "metadata": {},
     "output_type": "execute_result"
    }
   ],
   "source": [
    "healthy_corner_stores_geo_df['STORE_ADDR'].head()"
   ]
  },
  {
   "cell_type": "code",
   "execution_count": 8,
   "metadata": {},
   "outputs": [
    {
     "data": {
      "text/plain": [
       "0            Adabel Deli Inc\n",
       "1               Adan Grocery\n",
       "2    Agramonte Grocery Store\n",
       "3      Ailyn Mini Market LLC\n",
       "4              Al Aqsa Halal\n",
       "Name: OFFICIAL_S, dtype: object"
      ]
     },
     "execution_count": 8,
     "metadata": {},
     "output_type": "execute_result"
    }
   ],
   "source": [
    "healthy_corner_stores_geo_df['OFFICIAL_S'].head()"
   ]
  },
  {
   "cell_type": "code",
   "execution_count": 9,
   "metadata": {},
   "outputs": [
    {
     "data": {
      "text/plain": [
       "array(['19146', '19121', '19132', '19140', '19120', '19145', '19142',\n",
       "       '19134', '19133', '19130', '19139', '19124', '19143', '19131',\n",
       "       '19137', '19135', '19125', '19147', '19144', '19122', '19148',\n",
       "       '19111', '19141', '19151', '19104', '19138', '19123', '19149',\n",
       "       '19152', '19136', '19128', '19115', '19126', '19129'], dtype=object)"
      ]
     },
     "execution_count": 9,
     "metadata": {},
     "output_type": "execute_result"
    }
   ],
   "source": [
    "healthy_corner_stores_geo_df['ZIP'].unique()"
   ]
  },
  {
   "cell_type": "code",
   "execution_count": 10,
   "metadata": {
    "scrolled": true
   },
   "outputs": [
    {
     "data": {
      "text/plain": [
       "34"
      ]
     },
     "execution_count": 10,
     "metadata": {},
     "output_type": "execute_result"
    }
   ],
   "source": [
    "healthy_corner_stores_geo_df['ZIP'].nunique()"
   ]
  },
  {
   "cell_type": "markdown",
   "metadata": {},
   "source": [
    "* I can see here there are 34 zipcodes accounted for in this dataset."
   ]
  },
  {
   "cell_type": "code",
   "execution_count": 11,
   "metadata": {},
   "outputs": [
    {
     "data": {
      "text/plain": [
       "19134    68\n",
       "19132    47\n",
       "19140    46\n",
       "19120    43\n",
       "19143    43\n",
       "19148    39\n",
       "19133    38\n",
       "19121    34\n",
       "19146    27\n",
       "19124    26\n",
       "19139    26\n",
       "19142    26\n",
       "19145    22\n",
       "19144    19\n",
       "19131    18\n",
       "19122    16\n",
       "19147    16\n",
       "19138    14\n",
       "19151    13\n",
       "19123    13\n",
       "19130    11\n",
       "19141     8\n",
       "19125     8\n",
       "19136     7\n",
       "19104     7\n",
       "19135     7\n",
       "19111     7\n",
       "19126     6\n",
       "19128     5\n",
       "19149     3\n",
       "19152     2\n",
       "19137     2\n",
       "19115     1\n",
       "19129     1\n",
       "Name: ZIP, dtype: int64"
      ]
     },
     "execution_count": 11,
     "metadata": {},
     "output_type": "execute_result"
    }
   ],
   "source": [
    "healthy_corner_stores_geo_df['ZIP'].value_counts()"
   ]
  },
  {
   "cell_type": "markdown",
   "metadata": {},
   "source": [
    "These are the number of healthy corner stores in each of the zipcodes. Since I will be plotting these later (combined with farmers markets) it helps to get familiar with thinking about the number of locations within each zipcode. "
   ]
  },
  {
   "cell_type": "markdown",
   "metadata": {},
   "source": [
    "# Cleaning"
   ]
  },
  {
   "cell_type": "code",
   "execution_count": 12,
   "metadata": {},
   "outputs": [
    {
     "data": {
      "text/html": [
       "<div>\n",
       "<style scoped>\n",
       "    .dataframe tbody tr th:only-of-type {\n",
       "        vertical-align: middle;\n",
       "    }\n",
       "\n",
       "    .dataframe tbody tr th {\n",
       "        vertical-align: top;\n",
       "    }\n",
       "\n",
       "    .dataframe thead th {\n",
       "        text-align: right;\n",
       "    }\n",
       "</style>\n",
       "<table border=\"1\" class=\"dataframe\">\n",
       "  <thead>\n",
       "    <tr style=\"text-align: right;\">\n",
       "      <th></th>\n",
       "      <th>STORE_ADDR</th>\n",
       "      <th>OFFICIAL_S</th>\n",
       "      <th>ZIP</th>\n",
       "      <th>geometry</th>\n",
       "    </tr>\n",
       "  </thead>\n",
       "  <tbody>\n",
       "    <tr>\n",
       "      <th>0</th>\n",
       "      <td>1739 South St</td>\n",
       "      <td>Adabel Deli Inc</td>\n",
       "      <td>19146</td>\n",
       "      <td>POINT (-75.17094707694254 39.94437406209261)</td>\n",
       "    </tr>\n",
       "    <tr>\n",
       "      <th>1</th>\n",
       "      <td>1643 W Diamond St</td>\n",
       "      <td>Adan Grocery</td>\n",
       "      <td>19121</td>\n",
       "      <td>POINT (-75.16048543262013 39.98528161550929)</td>\n",
       "    </tr>\n",
       "    <tr>\n",
       "      <th>2</th>\n",
       "      <td>2568 N Bancroft St</td>\n",
       "      <td>Agramonte Grocery Store</td>\n",
       "      <td>19132</td>\n",
       "      <td>POINT (-75.15885414520487 39.99238311557681)</td>\n",
       "    </tr>\n",
       "    <tr>\n",
       "      <th>3</th>\n",
       "      <td>4600 N 11th St</td>\n",
       "      <td>Ailyn Mini Market LLC</td>\n",
       "      <td>19140</td>\n",
       "      <td>POINT (-75.14294922174258 40.02234870746425)</td>\n",
       "    </tr>\n",
       "    <tr>\n",
       "      <th>4</th>\n",
       "      <td>419 East Wyoming Ave</td>\n",
       "      <td>Al Aqsa Halal</td>\n",
       "      <td>19120</td>\n",
       "      <td>POINT (-75.11744231378752 40.02075034319167)</td>\n",
       "    </tr>\n",
       "  </tbody>\n",
       "</table>\n",
       "</div>"
      ],
      "text/plain": [
       "             STORE_ADDR               OFFICIAL_S    ZIP  \\\n",
       "0         1739 South St          Adabel Deli Inc  19146   \n",
       "1     1643 W Diamond St             Adan Grocery  19121   \n",
       "2    2568 N Bancroft St  Agramonte Grocery Store  19132   \n",
       "3        4600 N 11th St    Ailyn Mini Market LLC  19140   \n",
       "4  419 East Wyoming Ave            Al Aqsa Halal  19120   \n",
       "\n",
       "                                       geometry  \n",
       "0  POINT (-75.17094707694254 39.94437406209261)  \n",
       "1  POINT (-75.16048543262013 39.98528161550929)  \n",
       "2  POINT (-75.15885414520487 39.99238311557681)  \n",
       "3  POINT (-75.14294922174258 40.02234870746425)  \n",
       "4  POINT (-75.11744231378752 40.02075034319167)  "
      ]
     },
     "execution_count": 12,
     "metadata": {},
     "output_type": "execute_result"
    }
   ],
   "source": [
    "cleaned_healthycornerstores_df=healthy_corner_stores_geo_df[['STORE_ADDR', 'OFFICIAL_S', 'ZIP', 'geometry']]\n",
    "cleaned_healthycornerstores_df.head()"
   ]
  },
  {
   "cell_type": "markdown",
   "metadata": {},
   "source": [
    "* This condensed version shows me only the columns I care about. "
   ]
  },
  {
   "cell_type": "code",
   "execution_count": 13,
   "metadata": {},
   "outputs": [],
   "source": [
    "cleaned_healthycornerstores_df.columns = ['Address', 'Name', 'Zipcode', 'geometry']"
   ]
  },
  {
   "cell_type": "code",
   "execution_count": 14,
   "metadata": {},
   "outputs": [
    {
     "data": {
      "text/html": [
       "<div>\n",
       "<style scoped>\n",
       "    .dataframe tbody tr th:only-of-type {\n",
       "        vertical-align: middle;\n",
       "    }\n",
       "\n",
       "    .dataframe tbody tr th {\n",
       "        vertical-align: top;\n",
       "    }\n",
       "\n",
       "    .dataframe thead th {\n",
       "        text-align: right;\n",
       "    }\n",
       "</style>\n",
       "<table border=\"1\" class=\"dataframe\">\n",
       "  <thead>\n",
       "    <tr style=\"text-align: right;\">\n",
       "      <th></th>\n",
       "      <th>Address</th>\n",
       "      <th>Name</th>\n",
       "      <th>Zipcode</th>\n",
       "      <th>geometry</th>\n",
       "    </tr>\n",
       "  </thead>\n",
       "  <tbody>\n",
       "    <tr>\n",
       "      <th>0</th>\n",
       "      <td>1739 South St</td>\n",
       "      <td>Adabel Deli Inc</td>\n",
       "      <td>19146</td>\n",
       "      <td>POINT (-75.17094707694254 39.94437406209261)</td>\n",
       "    </tr>\n",
       "    <tr>\n",
       "      <th>1</th>\n",
       "      <td>1643 W Diamond St</td>\n",
       "      <td>Adan Grocery</td>\n",
       "      <td>19121</td>\n",
       "      <td>POINT (-75.16048543262013 39.98528161550929)</td>\n",
       "    </tr>\n",
       "    <tr>\n",
       "      <th>2</th>\n",
       "      <td>2568 N Bancroft St</td>\n",
       "      <td>Agramonte Grocery Store</td>\n",
       "      <td>19132</td>\n",
       "      <td>POINT (-75.15885414520487 39.99238311557681)</td>\n",
       "    </tr>\n",
       "    <tr>\n",
       "      <th>3</th>\n",
       "      <td>4600 N 11th St</td>\n",
       "      <td>Ailyn Mini Market LLC</td>\n",
       "      <td>19140</td>\n",
       "      <td>POINT (-75.14294922174258 40.02234870746425)</td>\n",
       "    </tr>\n",
       "    <tr>\n",
       "      <th>4</th>\n",
       "      <td>419 East Wyoming Ave</td>\n",
       "      <td>Al Aqsa Halal</td>\n",
       "      <td>19120</td>\n",
       "      <td>POINT (-75.11744231378752 40.02075034319167)</td>\n",
       "    </tr>\n",
       "  </tbody>\n",
       "</table>\n",
       "</div>"
      ],
      "text/plain": [
       "                Address                     Name Zipcode  \\\n",
       "0         1739 South St          Adabel Deli Inc   19146   \n",
       "1     1643 W Diamond St             Adan Grocery   19121   \n",
       "2    2568 N Bancroft St  Agramonte Grocery Store   19132   \n",
       "3        4600 N 11th St    Ailyn Mini Market LLC   19140   \n",
       "4  419 East Wyoming Ave            Al Aqsa Halal   19120   \n",
       "\n",
       "                                       geometry  \n",
       "0  POINT (-75.17094707694254 39.94437406209261)  \n",
       "1  POINT (-75.16048543262013 39.98528161550929)  \n",
       "2  POINT (-75.15885414520487 39.99238311557681)  \n",
       "3  POINT (-75.14294922174258 40.02234870746425)  \n",
       "4  POINT (-75.11744231378752 40.02075034319167)  "
      ]
     },
     "execution_count": 14,
     "metadata": {},
     "output_type": "execute_result"
    }
   ],
   "source": [
    "cleaned_healthycornerstores_df.head()"
   ]
  },
  {
   "cell_type": "markdown",
   "metadata": {},
   "source": [
    "* This has titles that are nicer-looking and more accurate. \n",
    "* This cleaned_healthycornerstores_df will be the df I use for healthy store counts when I need it in the form of Coordinates as Points (for my dot maps), rather than in the form of latitude and longitude for interactive maps. "
   ]
  },
  {
   "cell_type": "markdown",
   "metadata": {},
   "source": [
    "### Splitting Coordinates into Latitude and Longitude for Interactive Maps"
   ]
  },
  {
   "cell_type": "markdown",
   "metadata": {},
   "source": [
    "* I also plan to an interactive map of the farmers markets locations, so I will need to separate the longitude and latitude into different columns."
   ]
  },
  {
   "cell_type": "code",
   "execution_count": 15,
   "metadata": {},
   "outputs": [
    {
     "name": "stderr",
     "output_type": "stream",
     "text": [
      "/usr/local/anaconda3/lib/python3.7/site-packages/ipykernel_launcher.py:1: SettingWithCopyWarning:\n",
      "\n",
      "\n",
      "A value is trying to be set on a copy of a slice from a DataFrame.\n",
      "Try using .loc[row_indexer,col_indexer] = value instead\n",
      "\n",
      "See the caveats in the documentation: http://pandas.pydata.org/pandas-docs/stable/indexing.html#indexing-view-versus-copy\n",
      "\n"
     ]
    }
   ],
   "source": [
    "cleaned_healthycornerstores_df['longitude']=cleaned_healthycornerstores_df['geometry'].x"
   ]
  },
  {
   "cell_type": "code",
   "execution_count": 16,
   "metadata": {},
   "outputs": [],
   "source": [
    "cleaned_healthycornerstores_df['latitude']=cleaned_healthycornerstores_df['geometry'].y"
   ]
  },
  {
   "cell_type": "code",
   "execution_count": 17,
   "metadata": {},
   "outputs": [
    {
     "data": {
      "text/html": [
       "<div>\n",
       "<style scoped>\n",
       "    .dataframe tbody tr th:only-of-type {\n",
       "        vertical-align: middle;\n",
       "    }\n",
       "\n",
       "    .dataframe tbody tr th {\n",
       "        vertical-align: top;\n",
       "    }\n",
       "\n",
       "    .dataframe thead th {\n",
       "        text-align: right;\n",
       "    }\n",
       "</style>\n",
       "<table border=\"1\" class=\"dataframe\">\n",
       "  <thead>\n",
       "    <tr style=\"text-align: right;\">\n",
       "      <th></th>\n",
       "      <th>Address</th>\n",
       "      <th>Name</th>\n",
       "      <th>Zipcode</th>\n",
       "      <th>geometry</th>\n",
       "      <th>longitude</th>\n",
       "      <th>latitude</th>\n",
       "    </tr>\n",
       "  </thead>\n",
       "  <tbody>\n",
       "    <tr>\n",
       "      <th>0</th>\n",
       "      <td>1739 South St</td>\n",
       "      <td>Adabel Deli Inc</td>\n",
       "      <td>19146</td>\n",
       "      <td>POINT (-75.17094707694254 39.94437406209261)</td>\n",
       "      <td>-75.170947</td>\n",
       "      <td>39.944374</td>\n",
       "    </tr>\n",
       "    <tr>\n",
       "      <th>1</th>\n",
       "      <td>1643 W Diamond St</td>\n",
       "      <td>Adan Grocery</td>\n",
       "      <td>19121</td>\n",
       "      <td>POINT (-75.16048543262013 39.98528161550929)</td>\n",
       "      <td>-75.160485</td>\n",
       "      <td>39.985282</td>\n",
       "    </tr>\n",
       "    <tr>\n",
       "      <th>2</th>\n",
       "      <td>2568 N Bancroft St</td>\n",
       "      <td>Agramonte Grocery Store</td>\n",
       "      <td>19132</td>\n",
       "      <td>POINT (-75.15885414520487 39.99238311557681)</td>\n",
       "      <td>-75.158854</td>\n",
       "      <td>39.992383</td>\n",
       "    </tr>\n",
       "    <tr>\n",
       "      <th>3</th>\n",
       "      <td>4600 N 11th St</td>\n",
       "      <td>Ailyn Mini Market LLC</td>\n",
       "      <td>19140</td>\n",
       "      <td>POINT (-75.14294922174258 40.02234870746425)</td>\n",
       "      <td>-75.142949</td>\n",
       "      <td>40.022349</td>\n",
       "    </tr>\n",
       "    <tr>\n",
       "      <th>4</th>\n",
       "      <td>419 East Wyoming Ave</td>\n",
       "      <td>Al Aqsa Halal</td>\n",
       "      <td>19120</td>\n",
       "      <td>POINT (-75.11744231378752 40.02075034319167)</td>\n",
       "      <td>-75.117442</td>\n",
       "      <td>40.020750</td>\n",
       "    </tr>\n",
       "  </tbody>\n",
       "</table>\n",
       "</div>"
      ],
      "text/plain": [
       "                Address                     Name Zipcode  \\\n",
       "0         1739 South St          Adabel Deli Inc   19146   \n",
       "1     1643 W Diamond St             Adan Grocery   19121   \n",
       "2    2568 N Bancroft St  Agramonte Grocery Store   19132   \n",
       "3        4600 N 11th St    Ailyn Mini Market LLC   19140   \n",
       "4  419 East Wyoming Ave            Al Aqsa Halal   19120   \n",
       "\n",
       "                                       geometry  longitude   latitude  \n",
       "0  POINT (-75.17094707694254 39.94437406209261) -75.170947  39.944374  \n",
       "1  POINT (-75.16048543262013 39.98528161550929) -75.160485  39.985282  \n",
       "2  POINT (-75.15885414520487 39.99238311557681) -75.158854  39.992383  \n",
       "3  POINT (-75.14294922174258 40.02234870746425) -75.142949  40.022349  \n",
       "4  POINT (-75.11744231378752 40.02075034319167) -75.117442  40.020750  "
      ]
     },
     "execution_count": 17,
     "metadata": {},
     "output_type": "execute_result"
    }
   ],
   "source": [
    "cleaned_healthycornerstores_df.head()"
   ]
  }
 ],
 "metadata": {
  "kernelspec": {
   "display_name": "Python 3",
   "language": "python",
   "name": "python3"
  },
  "language_info": {
   "codemirror_mode": {
    "name": "ipython",
    "version": 3
   },
   "file_extension": ".py",
   "mimetype": "text/x-python",
   "name": "python",
   "nbconvert_exporter": "python",
   "pygments_lexer": "ipython3",
   "version": "3.7.3"
  }
 },
 "nbformat": 4,
 "nbformat_minor": 2
}
