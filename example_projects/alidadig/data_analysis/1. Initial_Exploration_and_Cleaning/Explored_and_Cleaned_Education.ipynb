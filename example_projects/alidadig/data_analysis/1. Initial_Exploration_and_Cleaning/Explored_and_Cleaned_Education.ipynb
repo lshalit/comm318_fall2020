{
 "cells": [
  {
   "cell_type": "code",
   "execution_count": 1,
   "metadata": {},
   "outputs": [],
   "source": [
    "%matplotlib inline\n",
    "import pandas as pd\n",
    "import geopandas as gpd\n",
    "import plotly.express as px\n",
    "import plotly\n",
    "import matplotlib.pyplot as plt\n",
    "import pandas as pd\n",
    "from IPython.display import display\n",
    "from IPython.display import Image\n",
    "import pandas as pd\n",
    "import numpy as np"
   ]
  },
  {
   "cell_type": "code",
   "execution_count": 2,
   "metadata": {},
   "outputs": [],
   "source": [
    "education=gpd.read_file('../../data/Raw_Data/Education files/SimplyAnalytics_Shapefiles_2019-12-13_18_56_17_ccc5dd5279b84a232c60ea1bb5cf8519.shp')\n"
   ]
  },
  {
   "cell_type": "markdown",
   "metadata": {},
   "source": [
    "* This dataset shows the number of people who have a degree for college, bachelor's, or masters in each zipcode. This will serve as an indication of education level - the higher the number, the higher the education level in each zipcode. By graphing this again graphs for income and diabetes rates, I can see the relationship between education level and these other variables. "
   ]
  },
  {
   "cell_type": "markdown",
   "metadata": {},
   "source": [
    "# Exploration"
   ]
  },
  {
   "cell_type": "code",
   "execution_count": 3,
   "metadata": {},
   "outputs": [
    {
     "data": {
      "text/plain": [
       "(48, 4)"
      ]
     },
     "execution_count": 3,
     "metadata": {},
     "output_type": "execute_result"
    }
   ],
   "source": [
    "education.shape"
   ]
  },
  {
   "cell_type": "markdown",
   "metadata": {},
   "source": [
    "* All 48 zipcodes are accounts for in this dataset and there are 4 columns of details pertaining to each zipcode. "
   ]
  },
  {
   "cell_type": "code",
   "execution_count": 4,
   "metadata": {},
   "outputs": [
    {
     "data": {
      "text/html": [
       "<div>\n",
       "<style scoped>\n",
       "    .dataframe tbody tr th:only-of-type {\n",
       "        vertical-align: middle;\n",
       "    }\n",
       "\n",
       "    .dataframe tbody tr th {\n",
       "        vertical-align: top;\n",
       "    }\n",
       "\n",
       "    .dataframe thead th {\n",
       "        text-align: right;\n",
       "    }\n",
       "</style>\n",
       "<table border=\"1\" class=\"dataframe\">\n",
       "  <thead>\n",
       "    <tr style=\"text-align: right;\">\n",
       "      <th></th>\n",
       "      <th>spatial_id</th>\n",
       "      <th>name</th>\n",
       "      <th>VALUE0</th>\n",
       "      <th>geometry</th>\n",
       "    </tr>\n",
       "  </thead>\n",
       "  <tbody>\n",
       "    <tr>\n",
       "      <th>0</th>\n",
       "      <td>19102</td>\n",
       "      <td>19102, Philadelphia, PA</td>\n",
       "      <td>2890.0</td>\n",
       "      <td>POLYGON ((-75.16728099999999 39.95825899907105...</td>\n",
       "    </tr>\n",
       "    <tr>\n",
       "      <th>1</th>\n",
       "      <td>19103</td>\n",
       "      <td>19103, Philadelphia, PA</td>\n",
       "      <td>12146.0</td>\n",
       "      <td>POLYGON ((-75.18090899999999 39.95298199907108...</td>\n",
       "    </tr>\n",
       "    <tr>\n",
       "      <th>2</th>\n",
       "      <td>19104</td>\n",
       "      <td>19104, Philadelphia, PA</td>\n",
       "      <td>6592.0</td>\n",
       "      <td>POLYGON ((-75.21206899999999 39.97021099907098...</td>\n",
       "    </tr>\n",
       "    <tr>\n",
       "      <th>3</th>\n",
       "      <td>19106</td>\n",
       "      <td>19106, Philadelphia, PA</td>\n",
       "      <td>5821.0</td>\n",
       "      <td>(POLYGON ((-75.14433099999998 39.9298249990712...</td>\n",
       "    </tr>\n",
       "    <tr>\n",
       "      <th>4</th>\n",
       "      <td>19107</td>\n",
       "      <td>19107, Philadelphia, PA</td>\n",
       "      <td>11420.0</td>\n",
       "      <td>POLYGON ((-75.16402299999997 39.95162799907109...</td>\n",
       "    </tr>\n",
       "  </tbody>\n",
       "</table>\n",
       "</div>"
      ],
      "text/plain": [
       "  spatial_id                     name   VALUE0  \\\n",
       "0      19102  19102, Philadelphia, PA   2890.0   \n",
       "1      19103  19103, Philadelphia, PA  12146.0   \n",
       "2      19104  19104, Philadelphia, PA   6592.0   \n",
       "3      19106  19106, Philadelphia, PA   5821.0   \n",
       "4      19107  19107, Philadelphia, PA  11420.0   \n",
       "\n",
       "                                            geometry  \n",
       "0  POLYGON ((-75.16728099999999 39.95825899907105...  \n",
       "1  POLYGON ((-75.18090899999999 39.95298199907108...  \n",
       "2  POLYGON ((-75.21206899999999 39.97021099907098...  \n",
       "3  (POLYGON ((-75.14433099999998 39.9298249990712...  \n",
       "4  POLYGON ((-75.16402299999997 39.95162799907109...  "
      ]
     },
     "execution_count": 4,
     "metadata": {},
     "output_type": "execute_result"
    }
   ],
   "source": [
    "education.head()"
   ]
  },
  {
   "cell_type": "code",
   "execution_count": 5,
   "metadata": {},
   "outputs": [
    {
     "data": {
      "text/plain": [
       "Index(['spatial_id', 'name', 'VALUE0', 'geometry'], dtype='object')"
      ]
     },
     "execution_count": 5,
     "metadata": {},
     "output_type": "execute_result"
    }
   ],
   "source": [
    "education.columns"
   ]
  },
  {
   "cell_type": "markdown",
   "metadata": {},
   "source": [
    "The information most relevant to my research will be __geometry, VALUE0, and spatial_id__. "
   ]
  },
  {
   "cell_type": "code",
   "execution_count": 6,
   "metadata": {},
   "outputs": [
    {
     "data": {
      "text/plain": [
       "0    POLYGON ((-75.16728099999999 39.95825899907105...\n",
       "1    POLYGON ((-75.18090899999999 39.95298199907108...\n",
       "2    POLYGON ((-75.21206899999999 39.97021099907098...\n",
       "3    (POLYGON ((-75.14433099999998 39.9298249990712...\n",
       "4    POLYGON ((-75.16402299999997 39.95162799907109...\n",
       "Name: geometry, dtype: object"
      ]
     },
     "execution_count": 6,
     "metadata": {},
     "output_type": "execute_result"
    }
   ],
   "source": [
    "education['geometry'].head()"
   ]
  },
  {
   "cell_type": "code",
   "execution_count": 7,
   "metadata": {},
   "outputs": [
    {
     "data": {
      "text/plain": [
       "0     2890.0\n",
       "1    12146.0\n",
       "2     6592.0\n",
       "3     5821.0\n",
       "4    11420.0\n",
       "Name: VALUE0, dtype: float64"
      ]
     },
     "execution_count": 7,
     "metadata": {},
     "output_type": "execute_result"
    }
   ],
   "source": [
    "education['VALUE0'].head()"
   ]
  },
  {
   "cell_type": "code",
   "execution_count": 8,
   "metadata": {},
   "outputs": [
    {
     "data": {
      "text/plain": [
       "array(['19102', '19103', '19104', '19106', '19107', '19109', '19111',\n",
       "       '19112', '19114', '19115', '19116', '19118', '19119', '19120',\n",
       "       '19121', '19122', '19123', '19124', '19125', '19126', '19127',\n",
       "       '19128', '19129', '19130', '19131', '19132', '19133', '19134',\n",
       "       '19135', '19136', '19137', '19138', '19139', '19140', '19141',\n",
       "       '19142', '19143', '19144', '19145', '19146', '19147', '19148',\n",
       "       '19149', '19150', '19151', '19152', '19153', '19154'], dtype=object)"
      ]
     },
     "execution_count": 8,
     "metadata": {},
     "output_type": "execute_result"
    }
   ],
   "source": [
    "education['spatial_id'].unique()"
   ]
  },
  {
   "cell_type": "code",
   "execution_count": 9,
   "metadata": {},
   "outputs": [
    {
     "data": {
      "text/plain": [
       "array(['19102', '19103', '19104', '19106', '19107', '19109', '19111',\n",
       "       '19112', '19114', '19115', '19116', '19118', '19119', '19120',\n",
       "       '19121', '19122', '19123', '19124', '19125', '19126', '19127',\n",
       "       '19128', '19129', '19130', '19131', '19132', '19133', '19134',\n",
       "       '19135', '19136', '19137', '19138', '19139', '19140', '19141',\n",
       "       '19142', '19143', '19144', '19145', '19146', '19147', '19148',\n",
       "       '19149', '19150', '19151', '19152', '19153', '19154'], dtype=object)"
      ]
     },
     "execution_count": 9,
     "metadata": {},
     "output_type": "execute_result"
    }
   ],
   "source": [
    "education['spatial_id'].unique()"
   ]
  },
  {
   "cell_type": "code",
   "execution_count": 10,
   "metadata": {},
   "outputs": [
    {
     "data": {
      "text/plain": [
       "48"
      ]
     },
     "execution_count": 10,
     "metadata": {},
     "output_type": "execute_result"
    }
   ],
   "source": [
    "education['spatial_id'].nunique()"
   ]
  },
  {
   "cell_type": "markdown",
   "metadata": {},
   "source": [
    "All 48 zipcodes of Philly are accounted here. "
   ]
  },
  {
   "cell_type": "markdown",
   "metadata": {},
   "source": [
    "# Cleaning"
   ]
  },
  {
   "cell_type": "code",
   "execution_count": 11,
   "metadata": {},
   "outputs": [
    {
     "data": {
      "text/html": [
       "<div>\n",
       "<style scoped>\n",
       "    .dataframe tbody tr th:only-of-type {\n",
       "        vertical-align: middle;\n",
       "    }\n",
       "\n",
       "    .dataframe tbody tr th {\n",
       "        vertical-align: top;\n",
       "    }\n",
       "\n",
       "    .dataframe thead th {\n",
       "        text-align: right;\n",
       "    }\n",
       "</style>\n",
       "<table border=\"1\" class=\"dataframe\">\n",
       "  <thead>\n",
       "    <tr style=\"text-align: right;\">\n",
       "      <th></th>\n",
       "      <th>spatial_id</th>\n",
       "      <th>VALUE0</th>\n",
       "      <th>geometry</th>\n",
       "    </tr>\n",
       "  </thead>\n",
       "  <tbody>\n",
       "    <tr>\n",
       "      <th>0</th>\n",
       "      <td>19102</td>\n",
       "      <td>2890.0</td>\n",
       "      <td>POLYGON ((-75.16728099999999 39.95825899907105...</td>\n",
       "    </tr>\n",
       "    <tr>\n",
       "      <th>1</th>\n",
       "      <td>19103</td>\n",
       "      <td>12146.0</td>\n",
       "      <td>POLYGON ((-75.18090899999999 39.95298199907108...</td>\n",
       "    </tr>\n",
       "    <tr>\n",
       "      <th>2</th>\n",
       "      <td>19104</td>\n",
       "      <td>6592.0</td>\n",
       "      <td>POLYGON ((-75.21206899999999 39.97021099907098...</td>\n",
       "    </tr>\n",
       "    <tr>\n",
       "      <th>3</th>\n",
       "      <td>19106</td>\n",
       "      <td>5821.0</td>\n",
       "      <td>(POLYGON ((-75.14433099999998 39.9298249990712...</td>\n",
       "    </tr>\n",
       "    <tr>\n",
       "      <th>4</th>\n",
       "      <td>19107</td>\n",
       "      <td>11420.0</td>\n",
       "      <td>POLYGON ((-75.16402299999997 39.95162799907109...</td>\n",
       "    </tr>\n",
       "  </tbody>\n",
       "</table>\n",
       "</div>"
      ],
      "text/plain": [
       "  spatial_id   VALUE0                                           geometry\n",
       "0      19102   2890.0  POLYGON ((-75.16728099999999 39.95825899907105...\n",
       "1      19103  12146.0  POLYGON ((-75.18090899999999 39.95298199907108...\n",
       "2      19104   6592.0  POLYGON ((-75.21206899999999 39.97021099907098...\n",
       "3      19106   5821.0  (POLYGON ((-75.14433099999998 39.9298249990712...\n",
       "4      19107  11420.0  POLYGON ((-75.16402299999997 39.95162799907109..."
      ]
     },
     "execution_count": 11,
     "metadata": {},
     "output_type": "execute_result"
    }
   ],
   "source": [
    "education=education[['spatial_id', 'VALUE0', 'geometry']]\n",
    "education.head()"
   ]
  },
  {
   "cell_type": "markdown",
   "metadata": {},
   "source": [
    "* This condensed version shows me only the columns I care about. "
   ]
  },
  {
   "cell_type": "code",
   "execution_count": 12,
   "metadata": {},
   "outputs": [
    {
     "data": {
      "text/html": [
       "<div>\n",
       "<style scoped>\n",
       "    .dataframe tbody tr th:only-of-type {\n",
       "        vertical-align: middle;\n",
       "    }\n",
       "\n",
       "    .dataframe tbody tr th {\n",
       "        vertical-align: top;\n",
       "    }\n",
       "\n",
       "    .dataframe thead th {\n",
       "        text-align: right;\n",
       "    }\n",
       "</style>\n",
       "<table border=\"1\" class=\"dataframe\">\n",
       "  <thead>\n",
       "    <tr style=\"text-align: right;\">\n",
       "      <th></th>\n",
       "      <th>Zipcode</th>\n",
       "      <th>Education Level</th>\n",
       "      <th>geometry</th>\n",
       "    </tr>\n",
       "  </thead>\n",
       "  <tbody>\n",
       "    <tr>\n",
       "      <th>0</th>\n",
       "      <td>19102</td>\n",
       "      <td>2890.0</td>\n",
       "      <td>POLYGON ((-75.16728099999999 39.95825899907105...</td>\n",
       "    </tr>\n",
       "    <tr>\n",
       "      <th>1</th>\n",
       "      <td>19103</td>\n",
       "      <td>12146.0</td>\n",
       "      <td>POLYGON ((-75.18090899999999 39.95298199907108...</td>\n",
       "    </tr>\n",
       "    <tr>\n",
       "      <th>2</th>\n",
       "      <td>19104</td>\n",
       "      <td>6592.0</td>\n",
       "      <td>POLYGON ((-75.21206899999999 39.97021099907098...</td>\n",
       "    </tr>\n",
       "    <tr>\n",
       "      <th>3</th>\n",
       "      <td>19106</td>\n",
       "      <td>5821.0</td>\n",
       "      <td>(POLYGON ((-75.14433099999998 39.9298249990712...</td>\n",
       "    </tr>\n",
       "    <tr>\n",
       "      <th>4</th>\n",
       "      <td>19107</td>\n",
       "      <td>11420.0</td>\n",
       "      <td>POLYGON ((-75.16402299999997 39.95162799907109...</td>\n",
       "    </tr>\n",
       "  </tbody>\n",
       "</table>\n",
       "</div>"
      ],
      "text/plain": [
       "  Zipcode  Education Level                                           geometry\n",
       "0   19102           2890.0  POLYGON ((-75.16728099999999 39.95825899907105...\n",
       "1   19103          12146.0  POLYGON ((-75.18090899999999 39.95298199907108...\n",
       "2   19104           6592.0  POLYGON ((-75.21206899999999 39.97021099907098...\n",
       "3   19106           5821.0  (POLYGON ((-75.14433099999998 39.9298249990712...\n",
       "4   19107          11420.0  POLYGON ((-75.16402299999997 39.95162799907109..."
      ]
     },
     "execution_count": 12,
     "metadata": {},
     "output_type": "execute_result"
    }
   ],
   "source": [
    "education.columns = ['Zipcode', 'Education Level', 'geometry']\n",
    "education.head()"
   ]
  },
  {
   "cell_type": "markdown",
   "metadata": {},
   "source": [
    "* This has titles that are nicer-looking and more accurate. "
   ]
  }
 ],
 "metadata": {
  "kernelspec": {
   "display_name": "Python 3",
   "language": "python",
   "name": "python3"
  },
  "language_info": {
   "codemirror_mode": {
    "name": "ipython",
    "version": 3
   },
   "file_extension": ".py",
   "mimetype": "text/x-python",
   "name": "python",
   "nbconvert_exporter": "python",
   "pygments_lexer": "ipython3",
   "version": "3.7.3"
  }
 },
 "nbformat": 4,
 "nbformat_minor": 2
}
