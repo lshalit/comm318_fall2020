{
 "cells": [
  {
   "cell_type": "code",
   "execution_count": 1,
   "metadata": {},
   "outputs": [],
   "source": [
    "%matplotlib inline\n",
    "import pandas as pd\n",
    "import geopandas as gpd\n",
    "import plotly\n",
    "from IPython.display import display\n",
    "from IPython.display import Image\n",
    "import numpy as np\n",
    "import warnings\n",
    "%matplotlib inline\n",
    "import warnings\n",
    "warnings.filterwarnings('ignore')\n",
    "import matplotlib.pyplot as plt\n",
    "import pandas as pd\n",
    "import seaborn as sns\n",
    "import plotly_express as px\n",
    "import math\n",
    "import plotly"
   ]
  },
  {
   "cell_type": "markdown",
   "metadata": {},
   "source": [
    "### Uploading My Data"
   ]
  },
  {
   "cell_type": "markdown",
   "metadata": {},
   "source": [
    "The following is just to load in my cleaned datasets for income and diabetes counts from the Initial_Exploration_and_Cleaning folder.\n"
   ]
  },
  {
   "cell_type": "code",
   "execution_count": 2,
   "metadata": {},
   "outputs": [],
   "source": [
    "diabetes2_geo_df=gpd.read_file('../../data/Raw_Data/Diabetes files/SimplyAnalytics_Shapefiles_2019-12-04_03_12_54_d74b88e522bf3f67df6cb463b492384f.shp')\n",
    "diabetes2_geo_df=diabetes2_geo_df[['spatial_id', 'VALUE0', 'geometry']]\n",
    "diabetes2_geo_df.columns = ['zipcode', 'Counts Diabetes', 'Geometry']"
   ]
  },
  {
   "cell_type": "code",
   "execution_count": 3,
   "metadata": {},
   "outputs": [],
   "source": [
    "income_geo_df=gpd.read_file('/Commjhub/jupyterhub/comm318_fall2019/alidadig/COMM318_Final_Project/data/Raw_Data/Income files/SimplyAnalytics_Shapefiles_2019-12-03_05_13_16_89807a0551dabf581fad0dc3275f5cf9.shp')\n",
    "cleaned_income_df=income_geo_df[['spatial_id', 'VALUE0', 'geometry']]\n",
    "cleaned_income_df.columns = ['Zipcode', 'Median Income', 'geometry']"
   ]
  },
  {
   "cell_type": "markdown",
   "metadata": {},
   "source": [
    "### Merging My Data"
   ]
  },
  {
   "cell_type": "markdown",
   "metadata": {},
   "source": [
    "Now, I want to combine the two datasets to get one big dataset for diabetes counts and zipcodes. The two datasets align perfectly by zipcode so I don't need to reorder the income and diabetes counts columns in order to merge them accurately. The Income_Diabetes dataframe will be my combined dataset for median income level and diabetes counts for each zipcode. "
   ]
  },
  {
   "cell_type": "code",
   "execution_count": 4,
   "metadata": {},
   "outputs": [
    {
     "data": {
      "text/html": [
       "<div>\n",
       "<style scoped>\n",
       "    .dataframe tbody tr th:only-of-type {\n",
       "        vertical-align: middle;\n",
       "    }\n",
       "\n",
       "    .dataframe tbody tr th {\n",
       "        vertical-align: top;\n",
       "    }\n",
       "\n",
       "    .dataframe thead th {\n",
       "        text-align: right;\n",
       "    }\n",
       "</style>\n",
       "<table border=\"1\" class=\"dataframe\">\n",
       "  <thead>\n",
       "    <tr style=\"text-align: right;\">\n",
       "      <th></th>\n",
       "      <th>Zipcode</th>\n",
       "      <th>Median Income</th>\n",
       "      <th>geometry</th>\n",
       "      <th>zipcode</th>\n",
       "      <th>Counts Diabetes</th>\n",
       "      <th>Geometry</th>\n",
       "    </tr>\n",
       "  </thead>\n",
       "  <tbody>\n",
       "    <tr>\n",
       "      <th>0</th>\n",
       "      <td>19102</td>\n",
       "      <td>84800.0</td>\n",
       "      <td>POLYGON ((-75.16728099999999 39.95825899907105...</td>\n",
       "      <td>19102</td>\n",
       "      <td>0.0000</td>\n",
       "      <td>POLYGON ((-75.16728099999999 39.95825899907105...</td>\n",
       "    </tr>\n",
       "    <tr>\n",
       "      <th>1</th>\n",
       "      <td>19103</td>\n",
       "      <td>78933.0</td>\n",
       "      <td>POLYGON ((-75.18090899999999 39.95298199907108...</td>\n",
       "      <td>19103</td>\n",
       "      <td>0.5980</td>\n",
       "      <td>POLYGON ((-75.18090899999999 39.95298199907108...</td>\n",
       "    </tr>\n",
       "    <tr>\n",
       "      <th>2</th>\n",
       "      <td>19104</td>\n",
       "      <td>27647.0</td>\n",
       "      <td>POLYGON ((-75.21206899999999 39.97021099907098...</td>\n",
       "      <td>19104</td>\n",
       "      <td>0.6768</td>\n",
       "      <td>POLYGON ((-75.21206899999999 39.97021099907098...</td>\n",
       "    </tr>\n",
       "    <tr>\n",
       "      <th>3</th>\n",
       "      <td>19106</td>\n",
       "      <td>112116.0</td>\n",
       "      <td>(POLYGON ((-75.14433099999998 39.9298249990712...</td>\n",
       "      <td>19106</td>\n",
       "      <td>0.9344</td>\n",
       "      <td>(POLYGON ((-75.14433099999998 39.9298249990712...</td>\n",
       "    </tr>\n",
       "    <tr>\n",
       "      <th>4</th>\n",
       "      <td>19107</td>\n",
       "      <td>63548.0</td>\n",
       "      <td>POLYGON ((-75.16402299999997 39.95162799907109...</td>\n",
       "      <td>19107</td>\n",
       "      <td>3.4211</td>\n",
       "      <td>POLYGON ((-75.16402299999997 39.95162799907109...</td>\n",
       "    </tr>\n",
       "  </tbody>\n",
       "</table>\n",
       "</div>"
      ],
      "text/plain": [
       "  Zipcode  Median Income                                           geometry  \\\n",
       "0   19102        84800.0  POLYGON ((-75.16728099999999 39.95825899907105...   \n",
       "1   19103        78933.0  POLYGON ((-75.18090899999999 39.95298199907108...   \n",
       "2   19104        27647.0  POLYGON ((-75.21206899999999 39.97021099907098...   \n",
       "3   19106       112116.0  (POLYGON ((-75.14433099999998 39.9298249990712...   \n",
       "4   19107        63548.0  POLYGON ((-75.16402299999997 39.95162799907109...   \n",
       "\n",
       "  zipcode  Counts Diabetes                                           Geometry  \n",
       "0   19102           0.0000  POLYGON ((-75.16728099999999 39.95825899907105...  \n",
       "1   19103           0.5980  POLYGON ((-75.18090899999999 39.95298199907108...  \n",
       "2   19104           0.6768  POLYGON ((-75.21206899999999 39.97021099907098...  \n",
       "3   19106           0.9344  (POLYGON ((-75.14433099999998 39.9298249990712...  \n",
       "4   19107           3.4211  POLYGON ((-75.16402299999997 39.95162799907109...  "
      ]
     },
     "execution_count": 4,
     "metadata": {},
     "output_type": "execute_result"
    }
   ],
   "source": [
    "Income_Diabetes=pd.concat([cleaned_income_df, diabetes2_geo_df], axis=1)\n",
    "Income_Diabetes.head()"
   ]
  },
  {
   "cell_type": "markdown",
   "metadata": {},
   "source": [
    "I want to reorganize the merged dataframe to only include one of the zipcode columns and one of the geometry columsn since it is redundant. "
   ]
  },
  {
   "cell_type": "code",
   "execution_count": 5,
   "metadata": {},
   "outputs": [],
   "source": [
    "Income_Diabetes=Income_Diabetes[['Zipcode', 'Median Income', 'Counts Diabetes', 'geometry']]"
   ]
  },
  {
   "cell_type": "markdown",
   "metadata": {},
   "source": [
    "### Graphing My Merged Data"
   ]
  },
  {
   "cell_type": "markdown",
   "metadata": {},
   "source": [
    "I now want to graph the merged dataset by plotting Counts Diabetes with Median Income to see the correlation. "
   ]
  },
  {
   "cell_type": "code",
   "execution_count": 6,
   "metadata": {},
   "outputs": [
    {
     "data": {
      "image/png": "[encoded data removed]",
      "text/plain": [
       "<Figure size 360x360 with 1 Axes>"
      ]
     },
     "metadata": {
      "needs_background": "light"
     },
     "output_type": "display_data"
    }
   ],
   "source": [
    "fig = sns.lmplot(y='Counts Diabetes', x='Median Income', data=Income_Diabetes)"
   ]
  },
  {
   "cell_type": "code",
   "execution_count": 7,
   "metadata": {},
   "outputs": [],
   "source": [
    "fig.savefig(\"Income Diabetes Correlational Graph.png\")"
   ]
  },
  {
   "cell_type": "markdown",
   "metadata": {},
   "source": [
    "The above is used to save my graph as a png for my final presentation. "
   ]
  },
  {
   "cell_type": "markdown",
   "metadata": {},
   "source": [
    "### About This Data"
   ]
  },
  {
   "cell_type": "markdown",
   "metadata": {},
   "source": [
    "* This map will be used to show the correlation between income level and diabetes counts in Philly areas by zipcode. \n",
    "* There is a clear correlation between lower income areas and higher diabetes counts. This is what I expected. \n",
    "* This graph will serve as the starting point for my research presentation. After displaying this correlation between lower income and higher diabetes counts, I will them begin to analyze the levels of access to healthy and unhealthy food to see if lower access to healthy food is a factor in determining why lower income areas have higher diabetes counts. "
   ]
  }
 ],
 "metadata": {
  "kernelspec": {
   "display_name": "Python 3",
   "language": "python",
   "name": "python3"
  },
  "language_info": {
   "codemirror_mode": {
    "name": "ipython",
    "version": 3
   },
   "file_extension": ".py",
   "mimetype": "text/x-python",
   "name": "python",
   "nbconvert_exporter": "python",
   "pygments_lexer": "ipython3",
   "version": "3.7.3"
  }
 },
 "nbformat": 4,
 "nbformat_minor": 2
}
