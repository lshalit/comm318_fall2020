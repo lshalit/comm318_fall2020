{
 "cells": [
  {
   "cell_type": "code",
   "execution_count": 1,
   "metadata": {},
   "outputs": [],
   "source": [
    "%matplotlib inline\n",
    "import pandas as pd\n",
    "import geopandas as gpd"
   ]
  },
  {
   "cell_type": "markdown",
   "metadata": {},
   "source": [
    "### Uploading My Data"
   ]
  },
  {
   "cell_type": "markdown",
   "metadata": {},
   "source": [
    "The following is where I load the healthy corner stores and farmers markets datasets from my Initial_Exploration_and_Cleaning folder and merge them into one combined dataset called all_healthy_counts_df as I did in my All Healthy Food Locations (Interactive) notebook. \n"
   ]
  },
  {
   "cell_type": "code",
   "execution_count": 2,
   "metadata": {},
   "outputs": [
    {
     "name": "stderr",
     "output_type": "stream",
     "text": [
      "/usr/local/anaconda3/lib/python3.7/site-packages/ipykernel_launcher.py:4: SettingWithCopyWarning: \n",
      "A value is trying to be set on a copy of a slice from a DataFrame.\n",
      "Try using .loc[row_indexer,col_indexer] = value instead\n",
      "\n",
      "See the caveats in the documentation: http://pandas.pydata.org/pandas-docs/stable/indexing.html#indexing-view-versus-copy\n",
      "  after removing the cwd from sys.path.\n"
     ]
    }
   ],
   "source": [
    "healthy_corner_stores_geo_df=gpd.read_file('../../data/Raw_Data/PhillyHealth_Healthy_corner_stores.geojson')\n",
    "cleaned_healthycornerstores_df=healthy_corner_stores_geo_df[['STORE_ADDR', 'OFFICIAL_S', 'ZIP', 'geometry']]\n",
    "cleaned_healthycornerstores_df.columns = ['Address', 'Name', 'Zipcode', 'geometry']\n",
    "cleaned_healthycornerstores_df['longitude']=cleaned_healthycornerstores_df['geometry'].x\n",
    "cleaned_healthycornerstores_df['latitude']=cleaned_healthycornerstores_df['geometry'].y"
   ]
  },
  {
   "cell_type": "code",
   "execution_count": 3,
   "metadata": {},
   "outputs": [
    {
     "name": "stderr",
     "output_type": "stream",
     "text": [
      "/usr/local/anaconda3/lib/python3.7/site-packages/ipykernel_launcher.py:4: SettingWithCopyWarning: \n",
      "A value is trying to be set on a copy of a slice from a DataFrame.\n",
      "Try using .loc[row_indexer,col_indexer] = value instead\n",
      "\n",
      "See the caveats in the documentation: http://pandas.pydata.org/pandas-docs/stable/indexing.html#indexing-view-versus-copy\n",
      "  after removing the cwd from sys.path.\n",
      "/usr/local/anaconda3/lib/python3.7/site-packages/ipykernel_launcher.py:5: SettingWithCopyWarning: \n",
      "A value is trying to be set on a copy of a slice from a DataFrame.\n",
      "Try using .loc[row_indexer,col_indexer] = value instead\n",
      "\n",
      "See the caveats in the documentation: http://pandas.pydata.org/pandas-docs/stable/indexing.html#indexing-view-versus-copy\n",
      "  \"\"\"\n"
     ]
    }
   ],
   "source": [
    "farmers_markets_geo_df=gpd.read_file('../../data/Raw_Data/Farmers_Markets.geojson')\n",
    "cleaned_farmers_markets_geo_df=farmers_markets_geo_df[['ADDRESS', 'NAME', 'ZIP', 'geometry']]\n",
    "cleaned_farmers_markets_geo_df.columns = ['Address', 'Name', 'Zipcode', 'geometry']\n",
    "cleaned_farmers_markets_geo_df['longitude']=cleaned_farmers_markets_geo_df['geometry'].x\n",
    "cleaned_farmers_markets_geo_df['latitude']=cleaned_farmers_markets_geo_df['geometry'].y"
   ]
  },
  {
   "cell_type": "code",
   "execution_count": 4,
   "metadata": {},
   "outputs": [
    {
     "data": {
      "text/html": [
       "<div>\n",
       "<style scoped>\n",
       "    .dataframe tbody tr th:only-of-type {\n",
       "        vertical-align: middle;\n",
       "    }\n",
       "\n",
       "    .dataframe tbody tr th {\n",
       "        vertical-align: top;\n",
       "    }\n",
       "\n",
       "    .dataframe thead th {\n",
       "        text-align: right;\n",
       "    }\n",
       "</style>\n",
       "<table border=\"1\" class=\"dataframe\">\n",
       "  <thead>\n",
       "    <tr style=\"text-align: right;\">\n",
       "      <th></th>\n",
       "      <th>Address</th>\n",
       "      <th>Name</th>\n",
       "      <th>Zipcode</th>\n",
       "      <th>geometry</th>\n",
       "      <th>longitude</th>\n",
       "      <th>latitude</th>\n",
       "    </tr>\n",
       "  </thead>\n",
       "  <tbody>\n",
       "    <tr>\n",
       "      <th>0</th>\n",
       "      <td>2501 E. Cumberland Ave</td>\n",
       "      <td>Greensgrow Farm Stand</td>\n",
       "      <td>19125</td>\n",
       "      <td>POINT (-75.1215584811801 39.97843093078643)</td>\n",
       "      <td>-75.121558</td>\n",
       "      <td>39.978431</td>\n",
       "    </tr>\n",
       "    <tr>\n",
       "      <th>1</th>\n",
       "      <td>Diamond St and N. Howard St</td>\n",
       "      <td>Norris Square Neighborhood Project</td>\n",
       "      <td>19122</td>\n",
       "      <td>POINT (-75.13392516927033 39.98177864369919)</td>\n",
       "      <td>-75.133925</td>\n",
       "      <td>39.981779</td>\n",
       "    </tr>\n",
       "    <tr>\n",
       "      <th>2</th>\n",
       "      <td>18th and Walnut St</td>\n",
       "      <td>Rittenhouse</td>\n",
       "      <td>19103</td>\n",
       "      <td>POINT (-75.17067028026975 39.95014093264241)</td>\n",
       "      <td>-75.170670</td>\n",
       "      <td>39.950141</td>\n",
       "    </tr>\n",
       "    <tr>\n",
       "      <th>3</th>\n",
       "      <td>22nd St. and Fairmount Ave.</td>\n",
       "      <td>Fairmount</td>\n",
       "      <td>19130</td>\n",
       "      <td>POINT (-75.17398597335172 39.9673232257184)</td>\n",
       "      <td>-75.173986</td>\n",
       "      <td>39.967323</td>\n",
       "    </tr>\n",
       "    <tr>\n",
       "      <th>4</th>\n",
       "      <td>1628-32 Ridge Ave</td>\n",
       "      <td>Francisville Artisan and Farmers Market</td>\n",
       "      <td>19130</td>\n",
       "      <td>POINT (-75.1640490804737 39.96981974381605)</td>\n",
       "      <td>-75.164049</td>\n",
       "      <td>39.969820</td>\n",
       "    </tr>\n",
       "  </tbody>\n",
       "</table>\n",
       "</div>"
      ],
      "text/plain": [
       "                       Address                                     Name  \\\n",
       "0       2501 E. Cumberland Ave                    Greensgrow Farm Stand   \n",
       "1  Diamond St and N. Howard St       Norris Square Neighborhood Project   \n",
       "2           18th and Walnut St                              Rittenhouse   \n",
       "3  22nd St. and Fairmount Ave.                                Fairmount   \n",
       "4            1628-32 Ridge Ave  Francisville Artisan and Farmers Market   \n",
       "\n",
       "  Zipcode                                      geometry  longitude   latitude  \n",
       "0   19125   POINT (-75.1215584811801 39.97843093078643) -75.121558  39.978431  \n",
       "1   19122  POINT (-75.13392516927033 39.98177864369919) -75.133925  39.981779  \n",
       "2   19103  POINT (-75.17067028026975 39.95014093264241) -75.170670  39.950141  \n",
       "3   19130   POINT (-75.17398597335172 39.9673232257184) -75.173986  39.967323  \n",
       "4   19130   POINT (-75.1640490804737 39.96981974381605) -75.164049  39.969820  "
      ]
     },
     "execution_count": 4,
     "metadata": {},
     "output_type": "execute_result"
    }
   ],
   "source": [
    "all_healthy_counts_df=pd.concat([cleaned_farmers_markets_geo_df, cleaned_healthycornerstores_df], axis=0)\n",
    "all_healthy_counts_df.head()"
   ]
  },
  {
   "cell_type": "markdown",
   "metadata": {},
   "source": [
    "### Finding the Number of Healthy Store Locations in Each Zipcode"
   ]
  },
  {
   "cell_type": "markdown",
   "metadata": {},
   "source": [
    "I would like to calculate the number of stores in each zipcode so that I can eventually create a new dataset which includes the Diabetes Counts, Median Income, Healthy Store Count, Unhealthy Store Count, and Ratio of Healthy to Unhealthy store counts for each Zipcode. "
   ]
  },
  {
   "cell_type": "code",
   "execution_count": 5,
   "metadata": {},
   "outputs": [
    {
     "data": {
      "text/plain": [
       "63"
      ]
     },
     "execution_count": 5,
     "metadata": {},
     "output_type": "execute_result"
    }
   ],
   "source": [
    "all_healthy_counts_df['Zipcode'].nunique()"
   ]
  },
  {
   "cell_type": "markdown",
   "metadata": {},
   "source": [
    "There are clearly Zipcodes in the wrong format since Philly only has 48 zipcodes. "
   ]
  },
  {
   "cell_type": "code",
   "execution_count": 6,
   "metadata": {},
   "outputs": [
    {
     "data": {
      "text/plain": [
       "array([19125, 19122, 19103, 19130, 19107, 19147, 19106, 19144, 19129,\n",
       "       19118, 19123, 19140, 19141, 19133, 19121, 19124, 19149, 19116,\n",
       "       19128, 19119, 19138, 19127, 19148, 19145, 19143, 19139, 19104,\n",
       "       19151, 19131, '19146', '19121', '19132', '19140', '19120', '19145',\n",
       "       '19142', '19134', '19133', '19130', '19139', '19124', '19143',\n",
       "       '19131', '19137', '19135', '19125', '19147', '19144', '19122',\n",
       "       '19148', '19111', '19141', '19151', '19104', '19138', '19123',\n",
       "       '19149', '19152', '19136', '19128', '19115', '19126', '19129'],\n",
       "      dtype=object)"
      ]
     },
     "execution_count": 6,
     "metadata": {},
     "output_type": "execute_result"
    }
   ],
   "source": [
    "all_healthy_counts_df['Zipcode'].unique()"
   ]
  },
  {
   "cell_type": "markdown",
   "metadata": {},
   "source": [
    "They are not all in string form so I need to convert them first. This may explain why there are 63 zipcodes accounted for rather than up to 48. "
   ]
  },
  {
   "cell_type": "code",
   "execution_count": 7,
   "metadata": {},
   "outputs": [],
   "source": [
    "all_healthy_counts_df['Zipcode']=all_healthy_counts_df['Zipcode'].apply(str)"
   ]
  },
  {
   "cell_type": "code",
   "execution_count": 8,
   "metadata": {},
   "outputs": [
    {
     "data": {
      "text/plain": [
       "array(['19125', '19122', '19103', '19130', '19107', '19147', '19106',\n",
       "       '19144', '19129', '19118', '19123', '19140', '19141', '19133',\n",
       "       '19121', '19124', '19149', '19116', '19128', '19119', '19138',\n",
       "       '19127', '19148', '19145', '19143', '19139', '19104', '19151',\n",
       "       '19131', '19146', '19132', '19120', '19142', '19134', '19137',\n",
       "       '19135', '19111', '19152', '19136', '19115', '19126'], dtype=object)"
      ]
     },
     "execution_count": 8,
     "metadata": {},
     "output_type": "execute_result"
    }
   ],
   "source": [
    "all_healthy_counts_df['Zipcode'].unique()"
   ]
  },
  {
   "cell_type": "code",
   "execution_count": 9,
   "metadata": {},
   "outputs": [
    {
     "data": {
      "text/plain": [
       "41"
      ]
     },
     "execution_count": 9,
     "metadata": {},
     "output_type": "execute_result"
    }
   ],
   "source": [
    "all_healthy_counts_df['Zipcode'].nunique()"
   ]
  },
  {
   "cell_type": "markdown",
   "metadata": {},
   "source": [
    "Now that I have converted all my Zipcodes to the correct string format, I can see that there are now actually 41 unique zipcodes. "
   ]
  },
  {
   "cell_type": "code",
   "execution_count": 10,
   "metadata": {},
   "outputs": [],
   "source": [
    "allzip=all_healthy_counts_df['Zipcode'].value_counts()"
   ]
  },
  {
   "cell_type": "code",
   "execution_count": 11,
   "metadata": {},
   "outputs": [
    {
     "data": {
      "text/plain": [
       "19134    68\n",
       "19132    47\n",
       "19140    47\n",
       "19143    46\n",
       "19120    43\n",
       "19148    41\n",
       "19133    39\n",
       "19121    35\n",
       "19139    30\n",
       "19146    27\n",
       "19124    27\n",
       "19142    26\n",
       "19145    24\n",
       "19144    22\n",
       "19131    21\n",
       "19122    19\n",
       "19147    18\n",
       "19138    15\n",
       "19151    14\n",
       "19123    14\n",
       "19130    13\n",
       "19104     9\n",
       "19141     9\n",
       "19125     9\n",
       "19111     7\n",
       "19128     7\n",
       "19135     7\n",
       "19136     7\n",
       "19126     6\n",
       "19129     4\n",
       "19149     4\n",
       "19137     2\n",
       "19103     2\n",
       "19152     2\n",
       "19106     2\n",
       "19127     1\n",
       "19115     1\n",
       "19119     1\n",
       "19116     1\n",
       "19118     1\n",
       "19107     1\n",
       "Name: Zipcode, dtype: int64"
      ]
     },
     "execution_count": 11,
     "metadata": {},
     "output_type": "execute_result"
    }
   ],
   "source": [
    "allzip"
   ]
  },
  {
   "cell_type": "markdown",
   "metadata": {},
   "source": [
    "Just to make sure that these 41 unique zipcodes account for all of the data in this all_healthy_counts_df, I will add all of the value counts to ensure that all 719 store counts are accounted for in these 41 zipcodes. "
   ]
  },
  {
   "cell_type": "code",
   "execution_count": 12,
   "metadata": {
    "scrolled": true
   },
   "outputs": [
    {
     "data": {
      "text/plain": [
       "719"
      ]
     },
     "execution_count": 12,
     "metadata": {},
     "output_type": "execute_result"
    }
   ],
   "source": [
    "sum(allzip)"
   ]
  },
  {
   "cell_type": "markdown",
   "metadata": {},
   "source": [
    "Now I need to write each of these value counts as a list so I can add it as a column to my eventual dataset which combines diabetes, income, healthy store counts, unhealthy store counts, and ratio for each zipcode. To make sure I write the value counts in the correct order in my list, I will sort the zipcodes by low to higher since that is how the zipcodes are ordered in my diabetes and income datasets. "
   ]
  },
  {
   "cell_type": "code",
   "execution_count": 13,
   "metadata": {},
   "outputs": [
    {
     "data": {
      "text/plain": [
       "19103     2\n",
       "19104     9\n",
       "19106     2\n",
       "19107     1\n",
       "19111     7\n",
       "19115     1\n",
       "19116     1\n",
       "19118     1\n",
       "19119     1\n",
       "19120    43\n",
       "19121    35\n",
       "19122    19\n",
       "19123    14\n",
       "19124    27\n",
       "19125     9\n",
       "19126     6\n",
       "19127     1\n",
       "19128     7\n",
       "19129     4\n",
       "19130    13\n",
       "19131    21\n",
       "19132    47\n",
       "19133    39\n",
       "19134    68\n",
       "19135     7\n",
       "19136     7\n",
       "19137     2\n",
       "19138    15\n",
       "19139    30\n",
       "19140    47\n",
       "19141     9\n",
       "19142    26\n",
       "19143    46\n",
       "19144    22\n",
       "19145    24\n",
       "19146    27\n",
       "19147    18\n",
       "19148    41\n",
       "19149     4\n",
       "19151    14\n",
       "19152     2\n",
       "Name: Zipcode, dtype: int64"
      ]
     },
     "execution_count": 13,
     "metadata": {},
     "output_type": "execute_result"
    }
   ],
   "source": [
    "allzip.sort_index()"
   ]
  },
  {
   "cell_type": "code",
   "execution_count": 14,
   "metadata": {},
   "outputs": [],
   "source": [
    "Healthy_Store_Counts = [0, 2, 9, 2, 1, 0, 7, 0, 0, 1, 1, 1, 1, 43, 35, 19, 14, 27, 9, 6, 1, 7, 4, 13, 21, 47, 39, 68, 7, 7, 2, 15, 30, 47, 9, 26, 46, 22, 24, 27, 18, 41, 4, 0, 14, 2, 0, 0]"
   ]
  },
  {
   "cell_type": "markdown",
   "metadata": {},
   "source": [
    "### About This Data"
   ]
  },
  {
   "cell_type": "markdown",
   "metadata": {},
   "source": [
    "* This list titled Healthy_Store_Counts includes all of the values for store counts for each zipcode from 19102 to 19153. I've included 0s in the zipcodes that don't have any locations according to my all_healthy_counts_df so that when I merge it to my final dataset, it will align with the zipcodes in the diabetes and income dataset. "
   ]
  }
 ],
 "metadata": {
  "kernelspec": {
   "display_name": "Python 3",
   "language": "python",
   "name": "python3"
  },
  "language_info": {
   "codemirror_mode": {
    "name": "ipython",
    "version": 3
   },
   "file_extension": ".py",
   "mimetype": "text/x-python",
   "name": "python",
   "nbconvert_exporter": "python",
   "pygments_lexer": "ipython3",
   "version": "3.7.3"
  }
 },
 "nbformat": 4,
 "nbformat_minor": 2
}
