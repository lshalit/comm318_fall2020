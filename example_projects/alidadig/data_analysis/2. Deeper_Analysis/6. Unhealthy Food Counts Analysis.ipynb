{
 "cells": [
  {
   "cell_type": "code",
   "execution_count": 1,
   "metadata": {},
   "outputs": [],
   "source": [
    "%matplotlib inline\n",
    "import pandas as pd\n",
    "import geopandas as gpd"
   ]
  },
  {
   "cell_type": "markdown",
   "metadata": {},
   "source": [
    "### Uploading My Data"
   ]
  },
  {
   "cell_type": "markdown",
   "metadata": {},
   "source": [
    "The following is where I load the convenience stores dataset from my Initial_Exploration_and_Cleaning folder. \n"
   ]
  },
  {
   "cell_type": "code",
   "execution_count": 2,
   "metadata": {},
   "outputs": [],
   "source": [
    "convenience_stores_geo_df=gpd.read_file('../../data/Raw_Data/Convenience_Stores.geojson')\n",
    "cleaned_conveniencestores_geo_df=convenience_stores_geo_df[['Company Name', 'Street Address', 'Zip Code', 'geometry']]\n",
    "cleaned_conveniencestores_geo_df.columns = ['Name', 'Address', 'Zipcode', 'geometry']"
   ]
  },
  {
   "cell_type": "code",
   "execution_count": 3,
   "metadata": {},
   "outputs": [
    {
     "data": {
      "text/html": [
       "<div>\n",
       "<style scoped>\n",
       "    .dataframe tbody tr th:only-of-type {\n",
       "        vertical-align: middle;\n",
       "    }\n",
       "\n",
       "    .dataframe tbody tr th {\n",
       "        vertical-align: top;\n",
       "    }\n",
       "\n",
       "    .dataframe thead th {\n",
       "        text-align: right;\n",
       "    }\n",
       "</style>\n",
       "<table border=\"1\" class=\"dataframe\">\n",
       "  <thead>\n",
       "    <tr style=\"text-align: right;\">\n",
       "      <th></th>\n",
       "      <th>Name</th>\n",
       "      <th>Address</th>\n",
       "      <th>Zipcode</th>\n",
       "      <th>geometry</th>\n",
       "    </tr>\n",
       "  </thead>\n",
       "  <tbody>\n",
       "    <tr>\n",
       "      <th>0</th>\n",
       "      <td>1020 MARKET STREET, INC.</td>\n",
       "      <td>1024 MARKET ST</td>\n",
       "      <td>191074211</td>\n",
       "      <td>POINT (-75.15721499999999 39.95154)</td>\n",
       "    </tr>\n",
       "    <tr>\n",
       "      <th>1</th>\n",
       "      <td>1057 H&amp;K CORP</td>\n",
       "      <td>1057 S 52ND ST</td>\n",
       "      <td>191434215</td>\n",
       "      <td>POINT (-75.222915 39.943966)</td>\n",
       "    </tr>\n",
       "    <tr>\n",
       "      <th>2</th>\n",
       "      <td>10 BROTHERS FOOD MARKET CORP.</td>\n",
       "      <td>1801 W VENANGO ST</td>\n",
       "      <td>191404019</td>\n",
       "      <td>POINT (-75.158134 40.008538)</td>\n",
       "    </tr>\n",
       "    <tr>\n",
       "      <th>3</th>\n",
       "      <td>11 S 21ST STREET LLC</td>\n",
       "      <td>1101 WASHINGTON AVE # 518</td>\n",
       "      <td>191473839</td>\n",
       "      <td>POINT (-75.16167 39.937245)</td>\n",
       "    </tr>\n",
       "    <tr>\n",
       "      <th>4</th>\n",
       "      <td>12-14 PRIZER, L.P.</td>\n",
       "      <td>536 CHRISTIAN ST</td>\n",
       "      <td>191474004</td>\n",
       "      <td>POINT (-75.15238100000001 39.937455)</td>\n",
       "    </tr>\n",
       "  </tbody>\n",
       "</table>\n",
       "</div>"
      ],
      "text/plain": [
       "                            Name                    Address    Zipcode  \\\n",
       "0       1020 MARKET STREET, INC.             1024 MARKET ST  191074211   \n",
       "1                  1057 H&K CORP             1057 S 52ND ST  191434215   \n",
       "2  10 BROTHERS FOOD MARKET CORP.          1801 W VENANGO ST  191404019   \n",
       "3           11 S 21ST STREET LLC  1101 WASHINGTON AVE # 518  191473839   \n",
       "4             12-14 PRIZER, L.P.           536 CHRISTIAN ST  191474004   \n",
       "\n",
       "                               geometry  \n",
       "0   POINT (-75.15721499999999 39.95154)  \n",
       "1          POINT (-75.222915 39.943966)  \n",
       "2          POINT (-75.158134 40.008538)  \n",
       "3           POINT (-75.16167 39.937245)  \n",
       "4  POINT (-75.15238100000001 39.937455)  "
      ]
     },
     "execution_count": 3,
     "metadata": {},
     "output_type": "execute_result"
    }
   ],
   "source": [
    "cleaned_conveniencestores_geo_df.head()"
   ]
  },
  {
   "cell_type": "code",
   "execution_count": 4,
   "metadata": {},
   "outputs": [
    {
     "data": {
      "text/plain": [
       "<bound method NDFrame.head of                                             Name                    Address  \\\n",
       "0                       1020 MARKET STREET, INC.             1024 MARKET ST   \n",
       "1                                  1057 H&K CORP             1057 S 52ND ST   \n",
       "2                  10 BROTHERS FOOD MARKET CORP.          1801 W VENANGO ST   \n",
       "3                           11 S 21ST STREET LLC  1101 WASHINGTON AVE # 518   \n",
       "4                             12-14 PRIZER, L.P.           536 CHRISTIAN ST   \n",
       "5                                  12MARKET4 LLC              124 MARKET ST   \n",
       "6                        12TH STREET CANTINA INC               45 N 12TH ST   \n",
       "7                 1516-18 N. 15TH STREET GP, LLC             1516 N 15TH ST   \n",
       "8                     1516-18 N. 15TH STREET, LP             1516 N 15TH ST   \n",
       "9                        15TH STREET FOOD MARKET            1429 WHARTON ST   \n",
       "10                                   1636 MARKET             1022 S 47TH ST   \n",
       "11                      1760 MARKET PARTNERS, LP      414 S 16TH ST STE 100   \n",
       "12                       18TH STREET FOOD MARKET          1801 W ONTARIO ST   \n",
       "13                                   1919 MARKET             1919 MARKET ST   \n",
       "14                             1 STOP MINIMARKET               700 S 8TH ST   \n",
       "15                  1ST ORIENTAL MARKET III, LLC      2842 SAINT VINCENT ST   \n",
       "16                     1ST ORIENTAL MARKET, INC.              1111 S 6TH ST   \n",
       "17                         21ST FOOD MKT. & DELI          2050 DICKINSON ST   \n",
       "18                               2200 BROAD DELI            2200 N BROAD ST   \n",
       "19                                222 MARKET INC              222 MARKET ST   \n",
       "20                                2235 MKT, INC.              2235 S 7TH ST   \n",
       "21                              22ND MINI MARKET           2201 W OXFORD ST   \n",
       "22                         2400 MARKET VII, L.P.    1608 WALNUT ST STE 1400   \n",
       "23                          24 SEVEN FOOD MARKET               1835 ARCH ST   \n",
       "24                   2601 COMMISSARY FOOD MARKET             5255 RIDGE AVE   \n",
       "25                      27 ALLEGHENY FOOD MARKET       2700 W ALLEGHENY AVE   \n",
       "26                          27TH MINI MARKET INC             2700 RIDGE AVE   \n",
       "27             27TH & SOMERSET GROCERY STORE INC         2639 W SOMERSET ST   \n",
       "28                           28TH ST SUPERMARKET             1700 N 28TH ST   \n",
       "29                              29 FOOD FARM INC          1 REED ST STE 200   \n",
       "...                                          ...                        ...   \n",
       "1909             YASMIN MARTINEZ FOOD MARKET INC             5453 MASTER ST   \n",
       "1910                          Y & D DELI GROCERY              2963 N 6TH ST   \n",
       "1911  YESHUA GROCERIES LIMITED LIABILITY COMPANY              2205 S 7TH ST   \n",
       "1912                            YESMILIN GROCERY      804 W SUSQUEHANNA AVE   \n",
       "1913                      YFR GROCERY STORE INC.              3900 N 7TH ST   \n",
       "1914                              YING'S GROCERY         1356 E LYCOMING ST   \n",
       "1915                        Y & L ASSOCIATES INC         4441 FRANKFORD AVE   \n",
       "1916                         YMG SUPERMARKET INC           6400 STENTON AVE   \n",
       "1917                           Y N J CORPORATION         4832 BALTIMORE AVE   \n",
       "1918                      YOGI GROCERY STORE INC              1516 S 8TH ST   \n",
       "1919                         YOHAN GROCERY STORE              200 N 57TH ST   \n",
       "1920                        YOLEINNY MINI MARKET         1872 E SCHILLER ST   \n",
       "1921          YOO'S LJ FISH & FRUIT MARKET, INC.         4046 LANCASTER AVE   \n",
       "1922                                 YORTY'S INC        5932 TORRESDALE AVE   \n",
       "1923                   YOUNG H GANG'S MARKET INC          3258 HARTVILLE ST   \n",
       "1924                                YOUNG KIM KU       1634 MOUNT VERNON ST   \n",
       "1925                                YOUNG'S DELI        3660 GERMANTOWN AVE   \n",
       "1926                         YOUNG'S FOOD MARKET         4132 LANCASTER AVE   \n",
       "1927                         YOUNG'S FOOD MARKET             1445 N 19TH ST   \n",
       "1928                 YOUNG'S HARVEST SUPERMARKET      1426 POINT BREEZE AVE   \n",
       "1929                              YOUNG'S MARKET            7256 CASTOR AVE   \n",
       "1930          Y & R QUALITY MEATS & GROCERY INC.        6351 RISING SUN AVE   \n",
       "1931                      Y & S SUPERMARKET INC.  2200 BNJMIN FRANKLIN PKWY   \n",
       "1932                       YUDY FOOD MARKET INC.               3469 KEIM ST   \n",
       "1933                                   YURI DELI             1618 N 29TH ST   \n",
       "1934                         ZAPATA DELI GROCERY        5141 GERMANTOWN AVE   \n",
       "1935                      ZAPATA MINI MARKET INC        910 W DUNCANNON AVE   \n",
       "1936                             ZAWAHI FOOD INC             5228 MARKET ST   \n",
       "1937              ZOE'S TROPICAL FOOD MARKET LLC        6842 CLOVER LN UPPR   \n",
       "1938                       Z TASTE OF STATES LLC           20 S MADISON AVE   \n",
       "\n",
       "        Zipcode                              geometry  \n",
       "0     191074211   POINT (-75.15721499999999 39.95154)  \n",
       "1     191434215          POINT (-75.222915 39.943966)  \n",
       "2     191404019          POINT (-75.158134 40.008538)  \n",
       "3     191473839           POINT (-75.16167 39.937245)  \n",
       "4     191474004  POINT (-75.15238100000001 39.937455)  \n",
       "5     191063089          POINT (-75.143182 39.949755)  \n",
       "6         19107          POINT (-75.159818 39.952136)  \n",
       "7     191215401            POINT (-75.160149 39.9764)  \n",
       "8     191215401            POINT (-75.160149 39.9764)  \n",
       "9     191463138          POINT (-75.168741 39.934336)  \n",
       "10    191433639  POINT (-75.21487999999999 39.946676)  \n",
       "11    191461989  POINT (-75.16776400000001 39.949827)  \n",
       "12    191404974          POINT (-75.158798 40.005555)  \n",
       "13    191031491           POINT (-75.17184 39.953456)  \n",
       "14    191472004          POINT (-75.155751 39.941408)  \n",
       "15    191491454          POINT (-75.054451 40.041822)  \n",
       "16    191474850          POINT (-75.153871 39.934853)  \n",
       "17    191464544  POINT (-75.17924499999999 39.933105)  \n",
       "18    191324501          POINT (-75.156237 39.986422)  \n",
       "19    191062882          POINT (-75.144718 39.949993)  \n",
       "20    191483211          POINT (-75.158649 39.920564)  \n",
       "21    191212913          POINT (-75.171389 39.979026)  \n",
       "22    191035446          POINT (-75.167755 39.949748)  \n",
       "23    191032712           POINT (-75.17004 39.955307)  \n",
       "24    191283713  POINT (-75.21019699999999 40.020135)  \n",
       "25    191321223           POINT (-75.174036 40.00428)  \n",
       "26    191212617            POINT (-75.1782 39.984792)  \n",
       "27    191322522  POINT (-75.17483300000001 39.998231)  \n",
       "28    191212704  POINT (-75.18028099999999 39.981719)  \n",
       "29    191475501  POINT (-75.14464099999999 39.929926)  \n",
       "...         ...                                   ...  \n",
       "1909  191313938          POINT (-75.230751 39.973793)  \n",
       "1910  191332804           POINT (-75.14125 39.996348)  \n",
       "1911  191483211          POINT (-75.158467 39.921475)  \n",
       "1912  191221327  POINT (-75.14709999999999 39.985077)  \n",
       "1913  191403206          POINT (-75.139833 40.011054)  \n",
       "1914  191245354  POINT (-75.10081099999999 40.008943)  \n",
       "1915  191243636          POINT (-75.087019 40.013031)  \n",
       "1916  191503708          POINT (-75.167294 40.060552)  \n",
       "1917  191433419            POINT (-75.219697 39.9483)  \n",
       "1918  191476437          POINT (-75.158304 39.929831)  \n",
       "1919  191391211          POINT (-75.234236 39.964446)  \n",
       "1920  191342009          POINT (-75.106692 39.998581)  \n",
       "1921  191041746           POINT (-75.20379 39.964008)  \n",
       "1922  191354127          POINT (-75.060205 40.017217)  \n",
       "1923  191341715          POINT (-75.119687 39.998225)  \n",
       "1924  191303320  POINT (-75.16483599999999 39.964917)  \n",
       "1925  191404226          POINT (-75.150683 40.008627)  \n",
       "1926  191041727          POINT (-75.206239 39.965529)  \n",
       "1927  191214140   POINT (-75.16649099999999 39.97659)  \n",
       "1928  191464522          POINT (-75.179945 39.934126)  \n",
       "1929  191491109          POINT (-75.066363 40.050977)  \n",
       "1930  191115629  POINT (-75.09616200000001 40.048953)  \n",
       "1931  191303601          POINT (-75.175327 39.961035)  \n",
       "1932  191341226          POINT (-75.117047 40.001184)  \n",
       "1933  191212738          POINT (-75.182108 39.981031)  \n",
       "1934  191442336  POINT (-75.16631099999999 40.030753)  \n",
       "1935  191414012          POINT (-75.138217 40.031098)  \n",
       "1936  191393417   POINT (-75.22550200000001 39.95997)  \n",
       "1937  190825303  POINT (-75.25304800000001 39.948247)  \n",
       "1938  190822819          POINT (-75.277922 39.964875)  \n",
       "\n",
       "[1939 rows x 4 columns]>"
      ]
     },
     "execution_count": 4,
     "metadata": {},
     "output_type": "execute_result"
    }
   ],
   "source": [
    "cleaned_conveniencestores_geo_df.head"
   ]
  },
  {
   "cell_type": "markdown",
   "metadata": {},
   "source": [
    "So, there are 1939 total store counts here. "
   ]
  },
  {
   "cell_type": "markdown",
   "metadata": {},
   "source": [
    "### Finding the Number of Healthy Store Locations in Each Zipcode"
   ]
  },
  {
   "cell_type": "markdown",
   "metadata": {},
   "source": [
    "I would like to calculate the number of stores in each zipcode so that I can eventually create a new dataset which includes the Diabetes Counts, Median Income, Healthy Store Count, Unhealthy Store Count, and Ratio of Healthy to Unhealthy store counts for each Zipcode. "
   ]
  },
  {
   "cell_type": "code",
   "execution_count": 5,
   "metadata": {},
   "outputs": [
    {
     "data": {
      "text/plain": [
       "1615"
      ]
     },
     "execution_count": 5,
     "metadata": {},
     "output_type": "execute_result"
    }
   ],
   "source": [
    "cleaned_conveniencestores_geo_df['Zipcode'].nunique()"
   ]
  },
  {
   "cell_type": "code",
   "execution_count": 6,
   "metadata": {},
   "outputs": [
    {
     "data": {
      "text/plain": [
       "array([191074211, 191434215, 191404019, ..., 191442336, 190825303,\n",
       "       190822819])"
      ]
     },
     "execution_count": 6,
     "metadata": {},
     "output_type": "execute_result"
    }
   ],
   "source": [
    "cleaned_conveniencestores_geo_df['Zipcode'].unique()"
   ]
  },
  {
   "cell_type": "markdown",
   "metadata": {},
   "source": [
    "There are clearly Zipcodes in the wrong format with the extensions added since Philly only has 48 zipcodes. I want to find the value counts for each of the 48 zipcodes in Philly so I will have to use the str.count function to find the value counts for the 48 zipcodes. To do this, I need to convert the items to string format first. "
   ]
  },
  {
   "cell_type": "code",
   "execution_count": 7,
   "metadata": {},
   "outputs": [],
   "source": [
    "cleaned_conveniencestores_geo_df=cleaned_conveniencestores_geo_df['Zipcode'].apply(str)"
   ]
  },
  {
   "cell_type": "markdown",
   "metadata": {},
   "source": [
    "Next, I will use the str.count function for each zipcode in order from low to high and find the total number of rows (or store locations) that fall under that zipcode without the extension. "
   ]
  },
  {
   "cell_type": "code",
   "execution_count": 8,
   "metadata": {},
   "outputs": [],
   "source": [
    "zip19102=cleaned_conveniencestores_geo_df.str.count('19102') \n",
    "zip19103=cleaned_conveniencestores_geo_df.str.count('19103') \n",
    "zip19104=cleaned_conveniencestores_geo_df.str.count('19104') \n",
    "zip19106=cleaned_conveniencestores_geo_df.str.count('19106') \n",
    "zip19107=cleaned_conveniencestores_geo_df.str.count('19107') \n",
    "zip19109=cleaned_conveniencestores_geo_df.str.count('19109') \n",
    "zip19111=cleaned_conveniencestores_geo_df.str.count('19111') \n",
    "zip19112=cleaned_conveniencestores_geo_df.str.count('19112') \n",
    "zip19114=cleaned_conveniencestores_geo_df.str.count('19114') \n",
    "zip19115=cleaned_conveniencestores_geo_df.str.count('19115') \n",
    "zip19116=cleaned_conveniencestores_geo_df.str.count('19116') \n",
    "zip19118=cleaned_conveniencestores_geo_df.str.count('19118') \n",
    "zip19119=cleaned_conveniencestores_geo_df.str.count('19119') \n",
    "zip19120=cleaned_conveniencestores_geo_df.str.count('19120') \n",
    "zip19121=cleaned_conveniencestores_geo_df.str.count('19121') \n",
    "zip19122=cleaned_conveniencestores_geo_df.str.count('19122') \n",
    "zip19123=cleaned_conveniencestores_geo_df.str.count('19123') \n",
    "zip19124=cleaned_conveniencestores_geo_df.str.count('19124') \n",
    "zip19125=cleaned_conveniencestores_geo_df.str.count('19125') \n",
    "zip19126=cleaned_conveniencestores_geo_df.str.count('19126') \n",
    "zip19127=cleaned_conveniencestores_geo_df.str.count('19127') \n",
    "zip19128=cleaned_conveniencestores_geo_df.str.count('19128') \n",
    "zip19129=cleaned_conveniencestores_geo_df.str.count('19129') \n",
    "zip19130=cleaned_conveniencestores_geo_df.str.count('19130') \n",
    "zip19131=cleaned_conveniencestores_geo_df.str.count('19131') \n",
    "zip19132=cleaned_conveniencestores_geo_df.str.count('19132') \n",
    "zip19133=cleaned_conveniencestores_geo_df.str.count('19133') \n",
    "zip19134=cleaned_conveniencestores_geo_df.str.count('19134') \n",
    "zip19135=cleaned_conveniencestores_geo_df.str.count('19135') \n",
    "zip19136=cleaned_conveniencestores_geo_df.str.count('19136') \n",
    "zip19137=cleaned_conveniencestores_geo_df.str.count('19137') \n",
    "zip19138=cleaned_conveniencestores_geo_df.str.count('19138') \n",
    "zip19139=cleaned_conveniencestores_geo_df.str.count('19139') \n",
    "zip19140=cleaned_conveniencestores_geo_df.str.count('19140') \n",
    "zip19141=cleaned_conveniencestores_geo_df.str.count('19141') \n",
    "zip19142=cleaned_conveniencestores_geo_df.str.count('19142') \n",
    "zip19143=cleaned_conveniencestores_geo_df.str.count('19143') \n",
    "zip19144=cleaned_conveniencestores_geo_df.str.count('19144') \n",
    "zip19145=cleaned_conveniencestores_geo_df.str.count('19145') \n",
    "zip19146=cleaned_conveniencestores_geo_df.str.count('19146') \n",
    "zip19147=cleaned_conveniencestores_geo_df.str.count('19147') \n",
    "zip19148=cleaned_conveniencestores_geo_df.str.count('19148')\n",
    "zip19149=cleaned_conveniencestores_geo_df.str.count('19149')\n",
    "zip19150=cleaned_conveniencestores_geo_df.str.count('19150')\n",
    "zip19151=cleaned_conveniencestores_geo_df.str.count('19151')\n",
    "zip19152=cleaned_conveniencestores_geo_df.str.count('19152')\n",
    "zip19153=cleaned_conveniencestores_geo_df.str.count('19153')\n",
    "zip19154=cleaned_conveniencestores_geo_df.str.count('19154')                            "
   ]
  },
  {
   "cell_type": "markdown",
   "metadata": {},
   "source": [
    "Next, I will use the value.counts function to find the number of rows (store locations) that are listed under each of the 48 zipcodes. "
   ]
  },
  {
   "cell_type": "code",
   "execution_count": 9,
   "metadata": {},
   "outputs": [
    {
     "data": {
      "text/plain": [
       "0    1933\n",
       "1       6\n",
       "Name: Zipcode, dtype: int64"
      ]
     },
     "execution_count": 9,
     "metadata": {},
     "output_type": "execute_result"
    }
   ],
   "source": [
    "zip19102.value_counts()    "
   ]
  },
  {
   "cell_type": "code",
   "execution_count": 10,
   "metadata": {},
   "outputs": [
    {
     "data": {
      "text/plain": [
       "0    1902\n",
       "1      37\n",
       "Name: Zipcode, dtype: int64"
      ]
     },
     "execution_count": 10,
     "metadata": {},
     "output_type": "execute_result"
    }
   ],
   "source": [
    "zip19103.value_counts()"
   ]
  },
  {
   "cell_type": "code",
   "execution_count": 11,
   "metadata": {},
   "outputs": [
    {
     "data": {
      "text/plain": [
       "0    1885\n",
       "1      54\n",
       "Name: Zipcode, dtype: int64"
      ]
     },
     "execution_count": 11,
     "metadata": {},
     "output_type": "execute_result"
    }
   ],
   "source": [
    "zip19104.value_counts()"
   ]
  },
  {
   "cell_type": "code",
   "execution_count": 12,
   "metadata": {},
   "outputs": [
    {
     "data": {
      "text/plain": [
       "0    1916\n",
       "1      23\n",
       "Name: Zipcode, dtype: int64"
      ]
     },
     "execution_count": 12,
     "metadata": {},
     "output_type": "execute_result"
    }
   ],
   "source": [
    "zip19106.value_counts()"
   ]
  },
  {
   "cell_type": "code",
   "execution_count": 13,
   "metadata": {},
   "outputs": [
    {
     "data": {
      "text/plain": [
       "0    1883\n",
       "1      56\n",
       "Name: Zipcode, dtype: int64"
      ]
     },
     "execution_count": 13,
     "metadata": {},
     "output_type": "execute_result"
    }
   ],
   "source": [
    "zip19107.value_counts()"
   ]
  },
  {
   "cell_type": "code",
   "execution_count": 14,
   "metadata": {},
   "outputs": [
    {
     "data": {
      "text/plain": [
       "0    1939\n",
       "Name: Zipcode, dtype: int64"
      ]
     },
     "execution_count": 14,
     "metadata": {},
     "output_type": "execute_result"
    }
   ],
   "source": [
    "zip19109.value_counts()"
   ]
  },
  {
   "cell_type": "code",
   "execution_count": 15,
   "metadata": {},
   "outputs": [
    {
     "data": {
      "text/plain": [
       "0    1907\n",
       "1      32\n",
       "Name: Zipcode, dtype: int64"
      ]
     },
     "execution_count": 15,
     "metadata": {},
     "output_type": "execute_result"
    }
   ],
   "source": [
    "zip19111.value_counts()"
   ]
  },
  {
   "cell_type": "code",
   "execution_count": 16,
   "metadata": {},
   "outputs": [
    {
     "data": {
      "text/plain": [
       "0    1938\n",
       "1       1\n",
       "Name: Zipcode, dtype: int64"
      ]
     },
     "execution_count": 16,
     "metadata": {},
     "output_type": "execute_result"
    }
   ],
   "source": [
    "zip19112.value_counts()"
   ]
  },
  {
   "cell_type": "code",
   "execution_count": 17,
   "metadata": {},
   "outputs": [
    {
     "data": {
      "text/plain": [
       "0    1918\n",
       "1      21\n",
       "Name: Zipcode, dtype: int64"
      ]
     },
     "execution_count": 17,
     "metadata": {},
     "output_type": "execute_result"
    }
   ],
   "source": [
    "zip19114.value_counts()"
   ]
  },
  {
   "cell_type": "code",
   "execution_count": 18,
   "metadata": {},
   "outputs": [
    {
     "data": {
      "text/plain": [
       "0    1919\n",
       "1      20\n",
       "Name: Zipcode, dtype: int64"
      ]
     },
     "execution_count": 18,
     "metadata": {},
     "output_type": "execute_result"
    }
   ],
   "source": [
    "zip19115.value_counts()"
   ]
  },
  {
   "cell_type": "code",
   "execution_count": 19,
   "metadata": {},
   "outputs": [
    {
     "data": {
      "text/plain": [
       "0    1926\n",
       "1      13\n",
       "Name: Zipcode, dtype: int64"
      ]
     },
     "execution_count": 19,
     "metadata": {},
     "output_type": "execute_result"
    }
   ],
   "source": [
    "zip19116.value_counts()"
   ]
  },
  {
   "cell_type": "code",
   "execution_count": 20,
   "metadata": {},
   "outputs": [
    {
     "data": {
      "text/plain": [
       "0    1929\n",
       "1      10\n",
       "Name: Zipcode, dtype: int64"
      ]
     },
     "execution_count": 20,
     "metadata": {},
     "output_type": "execute_result"
    }
   ],
   "source": [
    "zip19118.value_counts()"
   ]
  },
  {
   "cell_type": "code",
   "execution_count": 21,
   "metadata": {},
   "outputs": [
    {
     "data": {
      "text/plain": [
       "0    1927\n",
       "1      12\n",
       "Name: Zipcode, dtype: int64"
      ]
     },
     "execution_count": 21,
     "metadata": {},
     "output_type": "execute_result"
    }
   ],
   "source": [
    "zip19119.value_counts()"
   ]
  },
  {
   "cell_type": "code",
   "execution_count": 22,
   "metadata": {},
   "outputs": [
    {
     "data": {
      "text/plain": [
       "0    1849\n",
       "1      90\n",
       "Name: Zipcode, dtype: int64"
      ]
     },
     "execution_count": 22,
     "metadata": {},
     "output_type": "execute_result"
    }
   ],
   "source": [
    "zip19120.value_counts()"
   ]
  },
  {
   "cell_type": "code",
   "execution_count": 23,
   "metadata": {},
   "outputs": [
    {
     "data": {
      "text/plain": [
       "0    1892\n",
       "1      47\n",
       "Name: Zipcode, dtype: int64"
      ]
     },
     "execution_count": 23,
     "metadata": {},
     "output_type": "execute_result"
    }
   ],
   "source": [
    "zip19121.value_counts()"
   ]
  },
  {
   "cell_type": "code",
   "execution_count": 24,
   "metadata": {},
   "outputs": [
    {
     "data": {
      "text/plain": [
       "0    1912\n",
       "1      27\n",
       "Name: Zipcode, dtype: int64"
      ]
     },
     "execution_count": 24,
     "metadata": {},
     "output_type": "execute_result"
    }
   ],
   "source": [
    "zip19122.value_counts()"
   ]
  },
  {
   "cell_type": "code",
   "execution_count": 25,
   "metadata": {},
   "outputs": [
    {
     "data": {
      "text/plain": [
       "0    1901\n",
       "1      38\n",
       "Name: Zipcode, dtype: int64"
      ]
     },
     "execution_count": 25,
     "metadata": {},
     "output_type": "execute_result"
    }
   ],
   "source": [
    "zip19123.value_counts()"
   ]
  },
  {
   "cell_type": "code",
   "execution_count": 26,
   "metadata": {},
   "outputs": [
    {
     "data": {
      "text/plain": [
       "0    1826\n",
       "1     113\n",
       "Name: Zipcode, dtype: int64"
      ]
     },
     "execution_count": 26,
     "metadata": {},
     "output_type": "execute_result"
    }
   ],
   "source": [
    "zip19124.value_counts()"
   ]
  },
  {
   "cell_type": "code",
   "execution_count": 27,
   "metadata": {},
   "outputs": [
    {
     "data": {
      "text/plain": [
       "0    1913\n",
       "1      26\n",
       "Name: Zipcode, dtype: int64"
      ]
     },
     "execution_count": 27,
     "metadata": {},
     "output_type": "execute_result"
    }
   ],
   "source": [
    "zip19125.value_counts()"
   ]
  },
  {
   "cell_type": "code",
   "execution_count": 28,
   "metadata": {},
   "outputs": [
    {
     "data": {
      "text/plain": [
       "0    1931\n",
       "1       8\n",
       "Name: Zipcode, dtype: int64"
      ]
     },
     "execution_count": 28,
     "metadata": {},
     "output_type": "execute_result"
    }
   ],
   "source": [
    "zip19126.value_counts()"
   ]
  },
  {
   "cell_type": "code",
   "execution_count": 29,
   "metadata": {},
   "outputs": [
    {
     "data": {
      "text/plain": [
       "0    1933\n",
       "1       6\n",
       "Name: Zipcode, dtype: int64"
      ]
     },
     "execution_count": 29,
     "metadata": {},
     "output_type": "execute_result"
    }
   ],
   "source": [
    "zip19127.value_counts()"
   ]
  },
  {
   "cell_type": "code",
   "execution_count": 30,
   "metadata": {},
   "outputs": [
    {
     "data": {
      "text/plain": [
       "0    1921\n",
       "1      18\n",
       "Name: Zipcode, dtype: int64"
      ]
     },
     "execution_count": 30,
     "metadata": {},
     "output_type": "execute_result"
    }
   ],
   "source": [
    "zip19128.value_counts()"
   ]
  },
  {
   "cell_type": "code",
   "execution_count": 31,
   "metadata": {},
   "outputs": [
    {
     "data": {
      "text/plain": [
       "0    1935\n",
       "1       4\n",
       "Name: Zipcode, dtype: int64"
      ]
     },
     "execution_count": 31,
     "metadata": {},
     "output_type": "execute_result"
    }
   ],
   "source": [
    "zip19129.value_counts()"
   ]
  },
  {
   "cell_type": "code",
   "execution_count": 32,
   "metadata": {},
   "outputs": [
    {
     "data": {
      "text/plain": [
       "0    1918\n",
       "1      21\n",
       "Name: Zipcode, dtype: int64"
      ]
     },
     "execution_count": 32,
     "metadata": {},
     "output_type": "execute_result"
    }
   ],
   "source": [
    "zip19130.value_counts()"
   ]
  },
  {
   "cell_type": "code",
   "execution_count": 33,
   "metadata": {},
   "outputs": [
    {
     "data": {
      "text/plain": [
       "0    1891\n",
       "1      48\n",
       "Name: Zipcode, dtype: int64"
      ]
     },
     "execution_count": 33,
     "metadata": {},
     "output_type": "execute_result"
    }
   ],
   "source": [
    "zip19131.value_counts()"
   ]
  },
  {
   "cell_type": "code",
   "execution_count": 34,
   "metadata": {},
   "outputs": [
    {
     "data": {
      "text/plain": [
       "0    1878\n",
       "1      61\n",
       "Name: Zipcode, dtype: int64"
      ]
     },
     "execution_count": 34,
     "metadata": {},
     "output_type": "execute_result"
    }
   ],
   "source": [
    "zip19132.value_counts()"
   ]
  },
  {
   "cell_type": "code",
   "execution_count": 35,
   "metadata": {},
   "outputs": [
    {
     "data": {
      "text/plain": [
       "0    1879\n",
       "1      60\n",
       "Name: Zipcode, dtype: int64"
      ]
     },
     "execution_count": 35,
     "metadata": {},
     "output_type": "execute_result"
    }
   ],
   "source": [
    "zip19133.value_counts()"
   ]
  },
  {
   "cell_type": "code",
   "execution_count": 36,
   "metadata": {},
   "outputs": [
    {
     "data": {
      "text/plain": [
       "0    1833\n",
       "1     106\n",
       "Name: Zipcode, dtype: int64"
      ]
     },
     "execution_count": 36,
     "metadata": {},
     "output_type": "execute_result"
    }
   ],
   "source": [
    "zip19134.value_counts()"
   ]
  },
  {
   "cell_type": "code",
   "execution_count": 37,
   "metadata": {},
   "outputs": [
    {
     "data": {
      "text/plain": [
       "0    1907\n",
       "1      32\n",
       "Name: Zipcode, dtype: int64"
      ]
     },
     "execution_count": 37,
     "metadata": {},
     "output_type": "execute_result"
    }
   ],
   "source": [
    "zip19135.value_counts()"
   ]
  },
  {
   "cell_type": "code",
   "execution_count": 38,
   "metadata": {},
   "outputs": [
    {
     "data": {
      "text/plain": [
       "0    1923\n",
       "1      16\n",
       "Name: Zipcode, dtype: int64"
      ]
     },
     "execution_count": 38,
     "metadata": {},
     "output_type": "execute_result"
    }
   ],
   "source": [
    "zip19136.value_counts()"
   ]
  },
  {
   "cell_type": "code",
   "execution_count": 39,
   "metadata": {},
   "outputs": [
    {
     "data": {
      "text/plain": [
       "0    1924\n",
       "1      15\n",
       "Name: Zipcode, dtype: int64"
      ]
     },
     "execution_count": 39,
     "metadata": {},
     "output_type": "execute_result"
    }
   ],
   "source": [
    "zip19137.value_counts()"
   ]
  },
  {
   "cell_type": "code",
   "execution_count": 40,
   "metadata": {},
   "outputs": [
    {
     "data": {
      "text/plain": [
       "0    1896\n",
       "1      43\n",
       "Name: Zipcode, dtype: int64"
      ]
     },
     "execution_count": 40,
     "metadata": {},
     "output_type": "execute_result"
    }
   ],
   "source": [
    "zip19138.value_counts()"
   ]
  },
  {
   "cell_type": "code",
   "execution_count": 41,
   "metadata": {},
   "outputs": [
    {
     "data": {
      "text/plain": [
       "0    1873\n",
       "1      66\n",
       "Name: Zipcode, dtype: int64"
      ]
     },
     "execution_count": 41,
     "metadata": {},
     "output_type": "execute_result"
    }
   ],
   "source": [
    "zip19139.value_counts()"
   ]
  },
  {
   "cell_type": "code",
   "execution_count": 42,
   "metadata": {},
   "outputs": [
    {
     "data": {
      "text/plain": [
       "0    1843\n",
       "1      96\n",
       "Name: Zipcode, dtype: int64"
      ]
     },
     "execution_count": 42,
     "metadata": {},
     "output_type": "execute_result"
    }
   ],
   "source": [
    "zip19140.value_counts()"
   ]
  },
  {
   "cell_type": "code",
   "execution_count": 43,
   "metadata": {},
   "outputs": [
    {
     "data": {
      "text/plain": [
       "0    1895\n",
       "1      44\n",
       "Name: Zipcode, dtype: int64"
      ]
     },
     "execution_count": 43,
     "metadata": {},
     "output_type": "execute_result"
    }
   ],
   "source": [
    "zip19141.value_counts()"
   ]
  },
  {
   "cell_type": "code",
   "execution_count": 44,
   "metadata": {},
   "outputs": [
    {
     "data": {
      "text/plain": [
       "0    1876\n",
       "1      63\n",
       "Name: Zipcode, dtype: int64"
      ]
     },
     "execution_count": 44,
     "metadata": {},
     "output_type": "execute_result"
    }
   ],
   "source": [
    "zip19142.value_counts()"
   ]
  },
  {
   "cell_type": "code",
   "execution_count": 45,
   "metadata": {},
   "outputs": [
    {
     "data": {
      "text/plain": [
       "0    1842\n",
       "1      97\n",
       "Name: Zipcode, dtype: int64"
      ]
     },
     "execution_count": 45,
     "metadata": {},
     "output_type": "execute_result"
    }
   ],
   "source": [
    "zip19143.value_counts()"
   ]
  },
  {
   "cell_type": "code",
   "execution_count": 46,
   "metadata": {},
   "outputs": [
    {
     "data": {
      "text/plain": [
       "0    1898\n",
       "1      41\n",
       "Name: Zipcode, dtype: int64"
      ]
     },
     "execution_count": 46,
     "metadata": {},
     "output_type": "execute_result"
    }
   ],
   "source": [
    "zip19144.value_counts()"
   ]
  },
  {
   "cell_type": "code",
   "execution_count": 47,
   "metadata": {},
   "outputs": [
    {
     "data": {
      "text/plain": [
       "0    1879\n",
       "1      60\n",
       "Name: Zipcode, dtype: int64"
      ]
     },
     "execution_count": 47,
     "metadata": {},
     "output_type": "execute_result"
    }
   ],
   "source": [
    "zip19145.value_counts()"
   ]
  },
  {
   "cell_type": "code",
   "execution_count": 48,
   "metadata": {},
   "outputs": [
    {
     "data": {
      "text/plain": [
       "0    1891\n",
       "1      48\n",
       "Name: Zipcode, dtype: int64"
      ]
     },
     "execution_count": 48,
     "metadata": {},
     "output_type": "execute_result"
    }
   ],
   "source": [
    "zip19146.value_counts()"
   ]
  },
  {
   "cell_type": "code",
   "execution_count": 49,
   "metadata": {},
   "outputs": [
    {
     "data": {
      "text/plain": [
       "0    1884\n",
       "1      55\n",
       "Name: Zipcode, dtype: int64"
      ]
     },
     "execution_count": 49,
     "metadata": {},
     "output_type": "execute_result"
    }
   ],
   "source": [
    "zip19147.value_counts()"
   ]
  },
  {
   "cell_type": "code",
   "execution_count": 50,
   "metadata": {},
   "outputs": [
    {
     "data": {
      "text/plain": [
       "0    1846\n",
       "1      93\n",
       "Name: Zipcode, dtype: int64"
      ]
     },
     "execution_count": 50,
     "metadata": {},
     "output_type": "execute_result"
    }
   ],
   "source": [
    "zip19148.value_counts()"
   ]
  },
  {
   "cell_type": "code",
   "execution_count": 51,
   "metadata": {},
   "outputs": [
    {
     "data": {
      "text/plain": [
       "0    1889\n",
       "1      50\n",
       "Name: Zipcode, dtype: int64"
      ]
     },
     "execution_count": 51,
     "metadata": {},
     "output_type": "execute_result"
    }
   ],
   "source": [
    "zip19149.value_counts()"
   ]
  },
  {
   "cell_type": "code",
   "execution_count": 52,
   "metadata": {},
   "outputs": [
    {
     "data": {
      "text/plain": [
       "0    1924\n",
       "1      15\n",
       "Name: Zipcode, dtype: int64"
      ]
     },
     "execution_count": 52,
     "metadata": {},
     "output_type": "execute_result"
    }
   ],
   "source": [
    "zip19150.value_counts()"
   ]
  },
  {
   "cell_type": "code",
   "execution_count": 53,
   "metadata": {},
   "outputs": [
    {
     "data": {
      "text/plain": [
       "0    1895\n",
       "1      44\n",
       "Name: Zipcode, dtype: int64"
      ]
     },
     "execution_count": 53,
     "metadata": {},
     "output_type": "execute_result"
    }
   ],
   "source": [
    "zip19151.value_counts()"
   ]
  },
  {
   "cell_type": "code",
   "execution_count": 54,
   "metadata": {},
   "outputs": [
    {
     "data": {
      "text/plain": [
       "0    1914\n",
       "1      25\n",
       "Name: Zipcode, dtype: int64"
      ]
     },
     "execution_count": 54,
     "metadata": {},
     "output_type": "execute_result"
    }
   ],
   "source": [
    "zip19152.value_counts()"
   ]
  },
  {
   "cell_type": "code",
   "execution_count": 55,
   "metadata": {},
   "outputs": [
    {
     "data": {
      "text/plain": [
       "0    1932\n",
       "1       7\n",
       "Name: Zipcode, dtype: int64"
      ]
     },
     "execution_count": 55,
     "metadata": {},
     "output_type": "execute_result"
    }
   ],
   "source": [
    "zip19153.value_counts()"
   ]
  },
  {
   "cell_type": "code",
   "execution_count": 56,
   "metadata": {},
   "outputs": [
    {
     "data": {
      "text/plain": [
       "0    1928\n",
       "1      11\n",
       "Name: Zipcode, dtype: int64"
      ]
     },
     "execution_count": 56,
     "metadata": {},
     "output_type": "execute_result"
    }
   ],
   "source": [
    "zip19154.value_counts()"
   ]
  },
  {
   "cell_type": "markdown",
   "metadata": {},
   "source": [
    "Now, I will take each of those numbers and list them into a list titled Unhealthy_Store_Counts in order of the zipcodes from high to low so that it aligns with the zipcodes in the diabetes and income dataset so I can eventually add this list on as a column showing unhealthy store counts. "
   ]
  },
  {
   "cell_type": "code",
   "execution_count": 57,
   "metadata": {},
   "outputs": [],
   "source": [
    "Unhealthy_Store_Counts = [6, 37, 54, 23, 56, 0, 32, 1, 21, 20, 13, 10, 12, 90, 47, 27, 38, 113, 26, 8, 6, 18, 4, 21, 48, 61, 60, 106, 32, 16, 15, 43, 66, 96, 44, 63, 97, 41, 60, 48, 55, 93, 50, 15, 44, 25, 7, 11]"
   ]
  },
  {
   "cell_type": "code",
   "execution_count": 58,
   "metadata": {},
   "outputs": [
    {
     "data": {
      "text/plain": [
       "1879"
      ]
     },
     "execution_count": 58,
     "metadata": {},
     "output_type": "execute_result"
    }
   ],
   "source": [
    "sum(Unhealthy_Store_Counts)"
   ]
  },
  {
   "cell_type": "markdown",
   "metadata": {},
   "source": [
    "It is clear that all of these store counts do not completely add up to the 1939 total store counts. However, after looking at the dot map from the All Food Locations (Dot Map) notebook, I can see that there a some dots not within the Philly zipcodes. This is acceptable for my research since I only want to dots that fall within the 48 Zipcodes since those are the zipcodes that I have information for regarding Diabetes and Income levels. "
   ]
  },
  {
   "cell_type": "markdown",
   "metadata": {},
   "source": [
    "### About This Data"
   ]
  },
  {
   "cell_type": "markdown",
   "metadata": {},
   "source": [
    "* This list titled Unhealthy_Store_Counts includes all of the values for store counts for each zipcode from 19102 to 19153. I plan to merge it to my final dataset, it will align with the zipcodes in the diabetes and income dataset and the healthy store counts. "
   ]
  }
 ],
 "metadata": {
  "kernelspec": {
   "display_name": "Python 3",
   "language": "python",
   "name": "python3"
  },
  "language_info": {
   "codemirror_mode": {
    "name": "ipython",
    "version": 3
   },
   "file_extension": ".py",
   "mimetype": "text/x-python",
   "name": "python",
   "nbconvert_exporter": "python",
   "pygments_lexer": "ipython3",
   "version": "3.7.3"
  }
 },
 "nbformat": 4,
 "nbformat_minor": 2
}
