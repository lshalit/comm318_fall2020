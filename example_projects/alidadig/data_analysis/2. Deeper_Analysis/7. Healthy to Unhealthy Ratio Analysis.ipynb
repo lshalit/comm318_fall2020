{
 "cells": [
  {
   "cell_type": "code",
   "execution_count": 1,
   "metadata": {},
   "outputs": [],
   "source": [
    "%matplotlib inline\n",
    "import pandas as pd\n",
    "import geopandas as gpd\n",
    "import plotly\n",
    "from IPython.display import display\n",
    "from IPython.display import Image\n",
    "import numpy as np\n",
    "import warnings\n",
    "warnings.filterwarnings('ignore')\n",
    "import matplotlib.pyplot as plt\n",
    "import seaborn as sns\n",
    "import plotly_express as px\n",
    "import math\n",
    "from operator import truediv"
   ]
  },
  {
   "cell_type": "code",
   "execution_count": 2,
   "metadata": {},
   "outputs": [],
   "source": [
    "Healthy_Store_Counts = [0, 2, 9, 2, 1, 0, 7, 0, 0, 1, 1, 1, 1, 43, 35, 19, 14, 27, 9, 6, 1, 7, 4, 13, 21, 47, 39, 68, 7, 7, 2, 15, 30, 47, 9, 26, 46, 22, 24, 27, 18, 41, 4, 0, 14, 2, 0, 0]\n"
   ]
  },
  {
   "cell_type": "code",
   "execution_count": 3,
   "metadata": {},
   "outputs": [],
   "source": [
    "Unhealthy_Store_Counts = [6, 37, 54, 23, 56, 0, 32, 1, 21, 20, 13, 10, 12, 90, 47, 27, 38, 113, 26, 8, 6, 18, 4, 21, 48, 61, 60, 106, 32, 16, 15, 43, 66, 96, 44, 63, 97, 41, 60, 48, 55, 93, 50, 15, 44, 25, 7, 11]"
   ]
  },
  {
   "cell_type": "markdown",
   "metadata": {},
   "source": [
    "My Unhealthy_Store_Counts list has a 0 value in it that comes to 0/0 for a ratio. So, to make sure the division works properly, I will have that 0/0 return as 0 for my ratio. "
   ]
  },
  {
   "cell_type": "code",
   "execution_count": 4,
   "metadata": {},
   "outputs": [
    {
     "data": {
      "text/plain": [
       "[0.0,\n",
       " 0.05405405405405406,\n",
       " 0.16666666666666666,\n",
       " 0.08695652173913043,\n",
       " 0.017857142857142856,\n",
       " 0,\n",
       " 0.21875,\n",
       " 0.0,\n",
       " 0.0,\n",
       " 0.05,\n",
       " 0.07692307692307693,\n",
       " 0.1,\n",
       " 0.08333333333333333,\n",
       " 0.4777777777777778,\n",
       " 0.7446808510638298,\n",
       " 0.7037037037037037,\n",
       " 0.3684210526315789,\n",
       " 0.23893805309734514,\n",
       " 0.34615384615384615,\n",
       " 0.75,\n",
       " 0.16666666666666666,\n",
       " 0.3888888888888889,\n",
       " 1.0,\n",
       " 0.6190476190476191,\n",
       " 0.4375,\n",
       " 0.7704918032786885,\n",
       " 0.65,\n",
       " 0.6415094339622641,\n",
       " 0.21875,\n",
       " 0.4375,\n",
       " 0.13333333333333333,\n",
       " 0.3488372093023256,\n",
       " 0.45454545454545453,\n",
       " 0.4895833333333333,\n",
       " 0.20454545454545456,\n",
       " 0.4126984126984127,\n",
       " 0.4742268041237113,\n",
       " 0.5365853658536586,\n",
       " 0.4,\n",
       " 0.5625,\n",
       " 0.32727272727272727,\n",
       " 0.44086021505376344,\n",
       " 0.08,\n",
       " 0.0,\n",
       " 0.3181818181818182,\n",
       " 0.08,\n",
       " 0.0,\n",
       " 0.0]"
      ]
     },
     "execution_count": 4,
     "metadata": {},
     "output_type": "execute_result"
    }
   ],
   "source": [
    "Healthy_to_Unhealthy_Ratio = [x/y if y else 0 for x,y in zip(Healthy_Store_Counts,Unhealthy_Store_Counts)]\n",
    "Healthy_to_Unhealthy_Ratio"
   ]
  },
  {
   "cell_type": "markdown",
   "metadata": {},
   "source": [
    "### About This Data"
   ]
  },
  {
   "cell_type": "markdown",
   "metadata": {},
   "source": [
    "* This list titled Healthy_to_Unhealthy_Ratio includes the ratio of healthy stores to unhealthy stores for each zipcode from 19102 to 19153. I plan to merge it to my final dataset which includes diabetes counts, income, healthy store counts, and unhealthy store counts for each zipcode. \n",
    "* I decided to include a ratio of healthy to unhealthy store counts because my datasets for healthy store counts and unhealthy store counts separately showed a trend where healthy and unhealthy store counts increase with lower income level. Clearly, this does not explain the rise in diabetes with lower income level. So, I decided to look at the ratio of healthy to unhealthy to see if diabetes could be higher in lower income areas not because they don't have access to healthy foods but because the ratio of healthy to unhealthy is so high. "
   ]
  }
 ],
 "metadata": {
  "kernelspec": {
   "display_name": "Python 3",
   "language": "python",
   "name": "python3"
  },
  "language_info": {
   "codemirror_mode": {
    "name": "ipython",
    "version": 3
   },
   "file_extension": ".py",
   "mimetype": "text/x-python",
   "name": "python",
   "nbconvert_exporter": "python",
   "pygments_lexer": "ipython3",
   "version": "3.7.3"
  }
 },
 "nbformat": 4,
 "nbformat_minor": 2
}
