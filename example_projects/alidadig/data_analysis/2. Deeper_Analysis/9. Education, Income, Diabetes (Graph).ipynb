{
 "cells": [
  {
   "cell_type": "code",
   "execution_count": 1,
   "metadata": {},
   "outputs": [],
   "source": [
    "%matplotlib inline\n",
    "import pandas as pd\n",
    "import geopandas as gpd\n",
    "import plotly\n",
    "from IPython.display import display\n",
    "from IPython.display import Image\n",
    "import numpy as np\n",
    "import warnings\n",
    "%matplotlib inline\n",
    "import warnings\n",
    "warnings.filterwarnings('ignore')\n",
    "import matplotlib.pyplot as plt\n",
    "import pandas as pd\n",
    "import seaborn as sns\n",
    "import plotly_express as px\n",
    "import math\n",
    "import plotly\n",
    "from operator import truediv"
   ]
  },
  {
   "cell_type": "markdown",
   "metadata": {},
   "source": [
    "### Uploading My Data"
   ]
  },
  {
   "cell_type": "markdown",
   "metadata": {},
   "source": [
    "The following is just to load in my cleaned dataset for Education Level from the Initial_Exploration_and_Cleaning folder.\n"
   ]
  },
  {
   "cell_type": "code",
   "execution_count": 2,
   "metadata": {},
   "outputs": [
    {
     "data": {
      "text/html": [
       "<div>\n",
       "<style scoped>\n",
       "    .dataframe tbody tr th:only-of-type {\n",
       "        vertical-align: middle;\n",
       "    }\n",
       "\n",
       "    .dataframe tbody tr th {\n",
       "        vertical-align: top;\n",
       "    }\n",
       "\n",
       "    .dataframe thead th {\n",
       "        text-align: right;\n",
       "    }\n",
       "</style>\n",
       "<table border=\"1\" class=\"dataframe\">\n",
       "  <thead>\n",
       "    <tr style=\"text-align: right;\">\n",
       "      <th></th>\n",
       "      <th>zipcode</th>\n",
       "      <th>Education Level</th>\n",
       "      <th>Geometry</th>\n",
       "    </tr>\n",
       "  </thead>\n",
       "  <tbody>\n",
       "    <tr>\n",
       "      <th>0</th>\n",
       "      <td>19102</td>\n",
       "      <td>2890.0</td>\n",
       "      <td>POLYGON ((-75.16728099999999 39.95825899907105...</td>\n",
       "    </tr>\n",
       "    <tr>\n",
       "      <th>1</th>\n",
       "      <td>19103</td>\n",
       "      <td>12146.0</td>\n",
       "      <td>POLYGON ((-75.18090899999999 39.95298199907108...</td>\n",
       "    </tr>\n",
       "    <tr>\n",
       "      <th>2</th>\n",
       "      <td>19104</td>\n",
       "      <td>6592.0</td>\n",
       "      <td>POLYGON ((-75.21206899999999 39.97021099907098...</td>\n",
       "    </tr>\n",
       "    <tr>\n",
       "      <th>3</th>\n",
       "      <td>19106</td>\n",
       "      <td>5821.0</td>\n",
       "      <td>(POLYGON ((-75.14433099999998 39.9298249990712...</td>\n",
       "    </tr>\n",
       "    <tr>\n",
       "      <th>4</th>\n",
       "      <td>19107</td>\n",
       "      <td>11420.0</td>\n",
       "      <td>POLYGON ((-75.16402299999997 39.95162799907109...</td>\n",
       "    </tr>\n",
       "  </tbody>\n",
       "</table>\n",
       "</div>"
      ],
      "text/plain": [
       "  zipcode  Education Level                                           Geometry\n",
       "0   19102           2890.0  POLYGON ((-75.16728099999999 39.95825899907105...\n",
       "1   19103          12146.0  POLYGON ((-75.18090899999999 39.95298199907108...\n",
       "2   19104           6592.0  POLYGON ((-75.21206899999999 39.97021099907098...\n",
       "3   19106           5821.0  (POLYGON ((-75.14433099999998 39.9298249990712...\n",
       "4   19107          11420.0  POLYGON ((-75.16402299999997 39.95162799907109..."
      ]
     },
     "execution_count": 2,
     "metadata": {},
     "output_type": "execute_result"
    }
   ],
   "source": [
    "education=gpd.read_file('../../data/Raw_Data/Education files/SimplyAnalytics_Shapefiles_2019-12-13_18_56_17_ccc5dd5279b84a232c60ea1bb5cf8519.shp')\n",
    "education=education[['spatial_id', 'VALUE0', 'geometry']]\n",
    "education.columns = ['zipcode', 'Education Level', 'Geometry']\n",
    "education.head()"
   ]
  },
  {
   "cell_type": "markdown",
   "metadata": {},
   "source": [
    "The following is just to load in my cleaned combined dataset for diabetes and income from the Income and Diabetes Correlation notebook in my Deeper_Analysis notebook. \n"
   ]
  },
  {
   "cell_type": "code",
   "execution_count": 3,
   "metadata": {},
   "outputs": [
    {
     "data": {
      "text/html": [
       "<div>\n",
       "<style scoped>\n",
       "    .dataframe tbody tr th:only-of-type {\n",
       "        vertical-align: middle;\n",
       "    }\n",
       "\n",
       "    .dataframe tbody tr th {\n",
       "        vertical-align: top;\n",
       "    }\n",
       "\n",
       "    .dataframe thead th {\n",
       "        text-align: right;\n",
       "    }\n",
       "</style>\n",
       "<table border=\"1\" class=\"dataframe\">\n",
       "  <thead>\n",
       "    <tr style=\"text-align: right;\">\n",
       "      <th></th>\n",
       "      <th>Zipcode</th>\n",
       "      <th>Median Income</th>\n",
       "      <th>Counts Diabetes</th>\n",
       "      <th>geometry</th>\n",
       "    </tr>\n",
       "  </thead>\n",
       "  <tbody>\n",
       "    <tr>\n",
       "      <th>0</th>\n",
       "      <td>19102</td>\n",
       "      <td>84800.0</td>\n",
       "      <td>0.0000</td>\n",
       "      <td>POLYGON ((-75.16728099999999 39.95825899907105...</td>\n",
       "    </tr>\n",
       "    <tr>\n",
       "      <th>1</th>\n",
       "      <td>19103</td>\n",
       "      <td>78933.0</td>\n",
       "      <td>0.5980</td>\n",
       "      <td>POLYGON ((-75.18090899999999 39.95298199907108...</td>\n",
       "    </tr>\n",
       "    <tr>\n",
       "      <th>2</th>\n",
       "      <td>19104</td>\n",
       "      <td>27647.0</td>\n",
       "      <td>0.6768</td>\n",
       "      <td>POLYGON ((-75.21206899999999 39.97021099907098...</td>\n",
       "    </tr>\n",
       "    <tr>\n",
       "      <th>3</th>\n",
       "      <td>19106</td>\n",
       "      <td>112116.0</td>\n",
       "      <td>0.9344</td>\n",
       "      <td>(POLYGON ((-75.14433099999998 39.9298249990712...</td>\n",
       "    </tr>\n",
       "    <tr>\n",
       "      <th>4</th>\n",
       "      <td>19107</td>\n",
       "      <td>63548.0</td>\n",
       "      <td>3.4211</td>\n",
       "      <td>POLYGON ((-75.16402299999997 39.95162799907109...</td>\n",
       "    </tr>\n",
       "  </tbody>\n",
       "</table>\n",
       "</div>"
      ],
      "text/plain": [
       "  Zipcode  Median Income  Counts Diabetes  \\\n",
       "0   19102        84800.0           0.0000   \n",
       "1   19103        78933.0           0.5980   \n",
       "2   19104        27647.0           0.6768   \n",
       "3   19106       112116.0           0.9344   \n",
       "4   19107        63548.0           3.4211   \n",
       "\n",
       "                                            geometry  \n",
       "0  POLYGON ((-75.16728099999999 39.95825899907105...  \n",
       "1  POLYGON ((-75.18090899999999 39.95298199907108...  \n",
       "2  POLYGON ((-75.21206899999999 39.97021099907098...  \n",
       "3  (POLYGON ((-75.14433099999998 39.9298249990712...  \n",
       "4  POLYGON ((-75.16402299999997 39.95162799907109...  "
      ]
     },
     "execution_count": 3,
     "metadata": {},
     "output_type": "execute_result"
    }
   ],
   "source": [
    "diabetes2_geo_df=gpd.read_file('/Commjhub/jupyterhub/comm318_fall2019/alidadig/COMM318_Final_Project/data/Raw_Data/Diabetes files/SimplyAnalytics_Shapefiles_2019-12-04_03_12_54_d74b88e522bf3f67df6cb463b492384f.shp')\n",
    "diabetes2_geo_df=diabetes2_geo_df[['spatial_id', 'VALUE0', 'geometry']]\n",
    "diabetes2_geo_df.columns = ['zipcode', 'Counts Diabetes', 'Geometry']\n",
    "income_geo_df=gpd.read_file('/Commjhub/jupyterhub/comm318_fall2019/alidadig/COMM318_Final_Project/data/Raw_Data/Income files/SimplyAnalytics_Shapefiles_2019-12-03_05_13_16_89807a0551dabf581fad0dc3275f5cf9.shp')\n",
    "cleaned_income_df=income_geo_df[['spatial_id', 'VALUE0', 'geometry']]\n",
    "cleaned_income_df.columns = ['Zipcode', 'Median Income', 'geometry']\n",
    "Income_Diabetes=pd.concat([cleaned_income_df, diabetes2_geo_df], axis=1)\n",
    "Income_Diabetes=Income_Diabetes[['Zipcode', 'Median Income', 'Counts Diabetes', 'geometry']]\n",
    "Income_Diabetes.head()"
   ]
  },
  {
   "cell_type": "markdown",
   "metadata": {},
   "source": [
    "### Merging My Data"
   ]
  },
  {
   "cell_type": "markdown",
   "metadata": {},
   "source": [
    "Now, I want to combine the education dataset with the combined dataset for income and diabetes counts. The two datasets align perfectly by zipcode so I don't need to reorder the education level and income_diabetes dataset columns in order to merge them accurately. The Income_Diabetes_Education dataframe will be my combined dataset for median income level, diabetes counts, and education level for each zipcode. "
   ]
  },
  {
   "cell_type": "code",
   "execution_count": 4,
   "metadata": {},
   "outputs": [
    {
     "data": {
      "text/html": [
       "<div>\n",
       "<style scoped>\n",
       "    .dataframe tbody tr th:only-of-type {\n",
       "        vertical-align: middle;\n",
       "    }\n",
       "\n",
       "    .dataframe tbody tr th {\n",
       "        vertical-align: top;\n",
       "    }\n",
       "\n",
       "    .dataframe thead th {\n",
       "        text-align: right;\n",
       "    }\n",
       "</style>\n",
       "<table border=\"1\" class=\"dataframe\">\n",
       "  <thead>\n",
       "    <tr style=\"text-align: right;\">\n",
       "      <th></th>\n",
       "      <th>Zipcode</th>\n",
       "      <th>Median Income</th>\n",
       "      <th>Counts Diabetes</th>\n",
       "      <th>geometry</th>\n",
       "      <th>zipcode</th>\n",
       "      <th>Education Level</th>\n",
       "      <th>Geometry</th>\n",
       "    </tr>\n",
       "  </thead>\n",
       "  <tbody>\n",
       "    <tr>\n",
       "      <th>0</th>\n",
       "      <td>19102</td>\n",
       "      <td>84800.0</td>\n",
       "      <td>0.0000</td>\n",
       "      <td>POLYGON ((-75.16728099999999 39.95825899907105...</td>\n",
       "      <td>19102</td>\n",
       "      <td>2890.0</td>\n",
       "      <td>POLYGON ((-75.16728099999999 39.95825899907105...</td>\n",
       "    </tr>\n",
       "    <tr>\n",
       "      <th>1</th>\n",
       "      <td>19103</td>\n",
       "      <td>78933.0</td>\n",
       "      <td>0.5980</td>\n",
       "      <td>POLYGON ((-75.18090899999999 39.95298199907108...</td>\n",
       "      <td>19103</td>\n",
       "      <td>12146.0</td>\n",
       "      <td>POLYGON ((-75.18090899999999 39.95298199907108...</td>\n",
       "    </tr>\n",
       "    <tr>\n",
       "      <th>2</th>\n",
       "      <td>19104</td>\n",
       "      <td>27647.0</td>\n",
       "      <td>0.6768</td>\n",
       "      <td>POLYGON ((-75.21206899999999 39.97021099907098...</td>\n",
       "      <td>19104</td>\n",
       "      <td>6592.0</td>\n",
       "      <td>POLYGON ((-75.21206899999999 39.97021099907098...</td>\n",
       "    </tr>\n",
       "    <tr>\n",
       "      <th>3</th>\n",
       "      <td>19106</td>\n",
       "      <td>112116.0</td>\n",
       "      <td>0.9344</td>\n",
       "      <td>(POLYGON ((-75.14433099999998 39.9298249990712...</td>\n",
       "      <td>19106</td>\n",
       "      <td>5821.0</td>\n",
       "      <td>(POLYGON ((-75.14433099999998 39.9298249990712...</td>\n",
       "    </tr>\n",
       "    <tr>\n",
       "      <th>4</th>\n",
       "      <td>19107</td>\n",
       "      <td>63548.0</td>\n",
       "      <td>3.4211</td>\n",
       "      <td>POLYGON ((-75.16402299999997 39.95162799907109...</td>\n",
       "      <td>19107</td>\n",
       "      <td>11420.0</td>\n",
       "      <td>POLYGON ((-75.16402299999997 39.95162799907109...</td>\n",
       "    </tr>\n",
       "  </tbody>\n",
       "</table>\n",
       "</div>"
      ],
      "text/plain": [
       "  Zipcode  Median Income  Counts Diabetes  \\\n",
       "0   19102        84800.0           0.0000   \n",
       "1   19103        78933.0           0.5980   \n",
       "2   19104        27647.0           0.6768   \n",
       "3   19106       112116.0           0.9344   \n",
       "4   19107        63548.0           3.4211   \n",
       "\n",
       "                                            geometry zipcode  Education Level  \\\n",
       "0  POLYGON ((-75.16728099999999 39.95825899907105...   19102           2890.0   \n",
       "1  POLYGON ((-75.18090899999999 39.95298199907108...   19103          12146.0   \n",
       "2  POLYGON ((-75.21206899999999 39.97021099907098...   19104           6592.0   \n",
       "3  (POLYGON ((-75.14433099999998 39.9298249990712...   19106           5821.0   \n",
       "4  POLYGON ((-75.16402299999997 39.95162799907109...   19107          11420.0   \n",
       "\n",
       "                                            Geometry  \n",
       "0  POLYGON ((-75.16728099999999 39.95825899907105...  \n",
       "1  POLYGON ((-75.18090899999999 39.95298199907108...  \n",
       "2  POLYGON ((-75.21206899999999 39.97021099907098...  \n",
       "3  (POLYGON ((-75.14433099999998 39.9298249990712...  \n",
       "4  POLYGON ((-75.16402299999997 39.95162799907109...  "
      ]
     },
     "execution_count": 4,
     "metadata": {},
     "output_type": "execute_result"
    }
   ],
   "source": [
    "Income_Diabetes_Education=pd.concat([Income_Diabetes, education], axis=1)\n",
    "Income_Diabetes_Education.head()"
   ]
  },
  {
   "cell_type": "markdown",
   "metadata": {},
   "source": [
    "Now, I will rename the columns so they are easier to read and only have 1 geometry and zipcode column. "
   ]
  },
  {
   "cell_type": "code",
   "execution_count": 5,
   "metadata": {},
   "outputs": [
    {
     "data": {
      "text/html": [
       "<div>\n",
       "<style scoped>\n",
       "    .dataframe tbody tr th:only-of-type {\n",
       "        vertical-align: middle;\n",
       "    }\n",
       "\n",
       "    .dataframe tbody tr th {\n",
       "        vertical-align: top;\n",
       "    }\n",
       "\n",
       "    .dataframe thead th {\n",
       "        text-align: right;\n",
       "    }\n",
       "</style>\n",
       "<table border=\"1\" class=\"dataframe\">\n",
       "  <thead>\n",
       "    <tr style=\"text-align: right;\">\n",
       "      <th></th>\n",
       "      <th>Zipcode</th>\n",
       "      <th>Median Income</th>\n",
       "      <th>Counts Diabetes</th>\n",
       "      <th>Education Level</th>\n",
       "      <th>geometry</th>\n",
       "    </tr>\n",
       "  </thead>\n",
       "  <tbody>\n",
       "    <tr>\n",
       "      <th>0</th>\n",
       "      <td>19102</td>\n",
       "      <td>84800.0</td>\n",
       "      <td>0.0000</td>\n",
       "      <td>2890.0</td>\n",
       "      <td>POLYGON ((-75.16728099999999 39.95825899907105...</td>\n",
       "    </tr>\n",
       "    <tr>\n",
       "      <th>1</th>\n",
       "      <td>19103</td>\n",
       "      <td>78933.0</td>\n",
       "      <td>0.5980</td>\n",
       "      <td>12146.0</td>\n",
       "      <td>POLYGON ((-75.18090899999999 39.95298199907108...</td>\n",
       "    </tr>\n",
       "    <tr>\n",
       "      <th>2</th>\n",
       "      <td>19104</td>\n",
       "      <td>27647.0</td>\n",
       "      <td>0.6768</td>\n",
       "      <td>6592.0</td>\n",
       "      <td>POLYGON ((-75.21206899999999 39.97021099907098...</td>\n",
       "    </tr>\n",
       "    <tr>\n",
       "      <th>3</th>\n",
       "      <td>19106</td>\n",
       "      <td>112116.0</td>\n",
       "      <td>0.9344</td>\n",
       "      <td>5821.0</td>\n",
       "      <td>(POLYGON ((-75.14433099999998 39.9298249990712...</td>\n",
       "    </tr>\n",
       "    <tr>\n",
       "      <th>4</th>\n",
       "      <td>19107</td>\n",
       "      <td>63548.0</td>\n",
       "      <td>3.4211</td>\n",
       "      <td>11420.0</td>\n",
       "      <td>POLYGON ((-75.16402299999997 39.95162799907109...</td>\n",
       "    </tr>\n",
       "  </tbody>\n",
       "</table>\n",
       "</div>"
      ],
      "text/plain": [
       "  Zipcode  Median Income  Counts Diabetes  Education Level  \\\n",
       "0   19102        84800.0           0.0000           2890.0   \n",
       "1   19103        78933.0           0.5980          12146.0   \n",
       "2   19104        27647.0           0.6768           6592.0   \n",
       "3   19106       112116.0           0.9344           5821.0   \n",
       "4   19107        63548.0           3.4211          11420.0   \n",
       "\n",
       "                                            geometry  \n",
       "0  POLYGON ((-75.16728099999999 39.95825899907105...  \n",
       "1  POLYGON ((-75.18090899999999 39.95298199907108...  \n",
       "2  POLYGON ((-75.21206899999999 39.97021099907098...  \n",
       "3  (POLYGON ((-75.14433099999998 39.9298249990712...  \n",
       "4  POLYGON ((-75.16402299999997 39.95162799907109...  "
      ]
     },
     "execution_count": 5,
     "metadata": {},
     "output_type": "execute_result"
    }
   ],
   "source": [
    "Income_Diabetes_Education=Income_Diabetes_Education[['Zipcode', 'Median Income', 'Counts Diabetes', 'Education Level', 'geometry']]\n",
    "Income_Diabetes_Education.head()"
   ]
  },
  {
   "cell_type": "markdown",
   "metadata": {},
   "source": [
    "### Graphing My Merged Data"
   ]
  },
  {
   "cell_type": "markdown",
   "metadata": {},
   "source": [
    "I now want to graph the merged dataset by plotting Counts Diabetes and Median Income with Education level to see the correlation. "
   ]
  },
  {
   "cell_type": "code",
   "execution_count": 6,
   "metadata": {},
   "outputs": [
    {
     "data": {
      "image/png": "[encoded data removed]",
      "text/plain": [
       "<Figure size 360x360 with 1 Axes>"
      ]
     },
     "metadata": {
      "needs_background": "light"
     },
     "output_type": "display_data"
    }
   ],
   "source": [
    "fig2 = sns.lmplot(x='Median Income', y='Education Level', data=Income_Diabetes_Education)"
   ]
  },
  {
   "cell_type": "code",
   "execution_count": 7,
   "metadata": {},
   "outputs": [],
   "source": [
    "fig2.savefig(\"Income Diabetes Education Graph.png\")"
   ]
  },
  {
   "cell_type": "code",
   "execution_count": 8,
   "metadata": {},
   "outputs": [],
   "source": [
    "fig = px.scatter(Income_Diabetes_Education,x='Median Income', y='Counts Diabetes', \n",
    "           color='Zipcode', \n",
    "           size=\"Education Level\", size_max=50,\n",
    "           hover_name=\"Zipcode\"\n",
    "          )"
   ]
  },
  {
   "cell_type": "code",
   "execution_count": 9,
   "metadata": {},
   "outputs": [],
   "source": [
    "plotly.io.write_html(fig, file='Income Diabetes Education Level.html')"
   ]
  },
  {
   "cell_type": "markdown",
   "metadata": {},
   "source": [
    "The above saves my figure as html for my final presentation."
   ]
  },
  {
   "cell_type": "markdown",
   "metadata": {},
   "source": [
    "### About This Data"
   ]
  },
  {
   "cell_type": "markdown",
   "metadata": {},
   "source": [
    " As income increases and diabetes counts decreases, the size of the bubbles grew much larger. \n",
    "Education level is a much stronger link between lower income and higher diabetes than access to heatlhy food stores is."
   ]
  }
 ],
 "metadata": {
  "kernelspec": {
   "display_name": "Python 3",
   "language": "python",
   "name": "python3"
  },
  "language_info": {
   "codemirror_mode": {
    "name": "ipython",
    "version": 3
   },
   "file_extension": ".py",
   "mimetype": "text/x-python",
   "name": "python",
   "nbconvert_exporter": "python",
   "pygments_lexer": "ipython3",
   "version": "3.7.3"
  }
 },
 "nbformat": 4,
 "nbformat_minor": 2
}
