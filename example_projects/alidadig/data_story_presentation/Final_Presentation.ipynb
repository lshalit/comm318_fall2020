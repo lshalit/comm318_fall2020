{
 "cells": [
  {
   "cell_type": "markdown",
   "metadata": {},
   "source": [
    "# Food Access and Diabetes in Lower Income Philadelphia Areas\n",
    "***Analyzing the Role Food Access Plays in Mediating the Income-Diabetes Relationship***\n",
    "\n",
    "<font color=pink>*Alida DiGiovanni, Comm318, 12/22/2019*</font>\n",
    "\n"
   ]
  },
  {
   "cell_type": "markdown",
   "metadata": {},
   "source": [
    "### Take a Look at the Income-Diabetes Relationship\n",
    "\n",
    "<font color=purple>There is a clear correlation between **Median Income** and **Counts Diabetes** (reported counts of diabetes in last year) in Philadelphia areas by **Zipcode**.</font>\n",
    "\n",
    "\n",
    "<font color=purple>As **Median Income decreases, Counts Diabetes increases.**</font>\n"
   ]
  },
  {
   "cell_type": "markdown",
   "metadata": {},
   "source": [
    "![](Income_Diabetes_Correlational_Graph.png)"
   ]
  },
  {
   "cell_type": "markdown",
   "metadata": {},
   "source": [
    "### **Why Is This?**\n",
    "\n",
    "<font color=purple>Could varying levels of **access to healthy and unhealthy food stores** help explain this correlation between lower income and higher counts of diabetes?\n",
    "\n",
    "\n",
    "* For example, do lower income areas have **fewer healthy stores**\n",
    "* Or is the **ratio of healthy to unhealthy stores significantly lower** in lower income areas?</font>"
   ]
  },
  {
   "cell_type": "markdown",
   "metadata": {},
   "source": [
    "### **Healthy Store Locations**\n",
    "<font color=purple>First, take a look at **farmers markets and healthy corner stores** located in Philadelphia.</font>"
   ]
  },
  {
   "cell_type": "code",
   "execution_count": 1,
   "metadata": {
    "hide_input": true,
    "scrolled": true
   },
   "outputs": [
    {
     "data": {
      "text/html": [
       "\n",
       "        <iframe\n",
       "            width=\"1000\"\n",
       "            height=\"600\"\n",
       "            src=\"All_Healthy_Food_Locations_Interactive_Map.html\"\n",
       "            frameborder=\"0\"\n",
       "            allowfullscreen\n",
       "        ></iframe>\n",
       "        "
      ],
      "text/plain": [
       "<IPython.lib.display.IFrame at 0x7f88d8044f98>"
      ]
     },
     "execution_count": 1,
     "metadata": {},
     "output_type": "execute_result"
    }
   ],
   "source": [
    "from IPython.display import IFrame\n",
    "IFrame('All_Healthy_Food_Locations_Interactive_Map.html', \n",
    "       width=1000, height=600)"
   ]
  },
  {
   "cell_type": "markdown",
   "metadata": {},
   "source": [
    "### **Unhealthy Store Locations**\n",
    "\n",
    "<font color=purple>Now, take a look at **convenience stores**, such as Wawa or 7-Eleven, located in Philadelphia.</font>\n"
   ]
  },
  {
   "cell_type": "code",
   "execution_count": 2,
   "metadata": {
    "hide_input": true,
    "scrolled": true
   },
   "outputs": [
    {
     "data": {
      "text/html": [
       "\n",
       "        <iframe\n",
       "            width=\"700\"\n",
       "            height=\"350\"\n",
       "            src=\"Convenience%20Store%20Locations%20Interactive%20Map.html\"\n",
       "            frameborder=\"0\"\n",
       "            allowfullscreen\n",
       "        ></iframe>\n",
       "        "
      ],
      "text/plain": [
       "<IPython.lib.display.IFrame at 0x7f88d8119940>"
      ]
     },
     "execution_count": 2,
     "metadata": {},
     "output_type": "execute_result"
    }
   ],
   "source": [
    "IFrame('Convenience%20Store%20Locations%20Interactive%20Map.html', \n",
    "       width=700, height=350)"
   ]
  },
  {
   "cell_type": "markdown",
   "metadata": {},
   "source": [
    "### **Comparing Healthy to Unhealthy Locations**\n",
    "\n",
    "<font color=purple>There is a clear **domination of convenience stores over healthy store** locations in Philadelphia.</font> "
   ]
  },
  {
   "cell_type": "markdown",
   "metadata": {},
   "source": [
    "![](All_Food_Locations_Dot_Map.png)"
   ]
  },
  {
   "cell_type": "markdown",
   "metadata": {},
   "source": [
    "### **Unhealthy Store Locations and Income_Diabetes Correlation**\n",
    "\n",
    "<font color=purple>In fact, as **Income decreases and Diabetes Counts increases**, the number of **convenience stores also increases significantly**.</font>"
   ]
  },
  {
   "cell_type": "code",
   "execution_count": 3,
   "metadata": {
    "hide_input": true,
    "scrolled": true
   },
   "outputs": [
    {
     "data": {
      "text/html": [
       "\n",
       "        <iframe\n",
       "            width=\"700\"\n",
       "            height=\"600\"\n",
       "            src=\"Income%20Diabetes%20Unhealthy%20Store%20Counts.html\"\n",
       "            frameborder=\"0\"\n",
       "            allowfullscreen\n",
       "        ></iframe>\n",
       "        "
      ],
      "text/plain": [
       "<IPython.lib.display.IFrame at 0x7f88d806e4e0>"
      ]
     },
     "execution_count": 3,
     "metadata": {},
     "output_type": "execute_result"
    }
   ],
   "source": [
    "IFrame('Income%20Diabetes%20Unhealthy%20Store%20Counts.html', width=700, height=600)"
   ]
  },
  {
   "cell_type": "markdown",
   "metadata": {},
   "source": [
    "### **Healthy Store Locations and Income_Diabetes Correlation**\n",
    "\n",
    "<font color=purple>However, it seems that as **Income decreases and Diabetes Counts increases**, the number of **healthy stores also increases, as well**. \n",
    "\n",
    "It seems the number of locations of healthy food may **not** be a significant factor in explaining the correlation between lower Income and higher Diabetes Counts.</font> \n"
   ]
  },
  {
   "cell_type": "code",
   "execution_count": 4,
   "metadata": {
    "hide_input": true,
    "scrolled": true
   },
   "outputs": [
    {
     "data": {
      "text/html": [
       "\n",
       "        <iframe\n",
       "            width=\"700\"\n",
       "            height=\"600\"\n",
       "            src=\"Income%20Diabetes%20Healthy%20Store%20Counts.html\"\n",
       "            frameborder=\"0\"\n",
       "            allowfullscreen\n",
       "        ></iframe>\n",
       "        "
      ],
      "text/plain": [
       "<IPython.lib.display.IFrame at 0x7f88d806e710>"
      ]
     },
     "execution_count": 4,
     "metadata": {},
     "output_type": "execute_result"
    }
   ],
   "source": [
    "IFrame('Income%20Diabetes%20Healthy%20Store%20Counts.html', width=700, height=600)"
   ]
  },
  {
   "cell_type": "markdown",
   "metadata": {},
   "source": [
    "### **Healthy to Unhealthy Store Ratio and Income_Diabetes Correlation**\n",
    "\n",
    "<font color=purple>It also seems that as **Income decreases and Diabetes Counts increases**, the **ratio of healthy to unhealthy stores also increases.** \n",
    "\n",
    "So, the relative dominance of unhealthy over healthy stores is also **not** a factor in explaining the correlation between lower Income and higher Diabetes Counts.</font> \n"
   ]
  },
  {
   "cell_type": "code",
   "execution_count": 5,
   "metadata": {
    "hide_input": true,
    "scrolled": true
   },
   "outputs": [
    {
     "data": {
      "text/html": [
       "\n",
       "        <iframe\n",
       "            width=\"700\"\n",
       "            height=\"600\"\n",
       "            src=\"Income%20Diabetes%20Ratio%20of%20Store%20Counts.html\"\n",
       "            frameborder=\"0\"\n",
       "            allowfullscreen\n",
       "        ></iframe>\n",
       "        "
      ],
      "text/plain": [
       "<IPython.lib.display.IFrame at 0x7f88d806e978>"
      ]
     },
     "execution_count": 5,
     "metadata": {},
     "output_type": "execute_result"
    }
   ],
   "source": [
    "IFrame('Income%20Diabetes%20Ratio%20of%20Store%20Counts.html', width=700, height=600)"
   ]
  },
  {
   "cell_type": "markdown",
   "metadata": {},
   "source": [
    "![](Ratio_and_Median_Income_Graph.png)"
   ]
  },
  {
   "cell_type": "markdown",
   "metadata": {},
   "source": [
    "### If access to healthy foods is not a significant mediating factor in the Income-Diabetes relationships, what else can offer more insight?\n",
    "\n",
    "<font color=purple>It turns out, **Education level** (or the number of residents to achieve a college degree or Masters) is a strong prediction of higher Diabetes Counts in areas with lower Median Income.</font>"
   ]
  },
  {
   "cell_type": "markdown",
   "metadata": {},
   "source": [
    "![](Income_Education_Graph.png)"
   ]
  },
  {
   "cell_type": "code",
   "execution_count": 6,
   "metadata": {
    "hide_input": true,
    "scrolled": true
   },
   "outputs": [
    {
     "data": {
      "text/html": [
       "\n",
       "        <iframe\n",
       "            width=\"700\"\n",
       "            height=\"600\"\n",
       "            src=\"Income%20Diabetes%20Education%20Level.html\"\n",
       "            frameborder=\"0\"\n",
       "            allowfullscreen\n",
       "        ></iframe>\n",
       "        "
      ],
      "text/plain": [
       "<IPython.lib.display.IFrame at 0x7f88d806ebe0>"
      ]
     },
     "execution_count": 6,
     "metadata": {},
     "output_type": "execute_result"
    }
   ],
   "source": [
    "IFrame('Income%20Diabetes%20Education%20Level.html', width=700, height=600)"
   ]
  },
  {
   "cell_type": "markdown",
   "metadata": {},
   "source": [
    "<font color=purple>Some variables that have been shown to explain why Education Level predicts higher Diabetes Counts for lower Income areas are: body mass index, alcohol consumption, physical activity and smoking status</font> (Steele CJ, Schöttker B, Marshall AH, et al Education achievement and type 2 diabetes—what mediates the relationship in older adults? Data from the ESTHER study: a population-based cohort studyBMJ Open 2017;7:e013569. doi: 10.1136/bmjopen-2016-013569). "
   ]
  }
 ],
 "metadata": {
  "kernelspec": {
   "display_name": "Python 3",
   "language": "python",
   "name": "python3"
  },
  "language_info": {
   "codemirror_mode": {
    "name": "ipython",
    "version": 3
   },
   "file_extension": ".py",
   "mimetype": "text/x-python",
   "name": "python",
   "nbconvert_exporter": "python",
   "pygments_lexer": "ipython3",
   "version": "3.7.3"
  }
 },
 "nbformat": 4,
 "nbformat_minor": 2
}
