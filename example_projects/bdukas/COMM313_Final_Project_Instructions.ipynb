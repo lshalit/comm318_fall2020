{
 "cells": [
  {
   "cell_type": "markdown",
   "metadata": {},
   "source": [
    "# COMM318 Final Project\n",
    "\n",
    "### Your final project should have three components:\n",
    "\n",
    "#### 1. Your data\n",
    "\n",
    "* Organize the various data files you have used in your analysis in the `data` folder.\n",
    "\n",
    "\n",
    "* You can use sub-folders if this helps with the organization. \n",
    "    * For example, you might have:\n",
    "        * an `orig` or `raw` folder for original data your downloaded from `data.gov`\n",
    "        * a `clean` or `processed` folder that contains the cleaned up, selected and/or merged datasheets you created during your data analysis.\n",
    "\n",
    "\n",
    "#### 2. Analysis notebooks\n",
    "\n",
    "* A series of Jupyter notebooks that contain all the data manipulation, exploration, description and analyses you have carried out on the various datasets you have chosen to use. \n",
    "\n",
    "\n",
    "* These notebooks should be well organized and documented using Markdown cells around your code cells. \n",
    "    * __DON'T EXPECT THE CODE TO SPEAK FOR ITSELF__ - It is important to provide comments and documentation around the code you use to do your analysis. Notebooks and Markdown cells make this kind of programming easier to do and much better for sharing with others.\n",
    "\n",
    "\n",
    "* Use a Markdown document called `README.md` to describe and link to all the notebooks in this analysis folder. \n",
    "\n",
    "\n",
    "\n",
    "#### 3. Your data story \n",
    "\n",
    "* This is the creative output that tells the main story that you have selected out of all of your analysis.\n",
    "\n",
    "\n",
    "* It is up to you to decide how you want to present your data story - so __BE CREATIVE!__. \n",
    "\n",
    "\n",
    "* But possible options could be:\n",
    "    * A data journalism article (like those we've seen from NYTimes, Guardian, LATimes, etc.)\n",
    "    * A blog post (like those on medium.com)\n",
    "    * A slide show presentation (jupyter notebooks can be used to make reveal.js web presentations)\n",
    "    * A screencast style video (e.g. the hand drawing on a whiteboard style presentation)\n",
    "    * Other kinds of video, e.g. vlog, story video etc.\n",
    "    * A poster\n",
    "    \n",
    "    "
   ]
  },
  {
   "cell_type": "markdown",
   "metadata": {},
   "source": [
    "---"
   ]
  },
  {
   "cell_type": "markdown",
   "metadata": {},
   "source": [
    "### Tasks for lab session 11/11/19\n",
    "\n",
    "\n",
    "#### Upload and copy data\n",
    "\n",
    "1. Upload the datasheets you have found so far to the data folder.\n",
    "2. If you already have the data uploaded in another folder you can:\n",
    "    1. use the Jupyter move/duplicate function in the Jupyter file browser\n",
    "    2. use the `!cp SOURCE DEST` shell command:\n",
    "        * In a code cell you can run something like:\n",
    "          ```\n",
    "          !cp ../Assignment_3/data/my_data.csv data\n",
    "          ```\n",
    "          * The `!cp` means run the `cp` (i.e. copy) command\n",
    "          * The `..` means move up one level of folders\n",
    "          * The `/` indicates a folder \n",
    "          * So `../Assignment_3/data` means go up a level from the current folder (which is `COMM313_Final_Project`) then into the `Assignment_3` folder and then the `data` folder within that folder.\n",
    "          * Then you can find the data file which might be called something like `my_data.csv`\n",
    "          * The third part is the location you want to copy this file to, here it is the `data` folder in the current folder (which is `COMM313_Final_Project`),\n",
    "          \n",
    "          \n",
    "3. Update the `README.md` file to list these files\n",
    "\n",
    "\n",
    "* If you have a data file that is too large to upload talk to us and we can maybe help split it up into smaller chunks.\n",
    "\n",
    "\n",
    "#### Start your analysis in an notebook\n",
    "\n",
    "* If you already have started doing some investigative analysis elsewhere you can copy these notebooks into the `data_analysis` folder.\n",
    "\n",
    "\n"
   ]
  },
  {
   "cell_type": "code",
   "execution_count": null,
   "metadata": {},
   "outputs": [],
   "source": []
  }
 ],
 "metadata": {
  "kernelspec": {
   "display_name": "Python 3",
   "language": "python",
   "name": "python3"
  },
  "language_info": {
   "codemirror_mode": {
    "name": "ipython",
    "version": 3
   },
   "file_extension": ".py",
   "mimetype": "text/x-python",
   "name": "python",
   "nbconvert_exporter": "python",
   "pygments_lexer": "ipython3",
   "version": "3.7.3"
  }
 },
 "nbformat": 4,
 "nbformat_minor": 2
}
