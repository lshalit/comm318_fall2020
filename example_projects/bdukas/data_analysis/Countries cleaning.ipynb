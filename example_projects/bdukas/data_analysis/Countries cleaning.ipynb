{
 "cells": [
  {
   "cell_type": "markdown",
   "metadata": {},
   "source": [
    "This notebook was created solely to rename some countries in my geojson file."
   ]
  },
  {
   "cell_type": "code",
   "execution_count": 1,
   "metadata": {},
   "outputs": [],
   "source": [
    "%matplotlib inline\n",
    "import warnings\n",
    "warnings.filterwarnings('ignore')\n",
    "import matplotlib.pyplot as plt\n",
    "import pandas as pd\n",
    "import geopandas as gpd\n",
    "import json"
   ]
  },
  {
   "cell_type": "code",
   "execution_count": 2,
   "metadata": {},
   "outputs": [],
   "source": [
    "countries_df = gpd.read_file('../data/Raw/countries.geojson')"
   ]
  },
  {
   "cell_type": "code",
   "execution_count": 3,
   "metadata": {},
   "outputs": [
    {
     "data": {
      "text/plain": [
       "array(['Aruba', 'Afghanistan', 'Angola', 'Anguilla', 'Albania', 'Aland',\n",
       "       'Andorra', 'United Arab Emirates', 'Argentina', 'Armenia',\n",
       "       'American Samoa', 'Antarctica', 'Ashmore and Cartier Islands',\n",
       "       'French Southern and Antarctic Lands', 'Antigua and Barbuda',\n",
       "       'Australia', 'Austria', 'Azerbaijan', 'Burundi', 'Belgium',\n",
       "       'Benin', 'Burkina Faso', 'Bangladesh', 'Bulgaria', 'Bahrain',\n",
       "       'The Bahamas', 'Bosnia and Herzegovina',\n",
       "       'Bajo Nuevo Bank (Petrel Is.)', 'Saint Barthelemy', 'Belarus',\n",
       "       'Belize', 'Bermuda', 'Bolivia', 'Brazil', 'Barbados', 'Brunei',\n",
       "       'Bhutan', 'Botswana', 'Central African Republic', 'Canada',\n",
       "       'Switzerland', 'Chile', 'China', 'Ivory Coast',\n",
       "       'Clipperton Island', 'Cameroon', 'Cyprus No Mans Area',\n",
       "       'Democratic Republic of the Congo', 'Republic of Congo',\n",
       "       'Cook Islands', 'Colombia', 'Comoros', 'Cape Verde', 'Costa Rica',\n",
       "       'Coral Sea Islands', 'Cuba', 'Curaçao', 'Cayman Islands',\n",
       "       'Northern Cyprus', 'Cyprus', 'Czech Republic', 'Germany',\n",
       "       'Djibouti', 'Dominica', 'Denmark', 'Dominican Republic', 'Algeria',\n",
       "       'Ecuador', 'Egypt', 'Eritrea', 'Dhekelia Sovereign Base Area',\n",
       "       'Spain', 'Estonia', 'Ethiopia', 'Finland', 'Fiji',\n",
       "       'Falkland Islands', 'France', 'Faroe Islands',\n",
       "       'Federated States of Micronesia', 'Gabon', 'United Kingdom',\n",
       "       'Georgia', 'Guernsey', 'Ghana', 'Gibraltar', 'Guinea', 'Gambia',\n",
       "       'Guinea Bissau', 'Equatorial Guinea', 'Greece', 'Grenada',\n",
       "       'Greenland', 'Guatemala', 'Guam', 'Guyana', 'Hong Kong S.A.R.',\n",
       "       'Heard Island and McDonald Islands', 'Honduras', 'Croatia',\n",
       "       'Haiti', 'Hungary', 'Indonesia', 'Isle of Man', 'India',\n",
       "       'Indian Ocean Territories', 'British Indian Ocean Territory',\n",
       "       'Ireland', 'Iran', 'Iraq', 'Iceland', 'Israel', 'Italy', 'Jamaica',\n",
       "       'Jersey', 'Jordan', 'Japan', 'Baykonur Cosmodrome',\n",
       "       'Siachen Glacier', 'Kazakhstan', 'Kenya', 'Kyrgyzstan', 'Cambodia',\n",
       "       'Kiribati', 'Saint Kitts and Nevis', 'South Korea', 'Kosovo',\n",
       "       'Kuwait', 'Laos', 'Lebanon', 'Liberia', 'Libya', 'Saint Lucia',\n",
       "       'Liechtenstein', 'Sri Lanka', 'Lesotho', 'Lithuania', 'Luxembourg',\n",
       "       'Latvia', 'Macao S.A.R', 'Saint Martin', 'Morocco', 'Monaco',\n",
       "       'Moldova', 'Madagascar', 'Maldives', 'Mexico', 'Marshall Islands',\n",
       "       'Macedonia', 'Mali', 'Malta', 'Myanmar', 'Montenegro', 'Mongolia',\n",
       "       'Northern Mariana Islands', 'Mozambique', 'Mauritania',\n",
       "       'Montserrat', 'Mauritius', 'Malawi', 'Malaysia', 'Namibia',\n",
       "       'New Caledonia', 'Niger', 'Norfolk Island', 'Nigeria', 'Nicaragua',\n",
       "       'Niue', 'Netherlands', 'Norway', 'Nepal', 'Nauru', 'New Zealand',\n",
       "       'Oman', 'Pakistan', 'Panama', 'Pitcairn Islands', 'Peru',\n",
       "       'Spratly Islands', 'Philippines', 'Palau', 'Papua New Guinea',\n",
       "       'Poland', 'Puerto Rico', 'North Korea', 'Portugal', 'Paraguay',\n",
       "       'Palestine', 'French Polynesia', 'Qatar', 'Romania', 'Russia',\n",
       "       'Rwanda', 'Western Sahara', 'Saudi Arabia', 'Scarborough Reef',\n",
       "       'Sudan', 'South Sudan', 'Senegal', 'Serranilla Bank', 'Singapore',\n",
       "       'South Georgia and South Sandwich Islands', 'Saint Helena',\n",
       "       'Solomon Islands', 'Sierra Leone', 'El Salvador', 'San Marino',\n",
       "       'Somaliland', 'Somalia', 'Saint Pierre and Miquelon',\n",
       "       'Republic of Serbia', 'Sao Tome and Principe', 'Suriname',\n",
       "       'Slovakia', 'Slovenia', 'Sweden', 'Swaziland', 'Sint Maarten',\n",
       "       'Seychelles', 'Syria', 'Turks and Caicos Islands', 'Chad', 'Togo',\n",
       "       'Thailand', 'Tajikistan', 'Turkmenistan', 'East Timor', 'Tonga',\n",
       "       'Trinidad and Tobago', 'Tunisia', 'Turkey', 'Tuvalu', 'Taiwan',\n",
       "       'United Republic of Tanzania', 'Uganda', 'Ukraine',\n",
       "       'United States Minor Outlying Islands', 'Uruguay',\n",
       "       'United States of America', 'US Naval Base Guantanamo Bay',\n",
       "       'Uzbekistan', 'Vatican', 'Saint Vincent and the Grenadines',\n",
       "       'Venezuela', 'British Virgin Islands',\n",
       "       'United States Virgin Islands', 'Vietnam', 'Vanuatu',\n",
       "       'Wallis and Futuna', 'Akrotiri Sovereign Base Area', 'Samoa',\n",
       "       'Yemen', 'South Africa', 'Zambia', 'Zimbabwe'], dtype=object)"
      ]
     },
     "execution_count": 3,
     "metadata": {},
     "output_type": "execute_result"
    }
   ],
   "source": [
    "countries_df['ADMIN'].unique()"
   ]
  },
  {
   "cell_type": "code",
   "execution_count": 5,
   "metadata": {},
   "outputs": [],
   "source": [
    "countries_df['ADMIN'] = countries_df['ADMIN'].replace({'United States of America':'United States', 'Ivory Coast':\"Cote d'Ivoire\", 'United Republic of Tanzania':'Tanzania', 'Federated States of Micronesia':'Micronesia (country)', 'Republic of Serbia':'Serbia', 'Democratic Republic of the Congo':'Congo'})\n"
   ]
  },
  {
   "cell_type": "markdown",
   "metadata": {},
   "source": [
    "I then saved the cleaned data to a CSV."
   ]
  },
  {
   "cell_type": "code",
   "execution_count": 15,
   "metadata": {},
   "outputs": [],
   "source": [
    "countries_df.to_csv('../data/Cleaned/countries.geojson')"
   ]
  },
  {
   "cell_type": "code",
   "execution_count": null,
   "metadata": {},
   "outputs": [],
   "source": []
  }
 ],
 "metadata": {
  "kernelspec": {
   "display_name": "Python 3",
   "language": "python",
   "name": "python3"
  },
  "language_info": {
   "codemirror_mode": {
    "name": "ipython",
    "version": 3
   },
   "file_extension": ".py",
   "mimetype": "text/x-python",
   "name": "python",
   "nbconvert_exporter": "python",
   "pygments_lexer": "ipython3",
   "version": "3.7.3"
  }
 },
 "nbformat": 4,
 "nbformat_minor": 2
}
