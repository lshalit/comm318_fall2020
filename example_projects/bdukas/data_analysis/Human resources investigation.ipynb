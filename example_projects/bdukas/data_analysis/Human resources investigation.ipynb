{
 "cells": [
  {
   "cell_type": "code",
   "execution_count": 1,
   "metadata": {},
   "outputs": [],
   "source": [
    "%matplotlib inline\n",
    "import warnings\n",
    "warnings.simplefilter('ignore')\n",
    "import pandas as pd \n",
    "import matplotlib.pyplot as plt"
   ]
  },
  {
   "cell_type": "markdown",
   "metadata": {},
   "source": [
    "I imported my human resources dataset and ran some initial investigations."
   ]
  },
  {
   "cell_type": "code",
   "execution_count": 2,
   "metadata": {},
   "outputs": [],
   "source": [
    "hr_df = pd.read_csv('../data/Raw/human_resources.csv')"
   ]
  },
  {
   "cell_type": "code",
   "execution_count": 3,
   "metadata": {},
   "outputs": [
    {
     "data": {
      "text/plain": [
       "154"
      ]
     },
     "execution_count": 3,
     "metadata": {},
     "output_type": "execute_result"
    }
   ],
   "source": [
    "hr_df['Country'].nunique()"
   ]
  },
  {
   "cell_type": "code",
   "execution_count": 4,
   "metadata": {
    "scrolled": true
   },
   "outputs": [
    {
     "data": {
      "text/plain": [
       "array(['Afghanistan', 'Albania', 'Angola', 'Antigua and Barbuda',\n",
       "       'Argentina', 'Armenia', 'Australia', 'Azerbaijan', 'Bahrain',\n",
       "       'Bangladesh', 'Barbados', 'Belarus', 'Belgium', 'Belize', 'Bhutan',\n",
       "       'Bolivia (Plurinational State of)', 'Bosnia and Herzegovina',\n",
       "       'Brazil', 'Brunei Darussalam', 'Bulgaria', 'Burkina Faso',\n",
       "       'Burundi', 'Cambodia', 'Canada', 'Central African Republic',\n",
       "       'Chad', 'Chile', 'China', 'Colombia', 'Comoros', 'Congo',\n",
       "       'Cook Islands', 'Costa Rica', \"Côte d'Ivoire\", 'Croatia', 'Cuba',\n",
       "       'Cyprus', 'Czechia', 'Dominican Republic', 'Ecuador', 'Egypt',\n",
       "       'El Salvador', 'Equatorial Guinea', 'Eritrea', 'Estonia',\n",
       "       'Eswatini', 'Ethiopia', 'Fiji', 'Finland', 'France', 'Gabon',\n",
       "       'Gambia', 'Georgia', 'Germany', 'Ghana', 'Greece', 'Grenada',\n",
       "       'Guatemala', 'Guinea', 'Guinea-Bissau', 'Guyana', 'Haiti',\n",
       "       'Honduras', 'Hungary', 'India', 'Indonesia',\n",
       "       'Iran (Islamic Republic of)', 'Iraq', 'Israel', 'Italy', 'Jamaica',\n",
       "       'Japan', 'Jordan', 'Kenya', 'Kiribati', 'Kyrgyzstan', 'Latvia',\n",
       "       'Lebanon', 'Liberia', 'Lithuania', 'Luxembourg', 'Madagascar',\n",
       "       'Malaysia', 'Maldives', 'Mali', 'Marshall Islands', 'Mauritania',\n",
       "       'Mauritius', 'Mexico', 'Monaco', 'Mongolia', 'Montenegro',\n",
       "       'Morocco', 'Mozambique', 'Myanmar', 'Namibia', 'Nauru', 'Nepal',\n",
       "       'Netherlands', 'New Zealand', 'Nicaragua', 'Niger', 'Norway',\n",
       "       'Oman', 'Panama', 'Peru', 'Philippines', 'Poland', 'Qatar',\n",
       "       'Republic of Korea', 'Republic of Moldova', 'Romania',\n",
       "       'Russian Federation', 'Rwanda', 'Saint Kitts and Nevis',\n",
       "       'Saint Lucia', 'Saint Vincent and the Grenadines', 'Samoa',\n",
       "       'Sao Tome and Principe', 'Saudi Arabia', 'Senegal', 'Serbia',\n",
       "       'Seychelles', 'Sierra Leone', 'Singapore', 'Slovenia',\n",
       "       'South Africa', 'South Sudan', 'Spain', 'Sri Lanka', 'Sudan',\n",
       "       'Suriname', 'Sweden', 'Switzerland', 'Syrian Arab Republic',\n",
       "       'Tajikistan', 'Thailand', 'Republic of North Macedonia',\n",
       "       'Timor-Leste', 'Togo', 'Tonga', 'Tunisia', 'Turkey', 'Uganda',\n",
       "       'Ukraine', 'United Arab Emirates', 'United Republic of Tanzania',\n",
       "       'United States of America', 'Uruguay', 'Uzbekistan', 'Vanuatu',\n",
       "       'Yemen', 'Zambia', 'Zimbabwe'], dtype=object)"
      ]
     },
     "execution_count": 4,
     "metadata": {},
     "output_type": "execute_result"
    }
   ],
   "source": [
    "hr_df['Country'].unique()"
   ]
  },
  {
   "cell_type": "markdown",
   "metadata": {},
   "source": [
    "Upon realizing that many of the country names differed from my other datasets, I renamed the countries so that in the future they will match with those dataset."
   ]
  },
  {
   "cell_type": "code",
   "execution_count": 5,
   "metadata": {},
   "outputs": [],
   "source": [
    "hr_df['Country'] = hr_df['Country'].replace({'Bolivia (Plurinational State of)':'Bolivia', \n",
    "                      'Brunei Darussalam':'Brunei', 'Cabo Verde':'Cape Verde', 'Côte d’Ivoire':\"Cote d'Ivoire\",\n",
    "                            'Czechia':'Czech Republic', \"Democratic People's Republic of Korea\":'North Korea'})"
   ]
  },
  {
   "cell_type": "code",
   "execution_count": 6,
   "metadata": {},
   "outputs": [],
   "source": [
    "hr_df['Country'] = hr_df['Country'].replace({'Eswatini':'Swaziland', 'Iran (Islamic Republic of)':'Iran',\n",
    "                                      \"Lao People's Democratic Republic\":'Laos', 'Micronesia (Federated States of)':'Micronesia (country)',\n",
    "                                      'Republic of Korea':'South Korea', 'Republic of Moldova':'Moldova',\n",
    "                                       'Russian Federation':'Russia'})"
   ]
  },
  {
   "cell_type": "code",
   "execution_count": 7,
   "metadata": {},
   "outputs": [],
   "source": [
    "hr_df['Country'] = hr_df['Country'].replace({'State of Palestine':'Palestine', 'Syrian Arab Republic':'Syria',\n",
    "                                      'Timor-Leste':'Timor', 'United Kingdom of Great Britain and Northern Ireland':'United Kingdom',\n",
    "                                      'United Republic of Tanzania':'Tanzania', 'United States of America':'United States',\n",
    "                                      'Venezuela (Bolivarian Republic of)':'Venezuela', 'Viet Nam':'Vietnam'})\n",
    "    "
   ]
  },
  {
   "cell_type": "markdown",
   "metadata": {},
   "source": [
    "I then imported the continents dataset and merged it with the disorders dataset."
   ]
  },
  {
   "cell_type": "code",
   "execution_count": 8,
   "metadata": {},
   "outputs": [],
   "source": [
    "continents_df = pd.read_csv('../data/Raw/countries_continents2.csv')"
   ]
  },
  {
   "cell_type": "code",
   "execution_count": 9,
   "metadata": {},
   "outputs": [
    {
     "data": {
      "text/html": [
       "<div>\n",
       "<style scoped>\n",
       "    .dataframe tbody tr th:only-of-type {\n",
       "        vertical-align: middle;\n",
       "    }\n",
       "\n",
       "    .dataframe tbody tr th {\n",
       "        vertical-align: top;\n",
       "    }\n",
       "\n",
       "    .dataframe thead th {\n",
       "        text-align: right;\n",
       "    }\n",
       "</style>\n",
       "<table border=\"1\" class=\"dataframe\">\n",
       "  <thead>\n",
       "    <tr style=\"text-align: right;\">\n",
       "      <th></th>\n",
       "      <th>Unnamed: 0</th>\n",
       "      <th>Country</th>\n",
       "      <th>Region</th>\n",
       "      <th>Continent</th>\n",
       "    </tr>\n",
       "  </thead>\n",
       "  <tbody>\n",
       "    <tr>\n",
       "      <th>0</th>\n",
       "      <td>0</td>\n",
       "      <td>Afghanistan</td>\n",
       "      <td>Southern Asia</td>\n",
       "      <td>Asia</td>\n",
       "    </tr>\n",
       "    <tr>\n",
       "      <th>1</th>\n",
       "      <td>1</td>\n",
       "      <td>Åland Islands</td>\n",
       "      <td>Northern Europe</td>\n",
       "      <td>Europe</td>\n",
       "    </tr>\n",
       "    <tr>\n",
       "      <th>2</th>\n",
       "      <td>2</td>\n",
       "      <td>Albania</td>\n",
       "      <td>Southern Europe</td>\n",
       "      <td>Europe</td>\n",
       "    </tr>\n",
       "    <tr>\n",
       "      <th>3</th>\n",
       "      <td>3</td>\n",
       "      <td>Algeria</td>\n",
       "      <td>Northern Africa</td>\n",
       "      <td>Africa</td>\n",
       "    </tr>\n",
       "    <tr>\n",
       "      <th>4</th>\n",
       "      <td>4</td>\n",
       "      <td>American Samoa</td>\n",
       "      <td>Polynesia</td>\n",
       "      <td>Oceania</td>\n",
       "    </tr>\n",
       "  </tbody>\n",
       "</table>\n",
       "</div>"
      ],
      "text/plain": [
       "   Unnamed: 0         Country           Region Continent\n",
       "0           0     Afghanistan    Southern Asia      Asia\n",
       "1           1   Åland Islands  Northern Europe    Europe\n",
       "2           2         Albania  Southern Europe    Europe\n",
       "3           3         Algeria  Northern Africa    Africa\n",
       "4           4  American Samoa        Polynesia   Oceania"
      ]
     },
     "execution_count": 9,
     "metadata": {},
     "output_type": "execute_result"
    }
   ],
   "source": [
    "continents_df.head()"
   ]
  },
  {
   "cell_type": "code",
   "execution_count": 10,
   "metadata": {
    "scrolled": true
   },
   "outputs": [
    {
     "data": {
      "text/html": [
       "<div>\n",
       "<style scoped>\n",
       "    .dataframe tbody tr th:only-of-type {\n",
       "        vertical-align: middle;\n",
       "    }\n",
       "\n",
       "    .dataframe tbody tr th {\n",
       "        vertical-align: top;\n",
       "    }\n",
       "\n",
       "    .dataframe thead th {\n",
       "        text-align: right;\n",
       "    }\n",
       "</style>\n",
       "<table border=\"1\" class=\"dataframe\">\n",
       "  <thead>\n",
       "    <tr style=\"text-align: right;\">\n",
       "      <th></th>\n",
       "      <th>Country</th>\n",
       "      <th>Year</th>\n",
       "      <th>Psychiatrists working in mental health sector (per 100 000 population)</th>\n",
       "      <th>Nurses working in mental health sector (per 100 000 population)</th>\n",
       "      <th>Social workers working in mental health sector (per 100 000 population)</th>\n",
       "      <th>Psychologists working in mental health sector (per 100 000 population)</th>\n",
       "      <th>Unnamed: 0</th>\n",
       "      <th>Region</th>\n",
       "      <th>Continent</th>\n",
       "    </tr>\n",
       "  </thead>\n",
       "  <tbody>\n",
       "    <tr>\n",
       "      <th>0</th>\n",
       "      <td>Afghanistan</td>\n",
       "      <td>2016</td>\n",
       "      <td>0.231</td>\n",
       "      <td>0.098</td>\n",
       "      <td>NaN</td>\n",
       "      <td>0.296</td>\n",
       "      <td>0</td>\n",
       "      <td>Southern Asia</td>\n",
       "      <td>Asia</td>\n",
       "    </tr>\n",
       "    <tr>\n",
       "      <th>1</th>\n",
       "      <td>Albania</td>\n",
       "      <td>2016</td>\n",
       "      <td>1.471</td>\n",
       "      <td>6.876</td>\n",
       "      <td>1.060</td>\n",
       "      <td>1.231</td>\n",
       "      <td>2</td>\n",
       "      <td>Southern Europe</td>\n",
       "      <td>Europe</td>\n",
       "    </tr>\n",
       "    <tr>\n",
       "      <th>2</th>\n",
       "      <td>Angola</td>\n",
       "      <td>2016</td>\n",
       "      <td>0.057</td>\n",
       "      <td>0.660</td>\n",
       "      <td>0.022</td>\n",
       "      <td>0.179</td>\n",
       "      <td>6</td>\n",
       "      <td>Middle Africa</td>\n",
       "      <td>Africa</td>\n",
       "    </tr>\n",
       "    <tr>\n",
       "      <th>3</th>\n",
       "      <td>Antigua and Barbuda</td>\n",
       "      <td>2016</td>\n",
       "      <td>1.001</td>\n",
       "      <td>7.005</td>\n",
       "      <td>4.003</td>\n",
       "      <td>NaN</td>\n",
       "      <td>9</td>\n",
       "      <td>Caribbean</td>\n",
       "      <td>North America</td>\n",
       "    </tr>\n",
       "    <tr>\n",
       "      <th>4</th>\n",
       "      <td>Argentina</td>\n",
       "      <td>2016</td>\n",
       "      <td>21.705</td>\n",
       "      <td>NaN</td>\n",
       "      <td>NaN</td>\n",
       "      <td>222.572</td>\n",
       "      <td>10</td>\n",
       "      <td>South America</td>\n",
       "      <td>South America</td>\n",
       "    </tr>\n",
       "  </tbody>\n",
       "</table>\n",
       "</div>"
      ],
      "text/plain": [
       "               Country  Year  \\\n",
       "0          Afghanistan  2016   \n",
       "1              Albania  2016   \n",
       "2               Angola  2016   \n",
       "3  Antigua and Barbuda  2016   \n",
       "4            Argentina  2016   \n",
       "\n",
       "   Psychiatrists working in mental health sector (per 100 000 population)  \\\n",
       "0                                              0.231                        \n",
       "1                                              1.471                        \n",
       "2                                              0.057                        \n",
       "3                                              1.001                        \n",
       "4                                             21.705                        \n",
       "\n",
       "   Nurses working in mental health sector (per 100 000 population)  \\\n",
       "0                                              0.098                 \n",
       "1                                              6.876                 \n",
       "2                                              0.660                 \n",
       "3                                              7.005                 \n",
       "4                                                NaN                 \n",
       "\n",
       "   Social workers working in mental health sector (per 100 000 population)  \\\n",
       "0                                                NaN                         \n",
       "1                                              1.060                         \n",
       "2                                              0.022                         \n",
       "3                                              4.003                         \n",
       "4                                                NaN                         \n",
       "\n",
       "   Psychologists working in mental health sector (per 100 000 population)  \\\n",
       "0                                              0.296                        \n",
       "1                                              1.231                        \n",
       "2                                              0.179                        \n",
       "3                                                NaN                        \n",
       "4                                            222.572                        \n",
       "\n",
       "   Unnamed: 0           Region      Continent  \n",
       "0           0    Southern Asia           Asia  \n",
       "1           2  Southern Europe         Europe  \n",
       "2           6    Middle Africa         Africa  \n",
       "3           9        Caribbean  North America  \n",
       "4          10    South America  South America  "
      ]
     },
     "execution_count": 10,
     "metadata": {},
     "output_type": "execute_result"
    }
   ],
   "source": [
    "cr_df = hr_df.merge(continents_df, left_on='Country', right_on='Country')\n",
    "cr_df.head()"
   ]
  },
  {
   "cell_type": "code",
   "execution_count": 11,
   "metadata": {},
   "outputs": [
    {
     "data": {
      "text/plain": [
       "array(['Afghanistan', 'Albania', 'Angola', 'Antigua and Barbuda',\n",
       "       'Argentina', 'Armenia', 'Australia', 'Azerbaijan', 'Bahrain',\n",
       "       'Bangladesh', 'Barbados', 'Belarus', 'Belgium', 'Belize', 'Bhutan',\n",
       "       'Bolivia', 'Bosnia and Herzegovina', 'Brazil', 'Brunei',\n",
       "       'Bulgaria', 'Burkina Faso', 'Burundi', 'Cambodia', 'Canada',\n",
       "       'Central African Republic', 'Chad', 'Chile', 'China', 'Colombia',\n",
       "       'Comoros', 'Congo', 'Cook Islands', 'Costa Rica', 'Croatia',\n",
       "       'Cuba', 'Cyprus', 'Dominican Republic', 'Ecuador', 'Egypt',\n",
       "       'El Salvador', 'Equatorial Guinea', 'Eritrea', 'Estonia',\n",
       "       'Swaziland', 'Ethiopia', 'Fiji', 'Finland', 'France', 'Gabon',\n",
       "       'Gambia', 'Georgia', 'Germany', 'Ghana', 'Greece', 'Grenada',\n",
       "       'Guatemala', 'Guinea', 'Guinea-Bissau', 'Guyana', 'Haiti',\n",
       "       'Honduras', 'Hungary', 'India', 'Indonesia', 'Iran', 'Iraq',\n",
       "       'Israel', 'Italy', 'Jamaica', 'Japan', 'Jordan', 'Kenya',\n",
       "       'Kiribati', 'Kyrgyzstan', 'Latvia', 'Lebanon', 'Liberia',\n",
       "       'Lithuania', 'Luxembourg', 'Madagascar', 'Malaysia', 'Maldives',\n",
       "       'Mali', 'Marshall Islands', 'Mauritania', 'Mauritius', 'Mexico',\n",
       "       'Monaco', 'Mongolia', 'Montenegro', 'Morocco', 'Mozambique',\n",
       "       'Myanmar', 'Namibia', 'Nauru', 'Nepal', 'Netherlands',\n",
       "       'New Zealand', 'Nicaragua', 'Niger', 'Norway', 'Oman', 'Panama',\n",
       "       'Peru', 'Philippines', 'Poland', 'Qatar', 'South Korea', 'Moldova',\n",
       "       'Romania', 'Russia', 'Rwanda', 'Saint Kitts and Nevis',\n",
       "       'Saint Lucia', 'Saint Vincent and the Grenadines', 'Samoa',\n",
       "       'Sao Tome and Principe', 'Saudi Arabia', 'Senegal', 'Serbia',\n",
       "       'Seychelles', 'Sierra Leone', 'Singapore', 'Slovenia',\n",
       "       'South Africa', 'South Sudan', 'Spain', 'Sri Lanka', 'Sudan',\n",
       "       'Suriname', 'Sweden', 'Switzerland', 'Syria', 'Tajikistan',\n",
       "       'Thailand', 'Timor', 'Togo', 'Tonga', 'Tunisia', 'Turkey',\n",
       "       'Uganda', 'Ukraine', 'United Arab Emirates', 'Tanzania',\n",
       "       'United States', 'Uruguay', 'Uzbekistan', 'Vanuatu', 'Yemen',\n",
       "       'Zambia', 'Zimbabwe'], dtype=object)"
      ]
     },
     "execution_count": 11,
     "metadata": {},
     "output_type": "execute_result"
    }
   ],
   "source": [
    "cr_df['Country'].unique()"
   ]
  },
  {
   "cell_type": "code",
   "execution_count": 12,
   "metadata": {},
   "outputs": [
    {
     "data": {
      "text/plain": [
       "array([2016, 2015, 2017, 2013, 2014])"
      ]
     },
     "execution_count": 12,
     "metadata": {},
     "output_type": "execute_result"
    }
   ],
   "source": [
    "cr_df['Year'].unique()"
   ]
  },
  {
   "cell_type": "code",
   "execution_count": 13,
   "metadata": {},
   "outputs": [
    {
     "data": {
      "text/plain": [
       "151"
      ]
     },
     "execution_count": 13,
     "metadata": {},
     "output_type": "execute_result"
    }
   ],
   "source": [
    "cr_df['Country'].nunique()"
   ]
  },
  {
   "cell_type": "code",
   "execution_count": 14,
   "metadata": {},
   "outputs": [
    {
     "data": {
      "text/plain": [
       "(151, 9)"
      ]
     },
     "execution_count": 14,
     "metadata": {},
     "output_type": "execute_result"
    }
   ],
   "source": [
    "cr_df.shape"
   ]
  },
  {
   "cell_type": "code",
   "execution_count": 15,
   "metadata": {},
   "outputs": [
    {
     "data": {
      "text/plain": [
       "2016    106\n",
       "2017     22\n",
       "2015     20\n",
       "2013      2\n",
       "2014      1\n",
       "Name: Year, dtype: int64"
      ]
     },
     "execution_count": 15,
     "metadata": {},
     "output_type": "execute_result"
    }
   ],
   "source": [
    "cr_df['Year'].value_counts()"
   ]
  },
  {
   "cell_type": "markdown",
   "metadata": {},
   "source": [
    "Based on the above series of investigations, it appears that this dataset's range of years is short and not evenly distributed. Most of the data is from 2016. It also appears many countries are missing from this dataset. There are only 140 rows.\n",
    "\n",
    "I then renamed the columns to make them easier to manipulate."
   ]
  },
  {
   "cell_type": "code",
   "execution_count": 16,
   "metadata": {},
   "outputs": [],
   "source": [
    "cr_df = cr_df.rename(columns={'Psychiatrists working in mental health sector (per 100 000 population)':'Psychiatrists_per100000',\n",
    "                                                      'Nurses working in mental health sector (per 100 000 population)': 'Nurses_per100000',\n",
    "                                                     'Social workers working in mental health sector (per 100 000 population)':'Social_workers_per100000',\n",
    "                                                     'Psychologists working in mental health sector (per 100 000 population)':'Psychologists_per100000'})\n"
   ]
  },
  {
   "cell_type": "markdown",
   "metadata": {},
   "source": [
    "Earlier, a sample of the dataset showed that not all of the data was filled in each row. I created filters for each of the four human resources in the dataset and used them to evaluate how many rows were missing data and which data was present."
   ]
  },
  {
   "cell_type": "code",
   "execution_count": 17,
   "metadata": {},
   "outputs": [],
   "source": [
    "psychiatrists=cr_df['Psychiatrists_per100000']>0\n",
    "nurses=cr_df['Nurses_per100000']>0\n",
    "social_workers=cr_df['Social_workers_per100000']>0\n",
    "psychologists=cr_df['Psychologists_per100000']>0"
   ]
  },
  {
   "cell_type": "code",
   "execution_count": 18,
   "metadata": {},
   "outputs": [
    {
     "data": {
      "text/plain": [
       "(72, 9)"
      ]
     },
     "execution_count": 18,
     "metadata": {},
     "output_type": "execute_result"
    }
   ],
   "source": [
    "no_missing_data_df=cr_df[psychiatrists & nurses & social_workers & psychologists]\n",
    "no_missing_data_df.shape"
   ]
  },
  {
   "cell_type": "code",
   "execution_count": 19,
   "metadata": {},
   "outputs": [
    {
     "data": {
      "text/html": [
       "<div>\n",
       "<style scoped>\n",
       "    .dataframe tbody tr th:only-of-type {\n",
       "        vertical-align: middle;\n",
       "    }\n",
       "\n",
       "    .dataframe tbody tr th {\n",
       "        vertical-align: top;\n",
       "    }\n",
       "\n",
       "    .dataframe thead th {\n",
       "        text-align: right;\n",
       "    }\n",
       "</style>\n",
       "<table border=\"1\" class=\"dataframe\">\n",
       "  <thead>\n",
       "    <tr style=\"text-align: right;\">\n",
       "      <th></th>\n",
       "      <th>Country</th>\n",
       "      <th>Year</th>\n",
       "      <th>Psychiatrists_per100000</th>\n",
       "      <th>Nurses_per100000</th>\n",
       "      <th>Social_workers_per100000</th>\n",
       "      <th>Psychologists_per100000</th>\n",
       "      <th>Unnamed: 0</th>\n",
       "      <th>Region</th>\n",
       "      <th>Continent</th>\n",
       "    </tr>\n",
       "  </thead>\n",
       "  <tbody>\n",
       "    <tr>\n",
       "      <th>1</th>\n",
       "      <td>Albania</td>\n",
       "      <td>2016</td>\n",
       "      <td>1.471</td>\n",
       "      <td>6.876</td>\n",
       "      <td>1.060</td>\n",
       "      <td>1.231</td>\n",
       "      <td>2</td>\n",
       "      <td>Southern Europe</td>\n",
       "      <td>Europe</td>\n",
       "    </tr>\n",
       "    <tr>\n",
       "      <th>2</th>\n",
       "      <td>Angola</td>\n",
       "      <td>2016</td>\n",
       "      <td>0.057</td>\n",
       "      <td>0.660</td>\n",
       "      <td>0.022</td>\n",
       "      <td>0.179</td>\n",
       "      <td>6</td>\n",
       "      <td>Middle Africa</td>\n",
       "      <td>Africa</td>\n",
       "    </tr>\n",
       "    <tr>\n",
       "      <th>5</th>\n",
       "      <td>Armenia</td>\n",
       "      <td>2016</td>\n",
       "      <td>3.840</td>\n",
       "      <td>11.245</td>\n",
       "      <td>0.274</td>\n",
       "      <td>0.788</td>\n",
       "      <td>11</td>\n",
       "      <td>Western Asia</td>\n",
       "      <td>Asia</td>\n",
       "    </tr>\n",
       "    <tr>\n",
       "      <th>7</th>\n",
       "      <td>Azerbaijan</td>\n",
       "      <td>2016</td>\n",
       "      <td>3.452</td>\n",
       "      <td>6.717</td>\n",
       "      <td>0.114</td>\n",
       "      <td>1.165</td>\n",
       "      <td>15</td>\n",
       "      <td>Western Asia</td>\n",
       "      <td>Asia</td>\n",
       "    </tr>\n",
       "    <tr>\n",
       "      <th>8</th>\n",
       "      <td>Bahrain</td>\n",
       "      <td>2017</td>\n",
       "      <td>5.467</td>\n",
       "      <td>27.918</td>\n",
       "      <td>1.458</td>\n",
       "      <td>1.239</td>\n",
       "      <td>17</td>\n",
       "      <td>Western Asia</td>\n",
       "      <td>Asia</td>\n",
       "    </tr>\n",
       "  </tbody>\n",
       "</table>\n",
       "</div>"
      ],
      "text/plain": [
       "      Country  Year  Psychiatrists_per100000  Nurses_per100000  \\\n",
       "1     Albania  2016                    1.471             6.876   \n",
       "2      Angola  2016                    0.057             0.660   \n",
       "5     Armenia  2016                    3.840            11.245   \n",
       "7  Azerbaijan  2016                    3.452             6.717   \n",
       "8     Bahrain  2017                    5.467            27.918   \n",
       "\n",
       "   Social_workers_per100000  Psychologists_per100000  Unnamed: 0  \\\n",
       "1                     1.060                    1.231           2   \n",
       "2                     0.022                    0.179           6   \n",
       "5                     0.274                    0.788          11   \n",
       "7                     0.114                    1.165          15   \n",
       "8                     1.458                    1.239          17   \n",
       "\n",
       "            Region Continent  \n",
       "1  Southern Europe    Europe  \n",
       "2    Middle Africa    Africa  \n",
       "5     Western Asia      Asia  \n",
       "7     Western Asia      Asia  \n",
       "8     Western Asia      Asia  "
      ]
     },
     "execution_count": 19,
     "metadata": {},
     "output_type": "execute_result"
    }
   ],
   "source": [
    "#72 data points in 2016 have all four data points\n",
    "no_missing_data_df.head()"
   ]
  },
  {
   "cell_type": "code",
   "execution_count": 20,
   "metadata": {},
   "outputs": [
    {
     "data": {
      "text/plain": [
       "142"
      ]
     },
     "execution_count": 20,
     "metadata": {},
     "output_type": "execute_result"
    }
   ],
   "source": [
    "have_psychiatrists=cr_df[psychiatrists].shape[0]\n",
    "have_psychiatrists\n",
    "#142 data points in 2016 have psychiatrists"
   ]
  },
  {
   "cell_type": "code",
   "execution_count": 21,
   "metadata": {},
   "outputs": [
    {
     "data": {
      "text/plain": [
       "97"
      ]
     },
     "execution_count": 21,
     "metadata": {},
     "output_type": "execute_result"
    }
   ],
   "source": [
    "have_social_workers=cr_df[social_workers].shape[0]\n",
    "have_social_workers\n",
    "#97 data points from 2016 have info about social workers"
   ]
  },
  {
   "cell_type": "code",
   "execution_count": 22,
   "metadata": {},
   "outputs": [
    {
     "data": {
      "text/plain": [
       "124"
      ]
     },
     "execution_count": 22,
     "metadata": {},
     "output_type": "execute_result"
    }
   ],
   "source": [
    "have_nurses=cr_df[nurses].shape[0]\n",
    "have_nurses\n",
    "#124 data points have info about nurses"
   ]
  },
  {
   "cell_type": "code",
   "execution_count": 23,
   "metadata": {},
   "outputs": [
    {
     "data": {
      "text/plain": [
       "117"
      ]
     },
     "execution_count": 23,
     "metadata": {},
     "output_type": "execute_result"
    }
   ],
   "source": [
    "have_psychologists=cr_df[psychologists].shape[0]\n",
    "have_psychologists\n",
    "#117 data points have info about psychologists"
   ]
  },
  {
   "cell_type": "markdown",
   "metadata": {},
   "source": [
    "I then imported the population dataset and merged it with the resources dataset. "
   ]
  },
  {
   "cell_type": "code",
   "execution_count": 24,
   "metadata": {
    "scrolled": true
   },
   "outputs": [
    {
     "data": {
      "text/html": [
       "<div>\n",
       "<style scoped>\n",
       "    .dataframe tbody tr th:only-of-type {\n",
       "        vertical-align: middle;\n",
       "    }\n",
       "\n",
       "    .dataframe tbody tr th {\n",
       "        vertical-align: top;\n",
       "    }\n",
       "\n",
       "    .dataframe thead th {\n",
       "        text-align: right;\n",
       "    }\n",
       "</style>\n",
       "<table border=\"1\" class=\"dataframe\">\n",
       "  <thead>\n",
       "    <tr style=\"text-align: right;\">\n",
       "      <th></th>\n",
       "      <th>code</th>\n",
       "      <th>Location</th>\n",
       "      <th>Average</th>\n",
       "      <th>variable</th>\n",
       "      <th>value</th>\n",
       "    </tr>\n",
       "  </thead>\n",
       "  <tbody>\n",
       "    <tr>\n",
       "      <th>0</th>\n",
       "      <td>900</td>\n",
       "      <td>World</td>\n",
       "      <td>6.472563e+06</td>\n",
       "      <td>1990</td>\n",
       "      <td>5327231.0</td>\n",
       "    </tr>\n",
       "    <tr>\n",
       "      <th>1</th>\n",
       "      <td>901</td>\n",
       "      <td>More developed regions</td>\n",
       "      <td>1.207273e+06</td>\n",
       "      <td>1990</td>\n",
       "      <td>1145508.0</td>\n",
       "    </tr>\n",
       "    <tr>\n",
       "      <th>2</th>\n",
       "      <td>902</td>\n",
       "      <td>Less developed regions</td>\n",
       "      <td>5.265290e+06</td>\n",
       "      <td>1990</td>\n",
       "      <td>4181723.0</td>\n",
       "    </tr>\n",
       "    <tr>\n",
       "      <th>3</th>\n",
       "      <td>941</td>\n",
       "      <td>Least developed countries</td>\n",
       "      <td>7.370169e+05</td>\n",
       "      <td>1990</td>\n",
       "      <td>506276.0</td>\n",
       "    </tr>\n",
       "    <tr>\n",
       "      <th>4</th>\n",
       "      <td>934</td>\n",
       "      <td>Less developed regions, excluding least develo...</td>\n",
       "      <td>4.528273e+06</td>\n",
       "      <td>1990</td>\n",
       "      <td>3675448.0</td>\n",
       "    </tr>\n",
       "  </tbody>\n",
       "</table>\n",
       "</div>"
      ],
      "text/plain": [
       "   code                                           Location       Average  \\\n",
       "0   900                                              World  6.472563e+06   \n",
       "1   901                             More developed regions  1.207273e+06   \n",
       "2   902                             Less developed regions  5.265290e+06   \n",
       "3   941                          Least developed countries  7.370169e+05   \n",
       "4   934  Less developed regions, excluding least develo...  4.528273e+06   \n",
       "\n",
       "   variable      value  \n",
       "0      1990  5327231.0  \n",
       "1      1990  1145508.0  \n",
       "2      1990  4181723.0  \n",
       "3      1990   506276.0  \n",
       "4      1990  3675448.0  "
      ]
     },
     "execution_count": 24,
     "metadata": {},
     "output_type": "execute_result"
    }
   ],
   "source": [
    "pop_df = pd.read_csv('../data/Cleaned/world_pop_long')\n",
    "pop_df.head()"
   ]
  },
  {
   "cell_type": "code",
   "execution_count": 25,
   "metadata": {},
   "outputs": [
    {
     "data": {
      "text/html": [
       "<div>\n",
       "<style scoped>\n",
       "    .dataframe tbody tr th:only-of-type {\n",
       "        vertical-align: middle;\n",
       "    }\n",
       "\n",
       "    .dataframe tbody tr th {\n",
       "        vertical-align: top;\n",
       "    }\n",
       "\n",
       "    .dataframe thead th {\n",
       "        text-align: right;\n",
       "    }\n",
       "</style>\n",
       "<table border=\"1\" class=\"dataframe\">\n",
       "  <thead>\n",
       "    <tr style=\"text-align: right;\">\n",
       "      <th></th>\n",
       "      <th>Country</th>\n",
       "      <th>Year</th>\n",
       "      <th>Psychiatrists_per100000</th>\n",
       "      <th>Nurses_per100000</th>\n",
       "      <th>Social_workers_per100000</th>\n",
       "      <th>Psychologists_per100000</th>\n",
       "      <th>Unnamed: 0</th>\n",
       "      <th>Region</th>\n",
       "      <th>Continent</th>\n",
       "      <th>code</th>\n",
       "      <th>Location</th>\n",
       "      <th>Average</th>\n",
       "      <th>variable</th>\n",
       "      <th>value</th>\n",
       "    </tr>\n",
       "  </thead>\n",
       "  <tbody>\n",
       "    <tr>\n",
       "      <th>0</th>\n",
       "      <td>Afghanistan</td>\n",
       "      <td>2016</td>\n",
       "      <td>0.231</td>\n",
       "      <td>0.098</td>\n",
       "      <td>NaN</td>\n",
       "      <td>0.296</td>\n",
       "      <td>0</td>\n",
       "      <td>Southern Asia</td>\n",
       "      <td>Asia</td>\n",
       "      <td>4</td>\n",
       "      <td>Afghanistan</td>\n",
       "      <td>24737.620690</td>\n",
       "      <td>2016</td>\n",
       "      <td>35383.0</td>\n",
       "    </tr>\n",
       "    <tr>\n",
       "      <th>1</th>\n",
       "      <td>Albania</td>\n",
       "      <td>2016</td>\n",
       "      <td>1.471</td>\n",
       "      <td>6.876</td>\n",
       "      <td>1.060</td>\n",
       "      <td>1.231</td>\n",
       "      <td>2</td>\n",
       "      <td>Southern Europe</td>\n",
       "      <td>Europe</td>\n",
       "      <td>8</td>\n",
       "      <td>Albania</td>\n",
       "      <td>3055.275862</td>\n",
       "      <td>2016</td>\n",
       "      <td>2886.0</td>\n",
       "    </tr>\n",
       "    <tr>\n",
       "      <th>2</th>\n",
       "      <td>Angola</td>\n",
       "      <td>2016</td>\n",
       "      <td>0.057</td>\n",
       "      <td>0.660</td>\n",
       "      <td>0.022</td>\n",
       "      <td>0.179</td>\n",
       "      <td>6</td>\n",
       "      <td>Middle Africa</td>\n",
       "      <td>Africa</td>\n",
       "      <td>24</td>\n",
       "      <td>Angola</td>\n",
       "      <td>19765.931034</td>\n",
       "      <td>2016</td>\n",
       "      <td>28842.0</td>\n",
       "    </tr>\n",
       "    <tr>\n",
       "      <th>3</th>\n",
       "      <td>Antigua and Barbuda</td>\n",
       "      <td>2016</td>\n",
       "      <td>1.001</td>\n",
       "      <td>7.005</td>\n",
       "      <td>4.003</td>\n",
       "      <td>NaN</td>\n",
       "      <td>9</td>\n",
       "      <td>Caribbean</td>\n",
       "      <td>North America</td>\n",
       "      <td>28</td>\n",
       "      <td>Antigua and Barbuda</td>\n",
       "      <td>80.137931</td>\n",
       "      <td>2016</td>\n",
       "      <td>95.0</td>\n",
       "    </tr>\n",
       "    <tr>\n",
       "      <th>4</th>\n",
       "      <td>Argentina</td>\n",
       "      <td>2016</td>\n",
       "      <td>21.705</td>\n",
       "      <td>NaN</td>\n",
       "      <td>NaN</td>\n",
       "      <td>222.572</td>\n",
       "      <td>10</td>\n",
       "      <td>South America</td>\n",
       "      <td>South America</td>\n",
       "      <td>32</td>\n",
       "      <td>Argentina</td>\n",
       "      <td>38496.068966</td>\n",
       "      <td>2016</td>\n",
       "      <td>43508.0</td>\n",
       "    </tr>\n",
       "  </tbody>\n",
       "</table>\n",
       "</div>"
      ],
      "text/plain": [
       "               Country  Year  Psychiatrists_per100000  Nurses_per100000  \\\n",
       "0          Afghanistan  2016                    0.231             0.098   \n",
       "1              Albania  2016                    1.471             6.876   \n",
       "2               Angola  2016                    0.057             0.660   \n",
       "3  Antigua and Barbuda  2016                    1.001             7.005   \n",
       "4            Argentina  2016                   21.705               NaN   \n",
       "\n",
       "   Social_workers_per100000  Psychologists_per100000  Unnamed: 0  \\\n",
       "0                       NaN                    0.296           0   \n",
       "1                     1.060                    1.231           2   \n",
       "2                     0.022                    0.179           6   \n",
       "3                     4.003                      NaN           9   \n",
       "4                       NaN                  222.572          10   \n",
       "\n",
       "            Region      Continent  code             Location       Average  \\\n",
       "0    Southern Asia           Asia     4          Afghanistan  24737.620690   \n",
       "1  Southern Europe         Europe     8              Albania   3055.275862   \n",
       "2    Middle Africa         Africa    24               Angola  19765.931034   \n",
       "3        Caribbean  North America    28  Antigua and Barbuda     80.137931   \n",
       "4    South America  South America    32            Argentina  38496.068966   \n",
       "\n",
       "   variable    value  \n",
       "0      2016  35383.0  \n",
       "1      2016   2886.0  \n",
       "2      2016  28842.0  \n",
       "3      2016     95.0  \n",
       "4      2016  43508.0  "
      ]
     },
     "execution_count": 25,
     "metadata": {},
     "output_type": "execute_result"
    }
   ],
   "source": [
    "rp_df = cr_df.merge(pop_df, left_on=['Year', 'Country'], right_on=['variable', 'Location'])\n",
    "rp_df.head()"
   ]
  },
  {
   "cell_type": "markdown",
   "metadata": {},
   "source": [
    "No countries were lost in the merge."
   ]
  },
  {
   "cell_type": "code",
   "execution_count": 26,
   "metadata": {},
   "outputs": [
    {
     "data": {
      "text/plain": [
       "151"
      ]
     },
     "execution_count": 26,
     "metadata": {},
     "output_type": "execute_result"
    }
   ],
   "source": [
    "rp_df['Country'].nunique()"
   ]
  },
  {
   "cell_type": "markdown",
   "metadata": {},
   "source": [
    "I then created a value that represented the actual population, since it was originally only represented by thousands."
   ]
  },
  {
   "cell_type": "code",
   "execution_count": 27,
   "metadata": {},
   "outputs": [
    {
     "data": {
      "text/html": [
       "<div>\n",
       "<style scoped>\n",
       "    .dataframe tbody tr th:only-of-type {\n",
       "        vertical-align: middle;\n",
       "    }\n",
       "\n",
       "    .dataframe tbody tr th {\n",
       "        vertical-align: top;\n",
       "    }\n",
       "\n",
       "    .dataframe thead th {\n",
       "        text-align: right;\n",
       "    }\n",
       "</style>\n",
       "<table border=\"1\" class=\"dataframe\">\n",
       "  <thead>\n",
       "    <tr style=\"text-align: right;\">\n",
       "      <th></th>\n",
       "      <th>Country</th>\n",
       "      <th>Year</th>\n",
       "      <th>Psychiatrists_per100000</th>\n",
       "      <th>Nurses_per100000</th>\n",
       "      <th>Social_workers_per100000</th>\n",
       "      <th>Psychologists_per100000</th>\n",
       "      <th>Unnamed: 0</th>\n",
       "      <th>Region</th>\n",
       "      <th>Continent</th>\n",
       "      <th>code</th>\n",
       "      <th>Location</th>\n",
       "      <th>Average</th>\n",
       "      <th>variable</th>\n",
       "      <th>value</th>\n",
       "      <th>Population</th>\n",
       "    </tr>\n",
       "  </thead>\n",
       "  <tbody>\n",
       "    <tr>\n",
       "      <th>0</th>\n",
       "      <td>Afghanistan</td>\n",
       "      <td>2016</td>\n",
       "      <td>0.231</td>\n",
       "      <td>0.098</td>\n",
       "      <td>NaN</td>\n",
       "      <td>0.296</td>\n",
       "      <td>0</td>\n",
       "      <td>Southern Asia</td>\n",
       "      <td>Asia</td>\n",
       "      <td>4</td>\n",
       "      <td>Afghanistan</td>\n",
       "      <td>24737.620690</td>\n",
       "      <td>2016</td>\n",
       "      <td>35383.0</td>\n",
       "      <td>35383000.0</td>\n",
       "    </tr>\n",
       "    <tr>\n",
       "      <th>1</th>\n",
       "      <td>Albania</td>\n",
       "      <td>2016</td>\n",
       "      <td>1.471</td>\n",
       "      <td>6.876</td>\n",
       "      <td>1.060</td>\n",
       "      <td>1.231</td>\n",
       "      <td>2</td>\n",
       "      <td>Southern Europe</td>\n",
       "      <td>Europe</td>\n",
       "      <td>8</td>\n",
       "      <td>Albania</td>\n",
       "      <td>3055.275862</td>\n",
       "      <td>2016</td>\n",
       "      <td>2886.0</td>\n",
       "      <td>2886000.0</td>\n",
       "    </tr>\n",
       "    <tr>\n",
       "      <th>2</th>\n",
       "      <td>Angola</td>\n",
       "      <td>2016</td>\n",
       "      <td>0.057</td>\n",
       "      <td>0.660</td>\n",
       "      <td>0.022</td>\n",
       "      <td>0.179</td>\n",
       "      <td>6</td>\n",
       "      <td>Middle Africa</td>\n",
       "      <td>Africa</td>\n",
       "      <td>24</td>\n",
       "      <td>Angola</td>\n",
       "      <td>19765.931034</td>\n",
       "      <td>2016</td>\n",
       "      <td>28842.0</td>\n",
       "      <td>28842000.0</td>\n",
       "    </tr>\n",
       "    <tr>\n",
       "      <th>3</th>\n",
       "      <td>Antigua and Barbuda</td>\n",
       "      <td>2016</td>\n",
       "      <td>1.001</td>\n",
       "      <td>7.005</td>\n",
       "      <td>4.003</td>\n",
       "      <td>NaN</td>\n",
       "      <td>9</td>\n",
       "      <td>Caribbean</td>\n",
       "      <td>North America</td>\n",
       "      <td>28</td>\n",
       "      <td>Antigua and Barbuda</td>\n",
       "      <td>80.137931</td>\n",
       "      <td>2016</td>\n",
       "      <td>95.0</td>\n",
       "      <td>95000.0</td>\n",
       "    </tr>\n",
       "    <tr>\n",
       "      <th>4</th>\n",
       "      <td>Argentina</td>\n",
       "      <td>2016</td>\n",
       "      <td>21.705</td>\n",
       "      <td>NaN</td>\n",
       "      <td>NaN</td>\n",
       "      <td>222.572</td>\n",
       "      <td>10</td>\n",
       "      <td>South America</td>\n",
       "      <td>South America</td>\n",
       "      <td>32</td>\n",
       "      <td>Argentina</td>\n",
       "      <td>38496.068966</td>\n",
       "      <td>2016</td>\n",
       "      <td>43508.0</td>\n",
       "      <td>43508000.0</td>\n",
       "    </tr>\n",
       "  </tbody>\n",
       "</table>\n",
       "</div>"
      ],
      "text/plain": [
       "               Country  Year  Psychiatrists_per100000  Nurses_per100000  \\\n",
       "0          Afghanistan  2016                    0.231             0.098   \n",
       "1              Albania  2016                    1.471             6.876   \n",
       "2               Angola  2016                    0.057             0.660   \n",
       "3  Antigua and Barbuda  2016                    1.001             7.005   \n",
       "4            Argentina  2016                   21.705               NaN   \n",
       "\n",
       "   Social_workers_per100000  Psychologists_per100000  Unnamed: 0  \\\n",
       "0                       NaN                    0.296           0   \n",
       "1                     1.060                    1.231           2   \n",
       "2                     0.022                    0.179           6   \n",
       "3                     4.003                      NaN           9   \n",
       "4                       NaN                  222.572          10   \n",
       "\n",
       "            Region      Continent  code             Location       Average  \\\n",
       "0    Southern Asia           Asia     4          Afghanistan  24737.620690   \n",
       "1  Southern Europe         Europe     8              Albania   3055.275862   \n",
       "2    Middle Africa         Africa    24               Angola  19765.931034   \n",
       "3        Caribbean  North America    28  Antigua and Barbuda     80.137931   \n",
       "4    South America  South America    32            Argentina  38496.068966   \n",
       "\n",
       "   variable    value  Population  \n",
       "0      2016  35383.0  35383000.0  \n",
       "1      2016   2886.0   2886000.0  \n",
       "2      2016  28842.0  28842000.0  \n",
       "3      2016     95.0     95000.0  \n",
       "4      2016  43508.0  43508000.0  "
      ]
     },
     "execution_count": 27,
     "metadata": {},
     "output_type": "execute_result"
    }
   ],
   "source": [
    "rp_df['Population']=rp_df['value']*1000\n",
    "rp_df.head()"
   ]
  },
  {
   "cell_type": "markdown",
   "metadata": {},
   "source": [
    "I then created variables that actually represented the number of human resources per country."
   ]
  },
  {
   "cell_type": "code",
   "execution_count": 28,
   "metadata": {},
   "outputs": [],
   "source": [
    "rp_df['#psychiatrists']=rp_df['Psychiatrists_per100000'] * rp_df['value']/100\n",
    "rp_df['#nurses']=rp_df['Nurses_per100000'] * rp_df['value']/100\n",
    "rp_df['#social_workers']=rp_df['Social_workers_per100000'] * rp_df['value']/100\n",
    "rp_df['#psychologists']=rp_df['Psychologists_per100000'] * rp_df['value']/100"
   ]
  },
  {
   "cell_type": "markdown",
   "metadata": {},
   "source": [
    "Next, I created a variable that represented the total resources in a country."
   ]
  },
  {
   "cell_type": "code",
   "execution_count": 29,
   "metadata": {},
   "outputs": [],
   "source": [
    "rp_df['Total_resources']=rp_df['#psychiatrists']+rp_df['#nurses']+rp_df['#social_workers']+rp_df['#psychologists']"
   ]
  },
  {
   "cell_type": "code",
   "execution_count": 30,
   "metadata": {},
   "outputs": [
    {
     "data": {
      "text/html": [
       "<div>\n",
       "<style scoped>\n",
       "    .dataframe tbody tr th:only-of-type {\n",
       "        vertical-align: middle;\n",
       "    }\n",
       "\n",
       "    .dataframe tbody tr th {\n",
       "        vertical-align: top;\n",
       "    }\n",
       "\n",
       "    .dataframe thead th {\n",
       "        text-align: right;\n",
       "    }\n",
       "</style>\n",
       "<table border=\"1\" class=\"dataframe\">\n",
       "  <thead>\n",
       "    <tr style=\"text-align: right;\">\n",
       "      <th></th>\n",
       "      <th>Country</th>\n",
       "      <th>Year</th>\n",
       "      <th>Psychiatrists_per100000</th>\n",
       "      <th>Nurses_per100000</th>\n",
       "      <th>Social_workers_per100000</th>\n",
       "      <th>Psychologists_per100000</th>\n",
       "      <th>Unnamed: 0</th>\n",
       "      <th>Region</th>\n",
       "      <th>Continent</th>\n",
       "      <th>code</th>\n",
       "      <th>Location</th>\n",
       "      <th>Average</th>\n",
       "      <th>variable</th>\n",
       "      <th>value</th>\n",
       "      <th>Population</th>\n",
       "      <th>#psychiatrists</th>\n",
       "      <th>#nurses</th>\n",
       "      <th>#social_workers</th>\n",
       "      <th>#psychologists</th>\n",
       "      <th>Total_resources</th>\n",
       "    </tr>\n",
       "  </thead>\n",
       "  <tbody>\n",
       "    <tr>\n",
       "      <th>0</th>\n",
       "      <td>Afghanistan</td>\n",
       "      <td>2016</td>\n",
       "      <td>0.231</td>\n",
       "      <td>0.098</td>\n",
       "      <td>NaN</td>\n",
       "      <td>0.296</td>\n",
       "      <td>0</td>\n",
       "      <td>Southern Asia</td>\n",
       "      <td>Asia</td>\n",
       "      <td>4</td>\n",
       "      <td>Afghanistan</td>\n",
       "      <td>24737.620690</td>\n",
       "      <td>2016</td>\n",
       "      <td>35383.0</td>\n",
       "      <td>35383000.0</td>\n",
       "      <td>81.73473</td>\n",
       "      <td>34.67534</td>\n",
       "      <td>NaN</td>\n",
       "      <td>104.73368</td>\n",
       "      <td>NaN</td>\n",
       "    </tr>\n",
       "    <tr>\n",
       "      <th>1</th>\n",
       "      <td>Albania</td>\n",
       "      <td>2016</td>\n",
       "      <td>1.471</td>\n",
       "      <td>6.876</td>\n",
       "      <td>1.060</td>\n",
       "      <td>1.231</td>\n",
       "      <td>2</td>\n",
       "      <td>Southern Europe</td>\n",
       "      <td>Europe</td>\n",
       "      <td>8</td>\n",
       "      <td>Albania</td>\n",
       "      <td>3055.275862</td>\n",
       "      <td>2016</td>\n",
       "      <td>2886.0</td>\n",
       "      <td>2886000.0</td>\n",
       "      <td>42.45306</td>\n",
       "      <td>198.44136</td>\n",
       "      <td>30.59160</td>\n",
       "      <td>35.52666</td>\n",
       "      <td>307.01268</td>\n",
       "    </tr>\n",
       "    <tr>\n",
       "      <th>2</th>\n",
       "      <td>Angola</td>\n",
       "      <td>2016</td>\n",
       "      <td>0.057</td>\n",
       "      <td>0.660</td>\n",
       "      <td>0.022</td>\n",
       "      <td>0.179</td>\n",
       "      <td>6</td>\n",
       "      <td>Middle Africa</td>\n",
       "      <td>Africa</td>\n",
       "      <td>24</td>\n",
       "      <td>Angola</td>\n",
       "      <td>19765.931034</td>\n",
       "      <td>2016</td>\n",
       "      <td>28842.0</td>\n",
       "      <td>28842000.0</td>\n",
       "      <td>16.43994</td>\n",
       "      <td>190.35720</td>\n",
       "      <td>6.34524</td>\n",
       "      <td>51.62718</td>\n",
       "      <td>264.76956</td>\n",
       "    </tr>\n",
       "    <tr>\n",
       "      <th>3</th>\n",
       "      <td>Antigua and Barbuda</td>\n",
       "      <td>2016</td>\n",
       "      <td>1.001</td>\n",
       "      <td>7.005</td>\n",
       "      <td>4.003</td>\n",
       "      <td>NaN</td>\n",
       "      <td>9</td>\n",
       "      <td>Caribbean</td>\n",
       "      <td>North America</td>\n",
       "      <td>28</td>\n",
       "      <td>Antigua and Barbuda</td>\n",
       "      <td>80.137931</td>\n",
       "      <td>2016</td>\n",
       "      <td>95.0</td>\n",
       "      <td>95000.0</td>\n",
       "      <td>0.95095</td>\n",
       "      <td>6.65475</td>\n",
       "      <td>3.80285</td>\n",
       "      <td>NaN</td>\n",
       "      <td>NaN</td>\n",
       "    </tr>\n",
       "    <tr>\n",
       "      <th>4</th>\n",
       "      <td>Argentina</td>\n",
       "      <td>2016</td>\n",
       "      <td>21.705</td>\n",
       "      <td>NaN</td>\n",
       "      <td>NaN</td>\n",
       "      <td>222.572</td>\n",
       "      <td>10</td>\n",
       "      <td>South America</td>\n",
       "      <td>South America</td>\n",
       "      <td>32</td>\n",
       "      <td>Argentina</td>\n",
       "      <td>38496.068966</td>\n",
       "      <td>2016</td>\n",
       "      <td>43508.0</td>\n",
       "      <td>43508000.0</td>\n",
       "      <td>9443.41140</td>\n",
       "      <td>NaN</td>\n",
       "      <td>NaN</td>\n",
       "      <td>96836.62576</td>\n",
       "      <td>NaN</td>\n",
       "    </tr>\n",
       "  </tbody>\n",
       "</table>\n",
       "</div>"
      ],
      "text/plain": [
       "               Country  Year  Psychiatrists_per100000  Nurses_per100000  \\\n",
       "0          Afghanistan  2016                    0.231             0.098   \n",
       "1              Albania  2016                    1.471             6.876   \n",
       "2               Angola  2016                    0.057             0.660   \n",
       "3  Antigua and Barbuda  2016                    1.001             7.005   \n",
       "4            Argentina  2016                   21.705               NaN   \n",
       "\n",
       "   Social_workers_per100000  Psychologists_per100000  Unnamed: 0  \\\n",
       "0                       NaN                    0.296           0   \n",
       "1                     1.060                    1.231           2   \n",
       "2                     0.022                    0.179           6   \n",
       "3                     4.003                      NaN           9   \n",
       "4                       NaN                  222.572          10   \n",
       "\n",
       "            Region      Continent  code             Location       Average  \\\n",
       "0    Southern Asia           Asia     4          Afghanistan  24737.620690   \n",
       "1  Southern Europe         Europe     8              Albania   3055.275862   \n",
       "2    Middle Africa         Africa    24               Angola  19765.931034   \n",
       "3        Caribbean  North America    28  Antigua and Barbuda     80.137931   \n",
       "4    South America  South America    32            Argentina  38496.068966   \n",
       "\n",
       "   variable    value  Population  #psychiatrists    #nurses  #social_workers  \\\n",
       "0      2016  35383.0  35383000.0        81.73473   34.67534              NaN   \n",
       "1      2016   2886.0   2886000.0        42.45306  198.44136         30.59160   \n",
       "2      2016  28842.0  28842000.0        16.43994  190.35720          6.34524   \n",
       "3      2016     95.0     95000.0         0.95095    6.65475          3.80285   \n",
       "4      2016  43508.0  43508000.0      9443.41140        NaN              NaN   \n",
       "\n",
       "   #psychologists  Total_resources  \n",
       "0       104.73368              NaN  \n",
       "1        35.52666        307.01268  \n",
       "2        51.62718        264.76956  \n",
       "3             NaN              NaN  \n",
       "4     96836.62576              NaN  "
      ]
     },
     "execution_count": 30,
     "metadata": {},
     "output_type": "execute_result"
    }
   ],
   "source": [
    "rp_df.head()"
   ]
  },
  {
   "cell_type": "markdown",
   "metadata": {},
   "source": [
    "I then dropped unnecessary columns."
   ]
  },
  {
   "cell_type": "code",
   "execution_count": 31,
   "metadata": {},
   "outputs": [],
   "source": [
    "rp3_df=rp_df.drop(columns={'Unnamed: 0', 'code', 'Location', 'Average', 'variable', 'value'})"
   ]
  },
  {
   "cell_type": "code",
   "execution_count": 32,
   "metadata": {},
   "outputs": [
    {
     "data": {
      "text/html": [
       "<div>\n",
       "<style scoped>\n",
       "    .dataframe tbody tr th:only-of-type {\n",
       "        vertical-align: middle;\n",
       "    }\n",
       "\n",
       "    .dataframe tbody tr th {\n",
       "        vertical-align: top;\n",
       "    }\n",
       "\n",
       "    .dataframe thead th {\n",
       "        text-align: right;\n",
       "    }\n",
       "</style>\n",
       "<table border=\"1\" class=\"dataframe\">\n",
       "  <thead>\n",
       "    <tr style=\"text-align: right;\">\n",
       "      <th></th>\n",
       "      <th>Country</th>\n",
       "      <th>Year</th>\n",
       "      <th>Psychiatrists_per100000</th>\n",
       "      <th>Nurses_per100000</th>\n",
       "      <th>Social_workers_per100000</th>\n",
       "      <th>Psychologists_per100000</th>\n",
       "      <th>Region</th>\n",
       "      <th>Continent</th>\n",
       "      <th>Population</th>\n",
       "      <th>#psychiatrists</th>\n",
       "      <th>#nurses</th>\n",
       "      <th>#social_workers</th>\n",
       "      <th>#psychologists</th>\n",
       "      <th>Total_resources</th>\n",
       "    </tr>\n",
       "  </thead>\n",
       "  <tbody>\n",
       "    <tr>\n",
       "      <th>0</th>\n",
       "      <td>Afghanistan</td>\n",
       "      <td>2016</td>\n",
       "      <td>0.231</td>\n",
       "      <td>0.098</td>\n",
       "      <td>NaN</td>\n",
       "      <td>0.296</td>\n",
       "      <td>Southern Asia</td>\n",
       "      <td>Asia</td>\n",
       "      <td>35383000.0</td>\n",
       "      <td>81.73473</td>\n",
       "      <td>34.67534</td>\n",
       "      <td>NaN</td>\n",
       "      <td>104.73368</td>\n",
       "      <td>NaN</td>\n",
       "    </tr>\n",
       "    <tr>\n",
       "      <th>1</th>\n",
       "      <td>Albania</td>\n",
       "      <td>2016</td>\n",
       "      <td>1.471</td>\n",
       "      <td>6.876</td>\n",
       "      <td>1.060</td>\n",
       "      <td>1.231</td>\n",
       "      <td>Southern Europe</td>\n",
       "      <td>Europe</td>\n",
       "      <td>2886000.0</td>\n",
       "      <td>42.45306</td>\n",
       "      <td>198.44136</td>\n",
       "      <td>30.59160</td>\n",
       "      <td>35.52666</td>\n",
       "      <td>307.01268</td>\n",
       "    </tr>\n",
       "    <tr>\n",
       "      <th>2</th>\n",
       "      <td>Angola</td>\n",
       "      <td>2016</td>\n",
       "      <td>0.057</td>\n",
       "      <td>0.660</td>\n",
       "      <td>0.022</td>\n",
       "      <td>0.179</td>\n",
       "      <td>Middle Africa</td>\n",
       "      <td>Africa</td>\n",
       "      <td>28842000.0</td>\n",
       "      <td>16.43994</td>\n",
       "      <td>190.35720</td>\n",
       "      <td>6.34524</td>\n",
       "      <td>51.62718</td>\n",
       "      <td>264.76956</td>\n",
       "    </tr>\n",
       "    <tr>\n",
       "      <th>3</th>\n",
       "      <td>Antigua and Barbuda</td>\n",
       "      <td>2016</td>\n",
       "      <td>1.001</td>\n",
       "      <td>7.005</td>\n",
       "      <td>4.003</td>\n",
       "      <td>NaN</td>\n",
       "      <td>Caribbean</td>\n",
       "      <td>North America</td>\n",
       "      <td>95000.0</td>\n",
       "      <td>0.95095</td>\n",
       "      <td>6.65475</td>\n",
       "      <td>3.80285</td>\n",
       "      <td>NaN</td>\n",
       "      <td>NaN</td>\n",
       "    </tr>\n",
       "    <tr>\n",
       "      <th>4</th>\n",
       "      <td>Argentina</td>\n",
       "      <td>2016</td>\n",
       "      <td>21.705</td>\n",
       "      <td>NaN</td>\n",
       "      <td>NaN</td>\n",
       "      <td>222.572</td>\n",
       "      <td>South America</td>\n",
       "      <td>South America</td>\n",
       "      <td>43508000.0</td>\n",
       "      <td>9443.41140</td>\n",
       "      <td>NaN</td>\n",
       "      <td>NaN</td>\n",
       "      <td>96836.62576</td>\n",
       "      <td>NaN</td>\n",
       "    </tr>\n",
       "  </tbody>\n",
       "</table>\n",
       "</div>"
      ],
      "text/plain": [
       "               Country  Year  Psychiatrists_per100000  Nurses_per100000  \\\n",
       "0          Afghanistan  2016                    0.231             0.098   \n",
       "1              Albania  2016                    1.471             6.876   \n",
       "2               Angola  2016                    0.057             0.660   \n",
       "3  Antigua and Barbuda  2016                    1.001             7.005   \n",
       "4            Argentina  2016                   21.705               NaN   \n",
       "\n",
       "   Social_workers_per100000  Psychologists_per100000           Region  \\\n",
       "0                       NaN                    0.296    Southern Asia   \n",
       "1                     1.060                    1.231  Southern Europe   \n",
       "2                     0.022                    0.179    Middle Africa   \n",
       "3                     4.003                      NaN        Caribbean   \n",
       "4                       NaN                  222.572    South America   \n",
       "\n",
       "       Continent  Population  #psychiatrists    #nurses  #social_workers  \\\n",
       "0           Asia  35383000.0        81.73473   34.67534              NaN   \n",
       "1         Europe   2886000.0        42.45306  198.44136         30.59160   \n",
       "2         Africa  28842000.0        16.43994  190.35720          6.34524   \n",
       "3  North America     95000.0         0.95095    6.65475          3.80285   \n",
       "4  South America  43508000.0      9443.41140        NaN              NaN   \n",
       "\n",
       "   #psychologists  Total_resources  \n",
       "0       104.73368              NaN  \n",
       "1        35.52666        307.01268  \n",
       "2        51.62718        264.76956  \n",
       "3             NaN              NaN  \n",
       "4     96836.62576              NaN  "
      ]
     },
     "execution_count": 32,
     "metadata": {},
     "output_type": "execute_result"
    }
   ],
   "source": [
    "rp3_df.head()"
   ]
  },
  {
   "cell_type": "markdown",
   "metadata": {},
   "source": [
    "The cleaned dataset was exported."
   ]
  },
  {
   "cell_type": "code",
   "execution_count": 33,
   "metadata": {},
   "outputs": [],
   "source": [
    "rp3_df.to_csv('../data/Cleaned/resources_clean', index=False)"
   ]
  },
  {
   "cell_type": "code",
   "execution_count": null,
   "metadata": {},
   "outputs": [],
   "source": []
  }
 ],
 "metadata": {
  "kernelspec": {
   "display_name": "Python 3",
   "language": "python",
   "name": "python3"
  },
  "language_info": {
   "codemirror_mode": {
    "name": "ipython",
    "version": 3
   },
   "file_extension": ".py",
   "mimetype": "text/x-python",
   "name": "python",
   "nbconvert_exporter": "python",
   "pygments_lexer": "ipython3",
   "version": "3.7.3"
  }
 },
 "nbformat": 4,
 "nbformat_minor": 2
}
