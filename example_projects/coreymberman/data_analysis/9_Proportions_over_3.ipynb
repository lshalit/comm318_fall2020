{
 "cells": [
  {
   "cell_type": "markdown",
   "metadata": {},
   "source": [
    "# Data Analysis (part 9)\n",
    "\n",
    "## What proportion of classes get over a 3 rating on the 4-point scale?\n",
    "* When considering what to major in, a freshman or sophomore may be curious what proportion of a department's classes get high-quality ratings along key variables.\n"
   ]
  },
  {
   "cell_type": "code",
   "execution_count": 1,
   "metadata": {},
   "outputs": [],
   "source": [
    "%matplotlib inline\n",
    "\n",
    "import json\n",
    "import pandas as pd\n",
    "import matplotlib.pyplot as plt\n",
    "from pandas.io.json import json_normalize\n",
    "import numpy as np\n",
    "import matplotlib.pyplot as plt\n",
    "import requests\n",
    "import warnings\n",
    "warnings.filterwarnings('ignore')\n",
    "import seaborn as sns\n",
    "import plotly_express as px\n",
    "import math\n",
    "import plotly"
   ]
  },
  {
   "cell_type": "code",
   "execution_count": 2,
   "metadata": {},
   "outputs": [],
   "source": [
    "# loading the cleaned data back in \n",
    "comm_revs_df2 = pd.read_csv('../data/clean_data/comm_revs_df2')\n",
    "df_new2 = pd.read_csv('../data/clean_data/df_new2')"
   ]
  },
  {
   "cell_type": "code",
   "execution_count": 3,
   "metadata": {
    "scrolled": true
   },
   "outputs": [
    {
     "data": {
      "text/plain": [
       "0.49605263157894736"
      ]
     },
     "execution_count": 3,
     "metadata": {},
     "output_type": "execute_result"
    }
   ],
   "source": [
    "#what percent of COMM classes have course quality over 3:\n",
    "comm_over3 = comm_revs_df2[comm_revs_df2['CourseQuality']>3]\n",
    "comm_over3.shape[0]/comm_revs_df2.shape[0]"
   ]
  },
  {
   "cell_type": "markdown",
   "metadata": {},
   "source": [
    "Just about half of COMM courses received in the top tier for course quality. That's pretty good, but how does it compare to other departments?"
   ]
  },
  {
   "cell_type": "code",
   "execution_count": 4,
   "metadata": {},
   "outputs": [
    {
     "data": {
      "text/html": [
       "<div>\n",
       "<style scoped>\n",
       "    .dataframe tbody tr th:only-of-type {\n",
       "        vertical-align: middle;\n",
       "    }\n",
       "\n",
       "    .dataframe tbody tr th {\n",
       "        vertical-align: top;\n",
       "    }\n",
       "\n",
       "    .dataframe thead th {\n",
       "        text-align: right;\n",
       "    }\n",
       "</style>\n",
       "<table border=\"1\" class=\"dataframe\">\n",
       "  <thead>\n",
       "    <tr style=\"text-align: right;\">\n",
       "      <th></th>\n",
       "      <th>department</th>\n",
       "      <th>CourseQuality</th>\n",
       "      <th>InstructorQuality</th>\n",
       "      <th>AmountLearned</th>\n",
       "      <th>Difficulty</th>\n",
       "      <th>StimulateInterest</th>\n",
       "      <th>WorkRequired</th>\n",
       "    </tr>\n",
       "  </thead>\n",
       "  <tbody>\n",
       "    <tr>\n",
       "      <th>0</th>\n",
       "      <td>PSCI</td>\n",
       "      <td>0.605976</td>\n",
       "      <td>0.745657</td>\n",
       "      <td>0.391939</td>\n",
       "      <td>0.204309</td>\n",
       "      <td>0.661571</td>\n",
       "      <td>0.310632</td>\n",
       "    </tr>\n",
       "    <tr>\n",
       "      <th>1</th>\n",
       "      <td>COMM</td>\n",
       "      <td>0.547425</td>\n",
       "      <td>0.707317</td>\n",
       "      <td>0.502710</td>\n",
       "      <td>0.117886</td>\n",
       "      <td>0.560976</td>\n",
       "      <td>0.169377</td>\n",
       "    </tr>\n",
       "    <tr>\n",
       "      <th>2</th>\n",
       "      <td>HIST</td>\n",
       "      <td>0.622883</td>\n",
       "      <td>0.783982</td>\n",
       "      <td>0.406407</td>\n",
       "      <td>0.140046</td>\n",
       "      <td>0.666819</td>\n",
       "      <td>0.278719</td>\n",
       "    </tr>\n",
       "    <tr>\n",
       "      <th>3</th>\n",
       "      <td>ECON</td>\n",
       "      <td>0.175000</td>\n",
       "      <td>0.345968</td>\n",
       "      <td>0.158871</td>\n",
       "      <td>0.258065</td>\n",
       "      <td>0.226613</td>\n",
       "      <td>0.099194</td>\n",
       "    </tr>\n",
       "    <tr>\n",
       "      <th>4</th>\n",
       "      <td>PSYC</td>\n",
       "      <td>0.518639</td>\n",
       "      <td>0.696921</td>\n",
       "      <td>0.344408</td>\n",
       "      <td>0.085089</td>\n",
       "      <td>0.624797</td>\n",
       "      <td>0.132091</td>\n",
       "    </tr>\n",
       "  </tbody>\n",
       "</table>\n",
       "</div>"
      ],
      "text/plain": [
       "  department  CourseQuality  InstructorQuality  AmountLearned  Difficulty  \\\n",
       "0       PSCI       0.605976           0.745657       0.391939    0.204309   \n",
       "1       COMM       0.547425           0.707317       0.502710    0.117886   \n",
       "2       HIST       0.622883           0.783982       0.406407    0.140046   \n",
       "3       ECON       0.175000           0.345968       0.158871    0.258065   \n",
       "4       PSYC       0.518639           0.696921       0.344408    0.085089   \n",
       "\n",
       "   StimulateInterest  WorkRequired  \n",
       "0           0.661571      0.310632  \n",
       "1           0.560976      0.169377  \n",
       "2           0.666819      0.278719  \n",
       "3           0.226613      0.099194  \n",
       "4           0.624797      0.132091  "
      ]
     },
     "execution_count": 4,
     "metadata": {},
     "output_type": "execute_result"
    }
   ],
   "source": [
    "#goal: to generate a chart for each department and each variable\n",
    "#we will have to use a double loop\n",
    "\n",
    "popular = ['PSCI','COMM','HIST','ECON','PSYC']\n",
    "variables = ['CourseQuality', 'InstructorQuality', 'AmountLearned', 'Difficulty', 'StimulateInterest', 'WorkRequired']\n",
    "\n",
    "over3_props = pd.DataFrame()\n",
    "over3_props['department'] = popular\n",
    "\n",
    "for var in variables:\n",
    "    props = []\n",
    "    for dept in popular:\n",
    "        over = (df_new2[(df_new2[var] > 2.99) & (df_new2['department'] == dept)]).shape[0]\n",
    "        total = df_new2[df_new2['department'] == dept].shape[0]\n",
    "        prop = over/total\n",
    "        props.append(prop)\n",
    "    over3_props[var] = props\n",
    "    \n",
    "over3_props"
   ]
  },
  {
   "cell_type": "markdown",
   "metadata": {},
   "source": [
    "#### Findings from the above:\n",
    "* COMM has highest proportion of courses given over 3 for amount learned\n",
    "* PSCI and then ECON have the highest proportion of courses given over 3 for work required - by a large margin\n",
    "* The ECON courses are not particularly popular as a collective (although there are certainly outliers) \n",
    "* The social sciences are overall pretty popular courses!"
   ]
  },
  {
   "cell_type": "markdown",
   "metadata": {},
   "source": [
    "Visualizing the COMM ratings distribution for course quality in another way:"
   ]
  },
  {
   "cell_type": "code",
   "execution_count": 5,
   "metadata": {},
   "outputs": [
    {
     "data": {
      "text/plain": [
       "<matplotlib.axes._subplots.AxesSubplot at 0x7f3813e2b160>"
      ]
     },
     "execution_count": 5,
     "metadata": {},
     "output_type": "execute_result"
    },
    {
     "data": {
      "image/png": "[encoded data removed]",
      "text/plain": [
       "<Figure size 432x288 with 1 Axes>"
      ]
     },
     "metadata": {
      "needs_background": "light"
     },
     "output_type": "display_data"
    }
   ],
   "source": [
    "comm_revs_df2['CourseQuality'].plot(kind='hist')"
   ]
  },
  {
   "cell_type": "markdown",
   "metadata": {},
   "source": [
    "... as compared to the total:"
   ]
  },
  {
   "cell_type": "code",
   "execution_count": 6,
   "metadata": {},
   "outputs": [
    {
     "data": {
      "text/plain": [
       "<matplotlib.axes._subplots.AxesSubplot at 0x7f381356a978>"
      ]
     },
     "execution_count": 6,
     "metadata": {},
     "output_type": "execute_result"
    },
    {
     "data": {
      "image/png": "[encoded data removed]",
      "text/plain": [
       "<Figure size 432x288 with 1 Axes>"
      ]
     },
     "metadata": {
      "needs_background": "light"
     },
     "output_type": "display_data"
    }
   ],
   "source": [
    "df_new2['CourseQuality'].plot(kind='hist')"
   ]
  },
  {
   "cell_type": "code",
   "execution_count": 7,
   "metadata": {},
   "outputs": [
    {
     "data": {
      "text/plain": [
       "0.4669397308367466"
      ]
     },
     "execution_count": 7,
     "metadata": {},
     "output_type": "execute_result"
    }
   ],
   "source": [
    "dpts_distrib = df_new2[df_new2['CourseQuality']>3]\n",
    "dpts_distrib.shape[0]/df_new2.shape[0]"
   ]
  },
  {
   "cell_type": "markdown",
   "metadata": {},
   "source": [
    "COMM has about 3% more (50%) courses getting over a 3 for course quality than the social sciences as a whole (47%)."
   ]
  },
  {
   "cell_type": "code",
   "execution_count": null,
   "metadata": {},
   "outputs": [],
   "source": []
  }
 ],
 "metadata": {
  "kernelspec": {
   "display_name": "Python 3",
   "language": "python",
   "name": "python3"
  },
  "language_info": {
   "codemirror_mode": {
    "name": "ipython",
    "version": 3
   },
   "file_extension": ".py",
   "mimetype": "text/x-python",
   "name": "python",
   "nbconvert_exporter": "python",
   "pygments_lexer": "ipython3",
   "version": "3.7.3"
  }
 },
 "nbformat": 4,
 "nbformat_minor": 2
}
