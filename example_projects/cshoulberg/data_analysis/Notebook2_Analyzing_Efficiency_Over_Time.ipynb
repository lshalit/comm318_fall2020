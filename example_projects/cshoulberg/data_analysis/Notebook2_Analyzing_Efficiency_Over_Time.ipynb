{
 "cells": [
  {
   "cell_type": "markdown",
   "metadata": {},
   "source": [
    "# Notebook 2: Analyzing Energy Efficiency Over Time\n",
    "In my exploring 2017 notebook, I got an idea of the type of analysis that I want to compare over time -- energy STAR scores and GHG emissions.\n",
    "\n",
    "In this notebook, I want to set up my dataframes to be able to compare greenhouse gas emissions and energy STAR scores over time for both Philly as a whole and by property type. For sake of my analysis, I am focusing on the following 5 property types:\n",
    "* Office\n",
    "* Industrial\n",
    "* Retail\n",
    "* Housing\n",
    "* Education"
   ]
  },
  {
   "cell_type": "code",
   "execution_count": 1,
   "metadata": {},
   "outputs": [],
   "source": [
    "%matplotlib inline\n",
    "import pandas as pd\n",
    "import matplotlib.pyplot as plt\n",
    "import math\n",
    "import os\n",
    "import glob\n",
    "import numpy as np\n",
    "\n",
    "#import energy usage data of Philadelphia's buildings from 2013-2017\n",
    "yr2013_df = pd.read_csv('../data/energy_usage_large_commercial_buildings_reported_2013.csv')\n",
    "yr2014_df = pd.read_csv('../data/energy_usage_large_commercial_buildings_reported_2014.csv')\n",
    "yr2015_df = pd.read_csv('../data/properties_reported_2015.csv')\n",
    "yr2016_df = pd.read_csv('../data/properties_reported_2016.csv')\n",
    "yr2017_df = pd.read_csv('../data/properties_reported_2017.csv')\n",
    "\n"
   ]
  },
  {
   "cell_type": "markdown",
   "metadata": {},
   "source": [
    "## Step 1: Analyzing Greenhouse Gas Emissions Over Time\n",
    "\n",
    "### GHG Emissions / Property Type Over Time\n",
    "First, I need to bring over the code that I created in the 2017 df. This code created a dictionary for the property types so that we could condense all the various types into broader categories -- more reflective of the real estate industy categories. "
   ]
  },
  {
   "cell_type": "code",
   "execution_count": 2,
   "metadata": {},
   "outputs": [],
   "source": [
    "#create dictionary for the property types\n",
    "categories = {\n",
    "    'Housing' : ['Multifamily Housing', 'Residential Care Facility', 'Other - Lodging/Residential', 'Residence Hall/Dormitory', 'Senior Care Community'],\n",
    "    'Office' : ['Office', 'Financial Office'],\n",
    "    'Science' : ['Other - Technology/Science', 'Data Center', 'Laboratory'],\n",
    "    'Education' : ['K-12 School', 'College/University', 'Other - Education', 'Adult Education'],\n",
    "    'Industrial' : ['Wastewater Treatment Plant', 'Other - Utility', 'Drinking Water Treatment & Distribution', 'Non-Refridgerated Warehouse', 'Distribution Center', 'Manufacturing/Industrial Plant', 'Self-Storage Facility', 'Refrigerated Warehouse'],\n",
    "    'Hospitality' : ['Hotel'],\n",
    "    'Retail' : ['Enclosed Mall', 'Wholesale Club/Supercenter', 'Food Sales', 'Bar/Nightclub', 'Automobile Dealership', 'Mailing Center/Post Office', 'Restaurant', 'Food Service', 'Retail Store','Supermarket/Grocery Store', 'Other - Mall','Strip Mall', 'Repair Services (Vehicle, Shoe, Locksmith, etc.)'],\n",
    "    'Medical' : ['Other - Specialty Hospital', 'Hospital (General Medical & Surgical)', 'Outpatient Rehabilitation/Physical Therapy', 'Ambulatory Surgical Center', 'Medical Office'],\n",
    "    'Religious' : ['Worship Facility'],\n",
    "    'Sports/Entertainment' : ['Stadium (Open)', 'Other - Recreation', 'Ice/Curling Rink', 'Movie Theater', 'Fitness Center/Health Club/Gym', 'Stadium (Closed)', 'Performing Arts'],\n",
    "    'Convention Center' : ['Convention Center'],\n",
    "    'Public Services/Gov' : ['Other - Public Services', 'Social/Meeting Hall', 'Museum', 'Library', 'Courthouse'],\n",
    "    'Prison' : ['Prison/Incarceration'],\n",
    "    'Parking' : ['Parking'],\n",
    "    'Mixed Use' : ['Mixed Use Property'],\n",
    "    'Other': ['Other']\n",
    "}\n",
    "\n"
   ]
  },
  {
   "cell_type": "code",
   "execution_count": 3,
   "metadata": {},
   "outputs": [],
   "source": [
    "categories2={}\n",
    "for k, vlist in categories.items():\n",
    "    for v in vlist:\n",
    "        categories2[v]=k"
   ]
  },
  {
   "cell_type": "markdown",
   "metadata": {},
   "source": [
    "#### Create new column: prop_type_cond = mapping each property type to a broader category for my analysis\n",
    "Now I want to create a new row in each data frame for these condensed property types"
   ]
  },
  {
   "cell_type": "code",
   "execution_count": 4,
   "metadata": {},
   "outputs": [],
   "source": [
    "yr2017_df['prop_type_cond'] = yr2017_df['primary_prop_type_epa_calc'].map(categories2)"
   ]
  },
  {
   "cell_type": "code",
   "execution_count": 5,
   "metadata": {},
   "outputs": [
    {
     "data": {
      "text/plain": [
       "Housing                 437\n",
       "Education               348\n",
       "Office                  201\n",
       "Industrial              116\n",
       "Retail                   84\n",
       "Medical                  47\n",
       "Hospitality              45\n",
       "Other                    37\n",
       "Parking                  35\n",
       "Mixed Use                34\n",
       "Public Services/Gov      30\n",
       "Religious                13\n",
       "Sports/Entertainment      9\n",
       "Science                   8\n",
       "Prison                    6\n",
       "Convention Center         2\n",
       "Name: prop_type_cond, dtype: int64"
      ]
     },
     "execution_count": 5,
     "metadata": {},
     "output_type": "execute_result"
    }
   ],
   "source": [
    "yr2017_df['prop_type_cond'].value_counts()"
   ]
  },
  {
   "cell_type": "code",
   "execution_count": 6,
   "metadata": {},
   "outputs": [],
   "source": [
    "yr2016_df['prop_type_cond'] = yr2016_df['primary_prop_type_epa_calc'].map(categories2)"
   ]
  },
  {
   "cell_type": "code",
   "execution_count": 7,
   "metadata": {},
   "outputs": [
    {
     "data": {
      "text/plain": [
       "Housing                 455\n",
       "Education               350\n",
       "Office                  202\n",
       "Industrial              113\n",
       "Retail                   79\n",
       "Medical                  47\n",
       "Hospitality              42\n",
       "Other                    40\n",
       "Parking                  35\n",
       "Mixed Use                32\n",
       "Public Services/Gov      32\n",
       "Religious                11\n",
       "Sports/Entertainment     10\n",
       "Science                   8\n",
       "Prison                    7\n",
       "Convention Center         2\n",
       "Name: prop_type_cond, dtype: int64"
      ]
     },
     "execution_count": 7,
     "metadata": {},
     "output_type": "execute_result"
    }
   ],
   "source": [
    "yr2016_df['prop_type_cond'].value_counts()"
   ]
  },
  {
   "cell_type": "code",
   "execution_count": 8,
   "metadata": {},
   "outputs": [],
   "source": [
    "yr2015_df['prop_type_cond'] = yr2015_df['primary_prop_type_epa_calc'].map(categories2)"
   ]
  },
  {
   "cell_type": "code",
   "execution_count": 9,
   "metadata": {},
   "outputs": [
    {
     "data": {
      "text/plain": [
       "Education               345\n",
       "Office                  192\n",
       "Industrial              118\n",
       "Retail                   84\n",
       "Other                    62\n",
       "Medical                  50\n",
       "Hospitality              43\n",
       "Parking                  31\n",
       "Public Services/Gov      31\n",
       "Housing                  23\n",
       "Religious                14\n",
       "Sports/Entertainment     12\n",
       "Science                   7\n",
       "Prison                    6\n",
       "Mixed Use                 3\n",
       "Convention Center         2\n",
       "Name: prop_type_cond, dtype: int64"
      ]
     },
     "execution_count": 9,
     "metadata": {},
     "output_type": "execute_result"
    }
   ],
   "source": [
    "yr2015_df['prop_type_cond'].value_counts()"
   ]
  },
  {
   "cell_type": "code",
   "execution_count": 10,
   "metadata": {},
   "outputs": [],
   "source": [
    "yr2014_df['prop_type_cond'] = yr2014_df['primary_property_type_epa_calculated'].map(categories2)"
   ]
  },
  {
   "cell_type": "code",
   "execution_count": 11,
   "metadata": {},
   "outputs": [
    {
     "data": {
      "text/plain": [
       "Education               301\n",
       "Office                  176\n",
       "Industrial              100\n",
       "Retail                   76\n",
       "Other                    58\n",
       "Medical                  42\n",
       "Housing                  35\n",
       "Hospitality              32\n",
       "Public Services/Gov      27\n",
       "Parking                  26\n",
       "Religious                14\n",
       "Sports/Entertainment      8\n",
       "Science                   6\n",
       "Prison                    6\n",
       "Convention Center         2\n",
       "Mixed Use                 2\n",
       "Name: prop_type_cond, dtype: int64"
      ]
     },
     "execution_count": 11,
     "metadata": {},
     "output_type": "execute_result"
    }
   ],
   "source": [
    "yr2014_df['prop_type_cond'].value_counts()"
   ]
  },
  {
   "cell_type": "code",
   "execution_count": 12,
   "metadata": {},
   "outputs": [],
   "source": [
    "yr2013_df['prop_type_cond'] = yr2013_df['primary_property_type_epa_calculated'].map(categories2)"
   ]
  },
  {
   "cell_type": "code",
   "execution_count": 13,
   "metadata": {},
   "outputs": [
    {
     "data": {
      "text/plain": [
       "Education               260\n",
       "Office                  169\n",
       "Industrial              118\n",
       "Retail                   78\n",
       "Other                    65\n",
       "Medical                  43\n",
       "Housing                  37\n",
       "Hospitality              35\n",
       "Parking                  31\n",
       "Public Services/Gov      28\n",
       "Religious                14\n",
       "Sports/Entertainment      7\n",
       "Science                   6\n",
       "Prison                    5\n",
       "Convention Center         2\n",
       "Name: prop_type_cond, dtype: int64"
      ]
     },
     "execution_count": 13,
     "metadata": {},
     "output_type": "execute_result"
    }
   ],
   "source": [
    "yr2013_df['prop_type_cond'].value_counts()"
   ]
  },
  {
   "cell_type": "markdown",
   "metadata": {},
   "source": [
    "#### Now I need to create new dataframe per property type per year"
   ]
  },
  {
   "cell_type": "markdown",
   "metadata": {},
   "source": [
    "First, I make new dataframes with per property type  per year"
   ]
  },
  {
   "cell_type": "code",
   "execution_count": 14,
   "metadata": {},
   "outputs": [],
   "source": [
    "yr2013_housing = yr2013_df[yr2013_df['prop_type_cond'].isin(['Housing'])]"
   ]
  },
  {
   "cell_type": "code",
   "execution_count": 15,
   "metadata": {},
   "outputs": [],
   "source": [
    "yr2014_housing = yr2014_df[yr2014_df['prop_type_cond'].isin(['Housing'])]"
   ]
  },
  {
   "cell_type": "code",
   "execution_count": 16,
   "metadata": {},
   "outputs": [],
   "source": [
    "yr2015_housing = yr2015_df[yr2015_df['prop_type_cond'].isin(['Housing'])]"
   ]
  },
  {
   "cell_type": "code",
   "execution_count": 17,
   "metadata": {},
   "outputs": [],
   "source": [
    "yr2016_housing = yr2016_df[yr2016_df['prop_type_cond'].isin(['Housing'])]"
   ]
  },
  {
   "cell_type": "code",
   "execution_count": 18,
   "metadata": {},
   "outputs": [],
   "source": [
    "yr2017_housing = yr2017_df[yr2017_df['prop_type_cond'].isin(['Housing'])]"
   ]
  },
  {
   "cell_type": "markdown",
   "metadata": {},
   "source": [
    "#### Calculate yearly means per property type\n",
    "Here I use np.nanmean as a way to let the NaN's of the dataframe be excluded from my average.\n",
    "\n",
    "##### Housing GHG Emissions (averages per year)"
   ]
  },
  {
   "cell_type": "code",
   "execution_count": 19,
   "metadata": {},
   "outputs": [
    {
     "data": {
      "text/plain": [
       "1209.1235294117648"
      ]
     },
     "execution_count": 19,
     "metadata": {},
     "output_type": "execute_result"
    }
   ],
   "source": [
    "np.nanmean(yr2013_housing['total_ghg_emissions_mtco2e'])"
   ]
  },
  {
   "cell_type": "code",
   "execution_count": 20,
   "metadata": {},
   "outputs": [
    {
     "data": {
      "text/plain": [
       "1207.3823529411766"
      ]
     },
     "execution_count": 20,
     "metadata": {},
     "output_type": "execute_result"
    }
   ],
   "source": [
    "np.nanmean(yr2014_housing['total_ghg_emissions_mtco2e'])"
   ]
  },
  {
   "cell_type": "code",
   "execution_count": 21,
   "metadata": {},
   "outputs": [
    {
     "data": {
      "text/plain": [
       "1091.9238095238095"
      ]
     },
     "execution_count": 21,
     "metadata": {},
     "output_type": "execute_result"
    }
   ],
   "source": [
    "np.nanmean(yr2015_housing['total_ghg_emissions_mtco2e'])"
   ]
  },
  {
   "cell_type": "code",
   "execution_count": 22,
   "metadata": {},
   "outputs": [
    {
     "data": {
      "text/plain": [
       "1112.2093750000001"
      ]
     },
     "execution_count": 22,
     "metadata": {},
     "output_type": "execute_result"
    }
   ],
   "source": [
    "np.nanmean(yr2016_housing['total_ghg_emissions_mtco2e'])"
   ]
  },
  {
   "cell_type": "code",
   "execution_count": 23,
   "metadata": {},
   "outputs": [
    {
     "data": {
      "text/plain": [
       "1037.6772093023255"
      ]
     },
     "execution_count": 23,
     "metadata": {},
     "output_type": "execute_result"
    }
   ],
   "source": [
    "np.nanmean(yr2017_housing['total_ghg_emissions_mtco2e'])"
   ]
  },
  {
   "cell_type": "markdown",
   "metadata": {},
   "source": [
    "##### Office GHG Emissions (averages per year)"
   ]
  },
  {
   "cell_type": "code",
   "execution_count": 24,
   "metadata": {},
   "outputs": [],
   "source": [
    "yr2013_office = yr2013_df[yr2013_df['prop_type_cond'].isin(['Office'])]"
   ]
  },
  {
   "cell_type": "code",
   "execution_count": 25,
   "metadata": {},
   "outputs": [],
   "source": [
    "yr2014_office = yr2014_df[yr2014_df['prop_type_cond'].isin(['Office'])]"
   ]
  },
  {
   "cell_type": "code",
   "execution_count": 26,
   "metadata": {},
   "outputs": [],
   "source": [
    "yr2015_office = yr2015_df[yr2015_df['prop_type_cond'].isin(['Office'])]"
   ]
  },
  {
   "cell_type": "code",
   "execution_count": 27,
   "metadata": {},
   "outputs": [],
   "source": [
    "yr2016_office = yr2016_df[yr2016_df['prop_type_cond'].isin(['Office'])]"
   ]
  },
  {
   "cell_type": "code",
   "execution_count": 28,
   "metadata": {},
   "outputs": [],
   "source": [
    "yr2017_office = yr2017_df[yr2017_df['prop_type_cond'].isin(['Office'])]"
   ]
  },
  {
   "cell_type": "code",
   "execution_count": 29,
   "metadata": {},
   "outputs": [
    {
     "data": {
      "text/plain": [
       "3151.7652694610783"
      ]
     },
     "execution_count": 29,
     "metadata": {},
     "output_type": "execute_result"
    }
   ],
   "source": [
    "np.nanmean(yr2013_office['total_ghg_emissions_mtco2e'])"
   ]
  },
  {
   "cell_type": "code",
   "execution_count": 30,
   "metadata": {},
   "outputs": [
    {
     "data": {
      "text/plain": [
       "3274.802285714286"
      ]
     },
     "execution_count": 30,
     "metadata": {},
     "output_type": "execute_result"
    }
   ],
   "source": [
    "np.nanmean(yr2014_office['total_ghg_emissions_mtco2e'])"
   ]
  },
  {
   "cell_type": "code",
   "execution_count": 31,
   "metadata": {},
   "outputs": [
    {
     "data": {
      "text/plain": [
       "3172.988421052632"
      ]
     },
     "execution_count": 31,
     "metadata": {},
     "output_type": "execute_result"
    }
   ],
   "source": [
    "np.nanmean(yr2015_office['total_ghg_emissions_mtco2e'])"
   ]
  },
  {
   "cell_type": "code",
   "execution_count": 32,
   "metadata": {},
   "outputs": [
    {
     "data": {
      "text/plain": [
       "2559.1029702970295"
      ]
     },
     "execution_count": 32,
     "metadata": {},
     "output_type": "execute_result"
    }
   ],
   "source": [
    "np.nanmean(yr2016_office['total_ghg_emissions_mtco2e'])"
   ]
  },
  {
   "cell_type": "code",
   "execution_count": 33,
   "metadata": {},
   "outputs": [
    {
     "data": {
      "text/plain": [
       "5124.873999999999"
      ]
     },
     "execution_count": 33,
     "metadata": {},
     "output_type": "execute_result"
    }
   ],
   "source": [
    "np.nanmean(yr2017_office['total_ghg_emissions_mtco2e'])"
   ]
  },
  {
   "cell_type": "markdown",
   "metadata": {},
   "source": [
    "##### Education GHG Emissions (averages per year)"
   ]
  },
  {
   "cell_type": "code",
   "execution_count": 34,
   "metadata": {},
   "outputs": [],
   "source": [
    "yr2013_edu = yr2013_df[yr2013_df['prop_type_cond'].isin(['Education'])]"
   ]
  },
  {
   "cell_type": "code",
   "execution_count": 35,
   "metadata": {},
   "outputs": [],
   "source": [
    "yr2014_edu = yr2014_df[yr2014_df['prop_type_cond'].isin(['Education'])]"
   ]
  },
  {
   "cell_type": "code",
   "execution_count": 36,
   "metadata": {},
   "outputs": [],
   "source": [
    "yr2015_edu = yr2015_df[yr2015_df['prop_type_cond'].isin(['Education'])]"
   ]
  },
  {
   "cell_type": "code",
   "execution_count": 37,
   "metadata": {},
   "outputs": [],
   "source": [
    "yr2016_edu = yr2016_df[yr2016_df['prop_type_cond'].isin(['Education'])]"
   ]
  },
  {
   "cell_type": "code",
   "execution_count": 38,
   "metadata": {},
   "outputs": [],
   "source": [
    "yr2017_edu = yr2017_df[yr2017_df['prop_type_cond'].isin(['Education'])]"
   ]
  },
  {
   "cell_type": "code",
   "execution_count": 39,
   "metadata": {},
   "outputs": [
    {
     "data": {
      "text/plain": [
       "1269.7325581395348"
      ]
     },
     "execution_count": 39,
     "metadata": {},
     "output_type": "execute_result"
    }
   ],
   "source": [
    "np.nanmean(yr2013_edu['total_ghg_emissions_mtco2e'])"
   ]
  },
  {
   "cell_type": "code",
   "execution_count": 40,
   "metadata": {},
   "outputs": [
    {
     "data": {
      "text/plain": [
       "1222.3294314381271"
      ]
     },
     "execution_count": 40,
     "metadata": {},
     "output_type": "execute_result"
    }
   ],
   "source": [
    "np.nanmean(yr2014_edu['total_ghg_emissions_mtco2e'])"
   ]
  },
  {
   "cell_type": "code",
   "execution_count": 41,
   "metadata": {},
   "outputs": [
    {
     "data": {
      "text/plain": [
       "1153.4668604651163"
      ]
     },
     "execution_count": 41,
     "metadata": {},
     "output_type": "execute_result"
    }
   ],
   "source": [
    "np.nanmean(yr2015_edu['total_ghg_emissions_mtco2e'])"
   ]
  },
  {
   "cell_type": "code",
   "execution_count": 42,
   "metadata": {},
   "outputs": [
    {
     "data": {
      "text/plain": [
       "1862.0567723342938"
      ]
     },
     "execution_count": 42,
     "metadata": {},
     "output_type": "execute_result"
    }
   ],
   "source": [
    "np.nanmean(yr2016_edu['total_ghg_emissions_mtco2e'])"
   ]
  },
  {
   "cell_type": "code",
   "execution_count": 43,
   "metadata": {},
   "outputs": [
    {
     "data": {
      "text/plain": [
       "1646.1586510263928"
      ]
     },
     "execution_count": 43,
     "metadata": {},
     "output_type": "execute_result"
    }
   ],
   "source": [
    "np.nanmean(yr2017_edu['total_ghg_emissions_mtco2e'])"
   ]
  },
  {
   "cell_type": "markdown",
   "metadata": {},
   "source": [
    "##### Retail GHG Emissions (averages per year)"
   ]
  },
  {
   "cell_type": "code",
   "execution_count": 44,
   "metadata": {},
   "outputs": [],
   "source": [
    "yr2013_retail = yr2013_df[yr2013_df['prop_type_cond'].isin(['Retail'])]"
   ]
  },
  {
   "cell_type": "code",
   "execution_count": 45,
   "metadata": {},
   "outputs": [],
   "source": [
    "yr2014_retail = yr2014_df[yr2014_df['prop_type_cond'].isin(['Retail'])]"
   ]
  },
  {
   "cell_type": "code",
   "execution_count": 46,
   "metadata": {},
   "outputs": [],
   "source": [
    "yr2015_retail = yr2015_df[yr2015_df['prop_type_cond'].isin(['Retail'])]"
   ]
  },
  {
   "cell_type": "code",
   "execution_count": 47,
   "metadata": {},
   "outputs": [],
   "source": [
    "yr2016_retail = yr2016_df[yr2016_df['prop_type_cond'].isin(['Retail'])]"
   ]
  },
  {
   "cell_type": "code",
   "execution_count": 48,
   "metadata": {},
   "outputs": [],
   "source": [
    "yr2017_retail = yr2017_df[yr2017_df['prop_type_cond'].isin(['Retail'])]"
   ]
  },
  {
   "cell_type": "code",
   "execution_count": 49,
   "metadata": {},
   "outputs": [
    {
     "data": {
      "text/plain": [
       "1551.3065789473685"
      ]
     },
     "execution_count": 49,
     "metadata": {},
     "output_type": "execute_result"
    }
   ],
   "source": [
    "np.nanmean(yr2013_retail['total_ghg_emissions_mtco2e'])"
   ]
  },
  {
   "cell_type": "code",
   "execution_count": 50,
   "metadata": {},
   "outputs": [
    {
     "data": {
      "text/plain": [
       "1469.3416666666667"
      ]
     },
     "execution_count": 50,
     "metadata": {},
     "output_type": "execute_result"
    }
   ],
   "source": [
    "np.nanmean(yr2014_retail['total_ghg_emissions_mtco2e'])"
   ]
  },
  {
   "cell_type": "code",
   "execution_count": 51,
   "metadata": {},
   "outputs": [
    {
     "data": {
      "text/plain": [
       "1439.9463414634145"
      ]
     },
     "execution_count": 51,
     "metadata": {},
     "output_type": "execute_result"
    }
   ],
   "source": [
    "np.nanmean(yr2015_retail['total_ghg_emissions_mtco2e'])"
   ]
  },
  {
   "cell_type": "code",
   "execution_count": 52,
   "metadata": {},
   "outputs": [
    {
     "data": {
      "text/plain": [
       "1048.0025974025973"
      ]
     },
     "execution_count": 52,
     "metadata": {},
     "output_type": "execute_result"
    }
   ],
   "source": [
    "np.nanmean(yr2016_retail['total_ghg_emissions_mtco2e'])"
   ]
  },
  {
   "cell_type": "code",
   "execution_count": 53,
   "metadata": {},
   "outputs": [
    {
     "data": {
      "text/plain": [
       "1196.443373493976"
      ]
     },
     "execution_count": 53,
     "metadata": {},
     "output_type": "execute_result"
    }
   ],
   "source": [
    "np.nanmean(yr2017_retail['total_ghg_emissions_mtco2e'])"
   ]
  },
  {
   "cell_type": "markdown",
   "metadata": {},
   "source": [
    "##### Industrial GHG Emissions (averages per year)"
   ]
  },
  {
   "cell_type": "code",
   "execution_count": 54,
   "metadata": {},
   "outputs": [],
   "source": [
    "yr2013_indust = yr2013_df[yr2013_df['prop_type_cond'].isin(['Industrial'])]"
   ]
  },
  {
   "cell_type": "code",
   "execution_count": 55,
   "metadata": {},
   "outputs": [],
   "source": [
    "yr2014_indust = yr2014_df[yr2014_df['prop_type_cond'].isin(['Industrial'])]"
   ]
  },
  {
   "cell_type": "code",
   "execution_count": 56,
   "metadata": {},
   "outputs": [],
   "source": [
    "yr2015_indust = yr2015_df[yr2015_df['prop_type_cond'].isin(['Industrial'])]"
   ]
  },
  {
   "cell_type": "code",
   "execution_count": 57,
   "metadata": {},
   "outputs": [],
   "source": [
    "yr2016_indust = yr2016_df[yr2016_df['prop_type_cond'].isin(['Industrial'])]"
   ]
  },
  {
   "cell_type": "code",
   "execution_count": 58,
   "metadata": {},
   "outputs": [],
   "source": [
    "yr2017_indust = yr2017_df[yr2017_df['prop_type_cond'].isin(['Industrial'])]"
   ]
  },
  {
   "cell_type": "code",
   "execution_count": 59,
   "metadata": {},
   "outputs": [
    {
     "data": {
      "text/plain": [
       "2157.18547008547"
      ]
     },
     "execution_count": 59,
     "metadata": {},
     "output_type": "execute_result"
    }
   ],
   "source": [
    "np.nanmean(yr2013_indust['total_ghg_emissions_mtco2e'])"
   ]
  },
  {
   "cell_type": "code",
   "execution_count": 60,
   "metadata": {},
   "outputs": [
    {
     "data": {
      "text/plain": [
       "2467.942424242424"
      ]
     },
     "execution_count": 60,
     "metadata": {},
     "output_type": "execute_result"
    }
   ],
   "source": [
    "np.nanmean(yr2014_indust['total_ghg_emissions_mtco2e'])"
   ]
  },
  {
   "cell_type": "code",
   "execution_count": 61,
   "metadata": {},
   "outputs": [
    {
     "data": {
      "text/plain": [
       "2266.390178571429"
      ]
     },
     "execution_count": 61,
     "metadata": {},
     "output_type": "execute_result"
    }
   ],
   "source": [
    "np.nanmean(yr2015_indust['total_ghg_emissions_mtco2e'])"
   ]
  },
  {
   "cell_type": "code",
   "execution_count": 62,
   "metadata": {},
   "outputs": [
    {
     "data": {
      "text/plain": [
       "1851.92"
      ]
     },
     "execution_count": 62,
     "metadata": {},
     "output_type": "execute_result"
    }
   ],
   "source": [
    "np.nanmean(yr2016_indust['total_ghg_emissions_mtco2e'])"
   ]
  },
  {
   "cell_type": "code",
   "execution_count": 63,
   "metadata": {},
   "outputs": [
    {
     "data": {
      "text/plain": [
       "1054.0705357142856"
      ]
     },
     "execution_count": 63,
     "metadata": {},
     "output_type": "execute_result"
    }
   ],
   "source": [
    "np.nanmean(yr2017_indust['total_ghg_emissions_mtco2e'])"
   ]
  },
  {
   "cell_type": "markdown",
   "metadata": {},
   "source": [
    "### Get the mean per year of all the properties"
   ]
  },
  {
   "cell_type": "code",
   "execution_count": 64,
   "metadata": {},
   "outputs": [
    {
     "data": {
      "text/plain": [
       "2710.6108273748723"
      ]
     },
     "execution_count": 64,
     "metadata": {},
     "output_type": "execute_result"
    }
   ],
   "source": [
    "np.nanmean(yr2013_df['total_ghg_emissions_mtco2e'])"
   ]
  },
  {
   "cell_type": "code",
   "execution_count": 65,
   "metadata": {},
   "outputs": [
    {
     "data": {
      "text/plain": [
       "2509.941277890466"
      ]
     },
     "execution_count": 65,
     "metadata": {},
     "output_type": "execute_result"
    }
   ],
   "source": [
    "np.nanmean(yr2014_df['total_ghg_emissions_mtco2e'])"
   ]
  },
  {
   "cell_type": "code",
   "execution_count": 66,
   "metadata": {},
   "outputs": [
    {
     "data": {
      "text/plain": [
       "2526.0945504087194"
      ]
     },
     "execution_count": 66,
     "metadata": {},
     "output_type": "execute_result"
    }
   ],
   "source": [
    "np.nanmean(yr2015_df['total_ghg_emissions_mtco2e'])"
   ]
  },
  {
   "cell_type": "code",
   "execution_count": 67,
   "metadata": {},
   "outputs": [
    {
     "data": {
      "text/plain": [
       "2475.085947712418"
      ]
     },
     "execution_count": 67,
     "metadata": {},
     "output_type": "execute_result"
    }
   ],
   "source": [
    "np.nanmean(yr2016_df['total_ghg_emissions_mtco2e'])"
   ]
  },
  {
   "cell_type": "code",
   "execution_count": 68,
   "metadata": {},
   "outputs": [
    {
     "data": {
      "text/plain": [
       "2280.105410821643"
      ]
     },
     "execution_count": 68,
     "metadata": {},
     "output_type": "execute_result"
    }
   ],
   "source": [
    "np.nanmean(yr2017_df['total_ghg_emissions_mtco2e'])"
   ]
  },
  {
   "cell_type": "markdown",
   "metadata": {},
   "source": [
    "## Step 2: Create new CSV with the calculated means\n",
    "\n",
    "I created my own new CSV with all these mean calculations. This has Philly has a whole and different property types and their respective average GHG emission over the five years."
   ]
  },
  {
   "cell_type": "code",
   "execution_count": 69,
   "metadata": {},
   "outputs": [],
   "source": [
    "mean_df = pd.read_csv('../data/means.csv')\n"
   ]
  },
  {
   "cell_type": "code",
   "execution_count": 70,
   "metadata": {},
   "outputs": [
    {
     "data": {
      "text/html": [
       "<div>\n",
       "<style scoped>\n",
       "    .dataframe tbody tr th:only-of-type {\n",
       "        vertical-align: middle;\n",
       "    }\n",
       "\n",
       "    .dataframe tbody tr th {\n",
       "        vertical-align: top;\n",
       "    }\n",
       "\n",
       "    .dataframe thead th {\n",
       "        text-align: right;\n",
       "    }\n",
       "</style>\n",
       "<table border=\"1\" class=\"dataframe\">\n",
       "  <thead>\n",
       "    <tr style=\"text-align: right;\">\n",
       "      <th></th>\n",
       "      <th>Year</th>\n",
       "      <th>Overall</th>\n",
       "      <th>Housing</th>\n",
       "      <th>Office</th>\n",
       "      <th>Education</th>\n",
       "      <th>Retail</th>\n",
       "      <th>Industrial</th>\n",
       "    </tr>\n",
       "  </thead>\n",
       "  <tbody>\n",
       "    <tr>\n",
       "      <th>0</th>\n",
       "      <td>2013.0</td>\n",
       "      <td>2710.61</td>\n",
       "      <td>1209.12</td>\n",
       "      <td>3151.77</td>\n",
       "      <td>1269.73</td>\n",
       "      <td>1551.31</td>\n",
       "      <td>2157.19</td>\n",
       "    </tr>\n",
       "    <tr>\n",
       "      <th>1</th>\n",
       "      <td>2014.0</td>\n",
       "      <td>2509.94</td>\n",
       "      <td>1207.38</td>\n",
       "      <td>3274.80</td>\n",
       "      <td>1222.33</td>\n",
       "      <td>1469.34</td>\n",
       "      <td>2467.94</td>\n",
       "    </tr>\n",
       "    <tr>\n",
       "      <th>2</th>\n",
       "      <td>2015.0</td>\n",
       "      <td>2526.09</td>\n",
       "      <td>1091.92</td>\n",
       "      <td>3172.99</td>\n",
       "      <td>1153.47</td>\n",
       "      <td>1439.95</td>\n",
       "      <td>2266.39</td>\n",
       "    </tr>\n",
       "    <tr>\n",
       "      <th>3</th>\n",
       "      <td>2016.0</td>\n",
       "      <td>2475.09</td>\n",
       "      <td>1112.21</td>\n",
       "      <td>2559.10</td>\n",
       "      <td>1862.06</td>\n",
       "      <td>1048.00</td>\n",
       "      <td>1851.92</td>\n",
       "    </tr>\n",
       "    <tr>\n",
       "      <th>4</th>\n",
       "      <td>2017.0</td>\n",
       "      <td>2280.11</td>\n",
       "      <td>1037.68</td>\n",
       "      <td>5124.87</td>\n",
       "      <td>1646.16</td>\n",
       "      <td>1196.44</td>\n",
       "      <td>1054.07</td>\n",
       "    </tr>\n",
       "    <tr>\n",
       "      <th>5</th>\n",
       "      <td>NaN</td>\n",
       "      <td>NaN</td>\n",
       "      <td>NaN</td>\n",
       "      <td>NaN</td>\n",
       "      <td>NaN</td>\n",
       "      <td>NaN</td>\n",
       "      <td>NaN</td>\n",
       "    </tr>\n",
       "    <tr>\n",
       "      <th>6</th>\n",
       "      <td>NaN</td>\n",
       "      <td>NaN</td>\n",
       "      <td>NaN</td>\n",
       "      <td>NaN</td>\n",
       "      <td>NaN</td>\n",
       "      <td>NaN</td>\n",
       "      <td>NaN</td>\n",
       "    </tr>\n",
       "  </tbody>\n",
       "</table>\n",
       "</div>"
      ],
      "text/plain": [
       "     Year  Overall  Housing   Office  Education   Retail  Industrial\n",
       "0  2013.0  2710.61  1209.12  3151.77    1269.73  1551.31     2157.19\n",
       "1  2014.0  2509.94  1207.38  3274.80    1222.33  1469.34     2467.94\n",
       "2  2015.0  2526.09  1091.92  3172.99    1153.47  1439.95     2266.39\n",
       "3  2016.0  2475.09  1112.21  2559.10    1862.06  1048.00     1851.92\n",
       "4  2017.0  2280.11  1037.68  5124.87    1646.16  1196.44     1054.07\n",
       "5     NaN      NaN      NaN      NaN        NaN      NaN         NaN\n",
       "6     NaN      NaN      NaN      NaN        NaN      NaN         NaN"
      ]
     },
     "execution_count": 70,
     "metadata": {},
     "output_type": "execute_result"
    }
   ],
   "source": [
    "mean_df"
   ]
  },
  {
   "cell_type": "markdown",
   "metadata": {},
   "source": [
    "### Clean Data"
   ]
  },
  {
   "cell_type": "markdown",
   "metadata": {},
   "source": [
    "Need to make the year an integer. I need to get rid of the NaN's first to be able to run the integer code"
   ]
  },
  {
   "cell_type": "code",
   "execution_count": 71,
   "metadata": {},
   "outputs": [],
   "source": [
    "mean_df_final = mean_df.drop(mean_df.index[[5,6]])"
   ]
  },
  {
   "cell_type": "code",
   "execution_count": 72,
   "metadata": {},
   "outputs": [],
   "source": [
    "mean_df_final['Year']=mean_df_final['Year'].astype('int')"
   ]
  },
  {
   "cell_type": "markdown",
   "metadata": {},
   "source": [
    "## Step 3: Create Scatter Plots for GHG Emissions to Visualize Data"
   ]
  },
  {
   "cell_type": "markdown",
   "metadata": {},
   "source": [
    "#### Graph 1: Change in GHG Emissions of all Philly Buildings Over Time"
   ]
  },
  {
   "cell_type": "code",
   "execution_count": 73,
   "metadata": {},
   "outputs": [
    {
     "data": {
      "image/png": "[encoded data removed]",
      "text/plain": [
       "<Figure size 432x288 with 1 Axes>"
      ]
     },
     "metadata": {
      "needs_background": "light"
     },
     "output_type": "display_data"
    }
   ],
   "source": [
    "#overall plot\n",
    "#spell out the x axis -- which years I am looking at            \n",
    "years = [2013, 2014, 2015, 2016, 2017]\n",
    "fig=plt.figure()\n",
    "\n",
    "\n",
    "ax=fig.add_axes([0,0,1,1])\n",
    "ax.plot(mean_df_final['Year'], mean_df_final['Overall'], color='r')\n",
    "ax.set_xlabel('Year')\n",
    "ax.set_ylabel('Overall GHG Emission (mtco2e)')\n",
    "plt.xticks(years)\n",
    "ax.set_title('Change in GHG Emissions in Philly Over Time', size=13)\n",
    " \n",
    "\n",
    "first = mean_df_final.iloc[0]\n",
    "last = mean_df_final.iloc[-1]\n",
    "\n",
    "ax.plot([first['Year'], last['Year']], [first['Overall'], last['Overall']])\n",
    "plt.show()\n",
    "\n"
   ]
  },
  {
   "cell_type": "code",
   "execution_count": 139,
   "metadata": {},
   "outputs": [
    {
     "data": {
      "text/plain": [
       "-0.15882033933321282"
      ]
     },
     "execution_count": 139,
     "metadata": {},
     "output_type": "execute_result"
    }
   ],
   "source": [
    "#Calculate percentage change from 2013 to 2017 \n",
    "(last['Overall'] - first['Overall'])/(first['Overall'])"
   ]
  },
  {
   "cell_type": "markdown",
   "metadata": {},
   "source": [
    "Overall, energy emissions have dropped 15.88% from 2013 to 2017"
   ]
  },
  {
   "cell_type": "markdown",
   "metadata": {},
   "source": [
    "#### Graph 2: Change in GHG Emissions of Philly Office Buildings Over Time"
   ]
  },
  {
   "cell_type": "code",
   "execution_count": 75,
   "metadata": {},
   "outputs": [
    {
     "data": {
      "image/png": "[encoded data removed]",
      "text/plain": [
       "<Figure size 432x288 with 1 Axes>"
      ]
     },
     "metadata": {
      "needs_background": "light"
     },
     "output_type": "display_data"
    }
   ],
   "source": [
    "#office plot\n",
    "fig=plt.figure()\n",
    "ax=fig.add_axes([0,0,1,1])\n",
    "ax.plot(mean_df_final['Year'], mean_df_final['Office'],color='r')\n",
    "ax.set_xlabel('Year')\n",
    "ax.set_ylabel('Office GHG Emission')\n",
    "ax.set_ylabel('Overall GHG Emission')\n",
    "plt.xticks(years)\n",
    "ax.set_title('Change in GHG Emissions in Philly Offices Over Time')\n",
    "plt.show()"
   ]
  },
  {
   "cell_type": "markdown",
   "metadata": {},
   "source": [
    "Here we can see office GHG went up drastically in 2017"
   ]
  },
  {
   "cell_type": "markdown",
   "metadata": {},
   "source": [
    "#### Graph 3: Change in GHG Emissions of Philly Residential Buildings Over Time"
   ]
  },
  {
   "cell_type": "code",
   "execution_count": 76,
   "metadata": {},
   "outputs": [
    {
     "data": {
      "image/png": "[encoded data removed]",
      "text/plain": [
       "<Figure size 432x288 with 1 Axes>"
      ]
     },
     "metadata": {
      "needs_background": "light"
     },
     "output_type": "display_data"
    }
   ],
   "source": [
    "#housing plot\n",
    "fig=plt.figure()\n",
    "ax=fig.add_axes([0,0,1,1])\n",
    "ax.plot(mean_df_final['Year'], mean_df_final['Housing'],color='r')\n",
    "ax.set_xlabel('Year')\n",
    "ax.set_ylabel('Housing GHG Emission (mtco2e)')\n",
    "plt.xticks(years)\n",
    "ax.set_title('Change in GHG Emissions in Philly Residential Buildings Over Time')\n",
    "plt.show()"
   ]
  },
  {
   "cell_type": "markdown",
   "metadata": {},
   "source": [
    "Here we see residential emissions have gone down "
   ]
  },
  {
   "cell_type": "markdown",
   "metadata": {},
   "source": [
    "#### Graph 4: Change in GHG Emissions of Philly Retail Buildings Over Time"
   ]
  },
  {
   "cell_type": "code",
   "execution_count": 77,
   "metadata": {},
   "outputs": [
    {
     "data": {
      "image/png": "[encoded data removed]",
      "text/plain": [
       "<Figure size 432x288 with 1 Axes>"
      ]
     },
     "metadata": {
      "needs_background": "light"
     },
     "output_type": "display_data"
    }
   ],
   "source": [
    "#retail plot\n",
    "fig=plt.figure()\n",
    "ax=fig.add_axes([0,0,1,1])\n",
    "ax.plot(mean_df_final['Year'], mean_df_final['Retail'],color='r')\n",
    "ax.set_xlabel('Year')\n",
    "ax.set_ylabel('Retail GHG Emission (mtco2e)')\n",
    "plt.xticks(years)\n",
    "ax.set_title('Change in GHG Emissions in Philly Retail Over Time')\n",
    "plt.show()"
   ]
  },
  {
   "cell_type": "markdown",
   "metadata": {},
   "source": [
    "Here we can see retail has dropped - got higher in 2017 but down from 2013"
   ]
  },
  {
   "cell_type": "markdown",
   "metadata": {},
   "source": [
    "#### Graph 5: Change in GHG Emissions of Philly Industrial Buildings Over Time"
   ]
  },
  {
   "cell_type": "code",
   "execution_count": 78,
   "metadata": {},
   "outputs": [
    {
     "data": {
      "image/png": "[encoded data removed]",
      "text/plain": [
       "<Figure size 432x288 with 1 Axes>"
      ]
     },
     "metadata": {
      "needs_background": "light"
     },
     "output_type": "display_data"
    }
   ],
   "source": [
    "#industrial plot\n",
    "fig=plt.figure()\n",
    "ax=fig.add_axes([0,0,1,1])\n",
    "ax.plot(mean_df_final['Year'], mean_df_final['Industrial'],color='r')\n",
    "ax.set_xlabel('Year')\n",
    "ax.set_ylabel('Industrial GHG Emission (mtco2e)')\n",
    "plt.xticks(years)\n",
    "ax.set_title('Change in GHG Emissions in Philly Industrial Over Time')\n",
    "plt.show()"
   ]
  },
  {
   "cell_type": "markdown",
   "metadata": {},
   "source": [
    "Industrial has gone down drastically "
   ]
  },
  {
   "cell_type": "markdown",
   "metadata": {},
   "source": [
    "## Step 4: Plot all the property types on one graph"
   ]
  },
  {
   "cell_type": "markdown",
   "metadata": {},
   "source": [
    "Now that I have seen the individual plots, I want to build a code that puts all of the plots on the same graph. This will allow me to compare the different property types and their trends better"
   ]
  },
  {
   "cell_type": "code",
   "execution_count": 79,
   "metadata": {},
   "outputs": [],
   "source": [
    "#create a general dataframe that reads in all the properties \n",
    "df = pd.read_csv('../data/properties_reported_2017.csv')"
   ]
  },
  {
   "cell_type": "code",
   "execution_count": 80,
   "metadata": {},
   "outputs": [
    {
     "data": {
      "text/plain": [
       "Index(['electricity_use_kbtu', 'objectid', 'street_address', 'property_name',\n",
       "       'opa_account_num', 'postal_code', 'num_of_buildings', 'year_built',\n",
       "       'primary_prop_type_epa_calc', 'total_floor_area_bld_pk_ft2',\n",
       "       'portfolio_manager_id', 'natural_gas_use_kbtu', 'fuel_oil_o2_use_kbtu',\n",
       "       'steam_use_kbtu', 'energy_star_score', 'site_eui_kbtuft2',\n",
       "       'source_eui_kbtuft2', 'water_use_all_kgal',\n",
       "       'total_ghg_emissions_mtco2e', 'notes'],\n",
       "      dtype='object')"
      ]
     },
     "execution_count": 80,
     "metadata": {},
     "output_type": "execute_result"
    }
   ],
   "source": [
    "#make sure I know what all the columns are in these dataframes\n",
    "df.columns"
   ]
  },
  {
   "cell_type": "code",
   "execution_count": 81,
   "metadata": {},
   "outputs": [
    {
     "name": "stdout",
     "output_type": "stream",
     "text": [
      "{'Housing': [1209.1235294117648, 1207.3823529411766, 1091.9238095238095, 1112.2093750000001, 1037.6772093023255], 'Education': [1269.7325581395348, 1222.3294314381271, 1153.4668604651163, 1862.0567723342938, 1646.1586510263928], 'Office': [3151.7652694610783, 3274.802285714286, 3172.988421052632, 2559.1029702970295, 5124.873999999999], 'Industrial': [2157.18547008547, 2467.942424242424, 2266.390178571429, 1851.92, 1054.0705357142856], 'Retail': [1551.3065789473685, 1469.3416666666667, 1439.9463414634145, 1048.0025974025973, 1196.443373493976]}\n"
     ]
    },
    {
     "data": {
      "image/png": "[encoded data removed]",
      "text/plain": [
       "<Figure size 432x288 with 1 Axes>"
      ]
     },
     "metadata": {
      "needs_background": "light"
     },
     "output_type": "display_data"
    }
   ],
   "source": [
    "# bring back the categories dictionary to be able to separate out the property types I am interested in \n",
    "categories = {\n",
    "    'Housing' : ['Multifamily Housing', 'Residential Care Facility', 'Other - Lodging/Residential', 'Residence Hall/Dormitory', 'Senior Care Community'],\n",
    "    'Office' : ['Office', 'Financial Office'],\n",
    "    'Science' : ['Other - Technology/Science', 'Data Center', 'Laboratory'],\n",
    "    'Education' : ['K-12 School', 'College/University', 'Other - Education', 'Adult Education'],\n",
    "    'Industrial' : ['Wastewater Treatment Plant', 'Other - Utility', 'Drinking Water Treatment & Distribution', 'Non-Refridgerated Warehouse', 'Distribution Center', 'Manufacturing/Industrial Plant', 'Self-Storage Facility', 'Refrigerated Warehouse'],\n",
    "    'Hospitality' : ['Hotel'],\n",
    "    'Retail' : ['Enclosed Mall', 'Wholesale Club/Supercenter', 'Food Sales', 'Bar/Nightclub', 'Automobile Dealership', 'Mailing Center/Post Office', 'Restaurant', 'Food Service', 'Retail Store','Supermarket/Grocery Store', 'Other - Mall','Strip Mall', 'Repair Services (Vehicle, Shoe, Locksmith, etc.)'],\n",
    "    'Medical' : ['Other - Specialty Hospital', 'Hospital (General Medical & Surgical)', 'Outpatient Rehabilitation/Physical Therapy', 'Ambulatory Surgical Center', 'Medical Office'],\n",
    "    'Religious' : ['Worship Facility'],\n",
    "    'Sports/Entertainment' : ['Stadium (Open)', 'Other - Recreation', 'Ice/Curling Rink', 'Movie Theater', 'Fitness Center/Health Club/Gym', 'Stadium (Closed)', 'Performing Arts'],\n",
    "    'Convention Center' : ['Convention Center'],\n",
    "    'Public Services/Gov' : ['Other - Public Services', 'Social/Meeting Hall', 'Museum', 'Library', 'Courthouse'],\n",
    "    'Prison' : ['Prison/Incarceration'],\n",
    "    'Parking' : ['Parking'],\n",
    "    'Mixed Use' : ['Mixed Use Property'],\n",
    "    'Other': ['Other']\n",
    "}\n",
    "\n",
    "#brick back the code that reverses the dictionary \n",
    "categories2={}\n",
    "for k, vlist in categories.items():\n",
    "    for v in vlist:\n",
    "        categories2[v]=k\n",
    "\n",
    "\n",
    "filenames = ['energy_usage_large_commercial_buildings_reported_2013.csv',\n",
    "             'energy_usage_large_commercial_buildings_reported_2014.csv',\n",
    "             'properties_reported_2015.csv','properties_reported_2016.csv','properties_reported_2017.csv'\n",
    "             ]\n",
    "df = []\n",
    "\n",
    "# add in a try and except because property type columns are named slightly differently for 2013 and 2014 vs 2015-2017\n",
    "for name in filenames:\n",
    "    temp = pd.read_csv('../data/' + name)\n",
    "    try:\n",
    "        temp['prop_cond']=temp['primary_prop_type_epa_calc'].map(categories2)\n",
    "    except KeyError:\n",
    "        temp['prop_cond']=temp['primary_property_type_epa_calculated'].map(categories2)\n",
    "    df.append(temp)\n",
    "\n",
    "# Here I need to spell out what property types I want on my graph since I am only looking at 5 of them\n",
    "plot_data = dict()\n",
    "graph_categories = ['Housing', 'Education', 'Office', 'Industrial','Retail']\n",
    "\n",
    "\n",
    "# create a for loop that takes the categories I am looking at and plots their mean GHG emissions per year\n",
    "for category in graph_categories:\n",
    "    plot_data[category]=[]\n",
    "    for frame in df:\n",
    "        reduced_frame = frame.loc[frame['prop_cond'] == category]\n",
    "        avg=np.nanmean(reduced_frame['total_ghg_emissions_mtco2e'])\n",
    "        plot_data[category].append(avg)\n",
    "\n",
    "print(plot_data)\n",
    "\n",
    "#spell out the x axis -- which years I am looking at            \n",
    "years = [2013, 2014, 2015, 2016, 2017]\n",
    "for category in graph_categories:\n",
    "    plt.plot(years, plot_data[category])\n",
    "\n",
    "plt.xlabel('Year')\n",
    "plt.ylabel('Total greenhouse emissions (mtco2e)')\n",
    "plt.xticks(years) #make the x axis only the years as solid numbers\n",
    "plt.title('Average GHG Emissions Per Property Type Over Time', size=13)\n",
    "plt.legend(graph_categories)\n",
    "plt.show()"
   ]
  },
  {
   "cell_type": "markdown",
   "metadata": {},
   "source": [
    "## Step 5: Exploring GHG by year built\n",
    "Are buildings that emit more GHG older?\n",
    "Running this code continuously from 2000 on"
   ]
  },
  {
   "cell_type": "code",
   "execution_count": 82,
   "metadata": {},
   "outputs": [],
   "source": [
    "#create a code that separates the buildings into bins from 2000 on\n",
    "yr2017_df['year_built_group'] = pd.cut(yr2017_df['year_built'], bins=18, labels = ['2000','2001', '2002', '2003', '2004', '2005', '2006', '2007', '2008', '2009', '2010', '2011', '2012', '2013', '2014', '2015', '2016', '2017'])"
   ]
  },
  {
   "cell_type": "code",
   "execution_count": 83,
   "metadata": {},
   "outputs": [],
   "source": [
    "#2000\n",
    "buildings2000 = yr2017_df[yr2017_df['year_built_group'].isin(['2000'])]"
   ]
  },
  {
   "cell_type": "code",
   "execution_count": 84,
   "metadata": {},
   "outputs": [
    {
     "data": {
      "text/plain": [
       "19080.1"
      ]
     },
     "execution_count": 84,
     "metadata": {},
     "output_type": "execute_result"
    }
   ],
   "source": [
    "buildings2000['total_ghg_emissions_mtco2e'].mean()"
   ]
  },
  {
   "cell_type": "code",
   "execution_count": 85,
   "metadata": {},
   "outputs": [],
   "source": [
    "#2001\n",
    "buildings2001 = yr2017_df[yr2017_df['year_built_group'].isin(['2001'])]"
   ]
  },
  {
   "cell_type": "code",
   "execution_count": 86,
   "metadata": {},
   "outputs": [
    {
     "data": {
      "text/plain": [
       "nan"
      ]
     },
     "execution_count": 86,
     "metadata": {},
     "output_type": "execute_result"
    }
   ],
   "source": [
    "buildings2001['total_ghg_emissions_mtco2e'].mean()"
   ]
  },
  {
   "cell_type": "code",
   "execution_count": 87,
   "metadata": {},
   "outputs": [],
   "source": [
    "#2002\n",
    "buildings2002 = yr2017_df[yr2017_df['year_built_group'].isin(['2002'])]"
   ]
  },
  {
   "cell_type": "code",
   "execution_count": 88,
   "metadata": {},
   "outputs": [
    {
     "data": {
      "text/plain": [
       "nan"
      ]
     },
     "execution_count": 88,
     "metadata": {},
     "output_type": "execute_result"
    }
   ],
   "source": [
    "buildings2002['total_ghg_emissions_mtco2e'].mean()"
   ]
  },
  {
   "cell_type": "code",
   "execution_count": 89,
   "metadata": {},
   "outputs": [],
   "source": [
    "#2003 \n",
    "buildings2003 = yr2017_df[yr2017_df['year_built_group'].isin(['2003'])]"
   ]
  },
  {
   "cell_type": "code",
   "execution_count": 90,
   "metadata": {},
   "outputs": [
    {
     "data": {
      "text/plain": [
       "60.8"
      ]
     },
     "execution_count": 90,
     "metadata": {},
     "output_type": "execute_result"
    }
   ],
   "source": [
    "buildings2003['total_ghg_emissions_mtco2e'].mean()"
   ]
  },
  {
   "cell_type": "code",
   "execution_count": 91,
   "metadata": {},
   "outputs": [],
   "source": [
    "#2004\n",
    "buildings2004 = yr2017_df[yr2017_df['year_built_group'].isin(['2004'])]"
   ]
  },
  {
   "cell_type": "code",
   "execution_count": 92,
   "metadata": {},
   "outputs": [
    {
     "data": {
      "text/plain": [
       "667.6"
      ]
     },
     "execution_count": 92,
     "metadata": {},
     "output_type": "execute_result"
    }
   ],
   "source": [
    "buildings2004['total_ghg_emissions_mtco2e'].mean()"
   ]
  },
  {
   "cell_type": "code",
   "execution_count": 93,
   "metadata": {},
   "outputs": [],
   "source": [
    "#2005\n",
    "buildings2005 = yr2017_df[yr2017_df['year_built_group'].isin(['2005'])]"
   ]
  },
  {
   "cell_type": "code",
   "execution_count": 94,
   "metadata": {},
   "outputs": [
    {
     "data": {
      "text/plain": [
       "128.7"
      ]
     },
     "execution_count": 94,
     "metadata": {},
     "output_type": "execute_result"
    }
   ],
   "source": [
    "buildings2005['total_ghg_emissions_mtco2e'].mean()"
   ]
  },
  {
   "cell_type": "code",
   "execution_count": 95,
   "metadata": {},
   "outputs": [],
   "source": [
    "#2006\n",
    "buildings2006 = yr2017_df[yr2017_df['year_built_group'].isin(['2006'])]"
   ]
  },
  {
   "cell_type": "code",
   "execution_count": 96,
   "metadata": {},
   "outputs": [
    {
     "data": {
      "text/plain": [
       "1567.125"
      ]
     },
     "execution_count": 96,
     "metadata": {},
     "output_type": "execute_result"
    }
   ],
   "source": [
    "buildings2006['total_ghg_emissions_mtco2e'].mean()"
   ]
  },
  {
   "cell_type": "code",
   "execution_count": 97,
   "metadata": {},
   "outputs": [],
   "source": [
    "#2007\n",
    "buildings2007 = yr2017_df[yr2017_df['year_built_group'].isin(['2007'])]"
   ]
  },
  {
   "cell_type": "code",
   "execution_count": 98,
   "metadata": {},
   "outputs": [
    {
     "data": {
      "text/plain": [
       "795.3428571428573"
      ]
     },
     "execution_count": 98,
     "metadata": {},
     "output_type": "execute_result"
    }
   ],
   "source": [
    "buildings2007['total_ghg_emissions_mtco2e'].mean()"
   ]
  },
  {
   "cell_type": "code",
   "execution_count": 99,
   "metadata": {},
   "outputs": [],
   "source": [
    "#2008\n",
    "buildings2008 = yr2017_df[yr2017_df['year_built_group'].isin(['2008'])]"
   ]
  },
  {
   "cell_type": "code",
   "execution_count": 100,
   "metadata": {},
   "outputs": [
    {
     "data": {
      "text/plain": [
       "19006.93333333333"
      ]
     },
     "execution_count": 100,
     "metadata": {},
     "output_type": "execute_result"
    }
   ],
   "source": [
    "buildings2008['total_ghg_emissions_mtco2e'].mean()"
   ]
  },
  {
   "cell_type": "code",
   "execution_count": 101,
   "metadata": {},
   "outputs": [],
   "source": [
    "#2009\n",
    "buildings2009 = yr2017_df[yr2017_df['year_built_group'].isin(['2009'])]"
   ]
  },
  {
   "cell_type": "code",
   "execution_count": 102,
   "metadata": {},
   "outputs": [
    {
     "data": {
      "text/plain": [
       "1561.5520833333333"
      ]
     },
     "execution_count": 102,
     "metadata": {},
     "output_type": "execute_result"
    }
   ],
   "source": [
    "buildings2009['total_ghg_emissions_mtco2e'].mean()"
   ]
  },
  {
   "cell_type": "code",
   "execution_count": 103,
   "metadata": {},
   "outputs": [],
   "source": [
    "#2010\n",
    "buildings2010 = yr2017_df[yr2017_df['year_built_group'].isin(['2010'])]"
   ]
  },
  {
   "cell_type": "code",
   "execution_count": 104,
   "metadata": {},
   "outputs": [
    {
     "data": {
      "text/plain": [
       "1463.4116071428564"
      ]
     },
     "execution_count": 104,
     "metadata": {},
     "output_type": "execute_result"
    }
   ],
   "source": [
    "buildings2010['total_ghg_emissions_mtco2e'].mean()"
   ]
  },
  {
   "cell_type": "code",
   "execution_count": 105,
   "metadata": {},
   "outputs": [],
   "source": [
    "#2011\n",
    "buildings2011 = yr2017_df[yr2017_df['year_built_group'].isin(['2011'])]"
   ]
  },
  {
   "cell_type": "code",
   "execution_count": 106,
   "metadata": {},
   "outputs": [
    {
     "data": {
      "text/plain": [
       "1767.8604347826088"
      ]
     },
     "execution_count": 106,
     "metadata": {},
     "output_type": "execute_result"
    }
   ],
   "source": [
    "buildings2011['total_ghg_emissions_mtco2e'].mean()"
   ]
  },
  {
   "cell_type": "code",
   "execution_count": 107,
   "metadata": {},
   "outputs": [],
   "source": [
    "#2012\n",
    "buildings2012 = yr2017_df[yr2017_df['year_built_group'].isin(['2012'])]"
   ]
  },
  {
   "cell_type": "code",
   "execution_count": 108,
   "metadata": {
    "scrolled": true
   },
   "outputs": [
    {
     "data": {
      "text/plain": [
       "1950.9594594594587"
      ]
     },
     "execution_count": 108,
     "metadata": {},
     "output_type": "execute_result"
    }
   ],
   "source": [
    "buildings2012['total_ghg_emissions_mtco2e'].mean()"
   ]
  },
  {
   "cell_type": "code",
   "execution_count": 109,
   "metadata": {},
   "outputs": [],
   "source": [
    "#2013\n",
    "buildings2013 = yr2017_df[yr2017_df['year_built_group'].isin(['2013'])]"
   ]
  },
  {
   "cell_type": "code",
   "execution_count": 110,
   "metadata": {},
   "outputs": [
    {
     "data": {
      "text/plain": [
       "1185.8531034482755"
      ]
     },
     "execution_count": 110,
     "metadata": {},
     "output_type": "execute_result"
    }
   ],
   "source": [
    "buildings2013['total_ghg_emissions_mtco2e'].mean()"
   ]
  },
  {
   "cell_type": "code",
   "execution_count": 111,
   "metadata": {},
   "outputs": [],
   "source": [
    "#2014\n",
    "buildings2014 = yr2017_df[yr2017_df['year_built_group'].isin(['2014'])]"
   ]
  },
  {
   "cell_type": "code",
   "execution_count": 112,
   "metadata": {},
   "outputs": [
    {
     "data": {
      "text/plain": [
       "3410.3221789883273"
      ]
     },
     "execution_count": 112,
     "metadata": {},
     "output_type": "execute_result"
    }
   ],
   "source": [
    "buildings2014['total_ghg_emissions_mtco2e'].mean()"
   ]
  },
  {
   "cell_type": "code",
   "execution_count": 113,
   "metadata": {},
   "outputs": [],
   "source": [
    "#2015\n",
    "buildings2015 = yr2017_df[yr2017_df['year_built_group'].isin(['2015'])]"
   ]
  },
  {
   "cell_type": "code",
   "execution_count": 114,
   "metadata": {},
   "outputs": [
    {
     "data": {
      "text/plain": [
       "2497.3354838709674"
      ]
     },
     "execution_count": 114,
     "metadata": {},
     "output_type": "execute_result"
    }
   ],
   "source": [
    "buildings2015['total_ghg_emissions_mtco2e'].mean()"
   ]
  },
  {
   "cell_type": "code",
   "execution_count": 115,
   "metadata": {},
   "outputs": [],
   "source": [
    "#2016\n",
    "buildings2016 = yr2017_df[yr2017_df['year_built_group'].isin(['2016'])]"
   ]
  },
  {
   "cell_type": "code",
   "execution_count": 116,
   "metadata": {},
   "outputs": [
    {
     "data": {
      "text/plain": [
       "2757.1107142857154"
      ]
     },
     "execution_count": 116,
     "metadata": {},
     "output_type": "execute_result"
    }
   ],
   "source": [
    "buildings2016['total_ghg_emissions_mtco2e'].mean()"
   ]
  },
  {
   "cell_type": "code",
   "execution_count": 117,
   "metadata": {},
   "outputs": [],
   "source": [
    "#2017\n",
    "buildings2017 = yr2017_df[yr2017_df['year_built_group'].isin(['2017'])]"
   ]
  },
  {
   "cell_type": "code",
   "execution_count": 118,
   "metadata": {
    "scrolled": true
   },
   "outputs": [
    {
     "data": {
      "text/plain": [
       "1406.9550000000004"
      ]
     },
     "execution_count": 118,
     "metadata": {},
     "output_type": "execute_result"
    }
   ],
   "source": [
    "buildings2017['total_ghg_emissions_mtco2e'].mean()"
   ]
  },
  {
   "cell_type": "markdown",
   "metadata": {},
   "source": [
    "### Summary of this analysis:\n",
    "Despite the numerous lines of code, I just went through, I don't think that this shows anything because it could just be that bigger buildings were created per year -- thus admitting more greenhouse gas per year. I thus think looking into energy STAR score will be better. This will show the scores per year and whether or not the buildings built more recently have gotten more efficient or not."
   ]
  },
  {
   "cell_type": "markdown",
   "metadata": {},
   "source": [
    "## Step 6: Analyze if buildings created since 2012 (yr benchmarking started) built more efficiently? "
   ]
  },
  {
   "cell_type": "markdown",
   "metadata": {},
   "source": [
    "First, I will create a dataframe that only has the buildings that were created from 2011 on. This will show me on year before benchmarking started to 5 years after the program began. "
   ]
  },
  {
   "cell_type": "code",
   "execution_count": 119,
   "metadata": {},
   "outputs": [],
   "source": [
    "subset_2011 = yr2017_df[yr2017_df['year_built_group'].astype(str).astype(int) >= 2011].copy()"
   ]
  },
  {
   "cell_type": "code",
   "execution_count": 120,
   "metadata": {},
   "outputs": [],
   "source": [
    "subset_2011['year_built_group'] = subset_2011['year_built_group'].astype(str).astype(int)"
   ]
  },
  {
   "cell_type": "code",
   "execution_count": 121,
   "metadata": {},
   "outputs": [
    {
     "data": {
      "image/png": "[encoded data removed]",
      "text/plain": [
       "<Figure size 576x432 with 1 Axes>"
      ]
     },
     "metadata": {
      "needs_background": "light"
     },
     "output_type": "display_data"
    }
   ],
   "source": [
    "#set up the plot\n",
    "fig, ax = plt.subplots(figsize=(8, 6))\n",
    "\n",
    "#create the variable means which is the energy star score mean per year \n",
    "means = subset_2011.groupby('year_built_group')['energy_star_score'].mean()\n",
    "\n",
    "#set up plot so that the x axis is the year and the y axis is the mean\n",
    "ax.plot(means.index, means.values)\n",
    "ax.scatter(means.index, means.values)\n",
    "\n",
    "#set up the annotation so that each plot is labeled with the energy STAR score\n",
    "for x, y in zip(means.index, means.values):\n",
    "    ax.annotate(f'{y:.0f}', (x, y))\n",
    "    \n",
    "ax.set_title('Philly Energy STAR Score Over Time ', fontsize=15)\n",
    "ax.set_xlabel('Year', fontsize=13)\n",
    "ax.set_ylabel('Energy STAR Score', fontsize=13)\n",
    "\n",
    "ax.tick_params(labelsize=13)"
   ]
  },
  {
   "cell_type": "markdown",
   "metadata": {},
   "source": [
    "#### What does this graph tell us?\n",
    "It shows that Energy STAR scores ever since the beginning of the benchmarking initiative in 2012 have not increased for Philly as a whole. You would think that buildings built more recently would be motivated by these plans to have higher scores but this analysis shows the opposite. "
   ]
  },
  {
   "cell_type": "code",
   "execution_count": 122,
   "metadata": {},
   "outputs": [
    {
     "data": {
      "text/plain": [
       "year_built_group\n",
       "2011    54.198795\n",
       "2012    60.546875\n",
       "2013    63.131313\n",
       "2014    58.973262\n",
       "2015    62.062992\n",
       "2016    61.059322\n",
       "2017    60.259036\n",
       "Name: energy_star_score, dtype: float64"
      ]
     },
     "execution_count": 122,
     "metadata": {},
     "output_type": "execute_result"
    }
   ],
   "source": [
    "#check that the plot is correct\n",
    "means"
   ]
  },
  {
   "cell_type": "code",
   "execution_count": 123,
   "metadata": {
    "scrolled": true
   },
   "outputs": [
    {
     "data": {
      "text/plain": [
       "54.19879518072289"
      ]
     },
     "execution_count": 123,
     "metadata": {},
     "output_type": "execute_result"
    }
   ],
   "source": [
    "buildings2011['energy_star_score'].mean()"
   ]
  },
  {
   "cell_type": "code",
   "execution_count": 124,
   "metadata": {},
   "outputs": [
    {
     "data": {
      "text/plain": [
       "60.546875"
      ]
     },
     "execution_count": 124,
     "metadata": {},
     "output_type": "execute_result"
    }
   ],
   "source": [
    "buildings2012['energy_star_score'].mean()"
   ]
  },
  {
   "cell_type": "code",
   "execution_count": 125,
   "metadata": {},
   "outputs": [
    {
     "data": {
      "text/plain": [
       "63.13131313131313"
      ]
     },
     "execution_count": 125,
     "metadata": {},
     "output_type": "execute_result"
    }
   ],
   "source": [
    "buildings2013['energy_star_score'].mean()"
   ]
  },
  {
   "cell_type": "code",
   "execution_count": 126,
   "metadata": {},
   "outputs": [
    {
     "data": {
      "text/plain": [
       "58.973262032085564"
      ]
     },
     "execution_count": 126,
     "metadata": {},
     "output_type": "execute_result"
    }
   ],
   "source": [
    "buildings2014['energy_star_score'].mean()"
   ]
  },
  {
   "cell_type": "code",
   "execution_count": 127,
   "metadata": {},
   "outputs": [
    {
     "data": {
      "text/plain": [
       "62.06299212598425"
      ]
     },
     "execution_count": 127,
     "metadata": {},
     "output_type": "execute_result"
    }
   ],
   "source": [
    "buildings2015['energy_star_score'].mean()"
   ]
  },
  {
   "cell_type": "code",
   "execution_count": 128,
   "metadata": {},
   "outputs": [
    {
     "data": {
      "text/plain": [
       "61.059322033898304"
      ]
     },
     "execution_count": 128,
     "metadata": {},
     "output_type": "execute_result"
    }
   ],
   "source": [
    "buildings2016['energy_star_score'].mean()"
   ]
  },
  {
   "cell_type": "code",
   "execution_count": 129,
   "metadata": {},
   "outputs": [
    {
     "data": {
      "text/plain": [
       "60.25903614457831"
      ]
     },
     "execution_count": 129,
     "metadata": {},
     "output_type": "execute_result"
    }
   ],
   "source": [
    "buildings2017['energy_star_score'].mean()"
   ]
  },
  {
   "cell_type": "markdown",
   "metadata": {},
   "source": [
    "The buildings all avg per year around the Philly mean-- no indication that those buildings built closer are more energy efficient than older ones built before the standards were put in place."
   ]
  },
  {
   "cell_type": "markdown",
   "metadata": {},
   "source": [
    "## Step 7: Plotting the energy STAR change over time by prop type"
   ]
  },
  {
   "cell_type": "code",
   "execution_count": 130,
   "metadata": {
    "scrolled": false
   },
   "outputs": [],
   "source": [
    "# bring back the code for the property type dictionary \n",
    "categories = {\n",
    "    'Housing' : ['Multifamily Housing', 'Residential Care Facility', 'Other - Lodging/Residential', 'Residence Hall/Dormitory', 'Senior Care Community'],\n",
    "    'Office' : ['Office', 'Financial Office'],\n",
    "    'Science' : ['Other - Technology/Science', 'Data Center', 'Laboratory'],\n",
    "    'Education' : ['K-12 School', 'College/University', 'Other - Education', 'Adult Education'],\n",
    "    'Industrial' : ['Wastewater Treatment Plant', 'Other - Utility', 'Drinking Water Treatment & Distribution', 'Non-Refridgerated Warehouse', 'Distribution Center', 'Manufacturing/Industrial Plant', 'Self-Storage Facility', 'Refrigerated Warehouse'],\n",
    "    'Hospitality' : ['Hotel'],\n",
    "    'Retail' : ['Enclosed Mall', 'Wholesale Club/Supercenter', 'Food Sales', 'Bar/Nightclub', 'Automobile Dealership', 'Mailing Center/Post Office', 'Restaurant', 'Food Service', 'Retail Store','Supermarket/Grocery Store', 'Other - Mall','Strip Mall', 'Repair Services (Vehicle, Shoe, Locksmith, etc.)'],\n",
    "    'Medical' : ['Other - Specialty Hospital', 'Hospital (General Medical & Surgical)', 'Outpatient Rehabilitation/Physical Therapy', 'Ambulatory Surgical Center', 'Medical Office'],\n",
    "    'Religious' : ['Worship Facility'],\n",
    "    'Sports/Entertainment' : ['Stadium (Open)', 'Other - Recreation', 'Ice/Curling Rink', 'Movie Theater', 'Fitness Center/Health Club/Gym', 'Stadium (Closed)', 'Performing Arts'],\n",
    "    'Convention Center' : ['Convention Center'],\n",
    "    'Public Services/Gov' : ['Other - Public Services', 'Social/Meeting Hall', 'Museum', 'Library', 'Courthouse'],\n",
    "    'Prison' : ['Prison/Incarceration'],\n",
    "    'Parking' : ['Parking'],\n",
    "    'Mixed Use' : ['Mixed Use Property'],\n",
    "    'Other': ['Other']\n",
    "}\n",
    "\n",
    "#bring back the code that reverses the dictionary \n",
    "categories2={}\n",
    "for k, vlist in categories.items():\n",
    "    for v in vlist:\n",
    "        categories2[v]=k\n",
    "\n",
    "#read in all my files for the loop\n",
    "filenames = ['energy_usage_large_commercial_buildings_reported_2013.csv',\n",
    "             'energy_usage_large_commercial_buildings_reported_2014.csv',\n",
    "             'properties_reported_2015.csv','properties_reported_2016.csv','properties_reported_2017.csv'\n",
    "             ]\n",
    "dfs = []\n",
    "\n",
    "\n",
    "for name in filenames:\n",
    "    temp = pd.read_csv('../data/' + name)\n",
    "    try:\n",
    "        temp['prop_cond']=temp['primary_prop_type_epa_calc'].map(categories2)\n",
    "    except KeyError:\n",
    "        temp['prop_cond']=temp['primary_property_type_epa_calculated'].map(categories2)\n",
    "    dfs.append(temp)\n"
   ]
  },
  {
   "cell_type": "code",
   "execution_count": 131,
   "metadata": {},
   "outputs": [],
   "source": [
    "#create a dataframe that puts together a multi-level dataframe whereby it is first grouped by property type and then year \n",
    "#since my years run in order from 2013-2017 for the data that I have --- we can use \"enumerate\" to start at 2013 and go to 2017\n",
    "grouping_df = pd.concat([df[['prop_cond', 'energy_star_score']].assign(year=year) for year, df in enumerate(dfs, 2013)])\n",
    "\n",
    "#tell the categories that I want to focus on \n",
    "focus_categories = ['Education', 'Housing', 'Industrial', 'Retail', 'Office']\n",
    "\n",
    "#filter out just the buildings with the property types that I am interested n \n",
    "filtered_grouping_df = grouping_df[grouping_df['prop_cond'].isin(focus_categories)]\n",
    "\n",
    "#using the coerce function -- this will change the energy STAR scores to numbers and coerce those energy STAR scores that say \"Not Available\" to NA and will then drop them \n",
    "cleaned_grouping_df = filtered_grouping_df.assign(energy_star_score=pd.to_numeric(filtered_grouping_df['energy_star_score'], errors='coerce')).dropna()"
   ]
  },
  {
   "cell_type": "code",
   "execution_count": 132,
   "metadata": {},
   "outputs": [],
   "source": [
    "#create the means frame that is multi level -- level 1 will be the property condition and level 2 will be the year \n",
    "means = cleaned_grouping_df.groupby(['prop_cond', 'year'])['energy_star_score'].mean()"
   ]
  },
  {
   "cell_type": "code",
   "execution_count": 133,
   "metadata": {},
   "outputs": [],
   "source": [
    "#make sure that the condensed properties are the first level and that they are all unique values\n",
    "conds = means.index.get_level_values(0).unique()"
   ]
  },
  {
   "cell_type": "code",
   "execution_count": 134,
   "metadata": {},
   "outputs": [
    {
     "data": {
      "text/plain": [
       "Text(0, 0.5, 'Energy STAR Score')"
      ]
     },
     "execution_count": 134,
     "metadata": {},
     "output_type": "execute_result"
    },
    {
     "data": {
      "image/png": "[encoded data removed]",
      "text/plain": [
       "<Figure size 720x432 with 1 Axes>"
      ]
     },
     "metadata": {
      "needs_background": "light"
     },
     "output_type": "display_data"
    }
   ],
   "source": [
    "#plot the energy STAR scores per property type over time\n",
    "\n",
    "#set up the plot\n",
    "fig, ax = plt.subplots(figsize=(10, 6))\n",
    "\n",
    "#using the property type condensed varaible we created, get the mean of each property type per year and then plot that over time\n",
    "for cond in conds:\n",
    "    cond_means = means.loc[means.index.get_level_values(0) == cond][cond]\n",
    "    x = cond_means.index #the index is the year, thus this should be the x axis\n",
    "    y = cond_means.values #the actual mean value will be the y axis \n",
    "    \n",
    "    ax.plot(x, y, label=cond)\n",
    "    \n",
    "ax.legend(loc='lower right')\n",
    "ax.set_title('Energy STAR Scoes by Property Type Over Time', fontsize=15)\n",
    "ax.set_xlabel('Year', fontsize=11)\n",
    "plt.xticks(years) # make sure the x axis is year over year \n",
    "ax.set_ylabel('Energy STAR Score', fontsize=11)"
   ]
  },
  {
   "cell_type": "code",
   "execution_count": 135,
   "metadata": {},
   "outputs": [
    {
     "data": {
      "text/plain": [
       "Int64Index([2013, 2014, 2015, 2016, 2017, 2013, 2014, 2015, 2016, 2017, 2013,\n",
       "            2014, 2015, 2016, 2017, 2013, 2014, 2015, 2016, 2017, 2013, 2014,\n",
       "            2015, 2016, 2017],\n",
       "           dtype='int64', name='year')"
      ]
     },
     "execution_count": 135,
     "metadata": {},
     "output_type": "execute_result"
    }
   ],
   "source": [
    "#to better understand my code -- I had a multilevel dataframe so level 1 are my years and level 0 were my property types\n",
    "means.index.get_level_values(1)"
   ]
  },
  {
   "cell_type": "code",
   "execution_count": 136,
   "metadata": {},
   "outputs": [
    {
     "data": {
      "text/plain": [
       "prop_cond   year\n",
       "Education   2013    51.538012\n",
       "            2014    46.600000\n",
       "            2015    50.115079\n",
       "            2016    57.064000\n",
       "            2017    54.646341\n",
       "Housing     2013    40.352941\n",
       "            2014    38.481481\n",
       "            2015    43.533333\n",
       "            2016    54.855769\n",
       "            2017    56.731959\n",
       "Industrial  2013    62.475000\n",
       "            2014    66.133333\n",
       "            2015    68.440000\n",
       "            2016    67.829787\n",
       "            2017    65.613636\n",
       "Office      2013    60.411348\n",
       "            2014    62.136054\n",
       "            2015    62.258824\n",
       "            2016    65.021978\n",
       "            2017    64.488889\n",
       "Retail      2013    60.269231\n",
       "            2014    64.000000\n",
       "            2015    65.444444\n",
       "            2016    63.807692\n",
       "            2017    65.339623\n",
       "Name: energy_star_score, dtype: float64"
      ]
     },
     "execution_count": 136,
     "metadata": {},
     "output_type": "execute_result"
    }
   ],
   "source": [
    "means"
   ]
  },
  {
   "cell_type": "markdown",
   "metadata": {},
   "source": [
    "This graph shows many things. For one, although we know that energy STAR scores have stayed stagnant in buildings built over the past 5 years -- when dividing up by property type a more detailed story is formed. \n",
    "Observations:\n",
    "* Industrial has stayed stagnant\n",
    "* Housing is being built far more efficiently \n",
    "* Office is staying steady with a slight increase -- most surprising to me since when I think of Energy STAR program I think of incentivizing landlords of office buildings\n",
    "* It seems as if buildings for Education are being built slightly more efficient\n",
    "* Retail has stayed stagnant \n",
    "\n",
    "Overall, the scores have not really changed much showing that developers have not yet been incentivized enough to build these new buildings according to Energy STAR standards. This suggests that legislation and government programs should better focus in on this for newly constructed buildings since it is less costly to build efficiently than it is to retrofit later on."
   ]
  },
  {
   "cell_type": "code",
   "execution_count": null,
   "metadata": {},
   "outputs": [],
   "source": []
  },
  {
   "cell_type": "code",
   "execution_count": null,
   "metadata": {},
   "outputs": [],
   "source": []
  }
 ],
 "metadata": {
  "kernelspec": {
   "display_name": "Python 3",
   "language": "python",
   "name": "python3"
  },
  "language_info": {
   "codemirror_mode": {
    "name": "ipython",
    "version": 3
   },
   "file_extension": ".py",
   "mimetype": "text/x-python",
   "name": "python",
   "nbconvert_exporter": "python",
   "pygments_lexer": "ipython3",
   "version": "3.7.3"
  }
 },
 "nbformat": 4,
 "nbformat_minor": 2
}
