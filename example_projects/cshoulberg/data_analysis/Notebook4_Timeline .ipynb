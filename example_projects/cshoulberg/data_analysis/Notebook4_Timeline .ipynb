{
 "cells": [
  {
   "cell_type": "code",
   "execution_count": 1,
   "metadata": {},
   "outputs": [],
   "source": [
    "%matplotlib inline\n",
    "import pandas as pd\n",
    "import matplotlib.pyplot as plt\n",
    "import math\n",
    "import os\n",
    "import glob\n",
    "import numpy as np\n",
    "\n",
    "#import energy usage data of Philadelphia's buildings from 2013-2017\n",
    "yr2013_df = pd.read_csv('../data/energy_usage_large_commercial_buildings_reported_2013.csv')\n",
    "yr2014_df = pd.read_csv('../data/energy_usage_large_commercial_buildings_reported_2014.csv')\n",
    "yr2015_df = pd.read_csv('../data/properties_reported_2015.csv')\n",
    "yr2016_df = pd.read_csv('../data/properties_reported_2016.csv')\n",
    "yr2017_df = pd.read_csv('../data/properties_reported_2017.csv')\n",
    "\n",
    "\n"
   ]
  },
  {
   "cell_type": "markdown",
   "metadata": {},
   "source": [
    "# Timeline Notebook\n",
    "\n",
    "This brief notebook will carry out different codes that I need for my article about the timeline of energy efficiency initiatives in Philly.\n",
    "\n",
    "It will mostly take a look at individual years and total things to create a story about what happened each year since the programs -- as told by the data\n",
    "\n",
    "For example, for every year I want to give the readers the sum of the GHG emissions in Philly for that year. "
   ]
  },
  {
   "cell_type": "markdown",
   "metadata": {},
   "source": [
    "## 2013 Data"
   ]
  },
  {
   "cell_type": "code",
   "execution_count": 2,
   "metadata": {},
   "outputs": [
    {
     "data": {
      "text/html": [
       "<div>\n",
       "<style scoped>\n",
       "    .dataframe tbody tr th:only-of-type {\n",
       "        vertical-align: middle;\n",
       "    }\n",
       "\n",
       "    .dataframe tbody tr th {\n",
       "        vertical-align: top;\n",
       "    }\n",
       "\n",
       "    .dataframe thead th {\n",
       "        text-align: right;\n",
       "    }\n",
       "</style>\n",
       "<table border=\"1\" class=\"dataframe\">\n",
       "  <thead>\n",
       "    <tr style=\"text-align: right;\">\n",
       "      <th></th>\n",
       "      <th>the_geom</th>\n",
       "      <th>lng</th>\n",
       "      <th>year_built</th>\n",
       "      <th>electricity_use_grid_purchase_and_generated_from_onsite_renewab</th>\n",
       "      <th>energy_star_score</th>\n",
       "      <th>portfolio_manager_id</th>\n",
       "      <th>water_use_all_water_sources_kgal</th>\n",
       "      <th>district_steam_use_kbtu</th>\n",
       "      <th>site_eui_kbtu_ft2</th>\n",
       "      <th>philadelphia_building_id</th>\n",
       "      <th>...</th>\n",
       "      <th>fuel_oil_2_use_kbtu</th>\n",
       "      <th>number_of_buildings</th>\n",
       "      <th>property_floor_area_buildings_and_parking_ft</th>\n",
       "      <th>postal_code</th>\n",
       "      <th>natural_gas_use_kbtu</th>\n",
       "      <th>notes</th>\n",
       "      <th>total_ghg_emissions_mtco2e</th>\n",
       "      <th>primary_property_type_epa_calculated</th>\n",
       "      <th>lat</th>\n",
       "      <th>source_eui_kbtu_ft2</th>\n",
       "    </tr>\n",
       "  </thead>\n",
       "  <tbody>\n",
       "    <tr>\n",
       "      <th>28</th>\n",
       "      <td>0101000020E6100000DC3B9214B6CA52C0A0B8B0C9F5F9...</td>\n",
       "      <td>-75.167363</td>\n",
       "      <td>1983</td>\n",
       "      <td>42355749.1</td>\n",
       "      <td>85</td>\n",
       "      <td>1750750</td>\n",
       "      <td>11870.7</td>\n",
       "      <td>Not Available</td>\n",
       "      <td>59.9</td>\n",
       "      <td>883031500.0</td>\n",
       "      <td>...</td>\n",
       "      <td>Not Available</td>\n",
       "      <td>1</td>\n",
       "      <td>930550.0</td>\n",
       "      <td>19103.0</td>\n",
       "      <td>12855809.1</td>\n",
       "      <td>NaN</td>\n",
       "      <td>6046.1</td>\n",
       "      <td>Office</td>\n",
       "      <td>39.952813</td>\n",
       "      <td>159.0</td>\n",
       "    </tr>\n",
       "    <tr>\n",
       "      <th>294</th>\n",
       "      <td>0101000020E6100000FC62A93A33CB52C078B03CEA1D04...</td>\n",
       "      <td>-75.175002</td>\n",
       "      <td>1975</td>\n",
       "      <td>1518253.0</td>\n",
       "      <td>95</td>\n",
       "      <td>3892802</td>\n",
       "      <td>8534.8</td>\n",
       "      <td>Not Available</td>\n",
       "      <td>103.7</td>\n",
       "      <td>881447201.0</td>\n",
       "      <td>...</td>\n",
       "      <td>Not Available</td>\n",
       "      <td>1</td>\n",
       "      <td>50797.0</td>\n",
       "      <td>19144.0</td>\n",
       "      <td>3749442.9</td>\n",
       "      <td>NaN</td>\n",
       "      <td>391.3</td>\n",
       "      <td>Senior Care Community</td>\n",
       "      <td>40.032163</td>\n",
       "      <td>171.4</td>\n",
       "    </tr>\n",
       "    <tr>\n",
       "      <th>333</th>\n",
       "      <td>0101000020E6100000745DB0358ACB52C0F01458BEB6F1...</td>\n",
       "      <td>-75.180311</td>\n",
       "      <td>1907</td>\n",
       "      <td>2161843.2</td>\n",
       "      <td>1</td>\n",
       "      <td>3891456</td>\n",
       "      <td>NaN</td>\n",
       "      <td>Not Available</td>\n",
       "      <td>32.7</td>\n",
       "      <td>788008800.0</td>\n",
       "      <td>...</td>\n",
       "      <td>Not Available</td>\n",
       "      <td>1</td>\n",
       "      <td>66092.0</td>\n",
       "      <td>19112.0</td>\n",
       "      <td>Not Available</td>\n",
       "      <td>NaN</td>\n",
       "      <td>273.8</td>\n",
       "      <td>Non-Refrigerated Warehouse</td>\n",
       "      <td>39.888389</td>\n",
       "      <td>102.7</td>\n",
       "    </tr>\n",
       "    <tr>\n",
       "      <th>301</th>\n",
       "      <td>0101000020E610000000C5538502C952C0F02448300B06...</td>\n",
       "      <td>-75.140779</td>\n",
       "      <td>1965</td>\n",
       "      <td>4052862.3</td>\n",
       "      <td>Not Available</td>\n",
       "      <td>3681796</td>\n",
       "      <td>3553.1</td>\n",
       "      <td>Not Available</td>\n",
       "      <td>80.4</td>\n",
       "      <td>776554000.0</td>\n",
       "      <td>...</td>\n",
       "      <td>2415000</td>\n",
       "      <td>1</td>\n",
       "      <td>81018.0</td>\n",
       "      <td>19141.0</td>\n",
       "      <td>42059.9</td>\n",
       "      <td>NaN</td>\n",
       "      <td>694.6</td>\n",
       "      <td>College/University</td>\n",
       "      <td>40.047216</td>\n",
       "      <td>187.7</td>\n",
       "    </tr>\n",
       "    <tr>\n",
       "      <th>695</th>\n",
       "      <td>0101000020E6100000F47B391EF9CD52C0306EE58A6AF1...</td>\n",
       "      <td>-75.218330</td>\n",
       "      <td>1969</td>\n",
       "      <td>9538290.4</td>\n",
       "      <td>61</td>\n",
       "      <td>4123417</td>\n",
       "      <td>340.6</td>\n",
       "      <td>Not Available</td>\n",
       "      <td>52.9</td>\n",
       "      <td>773102500.0</td>\n",
       "      <td>...</td>\n",
       "      <td>Not Available</td>\n",
       "      <td>1</td>\n",
       "      <td>385000.0</td>\n",
       "      <td>19153.0</td>\n",
       "      <td>10844243.2</td>\n",
       "      <td>NaN</td>\n",
       "      <td>1783.4</td>\n",
       "      <td>Non-Refrigerated Warehouse</td>\n",
       "      <td>39.886064</td>\n",
       "      <td>107.4</td>\n",
       "    </tr>\n",
       "    <tr>\n",
       "      <th>865</th>\n",
       "      <td>0101000020E610000028A9FE349ACB52C028383CC44CF5...</td>\n",
       "      <td>-75.181287</td>\n",
       "      <td>1941</td>\n",
       "      <td>11726829.0</td>\n",
       "      <td>70</td>\n",
       "      <td>3882112</td>\n",
       "      <td>4909.6</td>\n",
       "      <td>Not Available</td>\n",
       "      <td>74.7</td>\n",
       "      <td>884095052.0</td>\n",
       "      <td>...</td>\n",
       "      <td>Not Available</td>\n",
       "      <td>1</td>\n",
       "      <td>196375.0</td>\n",
       "      <td>19145.0</td>\n",
       "      <td>2940135.2</td>\n",
       "      <td>NaN</td>\n",
       "      <td>1641.1</td>\n",
       "      <td>Office</td>\n",
       "      <td>39.916405</td>\n",
       "      <td>203.2</td>\n",
       "    </tr>\n",
       "    <tr>\n",
       "      <th>194</th>\n",
       "      <td>0101000020E61000005099FC2B38C852C0E069339AD102...</td>\n",
       "      <td>-75.128428</td>\n",
       "      <td>1955</td>\n",
       "      <td>26863187.8</td>\n",
       "      <td>Not Available</td>\n",
       "      <td>3694569</td>\n",
       "      <td>3721.6</td>\n",
       "      <td>Not Available</td>\n",
       "      <td>117.4</td>\n",
       "      <td>884353345.0</td>\n",
       "      <td>...</td>\n",
       "      <td>0</td>\n",
       "      <td>2</td>\n",
       "      <td>475000.0</td>\n",
       "      <td>19140.0</td>\n",
       "      <td>28890396.1</td>\n",
       "      <td>NaN</td>\n",
       "      <td>4935.2</td>\n",
       "      <td>Other - Public Services</td>\n",
       "      <td>40.022022</td>\n",
       "      <td>241.4</td>\n",
       "    </tr>\n",
       "    <tr>\n",
       "      <th>774</th>\n",
       "      <td>0101000020E6100000A82CCF58BBCB52C0C00EF95A5C02...</td>\n",
       "      <td>-75.183310</td>\n",
       "      <td>1953</td>\n",
       "      <td>19651489.1</td>\n",
       "      <td>Not Available</td>\n",
       "      <td>3779718</td>\n",
       "      <td>45020.8</td>\n",
       "      <td>Not Available</td>\n",
       "      <td>220.0</td>\n",
       "      <td>884461930.0</td>\n",
       "      <td>...</td>\n",
       "      <td>Not Available</td>\n",
       "      <td>3</td>\n",
       "      <td>110000.0</td>\n",
       "      <td>19129.0</td>\n",
       "      <td>4549340.1</td>\n",
       "      <td>NaN</td>\n",
       "      <td>2730.0</td>\n",
       "      <td>Drinking Water Treatment &amp; Distribution</td>\n",
       "      <td>40.018443</td>\n",
       "      <td>604.4</td>\n",
       "    </tr>\n",
       "    <tr>\n",
       "      <th>670</th>\n",
       "      <td>0101000020E610000078E142DCC4C252C07836EDC7450B...</td>\n",
       "      <td>-75.043265</td>\n",
       "      <td>1973</td>\n",
       "      <td>6432701.6</td>\n",
       "      <td>Not Available</td>\n",
       "      <td>3669125</td>\n",
       "      <td>16.2</td>\n",
       "      <td>Not Available</td>\n",
       "      <td>81.9</td>\n",
       "      <td>882069300.0</td>\n",
       "      <td>...</td>\n",
       "      <td>Not Available</td>\n",
       "      <td>2</td>\n",
       "      <td>117000.0</td>\n",
       "      <td>19115.0</td>\n",
       "      <td>3149778.8</td>\n",
       "      <td>NaN</td>\n",
       "      <td>981.8</td>\n",
       "      <td>Fitness Center/Health Club/Gym</td>\n",
       "      <td>40.088067</td>\n",
       "      <td>200.9</td>\n",
       "    </tr>\n",
       "    <tr>\n",
       "      <th>779</th>\n",
       "      <td>0101000020E61000004C76A3F7BCCE52C058E4A5424CF3...</td>\n",
       "      <td>-75.230284</td>\n",
       "      <td>1990</td>\n",
       "      <td>1791429.0</td>\n",
       "      <td>Not Available</td>\n",
       "      <td>3697846</td>\n",
       "      <td>82.9</td>\n",
       "      <td>Not Available</td>\n",
       "      <td>20.2</td>\n",
       "      <td>884167500.0</td>\n",
       "      <td>...</td>\n",
       "      <td>Not Available</td>\n",
       "      <td>1</td>\n",
       "      <td>247447.0</td>\n",
       "      <td>19153.0</td>\n",
       "      <td>3217518.6</td>\n",
       "      <td>NaN</td>\n",
       "      <td>397.7</td>\n",
       "      <td>Non-Refrigerated Warehouse</td>\n",
       "      <td>39.900765</td>\n",
       "      <td>36.4</td>\n",
       "    </tr>\n",
       "  </tbody>\n",
       "</table>\n",
       "<p>10 rows × 23 columns</p>\n",
       "</div>"
      ],
      "text/plain": [
       "                                              the_geom        lng  year_built  \\\n",
       "28   0101000020E6100000DC3B9214B6CA52C0A0B8B0C9F5F9... -75.167363        1983   \n",
       "294  0101000020E6100000FC62A93A33CB52C078B03CEA1D04... -75.175002        1975   \n",
       "333  0101000020E6100000745DB0358ACB52C0F01458BEB6F1... -75.180311        1907   \n",
       "301  0101000020E610000000C5538502C952C0F02448300B06... -75.140779        1965   \n",
       "695  0101000020E6100000F47B391EF9CD52C0306EE58A6AF1... -75.218330        1969   \n",
       "865  0101000020E610000028A9FE349ACB52C028383CC44CF5... -75.181287        1941   \n",
       "194  0101000020E61000005099FC2B38C852C0E069339AD102... -75.128428        1955   \n",
       "774  0101000020E6100000A82CCF58BBCB52C0C00EF95A5C02... -75.183310        1953   \n",
       "670  0101000020E610000078E142DCC4C252C07836EDC7450B... -75.043265        1973   \n",
       "779  0101000020E61000004C76A3F7BCCE52C058E4A5424CF3... -75.230284        1990   \n",
       "\n",
       "     electricity_use_grid_purchase_and_generated_from_onsite_renewab  \\\n",
       "28                                          42355749.1                 \n",
       "294                                          1518253.0                 \n",
       "333                                          2161843.2                 \n",
       "301                                          4052862.3                 \n",
       "695                                          9538290.4                 \n",
       "865                                         11726829.0                 \n",
       "194                                         26863187.8                 \n",
       "774                                         19651489.1                 \n",
       "670                                          6432701.6                 \n",
       "779                                          1791429.0                 \n",
       "\n",
       "    energy_star_score  portfolio_manager_id  water_use_all_water_sources_kgal  \\\n",
       "28                 85               1750750                           11870.7   \n",
       "294                95               3892802                            8534.8   \n",
       "333                 1               3891456                               NaN   \n",
       "301     Not Available               3681796                            3553.1   \n",
       "695                61               4123417                             340.6   \n",
       "865                70               3882112                            4909.6   \n",
       "194     Not Available               3694569                            3721.6   \n",
       "774     Not Available               3779718                           45020.8   \n",
       "670     Not Available               3669125                              16.2   \n",
       "779     Not Available               3697846                              82.9   \n",
       "\n",
       "    district_steam_use_kbtu  site_eui_kbtu_ft2  philadelphia_building_id  ...  \\\n",
       "28            Not Available               59.9               883031500.0  ...   \n",
       "294           Not Available              103.7               881447201.0  ...   \n",
       "333           Not Available               32.7               788008800.0  ...   \n",
       "301           Not Available               80.4               776554000.0  ...   \n",
       "695           Not Available               52.9               773102500.0  ...   \n",
       "865           Not Available               74.7               884095052.0  ...   \n",
       "194           Not Available              117.4               884353345.0  ...   \n",
       "774           Not Available              220.0               884461930.0  ...   \n",
       "670           Not Available               81.9               882069300.0  ...   \n",
       "779           Not Available               20.2               884167500.0  ...   \n",
       "\n",
       "    fuel_oil_2_use_kbtu number_of_buildings  \\\n",
       "28        Not Available                   1   \n",
       "294       Not Available                   1   \n",
       "333       Not Available                   1   \n",
       "301             2415000                   1   \n",
       "695       Not Available                   1   \n",
       "865       Not Available                   1   \n",
       "194                   0                   2   \n",
       "774       Not Available                   3   \n",
       "670       Not Available                   2   \n",
       "779       Not Available                   1   \n",
       "\n",
       "    property_floor_area_buildings_and_parking_ft postal_code  \\\n",
       "28                                      930550.0     19103.0   \n",
       "294                                      50797.0     19144.0   \n",
       "333                                      66092.0     19112.0   \n",
       "301                                      81018.0     19141.0   \n",
       "695                                     385000.0     19153.0   \n",
       "865                                     196375.0     19145.0   \n",
       "194                                     475000.0     19140.0   \n",
       "774                                     110000.0     19129.0   \n",
       "670                                     117000.0     19115.0   \n",
       "779                                     247447.0     19153.0   \n",
       "\n",
       "     natural_gas_use_kbtu  notes  total_ghg_emissions_mtco2e  \\\n",
       "28             12855809.1    NaN                      6046.1   \n",
       "294             3749442.9    NaN                       391.3   \n",
       "333         Not Available    NaN                       273.8   \n",
       "301               42059.9    NaN                       694.6   \n",
       "695            10844243.2    NaN                      1783.4   \n",
       "865             2940135.2    NaN                      1641.1   \n",
       "194            28890396.1    NaN                      4935.2   \n",
       "774             4549340.1    NaN                      2730.0   \n",
       "670             3149778.8    NaN                       981.8   \n",
       "779             3217518.6    NaN                       397.7   \n",
       "\n",
       "        primary_property_type_epa_calculated        lat  source_eui_kbtu_ft2  \n",
       "28                                    Office  39.952813                159.0  \n",
       "294                    Senior Care Community  40.032163                171.4  \n",
       "333               Non-Refrigerated Warehouse  39.888389                102.7  \n",
       "301                       College/University  40.047216                187.7  \n",
       "695               Non-Refrigerated Warehouse  39.886064                107.4  \n",
       "865                                   Office  39.916405                203.2  \n",
       "194                  Other - Public Services  40.022022                241.4  \n",
       "774  Drinking Water Treatment & Distribution  40.018443                604.4  \n",
       "670           Fitness Center/Health Club/Gym  40.088067                200.9  \n",
       "779               Non-Refrigerated Warehouse  39.900765                 36.4  \n",
       "\n",
       "[10 rows x 23 columns]"
      ]
     },
     "execution_count": 2,
     "metadata": {},
     "output_type": "execute_result"
    }
   ],
   "source": [
    "yr2013_df.sample(10)"
   ]
  },
  {
   "cell_type": "code",
   "execution_count": 3,
   "metadata": {},
   "outputs": [],
   "source": [
    "#Drop the null values\n",
    "yr2013_sum=yr2013_df[-yr2013_df['total_ghg_emissions_mtco2e'].isnull()]"
   ]
  },
  {
   "cell_type": "code",
   "execution_count": 4,
   "metadata": {},
   "outputs": [
    {
     "data": {
      "text/plain": [
       "0        704\n",
       "1        619\n",
       "2       1685\n",
       "3         24\n",
       "4        413\n",
       "5          0\n",
       "6        194\n",
       "7        423\n",
       "9        468\n",
       "10         0\n",
       "11      4029\n",
       "12       506\n",
       "13      1222\n",
       "14      2100\n",
       "15      2408\n",
       "16      1592\n",
       "17      1232\n",
       "18      9876\n",
       "19       154\n",
       "20       334\n",
       "21      1281\n",
       "22       393\n",
       "23       408\n",
       "24       598\n",
       "25       284\n",
       "26       552\n",
       "27      1553\n",
       "28      6046\n",
       "29       328\n",
       "30        81\n",
       "       ...  \n",
       "969      594\n",
       "970       88\n",
       "971      126\n",
       "972     1796\n",
       "973     1712\n",
       "974      498\n",
       "975     6841\n",
       "976       22\n",
       "977    86672\n",
       "978      638\n",
       "979     2353\n",
       "980      508\n",
       "981     1319\n",
       "982     1257\n",
       "983     1012\n",
       "984      584\n",
       "986     2153\n",
       "987     1400\n",
       "988       45\n",
       "989     2839\n",
       "990      525\n",
       "991      748\n",
       "992      365\n",
       "993     6291\n",
       "994      181\n",
       "995      725\n",
       "996     1472\n",
       "997     2070\n",
       "998      471\n",
       "999      137\n",
       "Name: total_ghg_emissions_mtco2e, Length: 979, dtype: int64"
      ]
     },
     "execution_count": 4,
     "metadata": {},
     "output_type": "execute_result"
    }
   ],
   "source": [
    "#calculate the sum GHG emission in 2013\n",
    "yr2013_sum['total_ghg_emissions_mtco2e'].astype('int')"
   ]
  },
  {
   "cell_type": "code",
   "execution_count": 5,
   "metadata": {},
   "outputs": [
    {
     "data": {
      "text/plain": [
       "2653688.0"
      ]
     },
     "execution_count": 5,
     "metadata": {},
     "output_type": "execute_result"
    }
   ],
   "source": [
    "yr2013_sum['total_ghg_emissions_mtco2e'].sum()"
   ]
  },
  {
   "cell_type": "markdown",
   "metadata": {},
   "source": [
    "Total energy emissions for 2013= 2,653,688"
   ]
  },
  {
   "cell_type": "markdown",
   "metadata": {},
   "source": [
    "#### SF reported in 2013"
   ]
  },
  {
   "cell_type": "code",
   "execution_count": 6,
   "metadata": {},
   "outputs": [],
   "source": [
    "#clean dataframe from NA's\n",
    "yr2013_sum2=yr2013_df[-yr2013_df['property_floor_area_buildings_and_parking_ft'].isnull()]\n"
   ]
  },
  {
   "cell_type": "code",
   "execution_count": 7,
   "metadata": {},
   "outputs": [
    {
     "data": {
      "text/plain": [
       "0      109651\n",
       "1       79200\n",
       "2       59101\n",
       "3       64638\n",
       "4       51676\n",
       "5      105890\n",
       "6       22230\n",
       "7       55000\n",
       "8       55831\n",
       "9       62100\n",
       "10      52656\n",
       "11     155715\n",
       "12      81640\n",
       "13      79883\n",
       "14     102855\n",
       "15     225688\n",
       "16     201897\n",
       "17     112380\n",
       "18     543134\n",
       "19     129025\n",
       "20      57500\n",
       "21      75176\n",
       "22      61000\n",
       "23      88183\n",
       "24     100000\n",
       "25      56265\n",
       "26      50704\n",
       "27     104710\n",
       "28     930550\n",
       "29      60158\n",
       "        ...  \n",
       "969     93000\n",
       "970     90000\n",
       "971     73983\n",
       "972     63342\n",
       "973    128347\n",
       "974     50456\n",
       "975    885786\n",
       "976     65000\n",
       "977    530000\n",
       "978     79000\n",
       "979    407605\n",
       "980     80000\n",
       "981     72000\n",
       "982    125000\n",
       "983    108000\n",
       "984    110000\n",
       "985     50000\n",
       "986     84596\n",
       "987     94500\n",
       "988     59301\n",
       "989    238493\n",
       "990     94235\n",
       "991    243057\n",
       "993    759072\n",
       "994     58740\n",
       "995    106218\n",
       "996    221000\n",
       "997    322610\n",
       "998     80000\n",
       "999     99140\n",
       "Name: property_floor_area_buildings_and_parking_ft, Length: 988, dtype: int64"
      ]
     },
     "execution_count": 7,
     "metadata": {},
     "output_type": "execute_result"
    }
   ],
   "source": [
    "#turn into integers to sum\n",
    "yr2013_sum2['property_floor_area_buildings_and_parking_ft'].astype('int')"
   ]
  },
  {
   "cell_type": "code",
   "execution_count": 8,
   "metadata": {},
   "outputs": [
    {
     "data": {
      "text/plain": [
       "238152464.0"
      ]
     },
     "execution_count": 8,
     "metadata": {},
     "output_type": "execute_result"
    }
   ],
   "source": [
    "yr2013_sum2['property_floor_area_buildings_and_parking_ft'].sum()"
   ]
  },
  {
   "cell_type": "markdown",
   "metadata": {},
   "source": [
    "## 2014 Data"
   ]
  },
  {
   "cell_type": "code",
   "execution_count": 12,
   "metadata": {},
   "outputs": [],
   "source": [
    "#clean up 2014 dataframe from null value\n",
    "yr2014_sum=yr2014_df[-yr2014_df['total_ghg_emissions_mtco2e'].isnull()]"
   ]
  },
  {
   "cell_type": "code",
   "execution_count": 13,
   "metadata": {},
   "outputs": [
    {
     "data": {
      "text/plain": [
       "0        651\n",
       "1        715\n",
       "2         88\n",
       "3        373\n",
       "4        546\n",
       "5        491\n",
       "6        588\n",
       "7        373\n",
       "8        362\n",
       "9        348\n",
       "10       858\n",
       "11      2143\n",
       "12       550\n",
       "13      5843\n",
       "14      3024\n",
       "15       979\n",
       "16      2329\n",
       "17      1018\n",
       "18      1946\n",
       "19      1708\n",
       "20       569\n",
       "21      1102\n",
       "22       427\n",
       "23      1268\n",
       "24       651\n",
       "25      3161\n",
       "26      1669\n",
       "27      2280\n",
       "28      7124\n",
       "29      7553\n",
       "       ...  \n",
       "970    10308\n",
       "971      903\n",
       "972     1484\n",
       "973     3910\n",
       "974     1748\n",
       "975      297\n",
       "976      808\n",
       "977      520\n",
       "978      116\n",
       "979       95\n",
       "980      779\n",
       "981      449\n",
       "982    16875\n",
       "983       81\n",
       "984      900\n",
       "985    10413\n",
       "986      736\n",
       "987      678\n",
       "988     8705\n",
       "989      802\n",
       "990      410\n",
       "991       82\n",
       "992     1025\n",
       "993      100\n",
       "994    13895\n",
       "995     6910\n",
       "996     1276\n",
       "997      859\n",
       "998      160\n",
       "999       55\n",
       "Name: total_ghg_emissions_mtco2e, Length: 986, dtype: int64"
      ]
     },
     "execution_count": 13,
     "metadata": {},
     "output_type": "execute_result"
    }
   ],
   "source": [
    "yr2014_sum['total_ghg_emissions_mtco2e'].astype('int')"
   ]
  },
  {
   "cell_type": "code",
   "execution_count": 14,
   "metadata": {},
   "outputs": [
    {
     "data": {
      "text/plain": [
       "2474802.0999999996"
      ]
     },
     "execution_count": 14,
     "metadata": {},
     "output_type": "execute_result"
    }
   ],
   "source": [
    "yr2014_sum['total_ghg_emissions_mtco2e'].sum()"
   ]
  },
  {
   "cell_type": "markdown",
   "metadata": {},
   "source": [
    "2014 emmissions= 2,474,802.0999999996 tons"
   ]
  },
  {
   "cell_type": "code",
   "execution_count": 15,
   "metadata": {},
   "outputs": [],
   "source": [
    "yr2014_sum2=yr2014_df[-yr2014_df['property_floor_area_buildings_and_parking_ft'].isnull()]"
   ]
  },
  {
   "cell_type": "code",
   "execution_count": 16,
   "metadata": {},
   "outputs": [
    {
     "data": {
      "text/plain": [
       "0        58200\n",
       "1       217560\n",
       "2        59850\n",
       "3        52500\n",
       "4        69475\n",
       "5        70644\n",
       "6        94235\n",
       "7        52258\n",
       "8        53400\n",
       "9        55000\n",
       "10      138123\n",
       "11      273901\n",
       "12       75000\n",
       "13      635839\n",
       "14      176360\n",
       "15       64611\n",
       "16      167003\n",
       "17       89077\n",
       "18      237906\n",
       "19      128347\n",
       "20       72479\n",
       "21      313000\n",
       "22      110000\n",
       "23      113332\n",
       "24       69093\n",
       "25      449750\n",
       "26      111090\n",
       "27      153050\n",
       "28      169976\n",
       "29      757521\n",
       "        ...   \n",
       "970     977314\n",
       "971      75676\n",
       "972     162000\n",
       "973     800562\n",
       "974      59101\n",
       "975      86394\n",
       "976     149500\n",
       "977      73000\n",
       "978     208000\n",
       "979      80140\n",
       "980      84357\n",
       "981      83510\n",
       "982    1086260\n",
       "983     100000\n",
       "984      54931\n",
       "985     168651\n",
       "986      87000\n",
       "987     120000\n",
       "988     925698\n",
       "989     129264\n",
       "990      98719\n",
       "991      54240\n",
       "992     259257\n",
       "993      90000\n",
       "994     804000\n",
       "995     699896\n",
       "996      41740\n",
       "997     102000\n",
       "998      47000\n",
       "999      77576\n",
       "Name: property_floor_area_buildings_and_parking_ft, Length: 993, dtype: int64"
      ]
     },
     "execution_count": 16,
     "metadata": {},
     "output_type": "execute_result"
    }
   ],
   "source": [
    "yr2014_sum2['property_floor_area_buildings_and_parking_ft'].astype('int')"
   ]
  },
  {
   "cell_type": "code",
   "execution_count": 17,
   "metadata": {},
   "outputs": [
    {
     "data": {
      "text/plain": [
       "222312667.0"
      ]
     },
     "execution_count": 17,
     "metadata": {},
     "output_type": "execute_result"
    }
   ],
   "source": [
    "yr2014_sum2['property_floor_area_buildings_and_parking_ft'].sum()"
   ]
  },
  {
   "cell_type": "code",
   "execution_count": 18,
   "metadata": {},
   "outputs": [
    {
     "ename": "TypeError",
     "evalue": "bad operand type for unary -: 'str'",
     "output_type": "error",
     "traceback": [
      "\u001b[0;31m---------------------------------------------------------------------------\u001b[0m",
      "\u001b[0;31mTypeError\u001b[0m                                 Traceback (most recent call last)",
      "\u001b[0;32m<ipython-input-18-0c689da13f60>\u001b[0m in \u001b[0;36m<module>\u001b[0;34m()\u001b[0m\n\u001b[0;32m----> 1\u001b[0;31m \u001b[0myr2014_sum2\u001b[0m\u001b[0;34m=\u001b[0m\u001b[0myr2014_df\u001b[0m\u001b[0;34m[\u001b[0m\u001b[0;34m-\u001b[0m\u001b[0myr2014_df\u001b[0m\u001b[0;34m[\u001b[0m\u001b[0;34m'energy_star_score'\u001b[0m\u001b[0;34m]\u001b[0m\u001b[0;34m==\u001b[0m \u001b[0;34m'Not Available'\u001b[0m\u001b[0;34m]\u001b[0m\u001b[0;34m\u001b[0m\u001b[0;34m\u001b[0m\u001b[0m\n\u001b[0m",
      "\u001b[0;32m/usr/local/anaconda3/lib/python3.7/site-packages/pandas/core/generic.py\u001b[0m in \u001b[0;36m__neg__\u001b[0;34m(self)\u001b[0m\n\u001b[1;32m   1443\u001b[0m         elif (is_numeric_dtype(values) or is_timedelta64_dtype(values)\n\u001b[1;32m   1444\u001b[0m                 or is_object_dtype(values)):\n\u001b[0;32m-> 1445\u001b[0;31m             \u001b[0marr\u001b[0m \u001b[0;34m=\u001b[0m \u001b[0moperator\u001b[0m\u001b[0;34m.\u001b[0m\u001b[0mneg\u001b[0m\u001b[0;34m(\u001b[0m\u001b[0mvalues\u001b[0m\u001b[0;34m)\u001b[0m\u001b[0;34m\u001b[0m\u001b[0;34m\u001b[0m\u001b[0m\n\u001b[0m\u001b[1;32m   1446\u001b[0m         \u001b[0;32melse\u001b[0m\u001b[0;34m:\u001b[0m\u001b[0;34m\u001b[0m\u001b[0;34m\u001b[0m\u001b[0m\n\u001b[1;32m   1447\u001b[0m             raise TypeError(\"Unary negative expects numeric dtype, not {}\"\n",
      "\u001b[0;31mTypeError\u001b[0m: bad operand type for unary -: 'str'"
     ]
    }
   ],
   "source": [
    "yr2014_sum2=yr2014_df[-yr2014_df['energy_star_score']== 'Not Available']"
   ]
  },
  {
   "cell_type": "code",
   "execution_count": null,
   "metadata": {},
   "outputs": [],
   "source": []
  },
  {
   "cell_type": "markdown",
   "metadata": {},
   "source": [
    "## 2015 Data"
   ]
  },
  {
   "cell_type": "code",
   "execution_count": 19,
   "metadata": {},
   "outputs": [],
   "source": [
    "yr2015_sum=yr2015_df[-yr2015_df['total_ghg_emissions_mtco2e'].isnull()]"
   ]
  },
  {
   "cell_type": "code",
   "execution_count": 20,
   "metadata": {},
   "outputs": [
    {
     "data": {
      "text/plain": [
       "0         570\n",
       "1         142\n",
       "2        4750\n",
       "3        1003\n",
       "4        1141\n",
       "5       10484\n",
       "6         494\n",
       "7        1282\n",
       "8        2208\n",
       "9        4326\n",
       "10       1733\n",
       "11        530\n",
       "12       4302\n",
       "13      17153\n",
       "14       6371\n",
       "15      21279\n",
       "16       8832\n",
       "17      54887\n",
       "18         81\n",
       "19      18956\n",
       "20        792\n",
       "21       4624\n",
       "22      10260\n",
       "23      12638\n",
       "24        607\n",
       "25        993\n",
       "26        562\n",
       "27        575\n",
       "28       3397\n",
       "29      24202\n",
       "        ...  \n",
       "1071      140\n",
       "1072      660\n",
       "1073        6\n",
       "1074      643\n",
       "1075      686\n",
       "1076      285\n",
       "1077      950\n",
       "1078      274\n",
       "1079       34\n",
       "1080       61\n",
       "1081       13\n",
       "1082      564\n",
       "1083     1580\n",
       "1084      965\n",
       "1085    19036\n",
       "1086     2513\n",
       "1087      755\n",
       "1088     1524\n",
       "1089       25\n",
       "1090      841\n",
       "1091      374\n",
       "1092      404\n",
       "1093       40\n",
       "1094      425\n",
       "1095      376\n",
       "1096       27\n",
       "1097      139\n",
       "1098        9\n",
       "1099      134\n",
       "1100       90\n",
       "Name: total_ghg_emissions_mtco2e, Length: 1101, dtype: int64"
      ]
     },
     "execution_count": 20,
     "metadata": {},
     "output_type": "execute_result"
    }
   ],
   "source": [
    "yr2015_sum['total_ghg_emissions_mtco2e'].astype('int')"
   ]
  },
  {
   "cell_type": "code",
   "execution_count": 21,
   "metadata": {},
   "outputs": [
    {
     "data": {
      "text/plain": [
       "2781230.0999999996"
      ]
     },
     "execution_count": 21,
     "metadata": {},
     "output_type": "execute_result"
    }
   ],
   "source": [
    "yr2015_sum['total_ghg_emissions_mtco2e'].sum()"
   ]
  },
  {
   "cell_type": "markdown",
   "metadata": {},
   "source": [
    "2015 total emissions: 2781230.0999999996"
   ]
  },
  {
   "cell_type": "code",
   "execution_count": 22,
   "metadata": {},
   "outputs": [
    {
     "data": {
      "text/html": [
       "<div>\n",
       "<style scoped>\n",
       "    .dataframe tbody tr th:only-of-type {\n",
       "        vertical-align: middle;\n",
       "    }\n",
       "\n",
       "    .dataframe tbody tr th {\n",
       "        vertical-align: top;\n",
       "    }\n",
       "\n",
       "    .dataframe thead th {\n",
       "        text-align: right;\n",
       "    }\n",
       "</style>\n",
       "<table border=\"1\" class=\"dataframe\">\n",
       "  <thead>\n",
       "    <tr style=\"text-align: right;\">\n",
       "      <th></th>\n",
       "      <th>electricity_use_kbtu</th>\n",
       "      <th>objectid</th>\n",
       "      <th>street_address</th>\n",
       "      <th>property_name</th>\n",
       "      <th>opa_account_num</th>\n",
       "      <th>postal_code</th>\n",
       "      <th>num_of_buildings</th>\n",
       "      <th>year_built</th>\n",
       "      <th>primary_prop_type_epa_calc</th>\n",
       "      <th>total_floor_area_bld_pk_ft2</th>\n",
       "      <th>portfolio_manager_id</th>\n",
       "      <th>natural_gas_use_kbtu</th>\n",
       "      <th>fuel_oil_o2_use_kbtu</th>\n",
       "      <th>steam_use_kbtu</th>\n",
       "      <th>energy_star_score</th>\n",
       "      <th>site_eui_kbtuft2</th>\n",
       "      <th>source_eui_kbtuft2</th>\n",
       "      <th>water_use_all_kgal</th>\n",
       "      <th>total_ghg_emissions_mtco2e</th>\n",
       "      <th>notes</th>\n",
       "    </tr>\n",
       "  </thead>\n",
       "  <tbody>\n",
       "    <tr>\n",
       "      <th>0</th>\n",
       "      <td>4192843.0</td>\n",
       "      <td>2806</td>\n",
       "      <td>4501 BENNER ST</td>\n",
       "      <td>Lawton</td>\n",
       "      <td>786033600</td>\n",
       "      <td>19135</td>\n",
       "      <td>1</td>\n",
       "      <td>1973</td>\n",
       "      <td>K-12 School</td>\n",
       "      <td>79856.0</td>\n",
       "      <td>3330959</td>\n",
       "      <td>173627.5</td>\n",
       "      <td>NaN</td>\n",
       "      <td>NaN</td>\n",
       "      <td>37.0</td>\n",
       "      <td>54.7</td>\n",
       "      <td>167.1</td>\n",
       "      <td>870.9</td>\n",
       "      <td>570.5</td>\n",
       "      <td>NaN</td>\n",
       "    </tr>\n",
       "    <tr>\n",
       "      <th>1</th>\n",
       "      <td>1061172.9</td>\n",
       "      <td>3551</td>\n",
       "      <td>500-50 E ERIE AVE</td>\n",
       "      <td>500 Erie Ave</td>\n",
       "      <td>884048000</td>\n",
       "      <td>19134</td>\n",
       "      <td>1</td>\n",
       "      <td>1930</td>\n",
       "      <td>Distribution Center</td>\n",
       "      <td>130000.0</td>\n",
       "      <td>4104348</td>\n",
       "      <td>NaN</td>\n",
       "      <td>NaN</td>\n",
       "      <td>NaN</td>\n",
       "      <td>86.0</td>\n",
       "      <td>8.2</td>\n",
       "      <td>25.6</td>\n",
       "      <td>154.4</td>\n",
       "      <td>142.1</td>\n",
       "      <td>NaN</td>\n",
       "    </tr>\n",
       "    <tr>\n",
       "      <th>2</th>\n",
       "      <td>35489338.0</td>\n",
       "      <td>2841</td>\n",
       "      <td>3701 MARKET ST</td>\n",
       "      <td>3701 Market St.</td>\n",
       "      <td>883073300</td>\n",
       "      <td>19104</td>\n",
       "      <td>1</td>\n",
       "      <td>2000</td>\n",
       "      <td>Medical Office</td>\n",
       "      <td>140913.0</td>\n",
       "      <td>3340008</td>\n",
       "      <td>NaN</td>\n",
       "      <td>NaN</td>\n",
       "      <td>NaN</td>\n",
       "      <td>1.0</td>\n",
       "      <td>251.9</td>\n",
       "      <td>790.8</td>\n",
       "      <td>6528.2</td>\n",
       "      <td>4750.8</td>\n",
       "      <td>NaN</td>\n",
       "    </tr>\n",
       "    <tr>\n",
       "      <th>3</th>\n",
       "      <td>4934315.0</td>\n",
       "      <td>3229</td>\n",
       "      <td>1600-46 RACE ST</td>\n",
       "      <td>Friends Select School</td>\n",
       "      <td>772199000</td>\n",
       "      <td>19103</td>\n",
       "      <td>1</td>\n",
       "      <td>1969</td>\n",
       "      <td>K-12 School</td>\n",
       "      <td>123306.0</td>\n",
       "      <td>3891486</td>\n",
       "      <td>6447756.2</td>\n",
       "      <td>NaN</td>\n",
       "      <td>NaN</td>\n",
       "      <td>39.0</td>\n",
       "      <td>92.3</td>\n",
       "      <td>180.6</td>\n",
       "      <td>1083.3</td>\n",
       "      <td>1003.0</td>\n",
       "      <td>NaN</td>\n",
       "    </tr>\n",
       "    <tr>\n",
       "      <th>4</th>\n",
       "      <td>6759973.8</td>\n",
       "      <td>3103</td>\n",
       "      <td>14700 TOWNSEND RD</td>\n",
       "      <td>NARA</td>\n",
       "      <td>884292516</td>\n",
       "      <td>19154</td>\n",
       "      <td>1</td>\n",
       "      <td>1994</td>\n",
       "      <td>Other - Public Services</td>\n",
       "      <td>300000.0</td>\n",
       "      <td>3790331</td>\n",
       "      <td>4453888.7</td>\n",
       "      <td>NaN</td>\n",
       "      <td>NaN</td>\n",
       "      <td>NaN</td>\n",
       "      <td>37.4</td>\n",
       "      <td>86.3</td>\n",
       "      <td>103.9</td>\n",
       "      <td>1141.5</td>\n",
       "      <td>NaN</td>\n",
       "    </tr>\n",
       "  </tbody>\n",
       "</table>\n",
       "</div>"
      ],
      "text/plain": [
       "   electricity_use_kbtu  objectid     street_address          property_name  \\\n",
       "0             4192843.0      2806     4501 BENNER ST                 Lawton   \n",
       "1             1061172.9      3551  500-50 E ERIE AVE           500 Erie Ave   \n",
       "2            35489338.0      2841     3701 MARKET ST        3701 Market St.   \n",
       "3             4934315.0      3229    1600-46 RACE ST  Friends Select School   \n",
       "4             6759973.8      3103  14700 TOWNSEND RD                   NARA   \n",
       "\n",
       "  opa_account_num postal_code  num_of_buildings  year_built  \\\n",
       "0       786033600       19135                 1        1973   \n",
       "1       884048000       19134                 1        1930   \n",
       "2       883073300       19104                 1        2000   \n",
       "3       772199000       19103                 1        1969   \n",
       "4       884292516       19154                 1        1994   \n",
       "\n",
       "  primary_prop_type_epa_calc  total_floor_area_bld_pk_ft2  \\\n",
       "0                K-12 School                      79856.0   \n",
       "1        Distribution Center                     130000.0   \n",
       "2             Medical Office                     140913.0   \n",
       "3                K-12 School                     123306.0   \n",
       "4    Other - Public Services                     300000.0   \n",
       "\n",
       "   portfolio_manager_id  natural_gas_use_kbtu  fuel_oil_o2_use_kbtu  \\\n",
       "0               3330959              173627.5                   NaN   \n",
       "1               4104348                   NaN                   NaN   \n",
       "2               3340008                   NaN                   NaN   \n",
       "3               3891486             6447756.2                   NaN   \n",
       "4               3790331             4453888.7                   NaN   \n",
       "\n",
       "   steam_use_kbtu  energy_star_score  site_eui_kbtuft2  source_eui_kbtuft2  \\\n",
       "0             NaN               37.0              54.7               167.1   \n",
       "1             NaN               86.0               8.2                25.6   \n",
       "2             NaN                1.0             251.9               790.8   \n",
       "3             NaN               39.0              92.3               180.6   \n",
       "4             NaN                NaN              37.4                86.3   \n",
       "\n",
       "   water_use_all_kgal  total_ghg_emissions_mtco2e notes  \n",
       "0               870.9                       570.5   NaN  \n",
       "1               154.4                       142.1   NaN  \n",
       "2              6528.2                      4750.8   NaN  \n",
       "3              1083.3                      1003.0   NaN  \n",
       "4               103.9                      1141.5   NaN  "
      ]
     },
     "execution_count": 22,
     "metadata": {},
     "output_type": "execute_result"
    }
   ],
   "source": [
    "#2015-2017 uses a different column name for building SF\n",
    "yr2015_sum.head()"
   ]
  },
  {
   "cell_type": "code",
   "execution_count": 23,
   "metadata": {},
   "outputs": [],
   "source": [
    "yr2015_sum2=yr2015_df[-yr2015_df['total_floor_area_bld_pk_ft2'].isnull()]"
   ]
  },
  {
   "cell_type": "code",
   "execution_count": 24,
   "metadata": {},
   "outputs": [
    {
     "data": {
      "text/plain": [
       "0         79856\n",
       "1        130000\n",
       "2        140913\n",
       "3        123306\n",
       "4        300000\n",
       "5        533393\n",
       "6         96000\n",
       "7         82972\n",
       "8        244109\n",
       "9        191783\n",
       "10       136566\n",
       "11        50456\n",
       "12       610065\n",
       "13      1538959\n",
       "14       735000\n",
       "15       873226\n",
       "16       595902\n",
       "17      1788504\n",
       "18        59850\n",
       "19       959580\n",
       "20        70902\n",
       "21       272165\n",
       "22      1706638\n",
       "23      1503469\n",
       "24       105000\n",
       "25       150000\n",
       "26        80679\n",
       "27        76989\n",
       "28       329425\n",
       "29       722268\n",
       "         ...   \n",
       "1091     482000\n",
       "1092     434000\n",
       "1093      75590\n",
       "1094      20000\n",
       "1095     581000\n",
       "1096      67550\n",
       "1097     168365\n",
       "1098      48000\n",
       "1099     220890\n",
       "1100     300000\n",
       "1101     100000\n",
       "1102      81423\n",
       "1103      85426\n",
       "1104     192000\n",
       "1105      79200\n",
       "1106     250000\n",
       "1107      70506\n",
       "1108      63000\n",
       "1109      57387\n",
       "1110      52679\n",
       "1111      53021\n",
       "1112      98723\n",
       "1113      47000\n",
       "1114     134484\n",
       "1115     390125\n",
       "1116      33000\n",
       "1117      67884\n",
       "1118     289713\n",
       "1119     100240\n",
       "1120      65000\n",
       "Name: total_floor_area_bld_pk_ft2, Length: 1121, dtype: int64"
      ]
     },
     "execution_count": 24,
     "metadata": {},
     "output_type": "execute_result"
    }
   ],
   "source": [
    "yr2015_sum2['total_floor_area_bld_pk_ft2'].astype('int')"
   ]
  },
  {
   "cell_type": "code",
   "execution_count": 25,
   "metadata": {},
   "outputs": [
    {
     "data": {
      "text/plain": [
       "257565866.1"
      ]
     },
     "execution_count": 25,
     "metadata": {},
     "output_type": "execute_result"
    }
   ],
   "source": [
    "yr2015_sum2['total_floor_area_bld_pk_ft2'].sum()"
   ]
  },
  {
   "cell_type": "code",
   "execution_count": 26,
   "metadata": {},
   "outputs": [
    {
     "data": {
      "text/plain": [
       "58.34664764621969"
      ]
     },
     "execution_count": 26,
     "metadata": {},
     "output_type": "execute_result"
    }
   ],
   "source": [
    "np.nanmean(yr2015_sum['energy_star_score'])"
   ]
  },
  {
   "cell_type": "markdown",
   "metadata": {},
   "source": [
    "58.34 = avg energy StAR score for 2015"
   ]
  },
  {
   "cell_type": "markdown",
   "metadata": {},
   "source": [
    "## 2016 Data"
   ]
  },
  {
   "cell_type": "code",
   "execution_count": 27,
   "metadata": {},
   "outputs": [],
   "source": [
    "yr2016_sum=yr2016_df[-yr2016_df['total_ghg_emissions_mtco2e'].isnull()]"
   ]
  },
  {
   "cell_type": "code",
   "execution_count": 28,
   "metadata": {},
   "outputs": [
    {
     "data": {
      "text/plain": [
       "0        3110\n",
       "1         355\n",
       "2         174\n",
       "3         320\n",
       "4          91\n",
       "5        1745\n",
       "6        2222\n",
       "7        1161\n",
       "8         334\n",
       "9         374\n",
       "10        588\n",
       "11       5244\n",
       "12       1523\n",
       "13       8335\n",
       "14       9607\n",
       "15      13841\n",
       "16       5834\n",
       "17      19306\n",
       "18          0\n",
       "19       7668\n",
       "20      49459\n",
       "21      17515\n",
       "22        515\n",
       "23        794\n",
       "24        684\n",
       "25       4107\n",
       "26       3693\n",
       "27      12742\n",
       "28       2206\n",
       "29       3778\n",
       "        ...  \n",
       "1501      193\n",
       "1502       74\n",
       "1503      107\n",
       "1504      188\n",
       "1505      237\n",
       "1506      238\n",
       "1507     1263\n",
       "1508      806\n",
       "1509      469\n",
       "1510     1015\n",
       "1511       21\n",
       "1512      136\n",
       "1513      763\n",
       "1514      104\n",
       "1515       39\n",
       "1516      141\n",
       "1517      450\n",
       "1518      468\n",
       "1519       21\n",
       "1520      117\n",
       "1521       93\n",
       "1522        9\n",
       "1523      105\n",
       "1524       40\n",
       "1525        0\n",
       "1526        0\n",
       "1527        0\n",
       "1528        0\n",
       "1529        0\n",
       "1530        0\n",
       "Name: total_ghg_emissions_mtco2e, Length: 1530, dtype: int64"
      ]
     },
     "execution_count": 28,
     "metadata": {},
     "output_type": "execute_result"
    }
   ],
   "source": [
    "yr2016_sum['total_ghg_emissions_mtco2e'].astype('int')"
   ]
  },
  {
   "cell_type": "code",
   "execution_count": 29,
   "metadata": {},
   "outputs": [
    {
     "data": {
      "text/plain": [
       "3786881.5"
      ]
     },
     "execution_count": 29,
     "metadata": {},
     "output_type": "execute_result"
    }
   ],
   "source": [
    "yr2016_sum['total_ghg_emissions_mtco2e'].sum()"
   ]
  },
  {
   "cell_type": "markdown",
   "metadata": {},
   "source": [
    "Total 2016 emissions: 3786881.5"
   ]
  },
  {
   "cell_type": "code",
   "execution_count": 30,
   "metadata": {},
   "outputs": [],
   "source": [
    "yr2016_sum2=yr2016_df[-yr2016_df['total_floor_area_bld_pk_ft2'].isnull()]"
   ]
  },
  {
   "cell_type": "code",
   "execution_count": 31,
   "metadata": {},
   "outputs": [
    {
     "data": {
      "text/plain": [
       "0        565764\n",
       "1         92156\n",
       "2         50840\n",
       "3         75318\n",
       "4        106400\n",
       "5        207802\n",
       "6        271115\n",
       "7        173550\n",
       "8         48129\n",
       "9         63000\n",
       "10        68967\n",
       "11       600000\n",
       "12       136566\n",
       "13      1706638\n",
       "14      1503469\n",
       "15      1538959\n",
       "16       735000\n",
       "17       873226\n",
       "18       107728\n",
       "19       601165\n",
       "20      1791804\n",
       "21      1143882\n",
       "22       105000\n",
       "23       150000\n",
       "24        70902\n",
       "25       272165\n",
       "26       440000\n",
       "27      1294004\n",
       "28       243058\n",
       "29       350000\n",
       "         ...   \n",
       "1523     204192\n",
       "1524      50439\n",
       "1525     153000\n",
       "1526     108340\n",
       "1527       2500\n",
       "1528     300000\n",
       "1529     152000\n",
       "1530     160000\n",
       "1532      69888\n",
       "1533      90331\n",
       "1534    1228757\n",
       "1535      82785\n",
       "1536      40000\n",
       "1537     520280\n",
       "1538      70000\n",
       "1539      50400\n",
       "1540      54839\n",
       "1541     145850\n",
       "1542     210000\n",
       "1543      61592\n",
       "1544      50525\n",
       "1545     110000\n",
       "1546     200000\n",
       "1547     156000\n",
       "1548     750000\n",
       "1549      33000\n",
       "1550     190000\n",
       "1551      68827\n",
       "1552      52980\n",
       "1553      93000\n",
       "Name: total_floor_area_bld_pk_ft2, Length: 1553, dtype: int64"
      ]
     },
     "execution_count": 31,
     "metadata": {},
     "output_type": "execute_result"
    }
   ],
   "source": [
    "yr2016_sum2['total_floor_area_bld_pk_ft2'].astype('int')"
   ]
  },
  {
   "cell_type": "code",
   "execution_count": 32,
   "metadata": {},
   "outputs": [
    {
     "data": {
      "text/plain": [
       "352151092.0"
      ]
     },
     "execution_count": 32,
     "metadata": {},
     "output_type": "execute_result"
    }
   ],
   "source": [
    "yr2016_sum2['total_floor_area_bld_pk_ft2'].sum()"
   ]
  },
  {
   "cell_type": "markdown",
   "metadata": {},
   "source": [
    "352,151,092 SF reported in 2016"
   ]
  },
  {
   "cell_type": "code",
   "execution_count": 33,
   "metadata": {},
   "outputs": [
    {
     "data": {
      "text/plain": [
       "58.94703196347032"
      ]
     },
     "execution_count": 33,
     "metadata": {},
     "output_type": "execute_result"
    }
   ],
   "source": [
    "np.nanmean(yr2016_sum['energy_star_score'])"
   ]
  },
  {
   "cell_type": "markdown",
   "metadata": {},
   "source": [
    "58.94 = avg energy STAR score for 2016"
   ]
  },
  {
   "cell_type": "markdown",
   "metadata": {},
   "source": [
    "## 2017 Data"
   ]
  },
  {
   "cell_type": "code",
   "execution_count": 34,
   "metadata": {},
   "outputs": [],
   "source": [
    "yr2017_sum=yr2017_df[-yr2017_df['total_ghg_emissions_mtco2e'].isnull()]"
   ]
  },
  {
   "cell_type": "code",
   "execution_count": 35,
   "metadata": {},
   "outputs": [
    {
     "data": {
      "text/plain": [
       "0        646\n",
       "1       2650\n",
       "2         35\n",
       "3        549\n",
       "4        329\n",
       "5        299\n",
       "6        509\n",
       "7        591\n",
       "8         15\n",
       "9        288\n",
       "10       483\n",
       "11       335\n",
       "12        45\n",
       "13       204\n",
       "14      5054\n",
       "15       478\n",
       "16       228\n",
       "17       430\n",
       "18       566\n",
       "19       877\n",
       "20       374\n",
       "21      1889\n",
       "22      1686\n",
       "23       656\n",
       "24       358\n",
       "25       636\n",
       "26       585\n",
       "27       804\n",
       "28      1808\n",
       "29       663\n",
       "        ... \n",
       "1468       0\n",
       "1469    2577\n",
       "1470     128\n",
       "1471       0\n",
       "1472     330\n",
       "1473     795\n",
       "1474     499\n",
       "1475    1294\n",
       "1476      51\n",
       "1477     287\n",
       "1478     321\n",
       "1479     329\n",
       "1480     521\n",
       "1481     574\n",
       "1482      23\n",
       "1483     177\n",
       "1484     207\n",
       "1485     743\n",
       "1486    1431\n",
       "1487     543\n",
       "1488     697\n",
       "1489     133\n",
       "1490     299\n",
       "1491    3946\n",
       "1492      23\n",
       "1493     107\n",
       "1494     114\n",
       "1495     513\n",
       "1496     262\n",
       "1497       0\n",
       "Name: total_ghg_emissions_mtco2e, Length: 1497, dtype: int64"
      ]
     },
     "execution_count": 35,
     "metadata": {},
     "output_type": "execute_result"
    }
   ],
   "source": [
    "yr2017_sum['total_ghg_emissions_mtco2e'].astype('int')"
   ]
  },
  {
   "cell_type": "code",
   "execution_count": 36,
   "metadata": {},
   "outputs": [
    {
     "data": {
      "text/plain": [
       "3413317.8000000003"
      ]
     },
     "execution_count": 36,
     "metadata": {},
     "output_type": "execute_result"
    }
   ],
   "source": [
    "yr2017_sum['total_ghg_emissions_mtco2e'].sum()"
   ]
  },
  {
   "cell_type": "markdown",
   "metadata": {},
   "source": [
    "Total 2017 Emission: 3,413,317.8000000003"
   ]
  },
  {
   "cell_type": "code",
   "execution_count": 37,
   "metadata": {},
   "outputs": [],
   "source": [
    "yr2017_sum2=yr2017_df[-yr2017_df['total_floor_area_bld_pk_ft2'].isnull()]"
   ]
  },
  {
   "cell_type": "code",
   "execution_count": 38,
   "metadata": {},
   "outputs": [
    {
     "data": {
      "text/plain": [
       "319160073.0"
      ]
     },
     "execution_count": 38,
     "metadata": {},
     "output_type": "execute_result"
    }
   ],
   "source": [
    "yr2017_sum2['total_floor_area_bld_pk_ft2'].sum()"
   ]
  },
  {
   "cell_type": "markdown",
   "metadata": {},
   "source": [
    "319,160,073 SF reported in 2017"
   ]
  },
  {
   "cell_type": "code",
   "execution_count": 39,
   "metadata": {},
   "outputs": [
    {
     "data": {
      "text/plain": [
       "58.959280303030305"
      ]
     },
     "execution_count": 39,
     "metadata": {},
     "output_type": "execute_result"
    }
   ],
   "source": [
    "np.nanmean(yr2017_sum['energy_star_score'])"
   ]
  },
  {
   "cell_type": "markdown",
   "metadata": {},
   "source": [
    "Avg energy star score in 2017: 59"
   ]
  },
  {
   "cell_type": "code",
   "execution_count": null,
   "metadata": {},
   "outputs": [],
   "source": []
  }
 ],
 "metadata": {
  "kernelspec": {
   "display_name": "Python 3",
   "language": "python",
   "name": "python3"
  },
  "language_info": {
   "codemirror_mode": {
    "name": "ipython",
    "version": 3
   },
   "file_extension": ".py",
   "mimetype": "text/x-python",
   "name": "python",
   "nbconvert_exporter": "python",
   "pygments_lexer": "ipython3",
   "version": "3.7.3"
  }
 },
 "nbformat": 4,
 "nbformat_minor": 2
}
