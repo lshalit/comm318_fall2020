{
 "cells": [
  {
   "cell_type": "markdown",
   "metadata": {},
   "source": [
    "## Investigating my Boston Marathon Data\n",
    "This file contains the data analysis for the 2015 Boston Marathon\n"
   ]
  },
  {
   "cell_type": "markdown",
   "metadata": {},
   "source": [
    "First I inserted the qualifying times to guide my research and data exploration qualifying times\n",
    "\n",
    "Men \n",
    "* 18-34\t3:05:00\t3:03:58\n",
    "* 35-39\t3:10:00\t3:08:58\n",
    "* 40-44\t3:15:00\t3:13:58\n",
    "* 45-49\t3:25:00\t3:23:58\n",
    "* 50-54\t3:30:00\t3:28:58\n",
    "* 55-59\t3:40:00\t3:38:58\n",
    "* 60-64\t3:55:00\t3:53:58\n",
    "* 65-69\t4:10:00\t4:08:58\n",
    "* 70-74\t4:25:00\t4:23:58\n",
    "* 75-79\t4:40:00\t4:38:58\n",
    "* 80+\t    4:55:00\t4:53:58\n",
    "\n",
    "Women\n",
    "* 18-34\t3:35:00\t3:33:58\n",
    "* 35-39\t3:40:00\t3:38:58\n",
    "* 40-44\t3:45:00\t3:43:58\n",
    "* 45-49\t3:55:00\t3:53:58\n",
    "* 50-54\t4:00:00\t3:58:58\n",
    "* 55-59\t4:10:00\t4:08:58\n",
    "* 60-64\t4:25:00\t4:23:58\n",
    "* 65-69\t4:40:00\t4:38:58\n",
    "* 70-74\t4:55:00\t4:53:58\n",
    "* 75-79\t5:10:00\t5:08:58\n",
    "* 80+\t    5:25:00\t5:23:58\n"
   ]
  },
  {
   "cell_type": "markdown",
   "metadata": {},
   "source": [
    "These are some of the questions that I looked at with the analysis\n",
    "\n",
    "* How many participants are there per age group?\n",
    "* What is the age group with the most participants?\n",
    "* What is the mean finish time for each age group separated by gender?\n",
    "* What is the mean finish time difference between males and females in the same age division?\n",
    "* What percentage of participants keep with their qualifying time on race day?\n"
   ]
  },
  {
   "cell_type": "code",
   "execution_count": 2,
   "metadata": {},
   "outputs": [],
   "source": [
    "%matplotlib inline\n",
    "import pandas as pd \n",
    "import matplotlib.pyplot as plt"
   ]
  },
  {
   "cell_type": "code",
   "execution_count": 57,
   "metadata": {},
   "outputs": [],
   "source": [
    "Y2015=pd.read_csv(\"../data/marathon_results_2015.csv\")\n",
    "Y2016=pd.read_csv(\"../data/marathon_results_2016.csv\")\n",
    "Y2017=pd.read_csv(\"../data/marathon_results_2017.csv\")"
   ]
  },
  {
   "cell_type": "markdown",
   "metadata": {},
   "source": [
    "I imported the data for the three years in case I needed it for any analysis "
   ]
  },
  {
   "cell_type": "code",
   "execution_count": 61,
   "metadata": {},
   "outputs": [],
   "source": [
    "Y2015['year']=2015\n",
    "Y2016['year']=2016\n",
    "Y2017['year']=2017"
   ]
  },
  {
   "cell_type": "code",
   "execution_count": 62,
   "metadata": {},
   "outputs": [
    {
     "name": "stderr",
     "output_type": "stream",
     "text": [
      "/usr/local/anaconda3/lib/python3.7/site-packages/ipykernel_launcher.py:1: FutureWarning: Sorting because non-concatenation axis is not aligned. A future version\n",
      "of pandas will change to not sort by default.\n",
      "\n",
      "To accept the future behavior, pass 'sort=False'.\n",
      "\n",
      "To retain the current behavior and silence the warning, pass 'sort=True'.\n",
      "\n",
      "  \"\"\"Entry point for launching an IPython kernel.\n"
     ]
    }
   ],
   "source": [
    "df = pd.concat([Y2015, Y2016, Y2017])"
   ]
  },
  {
   "cell_type": "code",
   "execution_count": 64,
   "metadata": {},
   "outputs": [],
   "source": [
    "df.to_csv('../data/all_data.csv', index=False)"
   ]
  },
  {
   "cell_type": "markdown",
   "metadata": {},
   "source": [
    "I created a file containing the data for the three years which I used in another folder for the majority of my analysis "
   ]
  },
  {
   "cell_type": "markdown",
   "metadata": {},
   "source": [
    "* We have 26598 participants and 25 columns "
   ]
  },
  {
   "cell_type": "markdown",
   "metadata": {},
   "source": [
    "Regardless in this file I am carrying out specific analysis of the 2015 marathon"
   ]
  },
  {
   "cell_type": "code",
   "execution_count": 7,
   "metadata": {},
   "outputs": [
    {
     "data": {
      "text/plain": [
       "Index(['Unnamed: 0', 'Bib', 'Name', 'Age', 'M/F', 'City', 'State', 'Country',\n",
       "       'Citizen', 'Unnamed: 9', '5K', '10K', '15K', '20K', 'Half', '25K',\n",
       "       '30K', '35K', '40K', 'Pace', 'Proj Time', 'Official Time', 'Overall',\n",
       "       'Gender', 'Division'],\n",
       "      dtype='object')"
      ]
     },
     "execution_count": 7,
     "metadata": {},
     "output_type": "execute_result"
    }
   ],
   "source": [
    "Y2015.columns"
   ]
  },
  {
   "cell_type": "markdown",
   "metadata": {},
   "source": [
    "Looking at the column names"
   ]
  },
  {
   "cell_type": "code",
   "execution_count": 8,
   "metadata": {},
   "outputs": [
    {
     "data": {
      "text/html": [
       "<div>\n",
       "<style scoped>\n",
       "    .dataframe tbody tr th:only-of-type {\n",
       "        vertical-align: middle;\n",
       "    }\n",
       "\n",
       "    .dataframe tbody tr th {\n",
       "        vertical-align: top;\n",
       "    }\n",
       "\n",
       "    .dataframe thead th {\n",
       "        text-align: right;\n",
       "    }\n",
       "</style>\n",
       "<table border=\"1\" class=\"dataframe\">\n",
       "  <thead>\n",
       "    <tr style=\"text-align: right;\">\n",
       "      <th></th>\n",
       "      <th>Unnamed: 0</th>\n",
       "      <th>Bib</th>\n",
       "      <th>Name</th>\n",
       "      <th>Age</th>\n",
       "      <th>M/F</th>\n",
       "      <th>City</th>\n",
       "      <th>State</th>\n",
       "      <th>Country</th>\n",
       "      <th>Citizen</th>\n",
       "      <th>Unnamed: 9</th>\n",
       "      <th>...</th>\n",
       "      <th>25K</th>\n",
       "      <th>30K</th>\n",
       "      <th>35K</th>\n",
       "      <th>40K</th>\n",
       "      <th>Pace</th>\n",
       "      <th>Proj Time</th>\n",
       "      <th>Official Time</th>\n",
       "      <th>Overall</th>\n",
       "      <th>Gender</th>\n",
       "      <th>Division</th>\n",
       "    </tr>\n",
       "  </thead>\n",
       "  <tbody>\n",
       "    <tr>\n",
       "      <th>0</th>\n",
       "      <td>0</td>\n",
       "      <td>3</td>\n",
       "      <td>Desisa, Lelisa</td>\n",
       "      <td>25</td>\n",
       "      <td>M</td>\n",
       "      <td>Ambo</td>\n",
       "      <td>NaN</td>\n",
       "      <td>ETH</td>\n",
       "      <td>NaN</td>\n",
       "      <td>NaN</td>\n",
       "      <td>...</td>\n",
       "      <td>1:16:07</td>\n",
       "      <td>1:32:00</td>\n",
       "      <td>1:47:59</td>\n",
       "      <td>2:02:39</td>\n",
       "      <td>0:04:56</td>\n",
       "      <td>-</td>\n",
       "      <td>2:09:17</td>\n",
       "      <td>1</td>\n",
       "      <td>1</td>\n",
       "      <td>1</td>\n",
       "    </tr>\n",
       "    <tr>\n",
       "      <th>1</th>\n",
       "      <td>1</td>\n",
       "      <td>4</td>\n",
       "      <td>Tsegay, Yemane Adhane</td>\n",
       "      <td>30</td>\n",
       "      <td>M</td>\n",
       "      <td>Addis Ababa</td>\n",
       "      <td>NaN</td>\n",
       "      <td>ETH</td>\n",
       "      <td>NaN</td>\n",
       "      <td>NaN</td>\n",
       "      <td>...</td>\n",
       "      <td>1:16:07</td>\n",
       "      <td>1:31:59</td>\n",
       "      <td>1:47:59</td>\n",
       "      <td>2:02:42</td>\n",
       "      <td>0:04:58</td>\n",
       "      <td>-</td>\n",
       "      <td>2:09:48</td>\n",
       "      <td>2</td>\n",
       "      <td>2</td>\n",
       "      <td>2</td>\n",
       "    </tr>\n",
       "    <tr>\n",
       "      <th>2</th>\n",
       "      <td>2</td>\n",
       "      <td>8</td>\n",
       "      <td>Chebet, Wilson</td>\n",
       "      <td>29</td>\n",
       "      <td>M</td>\n",
       "      <td>Marakwet</td>\n",
       "      <td>NaN</td>\n",
       "      <td>KEN</td>\n",
       "      <td>NaN</td>\n",
       "      <td>NaN</td>\n",
       "      <td>...</td>\n",
       "      <td>1:16:07</td>\n",
       "      <td>1:32:00</td>\n",
       "      <td>1:47:59</td>\n",
       "      <td>2:03:01</td>\n",
       "      <td>0:04:59</td>\n",
       "      <td>-</td>\n",
       "      <td>2:10:22</td>\n",
       "      <td>3</td>\n",
       "      <td>3</td>\n",
       "      <td>3</td>\n",
       "    </tr>\n",
       "    <tr>\n",
       "      <th>3</th>\n",
       "      <td>3</td>\n",
       "      <td>11</td>\n",
       "      <td>Kipyego, Bernard</td>\n",
       "      <td>28</td>\n",
       "      <td>M</td>\n",
       "      <td>Eldoret</td>\n",
       "      <td>NaN</td>\n",
       "      <td>KEN</td>\n",
       "      <td>NaN</td>\n",
       "      <td>NaN</td>\n",
       "      <td>...</td>\n",
       "      <td>1:16:07</td>\n",
       "      <td>1:32:00</td>\n",
       "      <td>1:48:03</td>\n",
       "      <td>2:03:47</td>\n",
       "      <td>0:05:00</td>\n",
       "      <td>-</td>\n",
       "      <td>2:10:47</td>\n",
       "      <td>4</td>\n",
       "      <td>4</td>\n",
       "      <td>4</td>\n",
       "    </tr>\n",
       "    <tr>\n",
       "      <th>4</th>\n",
       "      <td>4</td>\n",
       "      <td>10</td>\n",
       "      <td>Korir, Wesley</td>\n",
       "      <td>32</td>\n",
       "      <td>M</td>\n",
       "      <td>Kitale</td>\n",
       "      <td>NaN</td>\n",
       "      <td>KEN</td>\n",
       "      <td>NaN</td>\n",
       "      <td>NaN</td>\n",
       "      <td>...</td>\n",
       "      <td>1:16:07</td>\n",
       "      <td>1:32:00</td>\n",
       "      <td>1:47:59</td>\n",
       "      <td>2:03:27</td>\n",
       "      <td>0:05:00</td>\n",
       "      <td>-</td>\n",
       "      <td>2:10:49</td>\n",
       "      <td>5</td>\n",
       "      <td>5</td>\n",
       "      <td>5</td>\n",
       "    </tr>\n",
       "  </tbody>\n",
       "</table>\n",
       "<p>5 rows × 25 columns</p>\n",
       "</div>"
      ],
      "text/plain": [
       "   Unnamed: 0 Bib                   Name  Age M/F         City State Country  \\\n",
       "0           0   3         Desisa, Lelisa   25   M         Ambo   NaN     ETH   \n",
       "1           1   4  Tsegay, Yemane Adhane   30   M  Addis Ababa   NaN     ETH   \n",
       "2           2   8         Chebet, Wilson   29   M     Marakwet   NaN     KEN   \n",
       "3           3  11       Kipyego, Bernard   28   M      Eldoret   NaN     KEN   \n",
       "4           4  10          Korir, Wesley   32   M       Kitale   NaN     KEN   \n",
       "\n",
       "  Citizen Unnamed: 9  ...      25K      30K      35K      40K     Pace  \\\n",
       "0     NaN        NaN  ...  1:16:07  1:32:00  1:47:59  2:02:39  0:04:56   \n",
       "1     NaN        NaN  ...  1:16:07  1:31:59  1:47:59  2:02:42  0:04:58   \n",
       "2     NaN        NaN  ...  1:16:07  1:32:00  1:47:59  2:03:01  0:04:59   \n",
       "3     NaN        NaN  ...  1:16:07  1:32:00  1:48:03  2:03:47  0:05:00   \n",
       "4     NaN        NaN  ...  1:16:07  1:32:00  1:47:59  2:03:27  0:05:00   \n",
       "\n",
       "  Proj Time Official Time Overall Gender Division  \n",
       "0         -       2:09:17       1      1        1  \n",
       "1         -       2:09:48       2      2        2  \n",
       "2         -       2:10:22       3      3        3  \n",
       "3         -       2:10:47       4      4        4  \n",
       "4         -       2:10:49       5      5        5  \n",
       "\n",
       "[5 rows x 25 columns]"
      ]
     },
     "execution_count": 8,
     "metadata": {},
     "output_type": "execute_result"
    }
   ],
   "source": [
    "Y2015.head()"
   ]
  },
  {
   "cell_type": "markdown",
   "metadata": {},
   "source": [
    "* The most important columns in our data are: age, pace, official time, gender, and time at each 5k mark"
   ]
  },
  {
   "cell_type": "code",
   "execution_count": 9,
   "metadata": {},
   "outputs": [
    {
     "data": {
      "text/plain": [
       "45    1035\n",
       "46    1033\n",
       "40     904\n",
       "47     854\n",
       "50     853\n",
       "41     842\n",
       "43     835\n",
       "42     820\n",
       "35     754\n",
       "37     752\n",
       "48     737\n",
       "51     735\n",
       "36     733\n",
       "38     714\n",
       "44     692\n",
       "33     663\n",
       "49     658\n",
       "39     656\n",
       "52     650\n",
       "29     646\n",
       "27     611\n",
       "31     606\n",
       "30     602\n",
       "32     597\n",
       "28     595\n",
       "55     594\n",
       "34     592\n",
       "26     574\n",
       "53     559\n",
       "25     525\n",
       "      ... \n",
       "58     347\n",
       "23     308\n",
       "22     265\n",
       "61     261\n",
       "59     237\n",
       "62     207\n",
       "21     182\n",
       "63     174\n",
       "65     167\n",
       "66     131\n",
       "64     117\n",
       "67     101\n",
       "20      97\n",
       "68      60\n",
       "70      54\n",
       "19      53\n",
       "71      39\n",
       "69      35\n",
       "72      20\n",
       "18      20\n",
       "73      17\n",
       "74      13\n",
       "76      13\n",
       "75      11\n",
       "77       8\n",
       "80       5\n",
       "82       4\n",
       "78       4\n",
       "81       2\n",
       "79       2\n",
       "Name: Age, Length: 65, dtype: int64"
      ]
     },
     "execution_count": 9,
     "metadata": {},
     "output_type": "execute_result"
    }
   ],
   "source": [
    "Y2015['Age'].value_counts()\n"
   ]
  },
  {
   "cell_type": "markdown",
   "metadata": {},
   "source": [
    "* The age  with the most amount of participants is 45 years of age. \n",
    "* The age  with the least amount of participants are 81 and 79"
   ]
  },
  {
   "cell_type": "code",
   "execution_count": 10,
   "metadata": {},
   "outputs": [
    {
     "data": {
      "text/plain": [
       "count       26598\n",
       "unique        555\n",
       "top       0:07:58\n",
       "freq          173\n",
       "Name: Pace, dtype: object"
      ]
     },
     "execution_count": 10,
     "metadata": {},
     "output_type": "execute_result"
    }
   ],
   "source": [
    "Y2015['Pace'].describe()"
   ]
  },
  {
   "cell_type": "code",
   "execution_count": 11,
   "metadata": {},
   "outputs": [
    {
     "data": {
      "text/plain": [
       "M/F  Age\n",
       "F    40     454\n",
       "     45     444\n",
       "     41     436\n",
       "     46     430\n",
       "     37     395\n",
       "     42     391\n",
       "     36     390\n",
       "     35     389\n",
       "     43     375\n",
       "     27     372\n",
       "     38     349\n",
       "     47     349\n",
       "     29     348\n",
       "     28     344\n",
       "     30     343\n",
       "     50     340\n",
       "     25     337\n",
       "     39     337\n",
       "     33     336\n",
       "     26     335\n",
       "     44     328\n",
       "     48     315\n",
       "     31     306\n",
       "     32     303\n",
       "     49     294\n",
       "     34     287\n",
       "     24     277\n",
       "     51     275\n",
       "     52     244\n",
       "     23     200\n",
       "           ... \n",
       "M    25     188\n",
       "     59     177\n",
       "     62     171\n",
       "     24     146\n",
       "     65     136\n",
       "     63     131\n",
       "     23     108\n",
       "     66     102\n",
       "     22     100\n",
       "     64      89\n",
       "     67      84\n",
       "     21      82\n",
       "     68      51\n",
       "     70      45\n",
       "     20      42\n",
       "     71      33\n",
       "     69      30\n",
       "     19      27\n",
       "     72      19\n",
       "     73      14\n",
       "     74      12\n",
       "     76      12\n",
       "     18      10\n",
       "     75      10\n",
       "     77       8\n",
       "     80       5\n",
       "     78       4\n",
       "     82       3\n",
       "     79       2\n",
       "     81       2\n",
       "Name: Age, Length: 125, dtype: int64"
      ]
     },
     "execution_count": 11,
     "metadata": {},
     "output_type": "execute_result"
    }
   ],
   "source": [
    "Y2015.groupby('M/F')['Age'].value_counts()"
   ]
  },
  {
   "cell_type": "markdown",
   "metadata": {},
   "source": [
    "I am grouping the data by gender and age to see how many participants we have separated by gender. \n",
    "For females  40 years has the most amount of participants.\n",
    "For males 25 years has the most amount of participants."
   ]
  },
  {
   "cell_type": "code",
   "execution_count": 12,
   "metadata": {},
   "outputs": [],
   "source": [
    "age_cuts=[18,35,40,45,50,55,60,65,70,75,80,100]\n",
    "age_bands=['18-34', '35-39', '40-44', '45-49', '50-54', '55-59', '60-64', '65-69', '70-74','75-79','80 and over']"
   ]
  },
  {
   "cell_type": "markdown",
   "metadata": {},
   "source": [
    "I am creating the age band divisions used for the qualifying times"
   ]
  },
  {
   "cell_type": "code",
   "execution_count": 13,
   "metadata": {},
   "outputs": [
    {
     "data": {
      "text/plain": [
       "12"
      ]
     },
     "execution_count": 13,
     "metadata": {},
     "output_type": "execute_result"
    }
   ],
   "source": [
    "len(age_cuts)"
   ]
  },
  {
   "cell_type": "markdown",
   "metadata": {},
   "source": [
    "We have 12 age bands"
   ]
  },
  {
   "cell_type": "code",
   "execution_count": 14,
   "metadata": {},
   "outputs": [],
   "source": [
    "Y2015['Age_band']=pd.cut(Y2015['Age'], bins=age_cuts, labels=age_bands, \n",
    "       right=False)"
   ]
  },
  {
   "cell_type": "code",
   "execution_count": 15,
   "metadata": {},
   "outputs": [
    {
     "data": {
      "text/plain": [
       "M/F  Age_band   \n",
       "F    18-34          4144\n",
       "     35-39          1860\n",
       "     40-44          1984\n",
       "     45-49          1832\n",
       "     50-54          1206\n",
       "     55-59           607\n",
       "     60-64           270\n",
       "     65-69            91\n",
       "     70-74            20\n",
       "     75-79             2\n",
       "     80 and over       1\n",
       "M    18-34          3215\n",
       "     35-39          1749\n",
       "     40-44          2109\n",
       "     45-49          2485\n",
       "     50-54          2055\n",
       "     55-59          1498\n",
       "     60-64           898\n",
       "     65-69           403\n",
       "     70-74           123\n",
       "     75-79            36\n",
       "     80 and over      10\n",
       "dtype: int64"
      ]
     },
     "execution_count": 15,
     "metadata": {},
     "output_type": "execute_result"
    }
   ],
   "source": [
    "Y2015.groupby(['M/F', 'Age_band']).size()"
   ]
  },
  {
   "cell_type": "markdown",
   "metadata": {},
   "source": [
    "Now I have separated participants by age group and gender"
   ]
  },
  {
   "cell_type": "markdown",
   "metadata": {},
   "source": [
    "Next I created a function to turn the time in hours minutes seconds into minutes"
   ]
  },
  {
   "cell_type": "code",
   "execution_count": 16,
   "metadata": {},
   "outputs": [],
   "source": [
    "def time_str_to_mins(tstr):\n",
    "    '''\n",
    "    convert a string with a race time of the form\n",
    "    H:M:S, e.g. 3:43:20 to the number of minute\n",
    "    H*60 + M + S/60\n",
    "    '''\n",
    "    \n",
    "    H,M,S = tstr.split(':')\n",
    "    \n",
    "    total_minutes = int(H)*60 + int(M) + int(S)/60\n",
    "    \n",
    "    return total_minutes"
   ]
  },
  {
   "cell_type": "code",
   "execution_count": 17,
   "metadata": {},
   "outputs": [
    {
     "data": {
      "text/plain": [
       "['3', '24', '12']"
      ]
     },
     "execution_count": 17,
     "metadata": {},
     "output_type": "execute_result"
    }
   ],
   "source": [
    "t=\"3:24:12\"\n",
    "t.split(':')"
   ]
  },
  {
   "cell_type": "code",
   "execution_count": 18,
   "metadata": {},
   "outputs": [
    {
     "data": {
      "text/plain": [
       "204.2"
      ]
     },
     "execution_count": 18,
     "metadata": {},
     "output_type": "execute_result"
    }
   ],
   "source": [
    "time_str_to_mins(t)"
   ]
  },
  {
   "cell_type": "code",
   "execution_count": 19,
   "metadata": {},
   "outputs": [],
   "source": [
    "Y2015['Offical_Time_Mins']=Y2015['Official Time'].map(time_str_to_mins)"
   ]
  },
  {
   "cell_type": "code",
   "execution_count": 20,
   "metadata": {},
   "outputs": [
    {
     "data": {
      "text/plain": [
       "226.42651013860663"
      ]
     },
     "execution_count": 20,
     "metadata": {},
     "output_type": "execute_result"
    }
   ],
   "source": [
    "Y2015['Offical_Time_Mins'].mean()"
   ]
  },
  {
   "cell_type": "code",
   "execution_count": 21,
   "metadata": {},
   "outputs": [
    {
     "data": {
      "text/html": [
       "<div>\n",
       "<style scoped>\n",
       "    .dataframe tbody tr th:only-of-type {\n",
       "        vertical-align: middle;\n",
       "    }\n",
       "\n",
       "    .dataframe tbody tr th {\n",
       "        vertical-align: top;\n",
       "    }\n",
       "\n",
       "    .dataframe thead th {\n",
       "        text-align: right;\n",
       "    }\n",
       "</style>\n",
       "<table border=\"1\" class=\"dataframe\">\n",
       "  <thead>\n",
       "    <tr style=\"text-align: right;\">\n",
       "      <th>M/F</th>\n",
       "      <th>F</th>\n",
       "      <th>M</th>\n",
       "    </tr>\n",
       "    <tr>\n",
       "      <th>Age_band</th>\n",
       "      <th></th>\n",
       "      <th></th>\n",
       "    </tr>\n",
       "  </thead>\n",
       "  <tbody>\n",
       "    <tr>\n",
       "      <th>18-34</th>\n",
       "      <td>233.244249</td>\n",
       "      <td>201.206407</td>\n",
       "    </tr>\n",
       "    <tr>\n",
       "      <th>35-39</th>\n",
       "      <td>231.146783</td>\n",
       "      <td>204.367877</td>\n",
       "    </tr>\n",
       "    <tr>\n",
       "      <th>40-44</th>\n",
       "      <td>235.972555</td>\n",
       "      <td>209.737364</td>\n",
       "    </tr>\n",
       "    <tr>\n",
       "      <th>45-49</th>\n",
       "      <td>241.249745</td>\n",
       "      <td>214.663588</td>\n",
       "    </tr>\n",
       "    <tr>\n",
       "      <th>50-54</th>\n",
       "      <td>246.176976</td>\n",
       "      <td>222.305410</td>\n",
       "    </tr>\n",
       "    <tr>\n",
       "      <th>55-59</th>\n",
       "      <td>256.011340</td>\n",
       "      <td>231.590465</td>\n",
       "    </tr>\n",
       "    <tr>\n",
       "      <th>60-64</th>\n",
       "      <td>268.482222</td>\n",
       "      <td>245.883185</td>\n",
       "    </tr>\n",
       "    <tr>\n",
       "      <th>65-69</th>\n",
       "      <td>287.868498</td>\n",
       "      <td>262.168156</td>\n",
       "    </tr>\n",
       "    <tr>\n",
       "      <th>70-74</th>\n",
       "      <td>292.123333</td>\n",
       "      <td>278.194173</td>\n",
       "    </tr>\n",
       "    <tr>\n",
       "      <th>75-79</th>\n",
       "      <td>277.900000</td>\n",
       "      <td>290.500463</td>\n",
       "    </tr>\n",
       "    <tr>\n",
       "      <th>80 and over</th>\n",
       "      <td>353.666667</td>\n",
       "      <td>314.353333</td>\n",
       "    </tr>\n",
       "  </tbody>\n",
       "</table>\n",
       "</div>"
      ],
      "text/plain": [
       "M/F                   F           M\n",
       "Age_band                           \n",
       "18-34        233.244249  201.206407\n",
       "35-39        231.146783  204.367877\n",
       "40-44        235.972555  209.737364\n",
       "45-49        241.249745  214.663588\n",
       "50-54        246.176976  222.305410\n",
       "55-59        256.011340  231.590465\n",
       "60-64        268.482222  245.883185\n",
       "65-69        287.868498  262.168156\n",
       "70-74        292.123333  278.194173\n",
       "75-79        277.900000  290.500463\n",
       "80 and over  353.666667  314.353333"
      ]
     },
     "execution_count": 21,
     "metadata": {},
     "output_type": "execute_result"
    }
   ],
   "source": [
    "Y2015.groupby(['Age_band', 'M/F'])['Offical_Time_Mins'].mean().unstack()"
   ]
  },
  {
   "cell_type": "markdown",
   "metadata": {},
   "source": [
    "These are the mean official times by gender and age band in minutes"
   ]
  },
  {
   "cell_type": "code",
   "execution_count": 22,
   "metadata": {},
   "outputs": [
    {
     "data": {
      "text/html": [
       "<div>\n",
       "<style scoped>\n",
       "    .dataframe tbody tr th:only-of-type {\n",
       "        vertical-align: middle;\n",
       "    }\n",
       "\n",
       "    .dataframe tbody tr th {\n",
       "        vertical-align: top;\n",
       "    }\n",
       "\n",
       "    .dataframe thead th {\n",
       "        text-align: right;\n",
       "    }\n",
       "</style>\n",
       "<table border=\"1\" class=\"dataframe\">\n",
       "  <thead>\n",
       "    <tr style=\"text-align: right;\">\n",
       "      <th>M/F</th>\n",
       "      <th>F</th>\n",
       "      <th>M</th>\n",
       "    </tr>\n",
       "    <tr>\n",
       "      <th>Age_band</th>\n",
       "      <th></th>\n",
       "      <th></th>\n",
       "    </tr>\n",
       "  </thead>\n",
       "  <tbody>\n",
       "    <tr>\n",
       "      <th>18-34</th>\n",
       "      <td>4144</td>\n",
       "      <td>3215</td>\n",
       "    </tr>\n",
       "    <tr>\n",
       "      <th>35-39</th>\n",
       "      <td>1860</td>\n",
       "      <td>1749</td>\n",
       "    </tr>\n",
       "    <tr>\n",
       "      <th>40-44</th>\n",
       "      <td>1984</td>\n",
       "      <td>2109</td>\n",
       "    </tr>\n",
       "    <tr>\n",
       "      <th>45-49</th>\n",
       "      <td>1832</td>\n",
       "      <td>2485</td>\n",
       "    </tr>\n",
       "    <tr>\n",
       "      <th>50-54</th>\n",
       "      <td>1206</td>\n",
       "      <td>2055</td>\n",
       "    </tr>\n",
       "    <tr>\n",
       "      <th>55-59</th>\n",
       "      <td>607</td>\n",
       "      <td>1498</td>\n",
       "    </tr>\n",
       "    <tr>\n",
       "      <th>60-64</th>\n",
       "      <td>270</td>\n",
       "      <td>898</td>\n",
       "    </tr>\n",
       "    <tr>\n",
       "      <th>65-69</th>\n",
       "      <td>91</td>\n",
       "      <td>403</td>\n",
       "    </tr>\n",
       "    <tr>\n",
       "      <th>70-74</th>\n",
       "      <td>20</td>\n",
       "      <td>123</td>\n",
       "    </tr>\n",
       "    <tr>\n",
       "      <th>75-79</th>\n",
       "      <td>2</td>\n",
       "      <td>36</td>\n",
       "    </tr>\n",
       "    <tr>\n",
       "      <th>80 and over</th>\n",
       "      <td>1</td>\n",
       "      <td>10</td>\n",
       "    </tr>\n",
       "  </tbody>\n",
       "</table>\n",
       "</div>"
      ],
      "text/plain": [
       "M/F             F     M\n",
       "Age_band               \n",
       "18-34        4144  3215\n",
       "35-39        1860  1749\n",
       "40-44        1984  2109\n",
       "45-49        1832  2485\n",
       "50-54        1206  2055\n",
       "55-59         607  1498\n",
       "60-64         270   898\n",
       "65-69          91   403\n",
       "70-74          20   123\n",
       "75-79           2    36\n",
       "80 and over     1    10"
      ]
     },
     "execution_count": 22,
     "metadata": {},
     "output_type": "execute_result"
    }
   ],
   "source": [
    "Y2015.groupby(['Age_band', 'M/F']).size().unstack()"
   ]
  },
  {
   "cell_type": "markdown",
   "metadata": {},
   "source": [
    "This is the amount of participants by gender and age band in this years race"
   ]
  },
  {
   "cell_type": "code",
   "execution_count": 23,
   "metadata": {},
   "outputs": [
    {
     "data": {
      "text/plain": [
       "<matplotlib.axes._subplots.AxesSubplot at 0x7f004d439588>"
      ]
     },
     "execution_count": 23,
     "metadata": {},
     "output_type": "execute_result"
    },
    {
     "data": {
      "image/png": "[encoded data removed]",
      "text/plain": [
       "<Figure size 432x288 with 1 Axes>"
      ]
     },
     "metadata": {
      "needs_background": "light"
     },
     "output_type": "display_data"
    }
   ],
   "source": [
    "Y2015.groupby(['Age_band', 'M/F'])['Offical_Time_Mins'].mean().unstack().plot(kind='bar')"
   ]
  },
  {
   "cell_type": "markdown",
   "metadata": {},
   "source": [
    "The graph illustrates the mean finish time by age group and gender"
   ]
  },
  {
   "cell_type": "code",
   "execution_count": 24,
   "metadata": {},
   "outputs": [
    {
     "data": {
      "text/html": [
       "<div>\n",
       "<style scoped>\n",
       "    .dataframe tbody tr th:only-of-type {\n",
       "        vertical-align: middle;\n",
       "    }\n",
       "\n",
       "    .dataframe tbody tr th {\n",
       "        vertical-align: top;\n",
       "    }\n",
       "\n",
       "    .dataframe thead th {\n",
       "        text-align: right;\n",
       "    }\n",
       "</style>\n",
       "<table border=\"1\" class=\"dataframe\">\n",
       "  <thead>\n",
       "    <tr style=\"text-align: right;\">\n",
       "      <th>M/F</th>\n",
       "      <th>F</th>\n",
       "      <th>M</th>\n",
       "    </tr>\n",
       "    <tr>\n",
       "      <th>Age_band</th>\n",
       "      <th></th>\n",
       "      <th></th>\n",
       "    </tr>\n",
       "  </thead>\n",
       "  <tbody>\n",
       "    <tr>\n",
       "      <th>18-34</th>\n",
       "      <td>32.037841</td>\n",
       "      <td>NaN</td>\n",
       "    </tr>\n",
       "    <tr>\n",
       "      <th>35-39</th>\n",
       "      <td>26.778906</td>\n",
       "      <td>NaN</td>\n",
       "    </tr>\n",
       "    <tr>\n",
       "      <th>40-44</th>\n",
       "      <td>26.235192</td>\n",
       "      <td>NaN</td>\n",
       "    </tr>\n",
       "    <tr>\n",
       "      <th>45-49</th>\n",
       "      <td>26.586157</td>\n",
       "      <td>NaN</td>\n",
       "    </tr>\n",
       "    <tr>\n",
       "      <th>50-54</th>\n",
       "      <td>23.871567</td>\n",
       "      <td>NaN</td>\n",
       "    </tr>\n",
       "    <tr>\n",
       "      <th>55-59</th>\n",
       "      <td>24.420875</td>\n",
       "      <td>NaN</td>\n",
       "    </tr>\n",
       "    <tr>\n",
       "      <th>60-64</th>\n",
       "      <td>22.599037</td>\n",
       "      <td>NaN</td>\n",
       "    </tr>\n",
       "    <tr>\n",
       "      <th>65-69</th>\n",
       "      <td>25.700343</td>\n",
       "      <td>NaN</td>\n",
       "    </tr>\n",
       "    <tr>\n",
       "      <th>70-74</th>\n",
       "      <td>13.929160</td>\n",
       "      <td>NaN</td>\n",
       "    </tr>\n",
       "    <tr>\n",
       "      <th>75-79</th>\n",
       "      <td>-12.600463</td>\n",
       "      <td>NaN</td>\n",
       "    </tr>\n",
       "    <tr>\n",
       "      <th>80 and over</th>\n",
       "      <td>39.313333</td>\n",
       "      <td>NaN</td>\n",
       "    </tr>\n",
       "  </tbody>\n",
       "</table>\n",
       "</div>"
      ],
      "text/plain": [
       "M/F                  F   M\n",
       "Age_band                  \n",
       "18-34        32.037841 NaN\n",
       "35-39        26.778906 NaN\n",
       "40-44        26.235192 NaN\n",
       "45-49        26.586157 NaN\n",
       "50-54        23.871567 NaN\n",
       "55-59        24.420875 NaN\n",
       "60-64        22.599037 NaN\n",
       "65-69        25.700343 NaN\n",
       "70-74        13.929160 NaN\n",
       "75-79       -12.600463 NaN\n",
       "80 and over  39.313333 NaN"
      ]
     },
     "execution_count": 24,
     "metadata": {},
     "output_type": "execute_result"
    }
   ],
   "source": [
    "Y2015.groupby(['Age_band', 'M/F'])['Offical_Time_Mins'].mean().unstack().diff(-1, axis=1)"
   ]
  },
  {
   "cell_type": "markdown",
   "metadata": {},
   "source": [
    "The table shows the mean finish time difference between males and females by age group. \n",
    "We can see that it changes by age band significantly"
   ]
  },
  {
   "cell_type": "code",
   "execution_count": 25,
   "metadata": {},
   "outputs": [],
   "source": [
    "\n",
    "fmean_34=233.244249\n",
    "mmean_34=201.206407\n",
    "qfemale_34=210.000\n",
    "qmale_34=180.00\n"
   ]
  },
  {
   "cell_type": "code",
   "execution_count": 26,
   "metadata": {},
   "outputs": [
    {
     "data": {
      "text/plain": [
       "<matplotlib.collections.LineCollection at 0x7f004cbd9a20>"
      ]
     },
     "execution_count": 26,
     "metadata": {},
     "output_type": "execute_result"
    },
    {
     "data": {
      "image/png": "[encoded data removed]",
      "text/plain": [
       "<Figure size 432x288 with 1 Axes>"
      ]
     },
     "metadata": {
      "needs_background": "light"
     },
     "output_type": "display_data"
    }
   ],
   "source": [
    "dist=Y2015[Y2015['Age_band']=='18-34'].groupby('M/F')['Offical_Time_Mins'].plot(kind='hist', alpha=0.5)\n",
    "plt.vlines(fmean_34, 0, 1200)\n",
    "plt.vlines(mmean_34, 0, 1200)\n",
    "plt.vlines(qfemale_34, 0, 1200, color=\"blue\")\n",
    "plt.vlines(qmale_34, 0, 1200, color=\"blue\")"
   ]
  },
  {
   "cell_type": "markdown",
   "metadata": {},
   "source": [
    "I am plotting the mean finish times for both genders in the 18-34 category and comparing it to the qualifying time.\n",
    "I then also carried out the same analysis for other age bands."
   ]
  },
  {
   "cell_type": "code",
   "execution_count": 5,
   "metadata": {},
   "outputs": [],
   "source": [
    "fmean_39=231.146783\n",
    "mmean_39=204.367877\n",
    "qfemale_39=215.000\n",
    "qmale_39=185.00"
   ]
  },
  {
   "cell_type": "code",
   "execution_count": 6,
   "metadata": {},
   "outputs": [
    {
     "ename": "NameError",
     "evalue": "name 'Y2015' is not defined",
     "output_type": "error",
     "traceback": [
      "\u001b[0;31m---------------------------------------------------------------------------\u001b[0m",
      "\u001b[0;31mNameError\u001b[0m                                 Traceback (most recent call last)",
      "\u001b[0;32m<ipython-input-6-96f0d79675d8>\u001b[0m in \u001b[0;36m<module>\u001b[0;34m()\u001b[0m\n\u001b[0;32m----> 1\u001b[0;31m \u001b[0mdist\u001b[0m\u001b[0;34m=\u001b[0m\u001b[0mY2015\u001b[0m\u001b[0;34m[\u001b[0m\u001b[0mY2015\u001b[0m\u001b[0;34m[\u001b[0m\u001b[0;34m'Age_band'\u001b[0m\u001b[0;34m]\u001b[0m\u001b[0;34m==\u001b[0m\u001b[0;34m'35-39'\u001b[0m\u001b[0;34m]\u001b[0m\u001b[0;34m.\u001b[0m\u001b[0mgroupby\u001b[0m\u001b[0;34m(\u001b[0m\u001b[0;34m'M/F'\u001b[0m\u001b[0;34m)\u001b[0m\u001b[0;34m[\u001b[0m\u001b[0;34m'Offical_Time_Mins'\u001b[0m\u001b[0;34m]\u001b[0m\u001b[0;34m.\u001b[0m\u001b[0mplot\u001b[0m\u001b[0;34m(\u001b[0m\u001b[0mkind\u001b[0m\u001b[0;34m=\u001b[0m\u001b[0;34m'hist'\u001b[0m\u001b[0;34m,\u001b[0m \u001b[0malpha\u001b[0m\u001b[0;34m=\u001b[0m\u001b[0;36m0.5\u001b[0m\u001b[0;34m)\u001b[0m\u001b[0;34m\u001b[0m\u001b[0;34m\u001b[0m\u001b[0m\n\u001b[0m\u001b[1;32m      2\u001b[0m \u001b[0mplt\u001b[0m\u001b[0;34m.\u001b[0m\u001b[0mvlines\u001b[0m\u001b[0;34m(\u001b[0m\u001b[0mfmean_39\u001b[0m\u001b[0;34m,\u001b[0m \u001b[0;36m0\u001b[0m\u001b[0;34m,\u001b[0m \u001b[0;36m1200\u001b[0m\u001b[0;34m)\u001b[0m\u001b[0;34m\u001b[0m\u001b[0;34m\u001b[0m\u001b[0m\n\u001b[1;32m      3\u001b[0m \u001b[0mplt\u001b[0m\u001b[0;34m.\u001b[0m\u001b[0mvlines\u001b[0m\u001b[0;34m(\u001b[0m\u001b[0mmmean_39\u001b[0m\u001b[0;34m,\u001b[0m \u001b[0;36m0\u001b[0m\u001b[0;34m,\u001b[0m \u001b[0;36m1200\u001b[0m\u001b[0;34m)\u001b[0m\u001b[0;34m\u001b[0m\u001b[0;34m\u001b[0m\u001b[0m\n\u001b[1;32m      4\u001b[0m \u001b[0mplt\u001b[0m\u001b[0;34m.\u001b[0m\u001b[0mvlines\u001b[0m\u001b[0;34m(\u001b[0m\u001b[0mqfemale_39\u001b[0m\u001b[0;34m,\u001b[0m \u001b[0;36m0\u001b[0m\u001b[0;34m,\u001b[0m \u001b[0;36m1200\u001b[0m\u001b[0;34m,\u001b[0m \u001b[0mcolor\u001b[0m\u001b[0;34m=\u001b[0m\u001b[0;34m\"blue\"\u001b[0m\u001b[0;34m)\u001b[0m\u001b[0;34m\u001b[0m\u001b[0;34m\u001b[0m\u001b[0m\n\u001b[1;32m      5\u001b[0m \u001b[0mplt\u001b[0m\u001b[0;34m.\u001b[0m\u001b[0mvlines\u001b[0m\u001b[0;34m(\u001b[0m\u001b[0mqmale_39\u001b[0m\u001b[0;34m,\u001b[0m \u001b[0;36m0\u001b[0m\u001b[0;34m,\u001b[0m \u001b[0;36m1200\u001b[0m\u001b[0;34m,\u001b[0m \u001b[0mcolor\u001b[0m\u001b[0;34m=\u001b[0m\u001b[0;34m\"blue\"\u001b[0m\u001b[0;34m)\u001b[0m\u001b[0;34m\u001b[0m\u001b[0;34m\u001b[0m\u001b[0m\n",
      "\u001b[0;31mNameError\u001b[0m: name 'Y2015' is not defined"
     ]
    }
   ],
   "source": [
    "dist=Y2015[Y2015['Age_band']=='35-39'].groupby('M/F')['Offical_Time_Mins'].plot(kind='hist', alpha=0.5)\n",
    "plt.vlines(fmean_39, 0, 1200)\n",
    "plt.vlines(mmean_39, 0, 1200)\n",
    "plt.vlines(qfemale_39, 0, 1200, color=\"blue\")\n",
    "plt.vlines(qmale_39, 0, 1200, color=\"blue\")\n"
   ]
  },
  {
   "cell_type": "code",
   "execution_count": 29,
   "metadata": {},
   "outputs": [],
   "source": [
    "fmean_44=235.972555\n",
    "mmean_44=209.737364\n",
    "qfemale_44=220.000\n",
    "qmale_44=190.00"
   ]
  },
  {
   "cell_type": "code",
   "execution_count": 30,
   "metadata": {},
   "outputs": [
    {
     "data": {
      "text/plain": [
       "<matplotlib.collections.LineCollection at 0x7f004d0a76a0>"
      ]
     },
     "execution_count": 30,
     "metadata": {},
     "output_type": "execute_result"
    },
    {
     "data": {
      "image/png": "[encoded data removed]",
      "text/plain": [
       "<Figure size 432x288 with 1 Axes>"
      ]
     },
     "metadata": {
      "needs_background": "light"
     },
     "output_type": "display_data"
    }
   ],
   "source": [
    "dist=Y2015[Y2015['Age_band']=='40-44'].groupby('M/F')['Offical_Time_Mins'].plot(kind='hist', alpha=0.5)\n",
    "plt.vlines(fmean_44, 0, 1200)\n",
    "plt.vlines(mmean_44, 0, 1200)\n",
    "plt.vlines(qfemale_44, 0, 1200, color=\"blue\")\n",
    "plt.vlines(qmale_44, 0, 1200, color=\"blue\")"
   ]
  },
  {
   "cell_type": "code",
   "execution_count": 31,
   "metadata": {},
   "outputs": [],
   "source": [
    "fmean_49=241.249745\n",
    "mmean_49=214.663588\n",
    "qfemale_49=225.000\n",
    "qmale_49=195.00"
   ]
  },
  {
   "cell_type": "code",
   "execution_count": 32,
   "metadata": {},
   "outputs": [
    {
     "data": {
      "text/plain": [
       "<matplotlib.collections.LineCollection at 0x7f004caa69e8>"
      ]
     },
     "execution_count": 32,
     "metadata": {},
     "output_type": "execute_result"
    },
    {
     "data": {
      "image/png": "[encoded data removed]",
      "text/plain": [
       "<Figure size 432x288 with 1 Axes>"
      ]
     },
     "metadata": {
      "needs_background": "light"
     },
     "output_type": "display_data"
    }
   ],
   "source": [
    "dist=Y2015[Y2015['Age_band']=='45-49'].groupby('M/F')['Offical_Time_Mins'].plot(kind='hist', alpha=0.5)\n",
    "plt.vlines(fmean_49, 0, 1200)\n",
    "plt.vlines(mmean_49, 0, 1200)\n",
    "plt.vlines(qfemale_49, 0, 1200, color=\"blue\")\n",
    "plt.vlines(qmale_49, 0, 1200, color=\"blue\")"
   ]
  },
  {
   "cell_type": "code",
   "execution_count": 33,
   "metadata": {},
   "outputs": [],
   "source": [
    "fmean_54=246.176976\n",
    "mmean_54=222.305410\n",
    "qfemale_54=230.000\n",
    "qmale_54=200.00"
   ]
  },
  {
   "cell_type": "code",
   "execution_count": 34,
   "metadata": {},
   "outputs": [
    {
     "data": {
      "text/plain": [
       "<matplotlib.collections.LineCollection at 0x7f004ca16f28>"
      ]
     },
     "execution_count": 34,
     "metadata": {},
     "output_type": "execute_result"
    },
    {
     "data": {
      "image/png": "[encoded data removed]",
      "text/plain": [
       "<Figure size 432x288 with 1 Axes>"
      ]
     },
     "metadata": {
      "needs_background": "light"
     },
     "output_type": "display_data"
    }
   ],
   "source": [
    "dist=Y2015[Y2015['Age_band']=='45-49'].groupby('M/F')['Offical_Time_Mins'].plot(kind='hist', alpha=0.5)\n",
    "plt.vlines(fmean_54, 0, 1200)\n",
    "plt.vlines(mmean_54, 0, 1200)\n",
    "plt.vlines(qfemale_54, 0, 1200, color=\"blue\")\n",
    "plt.vlines(qmale_54, 0, 1200, color=\"blue\")"
   ]
  },
  {
   "cell_type": "code",
   "execution_count": 35,
   "metadata": {},
   "outputs": [],
   "source": [
    "fmean_59=256.011340\n",
    "mmean_59=231.590465\n",
    "qfemale_59=235.000\n",
    "qmale_59=205.00"
   ]
  },
  {
   "cell_type": "code",
   "execution_count": 36,
   "metadata": {},
   "outputs": [
    {
     "data": {
      "text/plain": [
       "<matplotlib.collections.LineCollection at 0x7f004ca238d0>"
      ]
     },
     "execution_count": 36,
     "metadata": {},
     "output_type": "execute_result"
    },
    {
     "data": {
      "image/png": "[encoded data removed]",
      "text/plain": [
       "<Figure size 432x288 with 1 Axes>"
      ]
     },
     "metadata": {
      "needs_background": "light"
     },
     "output_type": "display_data"
    }
   ],
   "source": [
    "dist=Y2015[Y2015['Age_band']=='45-49'].groupby('M/F')['Offical_Time_Mins'].plot(kind='hist', alpha=0.5)\n",
    "plt.vlines(fmean_59, 0, 1200)\n",
    "plt.vlines(mmean_59, 0, 1200)\n",
    "plt.vlines(qfemale_59, 0, 1200, color=\"blue\")\n",
    "plt.vlines(qmale_59, 0, 1200, color=\"blue\")"
   ]
  },
  {
   "cell_type": "code",
   "execution_count": 37,
   "metadata": {},
   "outputs": [],
   "source": [
    "fmean_64=268.482222\n",
    "mmean_64=245.883185\n",
    "qfemale_64=240.0\n",
    "qmale_64=210.00"
   ]
  },
  {
   "cell_type": "code",
   "execution_count": 38,
   "metadata": {},
   "outputs": [
    {
     "data": {
      "text/plain": [
       "<matplotlib.collections.LineCollection at 0x7f004c8d2908>"
      ]
     },
     "execution_count": 38,
     "metadata": {},
     "output_type": "execute_result"
    },
    {
     "data": {
      "image/png": "[encoded data removed]",
      "text/plain": [
       "<Figure size 432x288 with 1 Axes>"
      ]
     },
     "metadata": {
      "needs_background": "light"
     },
     "output_type": "display_data"
    }
   ],
   "source": [
    "dist=Y2015[Y2015['Age_band']=='45-49'].groupby('M/F')['Offical_Time_Mins'].plot(kind='hist', alpha=0.5)\n",
    "plt.vlines(fmean_64, 0, 1200)\n",
    "plt.vlines(mmean_64, 0, 1200)\n",
    "plt.vlines(qfemale_64, 0, 1200, color=\"blue\")\n",
    "plt.vlines(qmale_64, 0, 1200, color=\"blue\")"
   ]
  },
  {
   "cell_type": "code",
   "execution_count": 39,
   "metadata": {},
   "outputs": [
    {
     "data": {
      "text/plain": [
       "0        129.283333\n",
       "1        129.800000\n",
       "2        130.366667\n",
       "3        130.783333\n",
       "4        130.816667\n",
       "5        130.866667\n",
       "6        131.333333\n",
       "7        132.700000\n",
       "8        133.583333\n",
       "9        133.866667\n",
       "10       133.866667\n",
       "11       134.283333\n",
       "12       136.416667\n",
       "13       138.033333\n",
       "14       138.733333\n",
       "15       139.200000\n",
       "16       139.283333\n",
       "17       140.066667\n",
       "18       140.416667\n",
       "19       140.583333\n",
       "20       140.700000\n",
       "21       141.166667\n",
       "22       141.266667\n",
       "23       141.966667\n",
       "24       142.083333\n",
       "25       142.500000\n",
       "26       143.350000\n",
       "27       144.616667\n",
       "28       144.733333\n",
       "29       144.816667\n",
       "            ...    \n",
       "26568    367.833333\n",
       "26569    367.833333\n",
       "26570    367.883333\n",
       "26571    367.933333\n",
       "26572    368.033333\n",
       "26573    368.083333\n",
       "26574    369.083333\n",
       "26575    370.116667\n",
       "26576    372.000000\n",
       "26577    372.183333\n",
       "26578    372.466667\n",
       "26579    373.400000\n",
       "26580    374.333333\n",
       "26581    377.383333\n",
       "26582    384.500000\n",
       "26583    386.483333\n",
       "26584    386.483333\n",
       "26585    389.883333\n",
       "26586    397.066667\n",
       "26587    399.866667\n",
       "26588    402.016667\n",
       "26589    404.466667\n",
       "26590    416.783333\n",
       "26591    417.833333\n",
       "26592    420.500000\n",
       "26593    458.933333\n",
       "26594    471.500000\n",
       "26595    479.550000\n",
       "26596    480.616667\n",
       "26597    486.016667\n",
       "Name: Offical_Time_Mins, Length: 26598, dtype: float64"
      ]
     },
     "execution_count": 39,
     "metadata": {},
     "output_type": "execute_result"
    }
   ],
   "source": [
    "Y2015['Offical_Time_Mins']"
   ]
  },
  {
   "cell_type": "code",
   "execution_count": 42,
   "metadata": {},
   "outputs": [],
   "source": [
    "female = Y2015['M/F']=='F'\n",
    "age18_34 = Y2015['Age_band']=='18-34'\n",
    "on_time_f_34=sum(Y2015[female & age18_34]['Offical_Time_Mins']<=210)"
   ]
  },
  {
   "cell_type": "code",
   "execution_count": 43,
   "metadata": {},
   "outputs": [
    {
     "data": {
      "text/plain": [
       "1448"
      ]
     },
     "execution_count": 43,
     "metadata": {},
     "output_type": "execute_result"
    }
   ],
   "source": [
    "on_time_f_34\n"
   ]
  },
  {
   "cell_type": "markdown",
   "metadata": {},
   "source": [
    "I am now looking at the amount of females in the 18-34 age group who finished within their qualifying time"
   ]
  },
  {
   "cell_type": "code",
   "execution_count": 41,
   "metadata": {},
   "outputs": [
    {
     "data": {
      "text/plain": [
       "(4144,)"
      ]
     },
     "execution_count": 41,
     "metadata": {},
     "output_type": "execute_result"
    }
   ],
   "source": [
    "Y2015[female & age18_34]['Offical_Time_Mins'].shape"
   ]
  },
  {
   "cell_type": "markdown",
   "metadata": {},
   "source": [
    "34.94% of women in this age group ran within their qualifying time"
   ]
  },
  {
   "cell_type": "code",
   "execution_count": null,
   "metadata": {},
   "outputs": [],
   "source": [
    "I the looked at I he amount of females in the 35-39 age group who finished within their qualifying time"
   ]
  },
  {
   "cell_type": "code",
   "execution_count": 50,
   "metadata": {},
   "outputs": [],
   "source": [
    "female = Y2015['M/F']=='F'\n",
    "age35_39 = Y2015['Age_band']=='35-39'\n",
    "on_time_f_39=sum(Y2015[female & age35_39]['Offical_Time_Mins']<=215)"
   ]
  },
  {
   "cell_type": "code",
   "execution_count": 51,
   "metadata": {},
   "outputs": [
    {
     "data": {
      "text/plain": [
       "667"
      ]
     },
     "execution_count": 51,
     "metadata": {},
     "output_type": "execute_result"
    }
   ],
   "source": [
    "on_time_f_39"
   ]
  },
  {
   "cell_type": "code",
   "execution_count": 49,
   "metadata": {},
   "outputs": [
    {
     "data": {
      "text/plain": [
       "(1860,)"
      ]
     },
     "execution_count": 49,
     "metadata": {},
     "output_type": "execute_result"
    }
   ],
   "source": [
    "Y2015[female & age35_39]['Offical_Time_Mins'].shape"
   ]
  },
  {
   "cell_type": "code",
   "execution_count": 56,
   "metadata": {},
   "outputs": [
    {
     "data": {
      "text/plain": [
       "1193"
      ]
     },
     "execution_count": 56,
     "metadata": {},
     "output_type": "execute_result"
    }
   ],
   "source": [
    "1860-667"
   ]
  },
  {
   "cell_type": "markdown",
   "metadata": {},
   "source": [
    "35.86% of women in this age group ran within their qualifying time"
   ]
  },
  {
   "cell_type": "markdown",
   "metadata": {},
   "source": [
    "I stopped carrying out further analysis in this notebook because I realized it would be better to do my analysis with the grouped data from all three years of the race. That way I could have more data and thus all my averages with have a chance to be more accurate and less prone to high standard deviations."
   ]
  }
 ],
 "metadata": {
  "kernelspec": {
   "display_name": "Python 3",
   "language": "python",
   "name": "python3"
  },
  "language_info": {
   "codemirror_mode": {
    "name": "ipython",
    "version": 3
   },
   "file_extension": ".py",
   "mimetype": "text/x-python",
   "name": "python",
   "nbconvert_exporter": "python",
   "pygments_lexer": "ipython3",
   "version": "3.7.3"
  }
 },
 "nbformat": 4,
 "nbformat_minor": 2
}
