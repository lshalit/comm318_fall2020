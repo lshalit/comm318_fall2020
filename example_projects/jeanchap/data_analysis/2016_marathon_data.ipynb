{
 "cells": [
  {
   "cell_type": "markdown",
   "metadata": {},
   "source": [
    "## Investigating my Boston Marathon Data\n",
    "This file contains the data analysis for the 2016 Boston Marathon\n"
   ]
  },
  {
   "cell_type": "markdown",
   "metadata": {},
   "source": [
    "Qualifying times\n",
    "First I inserted the qualifying times to guide my research and data exploration qualifying times\n",
    "\n",
    "\n",
    "\n",
    "Men\n",
    "* 18-34\t3:05:00\t3:02:32\n",
    "* 35-39\t3:10:00\t3:07:32\n",
    "* 40-44\t3:15:00\t3:12:32\n",
    "* 45-49\t3:25:00\t3:22:32\n",
    "* 50-54\t3:30:00\t3:27:32\n",
    "* 55-59\t3:40:00\t3:37:32\n",
    "* 60-64\t3:55:00\t3:52:32\n",
    "* 65-69\t4:10:00\t4:07:32\n",
    "* 70-74\t4:25:00\t4:22:32\n",
    "* 75-79\t4:40:00\t4:37:32\n",
    "* 80+\t    4:55:00\t4:52:32\n",
    "\n",
    "Women\n",
    "* 18-34\t3:35:00\t3:32:32\n",
    "* 35-39\t3:40:00\t3:37:32\n",
    "* 40-44\t3:45:00\t3:42:32\n",
    "* 45-49\t3:55:00\t3:52:32\n",
    "* 50-54\t4:00:00\t3:57:32\n",
    "* 55-59\t4:10:00\t4:07:32\n",
    "* 60-64\t4:25:00\t4:22:32\n",
    "* 65-69\t4:40:00\t4:37:32\n",
    "* 70-74\t4:55:00\t4:52:32\n",
    "* 75-79\t5:10:00\t5:07:32\n",
    "* 80+   5:25:00\t5:22:32\n"
   ]
  },
  {
   "cell_type": "markdown",
   "metadata": {},
   "source": [
    "These are some of the questions that I looked at with the analysis\n",
    "\n",
    "* How many participants are there per age group?\n",
    "* What is the age group with the most participants?\n",
    "* What is the mean finish time for each age group separated by gender?\n",
    "* What is the mean finish time difference between males and females in the same age division?\n",
    "\n",
    "\n"
   ]
  },
  {
   "cell_type": "markdown",
   "metadata": {},
   "source": [
    "I started by importing the data"
   ]
  },
  {
   "cell_type": "code",
   "execution_count": 1,
   "metadata": {},
   "outputs": [],
   "source": [
    "import pandas as pd "
   ]
  },
  {
   "cell_type": "code",
   "execution_count": 2,
   "metadata": {},
   "outputs": [],
   "source": [
    "Y2016=pd.read_csv(\"Boston_Marathon_Data/marathon_results_2016.csv\")"
   ]
  },
  {
   "cell_type": "code",
   "execution_count": 3,
   "metadata": {},
   "outputs": [
    {
     "data": {
      "text/plain": [
       "(26630, 24)"
      ]
     },
     "execution_count": 3,
     "metadata": {},
     "output_type": "execute_result"
    }
   ],
   "source": [
    "Y2016.shape"
   ]
  },
  {
   "cell_type": "markdown",
   "metadata": {},
   "source": [
    "* We have 26630 participants and 24 columns "
   ]
  },
  {
   "cell_type": "code",
   "execution_count": 4,
   "metadata": {},
   "outputs": [
    {
     "data": {
      "text/plain": [
       "Index(['Bib', 'Name', 'Age', 'M/F', 'City', 'State', 'Country', 'Citizen',\n",
       "       'Unnamed: 8', '5K', '10K', '15K', '20K', 'Half', '25K', '30K', '35K',\n",
       "       '40K', 'Pace', 'Proj Time', 'Official Time', 'Overall', 'Gender',\n",
       "       'Division'],\n",
       "      dtype='object')"
      ]
     },
     "execution_count": 4,
     "metadata": {},
     "output_type": "execute_result"
    }
   ],
   "source": [
    "Y2016.columns"
   ]
  },
  {
   "cell_type": "code",
   "execution_count": 5,
   "metadata": {},
   "outputs": [
    {
     "data": {
      "text/html": [
       "<div>\n",
       "<style scoped>\n",
       "    .dataframe tbody tr th:only-of-type {\n",
       "        vertical-align: middle;\n",
       "    }\n",
       "\n",
       "    .dataframe tbody tr th {\n",
       "        vertical-align: top;\n",
       "    }\n",
       "\n",
       "    .dataframe thead th {\n",
       "        text-align: right;\n",
       "    }\n",
       "</style>\n",
       "<table border=\"1\" class=\"dataframe\">\n",
       "  <thead>\n",
       "    <tr style=\"text-align: right;\">\n",
       "      <th></th>\n",
       "      <th>Bib</th>\n",
       "      <th>Name</th>\n",
       "      <th>Age</th>\n",
       "      <th>M/F</th>\n",
       "      <th>City</th>\n",
       "      <th>State</th>\n",
       "      <th>Country</th>\n",
       "      <th>Citizen</th>\n",
       "      <th>Unnamed: 8</th>\n",
       "      <th>5K</th>\n",
       "      <th>...</th>\n",
       "      <th>25K</th>\n",
       "      <th>30K</th>\n",
       "      <th>35K</th>\n",
       "      <th>40K</th>\n",
       "      <th>Pace</th>\n",
       "      <th>Proj Time</th>\n",
       "      <th>Official Time</th>\n",
       "      <th>Overall</th>\n",
       "      <th>Gender</th>\n",
       "      <th>Division</th>\n",
       "    </tr>\n",
       "  </thead>\n",
       "  <tbody>\n",
       "    <tr>\n",
       "      <th>0</th>\n",
       "      <td>5</td>\n",
       "      <td>Hayle, Lemi Berhanu</td>\n",
       "      <td>21</td>\n",
       "      <td>M</td>\n",
       "      <td>Addis Ababa</td>\n",
       "      <td>NaN</td>\n",
       "      <td>ETH</td>\n",
       "      <td>NaN</td>\n",
       "      <td>NaN</td>\n",
       "      <td>0:15:47</td>\n",
       "      <td>...</td>\n",
       "      <td>1:19:15</td>\n",
       "      <td>1:34:17</td>\n",
       "      <td>1:50:24</td>\n",
       "      <td>2:05:59</td>\n",
       "      <td>0:05:04</td>\n",
       "      <td>2:12:45</td>\n",
       "      <td>2:12:45</td>\n",
       "      <td>1</td>\n",
       "      <td>1</td>\n",
       "      <td>1</td>\n",
       "    </tr>\n",
       "    <tr>\n",
       "      <th>1</th>\n",
       "      <td>1</td>\n",
       "      <td>Desisa, Lelisa</td>\n",
       "      <td>26</td>\n",
       "      <td>M</td>\n",
       "      <td>Ambo</td>\n",
       "      <td>NaN</td>\n",
       "      <td>ETH</td>\n",
       "      <td>NaN</td>\n",
       "      <td>NaN</td>\n",
       "      <td>0:15:47</td>\n",
       "      <td>...</td>\n",
       "      <td>1:19:15</td>\n",
       "      <td>1:34:17</td>\n",
       "      <td>1:50:24</td>\n",
       "      <td>2:05:59</td>\n",
       "      <td>0:05:06</td>\n",
       "      <td>2:13:32</td>\n",
       "      <td>2:13:32</td>\n",
       "      <td>2</td>\n",
       "      <td>2</td>\n",
       "      <td>2</td>\n",
       "    </tr>\n",
       "    <tr>\n",
       "      <th>2</th>\n",
       "      <td>6</td>\n",
       "      <td>Tsegay, Yemane Adhane</td>\n",
       "      <td>31</td>\n",
       "      <td>M</td>\n",
       "      <td>Addis Ababa</td>\n",
       "      <td>NaN</td>\n",
       "      <td>ETH</td>\n",
       "      <td>NaN</td>\n",
       "      <td>NaN</td>\n",
       "      <td>0:15:46</td>\n",
       "      <td>...</td>\n",
       "      <td>1:19:15</td>\n",
       "      <td>1:34:45</td>\n",
       "      <td>1:50:48</td>\n",
       "      <td>2:06:47</td>\n",
       "      <td>0:05:07</td>\n",
       "      <td>2:14:02</td>\n",
       "      <td>2:14:02</td>\n",
       "      <td>3</td>\n",
       "      <td>3</td>\n",
       "      <td>3</td>\n",
       "    </tr>\n",
       "    <tr>\n",
       "      <th>3</th>\n",
       "      <td>11</td>\n",
       "      <td>Korir, Wesley</td>\n",
       "      <td>33</td>\n",
       "      <td>M</td>\n",
       "      <td>Kitale</td>\n",
       "      <td>NaN</td>\n",
       "      <td>KEN</td>\n",
       "      <td>NaN</td>\n",
       "      <td>NaN</td>\n",
       "      <td>0:15:46</td>\n",
       "      <td>...</td>\n",
       "      <td>1:19:16</td>\n",
       "      <td>1:34:45</td>\n",
       "      <td>1:50:48</td>\n",
       "      <td>2:06:47</td>\n",
       "      <td>0:05:07</td>\n",
       "      <td>2:14:05</td>\n",
       "      <td>2:14:05</td>\n",
       "      <td>4</td>\n",
       "      <td>4</td>\n",
       "      <td>4</td>\n",
       "    </tr>\n",
       "    <tr>\n",
       "      <th>4</th>\n",
       "      <td>14</td>\n",
       "      <td>Lonyangata, Paul</td>\n",
       "      <td>23</td>\n",
       "      <td>M</td>\n",
       "      <td>Eldoret</td>\n",
       "      <td>NaN</td>\n",
       "      <td>KEN</td>\n",
       "      <td>NaN</td>\n",
       "      <td>NaN</td>\n",
       "      <td>0:15:46</td>\n",
       "      <td>...</td>\n",
       "      <td>1:19:18</td>\n",
       "      <td>1:34:46</td>\n",
       "      <td>1:51:30</td>\n",
       "      <td>2:08:11</td>\n",
       "      <td>0:05:11</td>\n",
       "      <td>2:15:45</td>\n",
       "      <td>2:15:45</td>\n",
       "      <td>5</td>\n",
       "      <td>5</td>\n",
       "      <td>5</td>\n",
       "    </tr>\n",
       "  </tbody>\n",
       "</table>\n",
       "<p>5 rows × 24 columns</p>\n",
       "</div>"
      ],
      "text/plain": [
       "  Bib                   Name  Age M/F         City State Country Citizen  \\\n",
       "0   5    Hayle, Lemi Berhanu   21   M  Addis Ababa   NaN     ETH     NaN   \n",
       "1   1         Desisa, Lelisa   26   M         Ambo   NaN     ETH     NaN   \n",
       "2   6  Tsegay, Yemane Adhane   31   M  Addis Ababa   NaN     ETH     NaN   \n",
       "3  11          Korir, Wesley   33   M       Kitale   NaN     KEN     NaN   \n",
       "4  14       Lonyangata, Paul   23   M      Eldoret   NaN     KEN     NaN   \n",
       "\n",
       "  Unnamed: 8       5K  ...      25K      30K      35K      40K     Pace  \\\n",
       "0        NaN  0:15:47  ...  1:19:15  1:34:17  1:50:24  2:05:59  0:05:04   \n",
       "1        NaN  0:15:47  ...  1:19:15  1:34:17  1:50:24  2:05:59  0:05:06   \n",
       "2        NaN  0:15:46  ...  1:19:15  1:34:45  1:50:48  2:06:47  0:05:07   \n",
       "3        NaN  0:15:46  ...  1:19:16  1:34:45  1:50:48  2:06:47  0:05:07   \n",
       "4        NaN  0:15:46  ...  1:19:18  1:34:46  1:51:30  2:08:11  0:05:11   \n",
       "\n",
       "  Proj Time Official Time Overall Gender Division  \n",
       "0   2:12:45       2:12:45       1      1        1  \n",
       "1   2:13:32       2:13:32       2      2        2  \n",
       "2   2:14:02       2:14:02       3      3        3  \n",
       "3   2:14:05       2:14:05       4      4        4  \n",
       "4   2:15:45       2:15:45       5      5        5  \n",
       "\n",
       "[5 rows x 24 columns]"
      ]
     },
     "execution_count": 5,
     "metadata": {},
     "output_type": "execute_result"
    }
   ],
   "source": [
    "Y2016.head()"
   ]
  },
  {
   "cell_type": "markdown",
   "metadata": {},
   "source": [
    "* The most important columns in our data are: age, pace, official time, gender, and time at each 5k mark"
   ]
  },
  {
   "cell_type": "code",
   "execution_count": 6,
   "metadata": {},
   "outputs": [
    {
     "data": {
      "text/plain": [
       "45    1074\n",
       "46    1030\n",
       "40     904\n",
       "47     869\n",
       "41     851\n",
       "50     830\n",
       "35     773\n",
       "48     756\n",
       "38     744\n",
       "42     740\n",
       "39     733\n",
       "51     731\n",
       "43     724\n",
       "36     722\n",
       "44     713\n",
       "49     674\n",
       "37     669\n",
       "55     644\n",
       "52     642\n",
       "29     624\n",
       "34     624\n",
       "30     618\n",
       "53     598\n",
       "31     590\n",
       "33     580\n",
       "26     578\n",
       "27     573\n",
       "28     573\n",
       "32     566\n",
       "56     519\n",
       "      ... \n",
       "61     361\n",
       "58     352\n",
       "23     305\n",
       "59     267\n",
       "62     226\n",
       "22     226\n",
       "65     182\n",
       "63     176\n",
       "21     160\n",
       "64     140\n",
       "66     119\n",
       "67     105\n",
       "20      84\n",
       "68      71\n",
       "70      48\n",
       "69      45\n",
       "19      41\n",
       "71      41\n",
       "72      23\n",
       "18      22\n",
       "73      18\n",
       "74      15\n",
       "75      13\n",
       "78       7\n",
       "76       6\n",
       "77       6\n",
       "80       4\n",
       "83       2\n",
       "79       2\n",
       "81       1\n",
       "Name: Age, Length: 65, dtype: int64"
      ]
     },
     "execution_count": 6,
     "metadata": {},
     "output_type": "execute_result"
    }
   ],
   "source": [
    "Y2016['Age'].value_counts()\n"
   ]
  },
  {
   "cell_type": "markdown",
   "metadata": {},
   "source": [
    "* The age group with the most amount of participants is 45 years of age. \n",
    "* The age groups with the least amount of participants are 81 "
   ]
  },
  {
   "cell_type": "code",
   "execution_count": 7,
   "metadata": {},
   "outputs": [
    {
     "data": {
      "text/plain": [
       "count       26630\n",
       "unique        546\n",
       "top       0:08:23\n",
       "freq          158\n",
       "Name: Pace, dtype: object"
      ]
     },
     "execution_count": 7,
     "metadata": {},
     "output_type": "execute_result"
    }
   ],
   "source": [
    "Y2016['Pace'].describe()"
   ]
  },
  {
   "cell_type": "code",
   "execution_count": 8,
   "metadata": {},
   "outputs": [
    {
     "data": {
      "text/plain": [
       "M/F  Age\n",
       "F    45     462\n",
       "     46     452\n",
       "     40     439\n",
       "     41     436\n",
       "     35     410\n",
       "     38     385\n",
       "     42     380\n",
       "     47     378\n",
       "     36     367\n",
       "     26     364\n",
       "     29     364\n",
       "     37     364\n",
       "     43     356\n",
       "     39     353\n",
       "     27     351\n",
       "     50     342\n",
       "     28     341\n",
       "     30     335\n",
       "     31     328\n",
       "     44     327\n",
       "     25     324\n",
       "     48     314\n",
       "     33     309\n",
       "     32     302\n",
       "     34     299\n",
       "     49     295\n",
       "     51     290\n",
       "     24     266\n",
       "     52     235\n",
       "     53     215\n",
       "           ... \n",
       "M    59     194\n",
       "     25     192\n",
       "     24     162\n",
       "     62     159\n",
       "     65     140\n",
       "     63     137\n",
       "     64     105\n",
       "     23     104\n",
       "     66      96\n",
       "     22      93\n",
       "     67      89\n",
       "     21      86\n",
       "     68      57\n",
       "     20      40\n",
       "     70      40\n",
       "     69      39\n",
       "     71      30\n",
       "     72      20\n",
       "     19      17\n",
       "     73      17\n",
       "     18      13\n",
       "     75      13\n",
       "     74      11\n",
       "     78       7\n",
       "     77       6\n",
       "     76       5\n",
       "     80       3\n",
       "     79       2\n",
       "     81       1\n",
       "     83       1\n",
       "Name: Age, Length: 125, dtype: int64"
      ]
     },
     "execution_count": 8,
     "metadata": {},
     "output_type": "execute_result"
    }
   ],
   "source": [
    "Y2016.groupby('M/F')['Age'].value_counts()"
   ]
  },
  {
   "cell_type": "markdown",
   "metadata": {},
   "source": [
    "I am grouping the data by gender and age to see how many participants we have separated by gender. For females 40 years has the most amount of participants. For males 25 years has the most amount of participants"
   ]
  },
  {
   "cell_type": "code",
   "execution_count": 9,
   "metadata": {},
   "outputs": [],
   "source": [
    "age_cuts=[18,35,40,45,50,55,60,65,70,75,80,100]\n",
    "age_bands=['18-34', '35-39', '40-44', '45-49', '50-54', '55-59', '60-64', '65-69', '70-74','75-79','80 and over']"
   ]
  },
  {
   "cell_type": "markdown",
   "metadata": {},
   "source": [
    "I am creating the age band divisions used for the qualifying times"
   ]
  },
  {
   "cell_type": "code",
   "execution_count": 10,
   "metadata": {},
   "outputs": [
    {
     "data": {
      "text/plain": [
       "12"
      ]
     },
     "execution_count": 10,
     "metadata": {},
     "output_type": "execute_result"
    }
   ],
   "source": [
    "len(age_cuts)"
   ]
  },
  {
   "cell_type": "markdown",
   "metadata": {},
   "source": [
    "We have 12 age bands"
   ]
  },
  {
   "cell_type": "code",
   "execution_count": 11,
   "metadata": {},
   "outputs": [],
   "source": [
    "Y2016['Age_band']=pd.cut(Y2016['Age'], bins=age_cuts, labels=age_bands, \n",
    "       right=False)"
   ]
  },
  {
   "cell_type": "code",
   "execution_count": 12,
   "metadata": {},
   "outputs": [
    {
     "data": {
      "text/plain": [
       "M/F  Age_band   \n",
       "F    18-34          4068\n",
       "     35-39          1879\n",
       "     40-44          1938\n",
       "     45-49          1901\n",
       "     50-54          1254\n",
       "     55-59           650\n",
       "     60-64           346\n",
       "     65-69           101\n",
       "     70-74            27\n",
       "     75-79             1\n",
       "     80 and over       2\n",
       "M    18-34          3040\n",
       "     35-39          1762\n",
       "     40-44          1994\n",
       "     45-49          2502\n",
       "     50-54          2032\n",
       "     55-59          1563\n",
       "     60-64           993\n",
       "     65-69           421\n",
       "     70-74           118\n",
       "     75-79            33\n",
       "     80 and over       5\n",
       "dtype: int64"
      ]
     },
     "execution_count": 12,
     "metadata": {},
     "output_type": "execute_result"
    }
   ],
   "source": [
    "Y2016.groupby(['M/F', 'Age_band']).size()"
   ]
  },
  {
   "cell_type": "markdown",
   "metadata": {},
   "source": [
    "Now I have separated participants by age group and gender"
   ]
  },
  {
   "cell_type": "markdown",
   "metadata": {},
   "source": [
    "Next I created a function to turn the time in hours minutes seconds into minutes"
   ]
  },
  {
   "cell_type": "code",
   "execution_count": 13,
   "metadata": {},
   "outputs": [],
   "source": [
    "def time_str_to_mins(tstr):\n",
    "    '''\n",
    "    convert a string with a race time of the form\n",
    "    H:M:S, e.g. 3:43:20 to the number of minute\n",
    "    H*60 + M + S/60\n",
    "    '''\n",
    "    \n",
    "    H,M,S = tstr.split(':')\n",
    "    \n",
    "    total_minutes = int(H)*60 + int(M) + int(S)/60\n",
    "    \n",
    "    return total_minutes"
   ]
  },
  {
   "cell_type": "code",
   "execution_count": 14,
   "metadata": {},
   "outputs": [
    {
     "data": {
      "text/plain": [
       "['3', '24', '12']"
      ]
     },
     "execution_count": 14,
     "metadata": {},
     "output_type": "execute_result"
    }
   ],
   "source": [
    "t=\"3:24:12\"\n",
    "t.split(':')"
   ]
  },
  {
   "cell_type": "code",
   "execution_count": 15,
   "metadata": {},
   "outputs": [
    {
     "data": {
      "text/plain": [
       "204.2"
      ]
     },
     "execution_count": 15,
     "metadata": {},
     "output_type": "execute_result"
    }
   ],
   "source": [
    "time_str_to_mins(t)"
   ]
  },
  {
   "cell_type": "code",
   "execution_count": 16,
   "metadata": {},
   "outputs": [],
   "source": [
    "Y2016['Offical_Time_Mins']=Y2016['Official Time'].map(time_str_to_mins)"
   ]
  },
  {
   "cell_type": "code",
   "execution_count": 17,
   "metadata": {},
   "outputs": [
    {
     "data": {
      "text/plain": [
       "235.0430235323566"
      ]
     },
     "execution_count": 17,
     "metadata": {},
     "output_type": "execute_result"
    }
   ],
   "source": [
    "Y2016['Offical_Time_Mins'].mean()"
   ]
  },
  {
   "cell_type": "code",
   "execution_count": 18,
   "metadata": {},
   "outputs": [
    {
     "data": {
      "text/html": [
       "<div>\n",
       "<style scoped>\n",
       "    .dataframe tbody tr th:only-of-type {\n",
       "        vertical-align: middle;\n",
       "    }\n",
       "\n",
       "    .dataframe tbody tr th {\n",
       "        vertical-align: top;\n",
       "    }\n",
       "\n",
       "    .dataframe thead th {\n",
       "        text-align: right;\n",
       "    }\n",
       "</style>\n",
       "<table border=\"1\" class=\"dataframe\">\n",
       "  <thead>\n",
       "    <tr style=\"text-align: right;\">\n",
       "      <th>M/F</th>\n",
       "      <th>F</th>\n",
       "      <th>M</th>\n",
       "    </tr>\n",
       "    <tr>\n",
       "      <th>Age_band</th>\n",
       "      <th></th>\n",
       "      <th></th>\n",
       "    </tr>\n",
       "  </thead>\n",
       "  <tbody>\n",
       "    <tr>\n",
       "      <th>18-34</th>\n",
       "      <td>240.905683</td>\n",
       "      <td>212.032034</td>\n",
       "    </tr>\n",
       "    <tr>\n",
       "      <th>35-39</th>\n",
       "      <td>238.445654</td>\n",
       "      <td>216.374518</td>\n",
       "    </tr>\n",
       "    <tr>\n",
       "      <th>40-44</th>\n",
       "      <td>242.285999</td>\n",
       "      <td>216.610523</td>\n",
       "    </tr>\n",
       "    <tr>\n",
       "      <th>45-49</th>\n",
       "      <td>248.337489</td>\n",
       "      <td>223.105556</td>\n",
       "    </tr>\n",
       "    <tr>\n",
       "      <th>50-54</th>\n",
       "      <td>253.203402</td>\n",
       "      <td>230.980118</td>\n",
       "    </tr>\n",
       "    <tr>\n",
       "      <th>55-59</th>\n",
       "      <td>263.897256</td>\n",
       "      <td>240.237001</td>\n",
       "    </tr>\n",
       "    <tr>\n",
       "      <th>60-64</th>\n",
       "      <td>274.451541</td>\n",
       "      <td>251.754733</td>\n",
       "    </tr>\n",
       "    <tr>\n",
       "      <th>65-69</th>\n",
       "      <td>285.612376</td>\n",
       "      <td>265.603761</td>\n",
       "    </tr>\n",
       "    <tr>\n",
       "      <th>70-74</th>\n",
       "      <td>308.965432</td>\n",
       "      <td>283.962147</td>\n",
       "    </tr>\n",
       "    <tr>\n",
       "      <th>75-79</th>\n",
       "      <td>352.250000</td>\n",
       "      <td>294.305556</td>\n",
       "    </tr>\n",
       "    <tr>\n",
       "      <th>80 and over</th>\n",
       "      <td>315.516667</td>\n",
       "      <td>299.083333</td>\n",
       "    </tr>\n",
       "  </tbody>\n",
       "</table>\n",
       "</div>"
      ],
      "text/plain": [
       "M/F                   F           M\n",
       "Age_band                           \n",
       "18-34        240.905683  212.032034\n",
       "35-39        238.445654  216.374518\n",
       "40-44        242.285999  216.610523\n",
       "45-49        248.337489  223.105556\n",
       "50-54        253.203402  230.980118\n",
       "55-59        263.897256  240.237001\n",
       "60-64        274.451541  251.754733\n",
       "65-69        285.612376  265.603761\n",
       "70-74        308.965432  283.962147\n",
       "75-79        352.250000  294.305556\n",
       "80 and over  315.516667  299.083333"
      ]
     },
     "execution_count": 18,
     "metadata": {},
     "output_type": "execute_result"
    }
   ],
   "source": [
    "Y2016.groupby(['Age_band', 'M/F'])['Offical_Time_Mins'].mean().unstack()"
   ]
  },
  {
   "cell_type": "markdown",
   "metadata": {},
   "source": [
    "These are the mean official times by gender and age band in minutes"
   ]
  },
  {
   "cell_type": "code",
   "execution_count": 20,
   "metadata": {},
   "outputs": [
    {
     "data": {
      "text/plain": [
       "<matplotlib.axes._subplots.AxesSubplot at 0x7f04a5367710>"
      ]
     },
     "execution_count": 20,
     "metadata": {},
     "output_type": "execute_result"
    },
    {
     "data": {
      "image/png": "[encoded data removed]",
      "text/plain": [
       "<Figure size 432x288 with 1 Axes>"
      ]
     },
     "metadata": {
      "needs_background": "light"
     },
     "output_type": "display_data"
    }
   ],
   "source": [
    "Y2016.groupby(['Age_band', 'M/F'])['Offical_Time_Mins'].mean().unstack().plot(kind='bar')"
   ]
  },
  {
   "cell_type": "markdown",
   "metadata": {},
   "source": [
    "The graph illustrates the mean finish time by age group and gender"
   ]
  },
  {
   "cell_type": "code",
   "execution_count": 21,
   "metadata": {},
   "outputs": [
    {
     "data": {
      "text/html": [
       "<div>\n",
       "<style scoped>\n",
       "    .dataframe tbody tr th:only-of-type {\n",
       "        vertical-align: middle;\n",
       "    }\n",
       "\n",
       "    .dataframe tbody tr th {\n",
       "        vertical-align: top;\n",
       "    }\n",
       "\n",
       "    .dataframe thead th {\n",
       "        text-align: right;\n",
       "    }\n",
       "</style>\n",
       "<table border=\"1\" class=\"dataframe\">\n",
       "  <thead>\n",
       "    <tr style=\"text-align: right;\">\n",
       "      <th>M/F</th>\n",
       "      <th>F</th>\n",
       "      <th>M</th>\n",
       "    </tr>\n",
       "    <tr>\n",
       "      <th>Age_band</th>\n",
       "      <th></th>\n",
       "      <th></th>\n",
       "    </tr>\n",
       "  </thead>\n",
       "  <tbody>\n",
       "    <tr>\n",
       "      <th>18-34</th>\n",
       "      <td>28.873649</td>\n",
       "      <td>NaN</td>\n",
       "    </tr>\n",
       "    <tr>\n",
       "      <th>35-39</th>\n",
       "      <td>22.071136</td>\n",
       "      <td>NaN</td>\n",
       "    </tr>\n",
       "    <tr>\n",
       "      <th>40-44</th>\n",
       "      <td>25.675476</td>\n",
       "      <td>NaN</td>\n",
       "    </tr>\n",
       "    <tr>\n",
       "      <th>45-49</th>\n",
       "      <td>25.231933</td>\n",
       "      <td>NaN</td>\n",
       "    </tr>\n",
       "    <tr>\n",
       "      <th>50-54</th>\n",
       "      <td>22.223284</td>\n",
       "      <td>NaN</td>\n",
       "    </tr>\n",
       "    <tr>\n",
       "      <th>55-59</th>\n",
       "      <td>23.660255</td>\n",
       "      <td>NaN</td>\n",
       "    </tr>\n",
       "    <tr>\n",
       "      <th>60-64</th>\n",
       "      <td>22.696808</td>\n",
       "      <td>NaN</td>\n",
       "    </tr>\n",
       "    <tr>\n",
       "      <th>65-69</th>\n",
       "      <td>20.008615</td>\n",
       "      <td>NaN</td>\n",
       "    </tr>\n",
       "    <tr>\n",
       "      <th>70-74</th>\n",
       "      <td>25.003285</td>\n",
       "      <td>NaN</td>\n",
       "    </tr>\n",
       "    <tr>\n",
       "      <th>75-79</th>\n",
       "      <td>57.944444</td>\n",
       "      <td>NaN</td>\n",
       "    </tr>\n",
       "    <tr>\n",
       "      <th>80 and over</th>\n",
       "      <td>16.433333</td>\n",
       "      <td>NaN</td>\n",
       "    </tr>\n",
       "  </tbody>\n",
       "</table>\n",
       "</div>"
      ],
      "text/plain": [
       "M/F                  F   M\n",
       "Age_band                  \n",
       "18-34        28.873649 NaN\n",
       "35-39        22.071136 NaN\n",
       "40-44        25.675476 NaN\n",
       "45-49        25.231933 NaN\n",
       "50-54        22.223284 NaN\n",
       "55-59        23.660255 NaN\n",
       "60-64        22.696808 NaN\n",
       "65-69        20.008615 NaN\n",
       "70-74        25.003285 NaN\n",
       "75-79        57.944444 NaN\n",
       "80 and over  16.433333 NaN"
      ]
     },
     "execution_count": 21,
     "metadata": {},
     "output_type": "execute_result"
    }
   ],
   "source": [
    "Y2016.groupby(['Age_band', 'M/F'])['Offical_Time_Mins'].mean().unstack().diff(-1, axis=1)"
   ]
  },
  {
   "cell_type": "markdown",
   "metadata": {},
   "source": [
    "The table shows the mean finish time difference between males and females by age group. We can see that it changes by age band significantly"
   ]
  },
  {
   "cell_type": "markdown",
   "metadata": {},
   "source": [
    "I stopped carrying out further analysis in this notebook because I realized it would be better to do my analysis with the grouped data from all three years of the race. That way I could have more data and thus all my averages with have a chance to be more accurate and less prone to high standard deviations."
   ]
  }
 ],
 "metadata": {
  "kernelspec": {
   "display_name": "Python 3",
   "language": "python",
   "name": "python3"
  },
  "language_info": {
   "codemirror_mode": {
    "name": "ipython",
    "version": 3
   },
   "file_extension": ".py",
   "mimetype": "text/x-python",
   "name": "python",
   "nbconvert_exporter": "python",
   "pygments_lexer": "ipython3",
   "version": "3.7.3"
  }
 },
 "nbformat": 4,
 "nbformat_minor": 2
}
