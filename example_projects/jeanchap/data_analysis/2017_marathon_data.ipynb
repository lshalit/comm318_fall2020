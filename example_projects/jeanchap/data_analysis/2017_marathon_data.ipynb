{
 "cells": [
  {
   "cell_type": "markdown",
   "metadata": {},
   "source": [
    "## Investigating my Boston Marathon Data\n",
    "This file contains the data analysis for the 2017 Boston Marathon\n"
   ]
  },
  {
   "cell_type": "markdown",
   "metadata": {},
   "source": [
    "Qualifying times\n",
    "First I inserted the qualifying times to guide my research and data exploration qualifying times\n",
    "\n",
    "\n",
    "\n",
    "Men\n",
    "* 18-34\t3:05:00\t3:02:32\n",
    "* 35-39\t3:10:00\t3:07:32\n",
    "* 40-44\t3:15:00\t3:12:32\n",
    "* 45-49\t3:25:00\t3:22:32\n",
    "* 50-54\t3:30:00\t3:27:32\n",
    "* 55-59\t3:40:00\t3:37:32\n",
    "* 60-64\t3:55:00\t3:52:32\n",
    "* 65-69\t4:10:00\t4:07:32\n",
    "* 70-74\t4:25:00\t4:22:32\n",
    "* 75-79\t4:40:00\t4:37:32\n",
    "* 80+\t    4:55:00\t4:52:32\n",
    "\n",
    "Women\n",
    "* 18-34\t3:35:00\t3:32:32\n",
    "* 35-39\t3:40:00\t3:37:32\n",
    "* 40-44\t3:45:00\t3:42:32\n",
    "* 45-49\t3:55:00\t3:52:32\n",
    "* 50-54\t4:00:00\t3:57:32\n",
    "* 55-59\t4:10:00\t4:07:32\n",
    "* 60-64\t4:25:00\t4:22:32\n",
    "* 65-69\t4:40:00\t4:37:32\n",
    "* 70-74\t4:55:00\t4:52:32\n",
    "* 75-79\t5:10:00\t5:07:32\n",
    "* 80+   5:25:00\t5:22:32"
   ]
  },
  {
   "cell_type": "markdown",
   "metadata": {},
   "source": [
    "These are some of the questions that I looked at with the analysis\n",
    "\n",
    "* How many participants are there per age group?\n",
    "* What is the age group with the most participants?\n",
    "* What is the mean finish time for each age group separated by gender?\n",
    "* What is the mean finish time difference between males and females in the same age division?"
   ]
  },
  {
   "cell_type": "code",
   "execution_count": 1,
   "metadata": {},
   "outputs": [],
   "source": [
    "import pandas as pd "
   ]
  },
  {
   "cell_type": "code",
   "execution_count": 2,
   "metadata": {},
   "outputs": [],
   "source": [
    "Y2017=pd.read_csv(\"Boston_Marathon_Data/marathon_results_2017.csv\")"
   ]
  },
  {
   "cell_type": "code",
   "execution_count": 3,
   "metadata": {},
   "outputs": [
    {
     "data": {
      "text/plain": [
       "(26410, 25)"
      ]
     },
     "execution_count": 3,
     "metadata": {},
     "output_type": "execute_result"
    }
   ],
   "source": [
    "Y2017.shape"
   ]
  },
  {
   "cell_type": "markdown",
   "metadata": {},
   "source": [
    "* We have 26410 participants and 25 columns "
   ]
  },
  {
   "cell_type": "code",
   "execution_count": 5,
   "metadata": {},
   "outputs": [
    {
     "data": {
      "text/plain": [
       "Index(['Unnamed: 0', 'Bib', 'Name', 'Age', 'M/F', 'City', 'State', 'Country',\n",
       "       'Citizen', 'Unnamed: 9', '5K', '10K', '15K', '20K', 'Half', '25K',\n",
       "       '30K', '35K', '40K', 'Pace', 'Proj Time', 'Official Time', 'Overall',\n",
       "       'Gender', 'Division'],\n",
       "      dtype='object')"
      ]
     },
     "execution_count": 5,
     "metadata": {},
     "output_type": "execute_result"
    }
   ],
   "source": [
    "Y2017.columns"
   ]
  },
  {
   "cell_type": "code",
   "execution_count": 6,
   "metadata": {},
   "outputs": [
    {
     "data": {
      "text/html": [
       "<div>\n",
       "<style scoped>\n",
       "    .dataframe tbody tr th:only-of-type {\n",
       "        vertical-align: middle;\n",
       "    }\n",
       "\n",
       "    .dataframe tbody tr th {\n",
       "        vertical-align: top;\n",
       "    }\n",
       "\n",
       "    .dataframe thead th {\n",
       "        text-align: right;\n",
       "    }\n",
       "</style>\n",
       "<table border=\"1\" class=\"dataframe\">\n",
       "  <thead>\n",
       "    <tr style=\"text-align: right;\">\n",
       "      <th></th>\n",
       "      <th>Unnamed: 0</th>\n",
       "      <th>Bib</th>\n",
       "      <th>Name</th>\n",
       "      <th>Age</th>\n",
       "      <th>M/F</th>\n",
       "      <th>City</th>\n",
       "      <th>State</th>\n",
       "      <th>Country</th>\n",
       "      <th>Citizen</th>\n",
       "      <th>Unnamed: 9</th>\n",
       "      <th>...</th>\n",
       "      <th>25K</th>\n",
       "      <th>30K</th>\n",
       "      <th>35K</th>\n",
       "      <th>40K</th>\n",
       "      <th>Pace</th>\n",
       "      <th>Proj Time</th>\n",
       "      <th>Official Time</th>\n",
       "      <th>Overall</th>\n",
       "      <th>Gender</th>\n",
       "      <th>Division</th>\n",
       "    </tr>\n",
       "  </thead>\n",
       "  <tbody>\n",
       "    <tr>\n",
       "      <th>0</th>\n",
       "      <td>0</td>\n",
       "      <td>11</td>\n",
       "      <td>Kirui, Geoffrey</td>\n",
       "      <td>24</td>\n",
       "      <td>M</td>\n",
       "      <td>Keringet</td>\n",
       "      <td>NaN</td>\n",
       "      <td>KEN</td>\n",
       "      <td>NaN</td>\n",
       "      <td>NaN</td>\n",
       "      <td>...</td>\n",
       "      <td>1:16:59</td>\n",
       "      <td>1:33:01</td>\n",
       "      <td>1:48:19</td>\n",
       "      <td>2:02:53</td>\n",
       "      <td>0:04:57</td>\n",
       "      <td>-</td>\n",
       "      <td>2:09:37</td>\n",
       "      <td>1</td>\n",
       "      <td>1</td>\n",
       "      <td>1</td>\n",
       "    </tr>\n",
       "    <tr>\n",
       "      <th>1</th>\n",
       "      <td>1</td>\n",
       "      <td>17</td>\n",
       "      <td>Rupp, Galen</td>\n",
       "      <td>30</td>\n",
       "      <td>M</td>\n",
       "      <td>Portland</td>\n",
       "      <td>OR</td>\n",
       "      <td>USA</td>\n",
       "      <td>NaN</td>\n",
       "      <td>NaN</td>\n",
       "      <td>...</td>\n",
       "      <td>1:16:59</td>\n",
       "      <td>1:33:01</td>\n",
       "      <td>1:48:19</td>\n",
       "      <td>2:03:14</td>\n",
       "      <td>0:04:58</td>\n",
       "      <td>-</td>\n",
       "      <td>2:09:58</td>\n",
       "      <td>2</td>\n",
       "      <td>2</td>\n",
       "      <td>2</td>\n",
       "    </tr>\n",
       "    <tr>\n",
       "      <th>2</th>\n",
       "      <td>2</td>\n",
       "      <td>23</td>\n",
       "      <td>Osako, Suguru</td>\n",
       "      <td>25</td>\n",
       "      <td>M</td>\n",
       "      <td>Machida-City</td>\n",
       "      <td>NaN</td>\n",
       "      <td>JPN</td>\n",
       "      <td>NaN</td>\n",
       "      <td>NaN</td>\n",
       "      <td>...</td>\n",
       "      <td>1:17:00</td>\n",
       "      <td>1:33:01</td>\n",
       "      <td>1:48:31</td>\n",
       "      <td>2:03:38</td>\n",
       "      <td>0:04:59</td>\n",
       "      <td>-</td>\n",
       "      <td>2:10:28</td>\n",
       "      <td>3</td>\n",
       "      <td>3</td>\n",
       "      <td>3</td>\n",
       "    </tr>\n",
       "    <tr>\n",
       "      <th>3</th>\n",
       "      <td>3</td>\n",
       "      <td>21</td>\n",
       "      <td>Biwott, Shadrack</td>\n",
       "      <td>32</td>\n",
       "      <td>M</td>\n",
       "      <td>Mammoth Lakes</td>\n",
       "      <td>CA</td>\n",
       "      <td>USA</td>\n",
       "      <td>NaN</td>\n",
       "      <td>NaN</td>\n",
       "      <td>...</td>\n",
       "      <td>1:17:00</td>\n",
       "      <td>1:33:01</td>\n",
       "      <td>1:48:58</td>\n",
       "      <td>2:04:35</td>\n",
       "      <td>0:05:03</td>\n",
       "      <td>-</td>\n",
       "      <td>2:12:08</td>\n",
       "      <td>4</td>\n",
       "      <td>4</td>\n",
       "      <td>4</td>\n",
       "    </tr>\n",
       "    <tr>\n",
       "      <th>4</th>\n",
       "      <td>4</td>\n",
       "      <td>9</td>\n",
       "      <td>Chebet, Wilson</td>\n",
       "      <td>31</td>\n",
       "      <td>M</td>\n",
       "      <td>Marakwet</td>\n",
       "      <td>NaN</td>\n",
       "      <td>KEN</td>\n",
       "      <td>NaN</td>\n",
       "      <td>NaN</td>\n",
       "      <td>...</td>\n",
       "      <td>1:16:59</td>\n",
       "      <td>1:33:01</td>\n",
       "      <td>1:48:41</td>\n",
       "      <td>2:05:00</td>\n",
       "      <td>0:05:04</td>\n",
       "      <td>-</td>\n",
       "      <td>2:12:35</td>\n",
       "      <td>5</td>\n",
       "      <td>5</td>\n",
       "      <td>5</td>\n",
       "    </tr>\n",
       "  </tbody>\n",
       "</table>\n",
       "<p>5 rows × 25 columns</p>\n",
       "</div>"
      ],
      "text/plain": [
       "   Unnamed: 0 Bib              Name  Age M/F           City State Country  \\\n",
       "0           0  11   Kirui, Geoffrey   24   M       Keringet   NaN     KEN   \n",
       "1           1  17       Rupp, Galen   30   M       Portland    OR     USA   \n",
       "2           2  23     Osako, Suguru   25   M   Machida-City   NaN     JPN   \n",
       "3           3  21  Biwott, Shadrack   32   M  Mammoth Lakes    CA     USA   \n",
       "4           4   9    Chebet, Wilson   31   M       Marakwet   NaN     KEN   \n",
       "\n",
       "  Citizen Unnamed: 9  ...      25K      30K      35K      40K     Pace  \\\n",
       "0     NaN        NaN  ...  1:16:59  1:33:01  1:48:19  2:02:53  0:04:57   \n",
       "1     NaN        NaN  ...  1:16:59  1:33:01  1:48:19  2:03:14  0:04:58   \n",
       "2     NaN        NaN  ...  1:17:00  1:33:01  1:48:31  2:03:38  0:04:59   \n",
       "3     NaN        NaN  ...  1:17:00  1:33:01  1:48:58  2:04:35  0:05:03   \n",
       "4     NaN        NaN  ...  1:16:59  1:33:01  1:48:41  2:05:00  0:05:04   \n",
       "\n",
       "  Proj Time Official Time Overall Gender Division  \n",
       "0         -       2:09:37       1      1        1  \n",
       "1         -       2:09:58       2      2        2  \n",
       "2         -       2:10:28       3      3        3  \n",
       "3         -       2:12:08       4      4        4  \n",
       "4         -       2:12:35       5      5        5  \n",
       "\n",
       "[5 rows x 25 columns]"
      ]
     },
     "execution_count": 6,
     "metadata": {},
     "output_type": "execute_result"
    }
   ],
   "source": [
    "Y2017.head()"
   ]
  },
  {
   "cell_type": "markdown",
   "metadata": {},
   "source": [
    "* The most important columns in our data are: age, pace, official time, gender, and time at each 5k mark"
   ]
  },
  {
   "cell_type": "code",
   "execution_count": 7,
   "metadata": {},
   "outputs": [
    {
     "data": {
      "text/plain": [
       "45    1127\n",
       "46     976\n",
       "40     926\n",
       "47     843\n",
       "50     815\n",
       "41     801\n",
       "35     800\n",
       "48     784\n",
       "42     758\n",
       "36     733\n",
       "39     712\n",
       "43     706\n",
       "37     687\n",
       "49     686\n",
       "55     682\n",
       "38     670\n",
       "51     658\n",
       "44     651\n",
       "52     638\n",
       "29     636\n",
       "30     629\n",
       "33     591\n",
       "28     590\n",
       "31     583\n",
       "53     573\n",
       "27     571\n",
       "32     563\n",
       "26     557\n",
       "34     540\n",
       "56     504\n",
       "      ... \n",
       "58     345\n",
       "23     307\n",
       "59     284\n",
       "62     271\n",
       "22     210\n",
       "65     187\n",
       "63     157\n",
       "21     147\n",
       "66     137\n",
       "64     117\n",
       "67     100\n",
       "20      83\n",
       "70      78\n",
       "68      67\n",
       "69      47\n",
       "19      43\n",
       "71      25\n",
       "73      22\n",
       "18      20\n",
       "72      19\n",
       "74      17\n",
       "75      15\n",
       "76      10\n",
       "77       5\n",
       "78       4\n",
       "80       3\n",
       "79       3\n",
       "81       2\n",
       "83       1\n",
       "84       1\n",
       "Name: Age, Length: 66, dtype: int64"
      ]
     },
     "execution_count": 7,
     "metadata": {},
     "output_type": "execute_result"
    }
   ],
   "source": [
    "Y2017['Age'].value_counts()\n"
   ]
  },
  {
   "cell_type": "markdown",
   "metadata": {},
   "source": [
    "* The age group with the most amount of participants is 45 years of age. \n",
    "* The age groups with the least amount of participants are 81 and 79"
   ]
  },
  {
   "cell_type": "code",
   "execution_count": 8,
   "metadata": {},
   "outputs": [
    {
     "data": {
      "text/plain": [
       "count       26410\n",
       "unique        561\n",
       "top       0:08:43\n",
       "freq          157\n",
       "Name: Pace, dtype: object"
      ]
     },
     "execution_count": 8,
     "metadata": {},
     "output_type": "execute_result"
    }
   ],
   "source": [
    "Y2017['Pace'].describe()"
   ]
  },
  {
   "cell_type": "code",
   "execution_count": 9,
   "metadata": {},
   "outputs": [
    {
     "data": {
      "text/plain": [
       "M/F  Age\n",
       "F    45     497\n",
       "     40     459\n",
       "     35     420\n",
       "     46     412\n",
       "     41     396\n",
       "     29     370\n",
       "     42     370\n",
       "     39     364\n",
       "     26     361\n",
       "     47     361\n",
       "     38     358\n",
       "     28     355\n",
       "     37     355\n",
       "     27     354\n",
       "     36     352\n",
       "     43     346\n",
       "     30     344\n",
       "     50     335\n",
       "     48     328\n",
       "     25     318\n",
       "     33     302\n",
       "     31     292\n",
       "     24     286\n",
       "     32     283\n",
       "     44     283\n",
       "     34     269\n",
       "     51     267\n",
       "     49     265\n",
       "     52     246\n",
       "     55     234\n",
       "           ... \n",
       "M    26     196\n",
       "     59     193\n",
       "     25     180\n",
       "     24     164\n",
       "     65     146\n",
       "     63     122\n",
       "     23     118\n",
       "     66     105\n",
       "     64      95\n",
       "     22      86\n",
       "     67      81\n",
       "     21      68\n",
       "     70      65\n",
       "     68      56\n",
       "     20      43\n",
       "     69      38\n",
       "     19      23\n",
       "     71      22\n",
       "     73      19\n",
       "     72      17\n",
       "     74      15\n",
       "     76      10\n",
       "     18       9\n",
       "     75       7\n",
       "     77       4\n",
       "     78       4\n",
       "     79       3\n",
       "     80       3\n",
       "     81       2\n",
       "     83       1\n",
       "Name: Age, Length: 125, dtype: int64"
      ]
     },
     "execution_count": 9,
     "metadata": {},
     "output_type": "execute_result"
    }
   ],
   "source": [
    "Y2017.groupby('M/F')['Age'].value_counts()"
   ]
  },
  {
   "cell_type": "markdown",
   "metadata": {},
   "source": [
    "I am grouping the data by gender and age to see how many participants we have separated by gender. For females 40 years has the most amount of participants. For males 25 years has the most amount of participants"
   ]
  },
  {
   "cell_type": "code",
   "execution_count": 10,
   "metadata": {},
   "outputs": [],
   "source": [
    "age_cuts=[18,35,40,45,50,55,60,65,70,75,80,100]\n",
    "age_bands=['18-34', '35-39', '40-44', '45-49', '50-54', '55-59', '60-64', '65-69', '70-74','75-79','80 and over']"
   ]
  },
  {
   "cell_type": "markdown",
   "metadata": {},
   "source": [
    "I am creating the age band divisions used for the qualifying times"
   ]
  },
  {
   "cell_type": "code",
   "execution_count": 11,
   "metadata": {},
   "outputs": [
    {
     "data": {
      "text/plain": [
       "12"
      ]
     },
     "execution_count": 11,
     "metadata": {},
     "output_type": "execute_result"
    }
   ],
   "source": [
    "len(age_cuts)"
   ]
  },
  {
   "cell_type": "code",
   "execution_count": 13,
   "metadata": {},
   "outputs": [],
   "source": [
    "Y2017['Age_band']=pd.cut(Y2017['Age'], bins=age_cuts, labels=age_bands, \n",
    "       right=False)"
   ]
  },
  {
   "cell_type": "code",
   "execution_count": 14,
   "metadata": {},
   "outputs": [
    {
     "data": {
      "text/plain": [
       "M/F  Age_band   \n",
       "F    18-34          3997\n",
       "     35-39          1849\n",
       "     40-44          1854\n",
       "     45-49          1863\n",
       "     50-54          1223\n",
       "     55-59           698\n",
       "     60-64           343\n",
       "     65-69           112\n",
       "     70-74            23\n",
       "     75-79             9\n",
       "     80 and over       1\n",
       "M    18-34          3021\n",
       "     35-39          1753\n",
       "     40-44          1988\n",
       "     45-49          2553\n",
       "     50-54          1945\n",
       "     55-59          1537\n",
       "     60-64          1043\n",
       "     65-69           426\n",
       "     70-74           138\n",
       "     75-79            28\n",
       "     80 and over       6\n",
       "dtype: int64"
      ]
     },
     "execution_count": 14,
     "metadata": {},
     "output_type": "execute_result"
    }
   ],
   "source": [
    "Y2017.groupby(['M/F', 'Age_band']).size()"
   ]
  },
  {
   "cell_type": "markdown",
   "metadata": {},
   "source": [
    "Now I have separated participants by age group and gender"
   ]
  },
  {
   "cell_type": "markdown",
   "metadata": {},
   "source": [
    "Next I created a function to turn the time in hours minutes seconds into minutes"
   ]
  },
  {
   "cell_type": "code",
   "execution_count": 15,
   "metadata": {},
   "outputs": [],
   "source": [
    "def time_str_to_mins(tstr):\n",
    "    '''\n",
    "    convert a string with a race time of the form\n",
    "    H:M:S, e.g. 3:43:20 to the number of minute\n",
    "    H*60 + M + S/60\n",
    "    '''\n",
    "    \n",
    "    H,M,S = tstr.split(':')\n",
    "    \n",
    "    total_minutes = int(H)*60 + int(M) + int(S)/60\n",
    "    \n",
    "    return total_minutes"
   ]
  },
  {
   "cell_type": "code",
   "execution_count": 16,
   "metadata": {},
   "outputs": [
    {
     "data": {
      "text/plain": [
       "['3', '24', '12']"
      ]
     },
     "execution_count": 16,
     "metadata": {},
     "output_type": "execute_result"
    }
   ],
   "source": [
    "t=\"3:24:12\"\n",
    "t.split(':')"
   ]
  },
  {
   "cell_type": "code",
   "execution_count": 17,
   "metadata": {},
   "outputs": [
    {
     "data": {
      "text/plain": [
       "204.2"
      ]
     },
     "execution_count": 17,
     "metadata": {},
     "output_type": "execute_result"
    }
   ],
   "source": [
    "time_str_to_mins(t)"
   ]
  },
  {
   "cell_type": "code",
   "execution_count": 18,
   "metadata": {},
   "outputs": [],
   "source": [
    "Y2017['Offical_Time_Mins']=Y2017['Official Time'].map(time_str_to_mins)"
   ]
  },
  {
   "cell_type": "code",
   "execution_count": 19,
   "metadata": {},
   "outputs": [
    {
     "data": {
      "text/plain": [
       "238.0592559636496"
      ]
     },
     "execution_count": 19,
     "metadata": {},
     "output_type": "execute_result"
    }
   ],
   "source": [
    "Y2017['Offical_Time_Mins'].mean()"
   ]
  },
  {
   "cell_type": "code",
   "execution_count": 20,
   "metadata": {},
   "outputs": [
    {
     "data": {
      "text/html": [
       "<div>\n",
       "<style scoped>\n",
       "    .dataframe tbody tr th:only-of-type {\n",
       "        vertical-align: middle;\n",
       "    }\n",
       "\n",
       "    .dataframe tbody tr th {\n",
       "        vertical-align: top;\n",
       "    }\n",
       "\n",
       "    .dataframe thead th {\n",
       "        text-align: right;\n",
       "    }\n",
       "</style>\n",
       "<table border=\"1\" class=\"dataframe\">\n",
       "  <thead>\n",
       "    <tr style=\"text-align: right;\">\n",
       "      <th>M/F</th>\n",
       "      <th>F</th>\n",
       "      <th>M</th>\n",
       "    </tr>\n",
       "    <tr>\n",
       "      <th>Age_band</th>\n",
       "      <th></th>\n",
       "      <th></th>\n",
       "    </tr>\n",
       "  </thead>\n",
       "  <tbody>\n",
       "    <tr>\n",
       "      <th>18-34</th>\n",
       "      <td>243.022342</td>\n",
       "      <td>214.647942</td>\n",
       "    </tr>\n",
       "    <tr>\n",
       "      <th>35-39</th>\n",
       "      <td>240.818316</td>\n",
       "      <td>215.287669</td>\n",
       "    </tr>\n",
       "    <tr>\n",
       "      <th>40-44</th>\n",
       "      <td>246.617629</td>\n",
       "      <td>219.913758</td>\n",
       "    </tr>\n",
       "    <tr>\n",
       "      <th>45-49</th>\n",
       "      <td>251.506602</td>\n",
       "      <td>226.472327</td>\n",
       "    </tr>\n",
       "    <tr>\n",
       "      <th>50-54</th>\n",
       "      <td>257.742750</td>\n",
       "      <td>235.811714</td>\n",
       "    </tr>\n",
       "    <tr>\n",
       "      <th>55-59</th>\n",
       "      <td>266.317932</td>\n",
       "      <td>242.279397</td>\n",
       "    </tr>\n",
       "    <tr>\n",
       "      <th>60-64</th>\n",
       "      <td>278.988727</td>\n",
       "      <td>256.456647</td>\n",
       "    </tr>\n",
       "    <tr>\n",
       "      <th>65-69</th>\n",
       "      <td>292.231548</td>\n",
       "      <td>271.055164</td>\n",
       "    </tr>\n",
       "    <tr>\n",
       "      <th>70-74</th>\n",
       "      <td>299.328261</td>\n",
       "      <td>289.150483</td>\n",
       "    </tr>\n",
       "    <tr>\n",
       "      <th>75-79</th>\n",
       "      <td>324.535185</td>\n",
       "      <td>292.635714</td>\n",
       "    </tr>\n",
       "    <tr>\n",
       "      <th>80 and over</th>\n",
       "      <td>364.116667</td>\n",
       "      <td>285.527778</td>\n",
       "    </tr>\n",
       "  </tbody>\n",
       "</table>\n",
       "</div>"
      ],
      "text/plain": [
       "M/F                   F           M\n",
       "Age_band                           \n",
       "18-34        243.022342  214.647942\n",
       "35-39        240.818316  215.287669\n",
       "40-44        246.617629  219.913758\n",
       "45-49        251.506602  226.472327\n",
       "50-54        257.742750  235.811714\n",
       "55-59        266.317932  242.279397\n",
       "60-64        278.988727  256.456647\n",
       "65-69        292.231548  271.055164\n",
       "70-74        299.328261  289.150483\n",
       "75-79        324.535185  292.635714\n",
       "80 and over  364.116667  285.527778"
      ]
     },
     "execution_count": 20,
     "metadata": {},
     "output_type": "execute_result"
    }
   ],
   "source": [
    "Y2017.groupby(['Age_band', 'M/F'])['Offical_Time_Mins'].mean().unstack()"
   ]
  },
  {
   "cell_type": "markdown",
   "metadata": {},
   "source": [
    "These are the mean official times by gender and age band in minutes"
   ]
  },
  {
   "cell_type": "code",
   "execution_count": 22,
   "metadata": {},
   "outputs": [
    {
     "data": {
      "text/plain": [
       "<matplotlib.axes._subplots.AxesSubplot at 0x7ff59410f160>"
      ]
     },
     "execution_count": 22,
     "metadata": {},
     "output_type": "execute_result"
    },
    {
     "data": {
      "image/png": "[encoded data removed]",
      "text/plain": [
       "<Figure size 432x288 with 1 Axes>"
      ]
     },
     "metadata": {
      "needs_background": "light"
     },
     "output_type": "display_data"
    }
   ],
   "source": [
    "Y2017.groupby(['Age_band', 'M/F'])['Offical_Time_Mins'].mean().unstack().plot(kind='bar')"
   ]
  },
  {
   "cell_type": "markdown",
   "metadata": {},
   "source": [
    "The graph illustrates the mean finish time by age group and gender"
   ]
  },
  {
   "cell_type": "code",
   "execution_count": 23,
   "metadata": {},
   "outputs": [
    {
     "data": {
      "text/html": [
       "<div>\n",
       "<style scoped>\n",
       "    .dataframe tbody tr th:only-of-type {\n",
       "        vertical-align: middle;\n",
       "    }\n",
       "\n",
       "    .dataframe tbody tr th {\n",
       "        vertical-align: top;\n",
       "    }\n",
       "\n",
       "    .dataframe thead th {\n",
       "        text-align: right;\n",
       "    }\n",
       "</style>\n",
       "<table border=\"1\" class=\"dataframe\">\n",
       "  <thead>\n",
       "    <tr style=\"text-align: right;\">\n",
       "      <th>M/F</th>\n",
       "      <th>F</th>\n",
       "      <th>M</th>\n",
       "    </tr>\n",
       "    <tr>\n",
       "      <th>Age_band</th>\n",
       "      <th></th>\n",
       "      <th></th>\n",
       "    </tr>\n",
       "  </thead>\n",
       "  <tbody>\n",
       "    <tr>\n",
       "      <th>18-34</th>\n",
       "      <td>28.374400</td>\n",
       "      <td>NaN</td>\n",
       "    </tr>\n",
       "    <tr>\n",
       "      <th>35-39</th>\n",
       "      <td>25.530647</td>\n",
       "      <td>NaN</td>\n",
       "    </tr>\n",
       "    <tr>\n",
       "      <th>40-44</th>\n",
       "      <td>26.703871</td>\n",
       "      <td>NaN</td>\n",
       "    </tr>\n",
       "    <tr>\n",
       "      <th>45-49</th>\n",
       "      <td>25.034276</td>\n",
       "      <td>NaN</td>\n",
       "    </tr>\n",
       "    <tr>\n",
       "      <th>50-54</th>\n",
       "      <td>21.931036</td>\n",
       "      <td>NaN</td>\n",
       "    </tr>\n",
       "    <tr>\n",
       "      <th>55-59</th>\n",
       "      <td>24.038535</td>\n",
       "      <td>NaN</td>\n",
       "    </tr>\n",
       "    <tr>\n",
       "      <th>60-64</th>\n",
       "      <td>22.532079</td>\n",
       "      <td>NaN</td>\n",
       "    </tr>\n",
       "    <tr>\n",
       "      <th>65-69</th>\n",
       "      <td>21.176383</td>\n",
       "      <td>NaN</td>\n",
       "    </tr>\n",
       "    <tr>\n",
       "      <th>70-74</th>\n",
       "      <td>10.177778</td>\n",
       "      <td>NaN</td>\n",
       "    </tr>\n",
       "    <tr>\n",
       "      <th>75-79</th>\n",
       "      <td>31.899471</td>\n",
       "      <td>NaN</td>\n",
       "    </tr>\n",
       "    <tr>\n",
       "      <th>80 and over</th>\n",
       "      <td>78.588889</td>\n",
       "      <td>NaN</td>\n",
       "    </tr>\n",
       "  </tbody>\n",
       "</table>\n",
       "</div>"
      ],
      "text/plain": [
       "M/F                  F   M\n",
       "Age_band                  \n",
       "18-34        28.374400 NaN\n",
       "35-39        25.530647 NaN\n",
       "40-44        26.703871 NaN\n",
       "45-49        25.034276 NaN\n",
       "50-54        21.931036 NaN\n",
       "55-59        24.038535 NaN\n",
       "60-64        22.532079 NaN\n",
       "65-69        21.176383 NaN\n",
       "70-74        10.177778 NaN\n",
       "75-79        31.899471 NaN\n",
       "80 and over  78.588889 NaN"
      ]
     },
     "execution_count": 23,
     "metadata": {},
     "output_type": "execute_result"
    }
   ],
   "source": [
    "Y2017.groupby(['Age_band', 'M/F'])['Offical_Time_Mins'].mean().unstack().diff(-1, axis=1)"
   ]
  },
  {
   "cell_type": "markdown",
   "metadata": {},
   "source": [
    "The table shows the mean finish time difference between males and females by age group. We can see that it changes by age band significantly"
   ]
  },
  {
   "cell_type": "markdown",
   "metadata": {},
   "source": [
    "I stopped carrying out further analysis in this notebook because I realized it would be better to do my analysis with the grouped data from all three years of the race. That way I could have more data and thus all my averages with have a chance to be more accurate and less prone to high standard deviations."
   ]
  }
 ],
 "metadata": {
  "kernelspec": {
   "display_name": "Python 3",
   "language": "python",
   "name": "python3"
  },
  "language_info": {
   "codemirror_mode": {
    "name": "ipython",
    "version": 3
   },
   "file_extension": ".py",
   "mimetype": "text/x-python",
   "name": "python",
   "nbconvert_exporter": "python",
   "pygments_lexer": "ipython3",
   "version": "3.7.3"
  }
 },
 "nbformat": 4,
 "nbformat_minor": 2
}
