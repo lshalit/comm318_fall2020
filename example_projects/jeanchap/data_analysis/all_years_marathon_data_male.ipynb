{
 "cells": [
  {
   "cell_type": "markdown",
   "metadata": {},
   "source": [
    "## Investigating my Boston Marathon Data\n",
    "\n",
    "This notebook was created for the purposes of carrying out an analysis to see how many men (percentage) actually run the race within their required qualifying time (the rest of the analysis pertaining to this project was done in the notebook  \"COMM318_Final_Project//data_analysis/all_years_marathon_data_female.ipynb\")\n"
   ]
  },
  {
   "cell_type": "markdown",
   "metadata": {},
   "source": [
    "qualifying times\n",
    "Men \n",
    "* 18-34\t3:05:00\t3:03:58\n",
    "* 35-39\t3:10:00\t3:08:58\n",
    "* 40-44\t3:15:00\t3:13:58\n",
    "* 45-49\t3:25:00\t3:23:58\n",
    "* 50-54\t3:30:00\t3:28:58\n",
    "* 55-59\t3:40:00\t3:38:58\n",
    "* 60-64\t3:55:00\t3:53:58\n",
    "* 65-69\t4:10:00\t4:08:58\n",
    "* 70-74\t4:25:00\t4:23:58\n",
    "* 75-79\t4:40:00\t4:38:58\n",
    "* 80+\t    4:55:00\t4:53:58\n",
    "\n",
    "Women\n",
    "* 18-34\t3:35:00\t3:33:58\n",
    "* 35-39\t3:40:00\t3:38:58\n",
    "* 40-44\t3:45:00\t3:43:58\n",
    "* 45-49\t3:55:00\t3:53:58\n",
    "* 50-54\t4:00:00\t3:58:58\n",
    "* 55-59\t4:10:00\t4:08:58\n",
    "* 60-64\t4:25:00\t4:23:58\n",
    "* 65-69\t4:40:00\t4:38:58\n",
    "* 70-74\t4:55:00\t4:53:58\n",
    "* 75-79\t5:10:00\t5:08:58\n",
    "* 80+\t    5:25:00\t5:23:58\n"
   ]
  },
  {
   "cell_type": "markdown",
   "metadata": {},
   "source": [
    "I repeated the same basic steps as in the other notebook"
   ]
  },
  {
   "cell_type": "markdown",
   "metadata": {},
   "source": [
    "First I loaded the data"
   ]
  },
  {
   "cell_type": "code",
   "execution_count": 2,
   "metadata": {},
   "outputs": [],
   "source": [
    "%matplotlib inline\n",
    "import pandas as pd \n",
    "import matplotlib.pyplot as plt"
   ]
  },
  {
   "cell_type": "code",
   "execution_count": 3,
   "metadata": {},
   "outputs": [
    {
     "name": "stderr",
     "output_type": "stream",
     "text": [
      "/usr/local/anaconda3/lib/python3.7/site-packages/IPython/core/interactiveshell.py:2728: DtypeWarning: Columns (9,24) have mixed types. Specify dtype option on import or set low_memory=False.\n",
      "  interactivity=interactivity, compiler=compiler, result=result)\n"
     ]
    }
   ],
   "source": [
    "Yall=pd.read_csv(\"../data/all_data.csv\")"
   ]
  },
  {
   "cell_type": "code",
   "execution_count": 4,
   "metadata": {},
   "outputs": [
    {
     "data": {
      "text/plain": [
       "Index(['10K', '15K', '20K', '25K', '30K', '35K', '40K', '5K', 'Age', 'Bib',\n",
       "       'Citizen', 'City', 'Country', 'Division', 'Gender', 'Half', 'M/F',\n",
       "       'Name', 'Official Time', 'Overall', 'Pace', 'Proj Time', 'State',\n",
       "       'Unnamed: 0', 'Unnamed: 8', 'Unnamed: 9', 'year'],\n",
       "      dtype='object')"
      ]
     },
     "execution_count": 4,
     "metadata": {},
     "output_type": "execute_result"
    }
   ],
   "source": [
    "Yall.columns"
   ]
  },
  {
   "cell_type": "code",
   "execution_count": 5,
   "metadata": {},
   "outputs": [
    {
     "data": {
      "text/html": [
       "<div>\n",
       "<style scoped>\n",
       "    .dataframe tbody tr th:only-of-type {\n",
       "        vertical-align: middle;\n",
       "    }\n",
       "\n",
       "    .dataframe tbody tr th {\n",
       "        vertical-align: top;\n",
       "    }\n",
       "\n",
       "    .dataframe thead th {\n",
       "        text-align: right;\n",
       "    }\n",
       "</style>\n",
       "<table border=\"1\" class=\"dataframe\">\n",
       "  <thead>\n",
       "    <tr style=\"text-align: right;\">\n",
       "      <th></th>\n",
       "      <th>10K</th>\n",
       "      <th>15K</th>\n",
       "      <th>20K</th>\n",
       "      <th>25K</th>\n",
       "      <th>30K</th>\n",
       "      <th>35K</th>\n",
       "      <th>40K</th>\n",
       "      <th>5K</th>\n",
       "      <th>Age</th>\n",
       "      <th>Bib</th>\n",
       "      <th>...</th>\n",
       "      <th>Name</th>\n",
       "      <th>Official Time</th>\n",
       "      <th>Overall</th>\n",
       "      <th>Pace</th>\n",
       "      <th>Proj Time</th>\n",
       "      <th>State</th>\n",
       "      <th>Unnamed: 0</th>\n",
       "      <th>Unnamed: 8</th>\n",
       "      <th>Unnamed: 9</th>\n",
       "      <th>year</th>\n",
       "    </tr>\n",
       "  </thead>\n",
       "  <tbody>\n",
       "    <tr>\n",
       "      <th>0</th>\n",
       "      <td>0:29:43</td>\n",
       "      <td>0:44:57</td>\n",
       "      <td>1:00:29</td>\n",
       "      <td>1:16:07</td>\n",
       "      <td>1:32:00</td>\n",
       "      <td>1:47:59</td>\n",
       "      <td>2:02:39</td>\n",
       "      <td>0:14:43</td>\n",
       "      <td>25</td>\n",
       "      <td>3</td>\n",
       "      <td>...</td>\n",
       "      <td>Desisa, Lelisa</td>\n",
       "      <td>2:09:17</td>\n",
       "      <td>1</td>\n",
       "      <td>0:04:56</td>\n",
       "      <td>-</td>\n",
       "      <td>NaN</td>\n",
       "      <td>0.0</td>\n",
       "      <td>NaN</td>\n",
       "      <td>NaN</td>\n",
       "      <td>2015</td>\n",
       "    </tr>\n",
       "    <tr>\n",
       "      <th>1</th>\n",
       "      <td>0:29:43</td>\n",
       "      <td>0:44:58</td>\n",
       "      <td>1:00:28</td>\n",
       "      <td>1:16:07</td>\n",
       "      <td>1:31:59</td>\n",
       "      <td>1:47:59</td>\n",
       "      <td>2:02:42</td>\n",
       "      <td>0:14:43</td>\n",
       "      <td>30</td>\n",
       "      <td>4</td>\n",
       "      <td>...</td>\n",
       "      <td>Tsegay, Yemane Adhane</td>\n",
       "      <td>2:09:48</td>\n",
       "      <td>2</td>\n",
       "      <td>0:04:58</td>\n",
       "      <td>-</td>\n",
       "      <td>NaN</td>\n",
       "      <td>1.0</td>\n",
       "      <td>NaN</td>\n",
       "      <td>NaN</td>\n",
       "      <td>2015</td>\n",
       "    </tr>\n",
       "    <tr>\n",
       "      <th>2</th>\n",
       "      <td>0:29:43</td>\n",
       "      <td>0:44:57</td>\n",
       "      <td>1:00:29</td>\n",
       "      <td>1:16:07</td>\n",
       "      <td>1:32:00</td>\n",
       "      <td>1:47:59</td>\n",
       "      <td>2:03:01</td>\n",
       "      <td>0:14:43</td>\n",
       "      <td>29</td>\n",
       "      <td>8</td>\n",
       "      <td>...</td>\n",
       "      <td>Chebet, Wilson</td>\n",
       "      <td>2:10:22</td>\n",
       "      <td>3</td>\n",
       "      <td>0:04:59</td>\n",
       "      <td>-</td>\n",
       "      <td>NaN</td>\n",
       "      <td>2.0</td>\n",
       "      <td>NaN</td>\n",
       "      <td>NaN</td>\n",
       "      <td>2015</td>\n",
       "    </tr>\n",
       "    <tr>\n",
       "      <th>3</th>\n",
       "      <td>0:29:44</td>\n",
       "      <td>0:45:01</td>\n",
       "      <td>1:00:29</td>\n",
       "      <td>1:16:07</td>\n",
       "      <td>1:32:00</td>\n",
       "      <td>1:48:03</td>\n",
       "      <td>2:03:47</td>\n",
       "      <td>0:14:43</td>\n",
       "      <td>28</td>\n",
       "      <td>11</td>\n",
       "      <td>...</td>\n",
       "      <td>Kipyego, Bernard</td>\n",
       "      <td>2:10:47</td>\n",
       "      <td>4</td>\n",
       "      <td>0:05:00</td>\n",
       "      <td>-</td>\n",
       "      <td>NaN</td>\n",
       "      <td>3.0</td>\n",
       "      <td>NaN</td>\n",
       "      <td>NaN</td>\n",
       "      <td>2015</td>\n",
       "    </tr>\n",
       "    <tr>\n",
       "      <th>4</th>\n",
       "      <td>0:29:44</td>\n",
       "      <td>0:44:58</td>\n",
       "      <td>1:00:28</td>\n",
       "      <td>1:16:07</td>\n",
       "      <td>1:32:00</td>\n",
       "      <td>1:47:59</td>\n",
       "      <td>2:03:27</td>\n",
       "      <td>0:14:43</td>\n",
       "      <td>32</td>\n",
       "      <td>10</td>\n",
       "      <td>...</td>\n",
       "      <td>Korir, Wesley</td>\n",
       "      <td>2:10:49</td>\n",
       "      <td>5</td>\n",
       "      <td>0:05:00</td>\n",
       "      <td>-</td>\n",
       "      <td>NaN</td>\n",
       "      <td>4.0</td>\n",
       "      <td>NaN</td>\n",
       "      <td>NaN</td>\n",
       "      <td>2015</td>\n",
       "    </tr>\n",
       "  </tbody>\n",
       "</table>\n",
       "<p>5 rows × 27 columns</p>\n",
       "</div>"
      ],
      "text/plain": [
       "       10K      15K      20K      25K      30K      35K      40K       5K  \\\n",
       "0  0:29:43  0:44:57  1:00:29  1:16:07  1:32:00  1:47:59  2:02:39  0:14:43   \n",
       "1  0:29:43  0:44:58  1:00:28  1:16:07  1:31:59  1:47:59  2:02:42  0:14:43   \n",
       "2  0:29:43  0:44:57  1:00:29  1:16:07  1:32:00  1:47:59  2:03:01  0:14:43   \n",
       "3  0:29:44  0:45:01  1:00:29  1:16:07  1:32:00  1:48:03  2:03:47  0:14:43   \n",
       "4  0:29:44  0:44:58  1:00:28  1:16:07  1:32:00  1:47:59  2:03:27  0:14:43   \n",
       "\n",
       "   Age Bib  ...                   Name Official Time Overall     Pace  \\\n",
       "0   25   3  ...         Desisa, Lelisa       2:09:17       1  0:04:56   \n",
       "1   30   4  ...  Tsegay, Yemane Adhane       2:09:48       2  0:04:58   \n",
       "2   29   8  ...         Chebet, Wilson       2:10:22       3  0:04:59   \n",
       "3   28  11  ...       Kipyego, Bernard       2:10:47       4  0:05:00   \n",
       "4   32  10  ...          Korir, Wesley       2:10:49       5  0:05:00   \n",
       "\n",
       "   Proj Time State Unnamed: 0 Unnamed: 8 Unnamed: 9  year  \n",
       "0          -   NaN        0.0        NaN        NaN  2015  \n",
       "1          -   NaN        1.0        NaN        NaN  2015  \n",
       "2          -   NaN        2.0        NaN        NaN  2015  \n",
       "3          -   NaN        3.0        NaN        NaN  2015  \n",
       "4          -   NaN        4.0        NaN        NaN  2015  \n",
       "\n",
       "[5 rows x 27 columns]"
      ]
     },
     "execution_count": 5,
     "metadata": {},
     "output_type": "execute_result"
    }
   ],
   "source": [
    "Yall.head()"
   ]
  },
  {
   "cell_type": "markdown",
   "metadata": {},
   "source": [
    "* The most important columns in our data are: age, pace, official time, gender, and time at each 5k mark"
   ]
  },
  {
   "cell_type": "code",
   "execution_count": 6,
   "metadata": {},
   "outputs": [
    {
     "data": {
      "text/plain": [
       "45    3236\n",
       "46    3039\n",
       "40    2734\n",
       "47    2566\n",
       "50    2498\n",
       "41    2494\n",
       "35    2327\n",
       "42    2318\n",
       "48    2277\n",
       "43    2265\n",
       "36    2188\n",
       "38    2128\n",
       "51    2124\n",
       "37    2108\n",
       "39    2101\n",
       "44    2056\n",
       "49    2018\n",
       "52    1930\n",
       "55    1920\n",
       "29    1906\n",
       "30    1849\n",
       "33    1834\n",
       "31    1779\n",
       "28    1758\n",
       "34    1756\n",
       "27    1755\n",
       "53    1730\n",
       "32    1726\n",
       "26    1709\n",
       "25    1539\n",
       "      ... \n",
       "23     920\n",
       "59     788\n",
       "62     704\n",
       "22     701\n",
       "65     536\n",
       "63     507\n",
       "21     489\n",
       "66     387\n",
       "64     374\n",
       "67     306\n",
       "20     264\n",
       "68     198\n",
       "70     180\n",
       "19     137\n",
       "69     127\n",
       "71     105\n",
       "18      62\n",
       "72      62\n",
       "73      57\n",
       "74      45\n",
       "75      39\n",
       "76      29\n",
       "77      19\n",
       "78      15\n",
       "80      12\n",
       "79       7\n",
       "81       5\n",
       "82       4\n",
       "83       3\n",
       "84       1\n",
       "Name: Age, Length: 67, dtype: int64"
      ]
     },
     "execution_count": 6,
     "metadata": {},
     "output_type": "execute_result"
    }
   ],
   "source": [
    "Yall['Age'].value_counts()\n"
   ]
  },
  {
   "cell_type": "markdown",
   "metadata": {},
   "source": [
    "* The age group with the most amount of participants is 45 years of age. \n",
    "* The age groups with the least amount of participants is 84"
   ]
  },
  {
   "cell_type": "code",
   "execution_count": 7,
   "metadata": {},
   "outputs": [
    {
     "data": {
      "text/plain": [
       "count       79638\n",
       "unique        611\n",
       "top       0:08:24\n",
       "freq          435\n",
       "Name: Pace, dtype: object"
      ]
     },
     "execution_count": 7,
     "metadata": {},
     "output_type": "execute_result"
    }
   ],
   "source": [
    "Yall['Pace'].describe()"
   ]
  },
  {
   "cell_type": "code",
   "execution_count": 8,
   "metadata": {},
   "outputs": [
    {
     "data": {
      "text/plain": [
       "M/F  Age\n",
       "F    45     1403\n",
       "     40     1352\n",
       "     46     1294\n",
       "     41     1268\n",
       "     35     1219\n",
       "     42     1141\n",
       "     37     1114\n",
       "     36     1109\n",
       "     38     1092\n",
       "     47     1088\n",
       "     29     1082\n",
       "     27     1077\n",
       "     43     1077\n",
       "     26     1060\n",
       "     39     1054\n",
       "     28     1040\n",
       "     30     1022\n",
       "     50     1017\n",
       "     25      979\n",
       "     48      957\n",
       "     33      947\n",
       "     44      938\n",
       "     31      926\n",
       "     32      888\n",
       "     34      855\n",
       "     49      854\n",
       "     51      832\n",
       "     24      829\n",
       "     52      725\n",
       "     53      619\n",
       "            ... \n",
       "M    25      560\n",
       "     62      534\n",
       "     24      472\n",
       "     65      422\n",
       "     63      390\n",
       "     23      330\n",
       "     66      303\n",
       "     64      289\n",
       "     22      279\n",
       "     67      254\n",
       "     21      236\n",
       "     68      164\n",
       "     70      150\n",
       "     20      125\n",
       "     69      107\n",
       "     71       85\n",
       "     19       67\n",
       "     72       56\n",
       "     73       50\n",
       "     74       38\n",
       "     18       32\n",
       "     75       30\n",
       "     76       27\n",
       "     77       18\n",
       "     78       15\n",
       "     80       11\n",
       "     79        7\n",
       "     81        5\n",
       "     82        3\n",
       "     83        2\n",
       "Name: Age, Length: 130, dtype: int64"
      ]
     },
     "execution_count": 8,
     "metadata": {},
     "output_type": "execute_result"
    }
   ],
   "source": [
    "Yall.groupby('M/F')['Age'].value_counts()"
   ]
  },
  {
   "cell_type": "markdown",
   "metadata": {},
   "source": [
    "Now I am looking at the number of participants for each age separated by gender \n",
    "For Males the most popular age group is 25\n",
    "For females the most popular age group is 45"
   ]
  },
  {
   "cell_type": "code",
   "execution_count": 9,
   "metadata": {},
   "outputs": [],
   "source": [
    "age_cuts=[18,35,40,45,50,55,60,65,70,75,80,100]\n",
    "age_bands=['18-34', '35-39', '40-44', '45-49', '50-54', '55-59', '60-64', '65-69', '70-74','75-79','80 and over']"
   ]
  },
  {
   "cell_type": "markdown",
   "metadata": {},
   "source": [
    "I am separating the runners by their age bands"
   ]
  },
  {
   "cell_type": "code",
   "execution_count": 10,
   "metadata": {},
   "outputs": [
    {
     "data": {
      "text/plain": [
       "12"
      ]
     },
     "execution_count": 10,
     "metadata": {},
     "output_type": "execute_result"
    }
   ],
   "source": [
    "len(age_cuts)"
   ]
  },
  {
   "cell_type": "code",
   "execution_count": 11,
   "metadata": {},
   "outputs": [],
   "source": [
    "Yall['Age_band']=pd.cut(Yall['Age'], bins=age_cuts, labels=age_bands, \n",
    "       right=False)"
   ]
  },
  {
   "cell_type": "code",
   "execution_count": 12,
   "metadata": {},
   "outputs": [
    {
     "data": {
      "text/plain": [
       "M/F  Age_band   \n",
       "F    18-34          12209\n",
       "     35-39           5588\n",
       "     40-44           5776\n",
       "     45-49           5596\n",
       "     50-54           3683\n",
       "     55-59           1955\n",
       "     60-64            959\n",
       "     65-69            304\n",
       "     70-74             70\n",
       "     75-79             12\n",
       "     80 and over        4\n",
       "M    18-34           9276\n",
       "     35-39           5264\n",
       "     40-44           6091\n",
       "     45-49           7540\n",
       "     50-54           6032\n",
       "     55-59           4598\n",
       "     60-64           2934\n",
       "     65-69           1250\n",
       "     70-74            379\n",
       "     75-79             97\n",
       "     80 and over       21\n",
       "dtype: int64"
      ]
     },
     "execution_count": 12,
     "metadata": {},
     "output_type": "execute_result"
    }
   ],
   "source": [
    "Yall.groupby(['M/F', 'Age_band']).size()"
   ]
  },
  {
   "cell_type": "code",
   "execution_count": 13,
   "metadata": {},
   "outputs": [],
   "source": [
    "def time_str_to_mins(tstr):\n",
    "    '''\n",
    "    convert a string with a race time of the form\n",
    "    H:M:S, e.g. 3:43:20 to the number of minute\n",
    "    H*60 + M + S/60\n",
    "    '''\n",
    "    \n",
    "    H,M,S = tstr.split(':')\n",
    "    \n",
    "    total_minutes = int(H)*60 + int(M) + int(S)/60\n",
    "    \n",
    "    return total_minutes"
   ]
  },
  {
   "cell_type": "code",
   "execution_count": 14,
   "metadata": {},
   "outputs": [
    {
     "data": {
      "text/plain": [
       "['3', '24', '12']"
      ]
     },
     "execution_count": 14,
     "metadata": {},
     "output_type": "execute_result"
    }
   ],
   "source": [
    "t=\"3:24:12\"\n",
    "t.split(':')"
   ]
  },
  {
   "cell_type": "markdown",
   "metadata": {},
   "source": [
    "I am converting the time from a string into numbers that I can later use"
   ]
  },
  {
   "cell_type": "code",
   "execution_count": 15,
   "metadata": {},
   "outputs": [
    {
     "data": {
      "text/plain": [
       "204.2"
      ]
     },
     "execution_count": 15,
     "metadata": {},
     "output_type": "execute_result"
    }
   ],
   "source": [
    "time_str_to_mins(t)"
   ]
  },
  {
   "cell_type": "code",
   "execution_count": 16,
   "metadata": {},
   "outputs": [],
   "source": [
    "Yall['Offical_Time_Mins']=Yall['Official Time'].map(time_str_to_mins)"
   ]
  },
  {
   "cell_type": "code",
   "execution_count": 17,
   "metadata": {},
   "outputs": [
    {
     "data": {
      "text/plain": [
       "233.16548611634266"
      ]
     },
     "execution_count": 17,
     "metadata": {},
     "output_type": "execute_result"
    }
   ],
   "source": [
    "Yall['Offical_Time_Mins'].mean()"
   ]
  },
  {
   "cell_type": "code",
   "execution_count": 18,
   "metadata": {},
   "outputs": [
    {
     "data": {
      "text/html": [
       "<div>\n",
       "<style scoped>\n",
       "    .dataframe tbody tr th:only-of-type {\n",
       "        vertical-align: middle;\n",
       "    }\n",
       "\n",
       "    .dataframe tbody tr th {\n",
       "        vertical-align: top;\n",
       "    }\n",
       "\n",
       "    .dataframe thead th {\n",
       "        text-align: right;\n",
       "    }\n",
       "</style>\n",
       "<table border=\"1\" class=\"dataframe\">\n",
       "  <thead>\n",
       "    <tr style=\"text-align: right;\">\n",
       "      <th>M/F</th>\n",
       "      <th>F</th>\n",
       "      <th>M</th>\n",
       "    </tr>\n",
       "    <tr>\n",
       "      <th>Age_band</th>\n",
       "      <th></th>\n",
       "      <th></th>\n",
       "    </tr>\n",
       "  </thead>\n",
       "  <tbody>\n",
       "    <tr>\n",
       "      <th>18-34</th>\n",
       "      <td>238.998180</td>\n",
       "      <td>209.131891</td>\n",
       "    </tr>\n",
       "    <tr>\n",
       "      <th>35-39</th>\n",
       "      <td>236.801265</td>\n",
       "      <td>212.023290</td>\n",
       "    </tr>\n",
       "    <tr>\n",
       "      <th>40-44</th>\n",
       "      <td>241.507774</td>\n",
       "      <td>215.308822</td>\n",
       "    </tr>\n",
       "    <tr>\n",
       "      <th>45-49</th>\n",
       "      <td>247.072177</td>\n",
       "      <td>221.463258</td>\n",
       "    </tr>\n",
       "    <tr>\n",
       "      <th>50-54</th>\n",
       "      <td>252.409960</td>\n",
       "      <td>229.582725</td>\n",
       "    </tr>\n",
       "    <tr>\n",
       "      <th>55-59</th>\n",
       "      <td>262.313052</td>\n",
       "      <td>238.102737</td>\n",
       "    </tr>\n",
       "    <tr>\n",
       "      <th>60-64</th>\n",
       "      <td>274.393709</td>\n",
       "      <td>251.629118</td>\n",
       "    </tr>\n",
       "    <tr>\n",
       "      <th>65-69</th>\n",
       "      <td>288.726371</td>\n",
       "      <td>266.353960</td>\n",
       "    </tr>\n",
       "    <tr>\n",
       "      <th>70-74</th>\n",
       "      <td>300.986905</td>\n",
       "      <td>283.979376</td>\n",
       "    </tr>\n",
       "    <tr>\n",
       "      <th>75-79</th>\n",
       "      <td>319.072222</td>\n",
       "      <td>292.411340</td>\n",
       "    </tr>\n",
       "    <tr>\n",
       "      <th>80 and over</th>\n",
       "      <td>337.204167</td>\n",
       "      <td>302.481746</td>\n",
       "    </tr>\n",
       "  </tbody>\n",
       "</table>\n",
       "</div>"
      ],
      "text/plain": [
       "M/F                   F           M\n",
       "Age_band                           \n",
       "18-34        238.998180  209.131891\n",
       "35-39        236.801265  212.023290\n",
       "40-44        241.507774  215.308822\n",
       "45-49        247.072177  221.463258\n",
       "50-54        252.409960  229.582725\n",
       "55-59        262.313052  238.102737\n",
       "60-64        274.393709  251.629118\n",
       "65-69        288.726371  266.353960\n",
       "70-74        300.986905  283.979376\n",
       "75-79        319.072222  292.411340\n",
       "80 and over  337.204167  302.481746"
      ]
     },
     "execution_count": 18,
     "metadata": {},
     "output_type": "execute_result"
    }
   ],
   "source": [
    "Yall.groupby(['Age_band', 'M/F'])['Offical_Time_Mins'].mean().unstack()"
   ]
  },
  {
   "cell_type": "markdown",
   "metadata": {},
   "source": [
    "I am now looking at the official mean time for both males and females"
   ]
  },
  {
   "cell_type": "code",
   "execution_count": 19,
   "metadata": {},
   "outputs": [
    {
     "data": {
      "text/html": [
       "<div>\n",
       "<style scoped>\n",
       "    .dataframe tbody tr th:only-of-type {\n",
       "        vertical-align: middle;\n",
       "    }\n",
       "\n",
       "    .dataframe tbody tr th {\n",
       "        vertical-align: top;\n",
       "    }\n",
       "\n",
       "    .dataframe thead th {\n",
       "        text-align: right;\n",
       "    }\n",
       "</style>\n",
       "<table border=\"1\" class=\"dataframe\">\n",
       "  <thead>\n",
       "    <tr style=\"text-align: right;\">\n",
       "      <th>M/F</th>\n",
       "      <th>F</th>\n",
       "      <th>M</th>\n",
       "    </tr>\n",
       "    <tr>\n",
       "      <th>Age_band</th>\n",
       "      <th></th>\n",
       "      <th></th>\n",
       "    </tr>\n",
       "  </thead>\n",
       "  <tbody>\n",
       "    <tr>\n",
       "      <th>18-34</th>\n",
       "      <td>12209</td>\n",
       "      <td>9276</td>\n",
       "    </tr>\n",
       "    <tr>\n",
       "      <th>35-39</th>\n",
       "      <td>5588</td>\n",
       "      <td>5264</td>\n",
       "    </tr>\n",
       "    <tr>\n",
       "      <th>40-44</th>\n",
       "      <td>5776</td>\n",
       "      <td>6091</td>\n",
       "    </tr>\n",
       "    <tr>\n",
       "      <th>45-49</th>\n",
       "      <td>5596</td>\n",
       "      <td>7540</td>\n",
       "    </tr>\n",
       "    <tr>\n",
       "      <th>50-54</th>\n",
       "      <td>3683</td>\n",
       "      <td>6032</td>\n",
       "    </tr>\n",
       "    <tr>\n",
       "      <th>55-59</th>\n",
       "      <td>1955</td>\n",
       "      <td>4598</td>\n",
       "    </tr>\n",
       "    <tr>\n",
       "      <th>60-64</th>\n",
       "      <td>959</td>\n",
       "      <td>2934</td>\n",
       "    </tr>\n",
       "    <tr>\n",
       "      <th>65-69</th>\n",
       "      <td>304</td>\n",
       "      <td>1250</td>\n",
       "    </tr>\n",
       "    <tr>\n",
       "      <th>70-74</th>\n",
       "      <td>70</td>\n",
       "      <td>379</td>\n",
       "    </tr>\n",
       "    <tr>\n",
       "      <th>75-79</th>\n",
       "      <td>12</td>\n",
       "      <td>97</td>\n",
       "    </tr>\n",
       "    <tr>\n",
       "      <th>80 and over</th>\n",
       "      <td>4</td>\n",
       "      <td>21</td>\n",
       "    </tr>\n",
       "  </tbody>\n",
       "</table>\n",
       "</div>"
      ],
      "text/plain": [
       "M/F              F     M\n",
       "Age_band                \n",
       "18-34        12209  9276\n",
       "35-39         5588  5264\n",
       "40-44         5776  6091\n",
       "45-49         5596  7540\n",
       "50-54         3683  6032\n",
       "55-59         1955  4598\n",
       "60-64          959  2934\n",
       "65-69          304  1250\n",
       "70-74           70   379\n",
       "75-79           12    97\n",
       "80 and over      4    21"
      ]
     },
     "execution_count": 19,
     "metadata": {},
     "output_type": "execute_result"
    }
   ],
   "source": [
    "Yall.groupby(['Age_band', 'M/F']).size().unstack()"
   ]
  },
  {
   "cell_type": "code",
   "execution_count": 20,
   "metadata": {},
   "outputs": [
    {
     "data": {
      "text/plain": [
       "<matplotlib.axes._subplots.AxesSubplot at 0x7fc9e3223dd8>"
      ]
     },
     "execution_count": 20,
     "metadata": {},
     "output_type": "execute_result"
    },
    {
     "data": {
      "image/png": "[encoded data removed]",
      "text/plain": [
       "<Figure size 432x288 with 1 Axes>"
      ]
     },
     "metadata": {
      "needs_background": "light"
     },
     "output_type": "display_data"
    }
   ],
   "source": [
    "Yall.groupby(['Age_band', 'M/F'])['Offical_Time_Mins'].mean().unstack().plot(kind='bar')"
   ]
  },
  {
   "cell_type": "markdown",
   "metadata": {},
   "source": [
    "This graph illustrates the mean time by age group for both males and females.\n",
    "We can see that females are always slower than men"
   ]
  },
  {
   "cell_type": "code",
   "execution_count": 21,
   "metadata": {},
   "outputs": [
    {
     "data": {
      "text/html": [
       "<div>\n",
       "<style scoped>\n",
       "    .dataframe tbody tr th:only-of-type {\n",
       "        vertical-align: middle;\n",
       "    }\n",
       "\n",
       "    .dataframe tbody tr th {\n",
       "        vertical-align: top;\n",
       "    }\n",
       "\n",
       "    .dataframe thead th {\n",
       "        text-align: right;\n",
       "    }\n",
       "</style>\n",
       "<table border=\"1\" class=\"dataframe\">\n",
       "  <thead>\n",
       "    <tr style=\"text-align: right;\">\n",
       "      <th>M/F</th>\n",
       "      <th>F</th>\n",
       "      <th>M</th>\n",
       "    </tr>\n",
       "    <tr>\n",
       "      <th>Age_band</th>\n",
       "      <th></th>\n",
       "      <th></th>\n",
       "    </tr>\n",
       "  </thead>\n",
       "  <tbody>\n",
       "    <tr>\n",
       "      <th>18-34</th>\n",
       "      <td>29.866290</td>\n",
       "      <td>NaN</td>\n",
       "    </tr>\n",
       "    <tr>\n",
       "      <th>35-39</th>\n",
       "      <td>24.777974</td>\n",
       "      <td>NaN</td>\n",
       "    </tr>\n",
       "    <tr>\n",
       "      <th>40-44</th>\n",
       "      <td>26.198952</td>\n",
       "      <td>NaN</td>\n",
       "    </tr>\n",
       "    <tr>\n",
       "      <th>45-49</th>\n",
       "      <td>25.608918</td>\n",
       "      <td>NaN</td>\n",
       "    </tr>\n",
       "    <tr>\n",
       "      <th>50-54</th>\n",
       "      <td>22.827235</td>\n",
       "      <td>NaN</td>\n",
       "    </tr>\n",
       "    <tr>\n",
       "      <th>55-59</th>\n",
       "      <td>24.210315</td>\n",
       "      <td>NaN</td>\n",
       "    </tr>\n",
       "    <tr>\n",
       "      <th>60-64</th>\n",
       "      <td>22.764590</td>\n",
       "      <td>NaN</td>\n",
       "    </tr>\n",
       "    <tr>\n",
       "      <th>65-69</th>\n",
       "      <td>22.372411</td>\n",
       "      <td>NaN</td>\n",
       "    </tr>\n",
       "    <tr>\n",
       "      <th>70-74</th>\n",
       "      <td>17.007529</td>\n",
       "      <td>NaN</td>\n",
       "    </tr>\n",
       "    <tr>\n",
       "      <th>75-79</th>\n",
       "      <td>26.660882</td>\n",
       "      <td>NaN</td>\n",
       "    </tr>\n",
       "    <tr>\n",
       "      <th>80 and over</th>\n",
       "      <td>34.722421</td>\n",
       "      <td>NaN</td>\n",
       "    </tr>\n",
       "  </tbody>\n",
       "</table>\n",
       "</div>"
      ],
      "text/plain": [
       "M/F                  F   M\n",
       "Age_band                  \n",
       "18-34        29.866290 NaN\n",
       "35-39        24.777974 NaN\n",
       "40-44        26.198952 NaN\n",
       "45-49        25.608918 NaN\n",
       "50-54        22.827235 NaN\n",
       "55-59        24.210315 NaN\n",
       "60-64        22.764590 NaN\n",
       "65-69        22.372411 NaN\n",
       "70-74        17.007529 NaN\n",
       "75-79        26.660882 NaN\n",
       "80 and over  34.722421 NaN"
      ]
     },
     "execution_count": 21,
     "metadata": {},
     "output_type": "execute_result"
    }
   ],
   "source": [
    "Yall.groupby(['Age_band', 'M/F'])['Offical_Time_Mins'].mean().unstack().diff(-1, axis=1)"
   ]
  },
  {
   "cell_type": "markdown",
   "metadata": {},
   "source": [
    "This chart illustrates the mean difference between men and women by age group "
   ]
  },
  {
   "cell_type": "code",
   "execution_count": 22,
   "metadata": {},
   "outputs": [
    {
     "data": {
      "text/plain": [
       "0        129.283333\n",
       "1        129.800000\n",
       "2        130.366667\n",
       "3        130.783333\n",
       "4        130.816667\n",
       "5        130.866667\n",
       "6        131.333333\n",
       "7        132.700000\n",
       "8        133.583333\n",
       "9        133.866667\n",
       "10       133.866667\n",
       "11       134.283333\n",
       "12       136.416667\n",
       "13       138.033333\n",
       "14       138.733333\n",
       "15       139.200000\n",
       "16       139.283333\n",
       "17       140.066667\n",
       "18       140.416667\n",
       "19       140.583333\n",
       "20       140.700000\n",
       "21       141.166667\n",
       "22       141.266667\n",
       "23       141.966667\n",
       "24       142.083333\n",
       "25       142.500000\n",
       "26       143.350000\n",
       "27       144.616667\n",
       "28       144.733333\n",
       "29       144.816667\n",
       "            ...    \n",
       "79608    369.633333\n",
       "79609    370.316667\n",
       "79610    373.433333\n",
       "79611    373.433333\n",
       "79612    374.083333\n",
       "79613    376.066667\n",
       "79614    376.083333\n",
       "79615    376.833333\n",
       "79616    376.933333\n",
       "79617    382.216667\n",
       "79618    382.216667\n",
       "79619    384.050000\n",
       "79620    386.516667\n",
       "79621    387.166667\n",
       "79622    393.066667\n",
       "79623    397.800000\n",
       "79624    398.416667\n",
       "79625    402.066667\n",
       "79626    404.816667\n",
       "79627    406.500000\n",
       "79628    407.233333\n",
       "79629    410.583333\n",
       "79630    412.166667\n",
       "79631    416.183333\n",
       "79632    424.550000\n",
       "79633    429.650000\n",
       "79634    436.983333\n",
       "79635    439.616667\n",
       "79636    440.733333\n",
       "79637    478.233333\n",
       "Name: Offical_Time_Mins, Length: 79638, dtype: float64"
      ]
     },
     "execution_count": 22,
     "metadata": {},
     "output_type": "execute_result"
    }
   ],
   "source": [
    "Yall['Offical_Time_Mins']"
   ]
  },
  {
   "cell_type": "markdown",
   "metadata": {},
   "source": [
    "I will now carry out an analysis to see how many men (percentage) actually run the race within their required qualifying time"
   ]
  },
  {
   "cell_type": "code",
   "execution_count": 23,
   "metadata": {},
   "outputs": [],
   "source": [
    "male = Yall['M/F']=='M'\n",
    "age18_34 = Yall['Age_band']=='18-34'\n",
    "on_time_m_34=sum(Yall[male & age18_34]['Offical_Time_Mins']<=185)"
   ]
  },
  {
   "cell_type": "code",
   "execution_count": 24,
   "metadata": {},
   "outputs": [
    {
     "data": {
      "text/plain": [
       "3657"
      ]
     },
     "execution_count": 24,
     "metadata": {},
     "output_type": "execute_result"
    }
   ],
   "source": [
    "on_time_m_34\n"
   ]
  },
  {
   "cell_type": "code",
   "execution_count": 25,
   "metadata": {},
   "outputs": [
    {
     "data": {
      "text/plain": [
       "(9276,)"
      ]
     },
     "execution_count": 25,
     "metadata": {},
     "output_type": "execute_result"
    }
   ],
   "source": [
    "Yall[male & age18_34]['Offical_Time_Mins'].shape"
   ]
  },
  {
   "cell_type": "markdown",
   "metadata": {},
   "source": [
    "39.42% of men in this age group ran within their qualifying time"
   ]
  },
  {
   "cell_type": "code",
   "execution_count": 26,
   "metadata": {},
   "outputs": [],
   "source": [
    "male = Yall['M/F']=='M'\n",
    "age35_39 = Yall['Age_band']=='35-39'\n",
    "on_time_m_39=sum(Yall[male & age35_39]['Offical_Time_Mins']<=190)"
   ]
  },
  {
   "cell_type": "code",
   "execution_count": 27,
   "metadata": {},
   "outputs": [
    {
     "data": {
      "text/plain": [
       "1944"
      ]
     },
     "execution_count": 27,
     "metadata": {},
     "output_type": "execute_result"
    }
   ],
   "source": [
    "on_time_m_39"
   ]
  },
  {
   "cell_type": "code",
   "execution_count": 28,
   "metadata": {},
   "outputs": [
    {
     "data": {
      "text/plain": [
       "(5264,)"
      ]
     },
     "execution_count": 28,
     "metadata": {},
     "output_type": "execute_result"
    }
   ],
   "source": [
    "Yall[male & age35_39]['Offical_Time_Mins'].shape"
   ]
  },
  {
   "cell_type": "markdown",
   "metadata": {},
   "source": [
    "36.93% of men in this age group ran within their qualifying time"
   ]
  },
  {
   "cell_type": "code",
   "execution_count": 29,
   "metadata": {},
   "outputs": [],
   "source": [
    "male = Yall['M/F']=='M'\n",
    "age40_44 = Yall['Age_band']=='40-44'\n",
    "on_time_m_44=sum(Yall[male & age40_44]['Offical_Time_Mins']<=195)"
   ]
  },
  {
   "cell_type": "code",
   "execution_count": 30,
   "metadata": {},
   "outputs": [
    {
     "data": {
      "text/plain": [
       "2253"
      ]
     },
     "execution_count": 30,
     "metadata": {},
     "output_type": "execute_result"
    }
   ],
   "source": [
    "on_time_m_44"
   ]
  },
  {
   "cell_type": "code",
   "execution_count": 31,
   "metadata": {},
   "outputs": [
    {
     "data": {
      "text/plain": [
       "(6091,)"
      ]
     },
     "execution_count": 31,
     "metadata": {},
     "output_type": "execute_result"
    }
   ],
   "source": [
    "Yall[male & age40_44]['Offical_Time_Mins'].shape"
   ]
  },
  {
   "cell_type": "markdown",
   "metadata": {},
   "source": [
    "36.98% of men in this age group ran within their qualifying time"
   ]
  },
  {
   "cell_type": "code",
   "execution_count": 32,
   "metadata": {},
   "outputs": [],
   "source": [
    "male = Yall['M/F']=='M'\n",
    "age45_49 = Yall['Age_band']=='45-49'\n",
    "on_time_m_49=sum(Yall[male & age45_49]['Offical_Time_Mins']<=205)"
   ]
  },
  {
   "cell_type": "code",
   "execution_count": 33,
   "metadata": {},
   "outputs": [
    {
     "data": {
      "text/plain": [
       "2881"
      ]
     },
     "execution_count": 33,
     "metadata": {},
     "output_type": "execute_result"
    }
   ],
   "source": [
    "on_time_m_49"
   ]
  },
  {
   "cell_type": "code",
   "execution_count": 34,
   "metadata": {},
   "outputs": [
    {
     "data": {
      "text/plain": [
       "(7540,)"
      ]
     },
     "execution_count": 34,
     "metadata": {},
     "output_type": "execute_result"
    }
   ],
   "source": [
    "Yall[male & age45_49]['Offical_Time_Mins'].shape"
   ]
  },
  {
   "cell_type": "markdown",
   "metadata": {},
   "source": [
    "38.20% of men in this age group ran within their qualifying time"
   ]
  },
  {
   "cell_type": "code",
   "execution_count": 35,
   "metadata": {},
   "outputs": [],
   "source": [
    "male = Yall['M/F']=='M'\n",
    "age50_54 = Yall['Age_band']=='50-54'\n",
    "on_time_m_54=sum(Yall[male & age50_54]['Offical_Time_Mins']<=210)"
   ]
  },
  {
   "cell_type": "code",
   "execution_count": 36,
   "metadata": {},
   "outputs": [
    {
     "data": {
      "text/plain": [
       "2007"
      ]
     },
     "execution_count": 36,
     "metadata": {},
     "output_type": "execute_result"
    }
   ],
   "source": [
    "on_time_m_54"
   ]
  },
  {
   "cell_type": "code",
   "execution_count": 37,
   "metadata": {},
   "outputs": [
    {
     "data": {
      "text/plain": [
       "(6032,)"
      ]
     },
     "execution_count": 37,
     "metadata": {},
     "output_type": "execute_result"
    }
   ],
   "source": [
    "Yall[male & age50_54]['Offical_Time_Mins'].shape"
   ]
  },
  {
   "cell_type": "markdown",
   "metadata": {},
   "source": [
    "33.27% of men in this age group ran within their qualifying time"
   ]
  },
  {
   "cell_type": "code",
   "execution_count": 38,
   "metadata": {},
   "outputs": [],
   "source": [
    "male = Yall['M/F']=='M'\n",
    "age55_59 = Yall['Age_band']=='55-59'\n",
    "on_time_m_59=sum(Yall[male & age55_59]['Offical_Time_Mins']<=220)"
   ]
  },
  {
   "cell_type": "code",
   "execution_count": 39,
   "metadata": {},
   "outputs": [
    {
     "data": {
      "text/plain": [
       "1554"
      ]
     },
     "execution_count": 39,
     "metadata": {},
     "output_type": "execute_result"
    }
   ],
   "source": [
    "on_time_m_59"
   ]
  },
  {
   "cell_type": "code",
   "execution_count": 40,
   "metadata": {},
   "outputs": [
    {
     "data": {
      "text/plain": [
       "(4598,)"
      ]
     },
     "execution_count": 40,
     "metadata": {},
     "output_type": "execute_result"
    }
   ],
   "source": [
    "Yall[male & age55_59]['Offical_Time_Mins'].shape"
   ]
  },
  {
   "cell_type": "markdown",
   "metadata": {},
   "source": [
    "33.79% of men in this age group ran within their qualifying time"
   ]
  },
  {
   "cell_type": "code",
   "execution_count": 41,
   "metadata": {},
   "outputs": [],
   "source": [
    "male = Yall['M/F']=='M'\n",
    "age60_64 = Yall['Age_band']=='60-64'\n",
    "on_time_m_64=sum(Yall[male & age60_64]['Offical_Time_Mins']<=235)"
   ]
  },
  {
   "cell_type": "code",
   "execution_count": 42,
   "metadata": {},
   "outputs": [
    {
     "data": {
      "text/plain": [
       "1026"
      ]
     },
     "execution_count": 42,
     "metadata": {},
     "output_type": "execute_result"
    }
   ],
   "source": [
    "on_time_m_64"
   ]
  },
  {
   "cell_type": "code",
   "execution_count": 43,
   "metadata": {},
   "outputs": [
    {
     "data": {
      "text/plain": [
       "(2934,)"
      ]
     },
     "execution_count": 43,
     "metadata": {},
     "output_type": "execute_result"
    }
   ],
   "source": [
    "Yall[male & age60_64]['Offical_Time_Mins'].shape"
   ]
  },
  {
   "cell_type": "markdown",
   "metadata": {},
   "source": [
    "34.96% of men in this age group ran within their qualifying time"
   ]
  },
  {
   "cell_type": "code",
   "execution_count": 44,
   "metadata": {},
   "outputs": [],
   "source": [
    "male = Yall['M/F']=='M'\n",
    "age65_69 = Yall['Age_band']=='65-69'\n",
    "on_time_m_69=sum(Yall[male & age65_69]['Offical_Time_Mins']<=250)"
   ]
  },
  {
   "cell_type": "code",
   "execution_count": 45,
   "metadata": {},
   "outputs": [
    {
     "data": {
      "text/plain": [
       "473"
      ]
     },
     "execution_count": 45,
     "metadata": {},
     "output_type": "execute_result"
    }
   ],
   "source": [
    "on_time_m_69"
   ]
  },
  {
   "cell_type": "code",
   "execution_count": 46,
   "metadata": {},
   "outputs": [
    {
     "data": {
      "text/plain": [
       "(1250,)"
      ]
     },
     "execution_count": 46,
     "metadata": {},
     "output_type": "execute_result"
    }
   ],
   "source": [
    "Yall[male & age65_69]['Offical_Time_Mins'].shape"
   ]
  },
  {
   "cell_type": "markdown",
   "metadata": {},
   "source": [
    "37.84% of men in this age group ran within their qualifying time"
   ]
  },
  {
   "cell_type": "code",
   "execution_count": 47,
   "metadata": {},
   "outputs": [],
   "source": [
    "male = Yall['M/F']=='M'\n",
    "age70_74 = Yall['Age_band']=='70-74'\n",
    "on_time_m_74=sum(Yall[male & age70_74]['Offical_Time_Mins']<=265)"
   ]
  },
  {
   "cell_type": "code",
   "execution_count": 48,
   "metadata": {},
   "outputs": [
    {
     "data": {
      "text/plain": [
       "121"
      ]
     },
     "execution_count": 48,
     "metadata": {},
     "output_type": "execute_result"
    }
   ],
   "source": [
    "on_time_m_74"
   ]
  },
  {
   "cell_type": "code",
   "execution_count": 49,
   "metadata": {},
   "outputs": [
    {
     "data": {
      "text/plain": [
       "(379,)"
      ]
     },
     "execution_count": 49,
     "metadata": {},
     "output_type": "execute_result"
    }
   ],
   "source": [
    "Yall[male & age70_74]['Offical_Time_Mins'].shape"
   ]
  },
  {
   "cell_type": "markdown",
   "metadata": {},
   "source": [
    "31.92% of women in this age group ran within their qualifying time"
   ]
  },
  {
   "cell_type": "code",
   "execution_count": 50,
   "metadata": {},
   "outputs": [],
   "source": [
    "male = Yall['M/F']=='M'\n",
    "age75_79 = Yall['Age_band']=='75-79'\n",
    "on_time_m_79=sum(Yall[male & age75_79]['Offical_Time_Mins']<=280)"
   ]
  },
  {
   "cell_type": "code",
   "execution_count": 51,
   "metadata": {},
   "outputs": [
    {
     "data": {
      "text/plain": [
       "39"
      ]
     },
     "execution_count": 51,
     "metadata": {},
     "output_type": "execute_result"
    }
   ],
   "source": [
    "on_time_m_79"
   ]
  },
  {
   "cell_type": "code",
   "execution_count": 52,
   "metadata": {},
   "outputs": [
    {
     "data": {
      "text/plain": [
       "(97,)"
      ]
     },
     "execution_count": 52,
     "metadata": {},
     "output_type": "execute_result"
    }
   ],
   "source": [
    "Yall[male & age75_79]['Offical_Time_Mins'].shape"
   ]
  },
  {
   "cell_type": "markdown",
   "metadata": {},
   "source": [
    "40.20% of women in this age group ran within their qualifying time"
   ]
  },
  {
   "cell_type": "code",
   "execution_count": 53,
   "metadata": {},
   "outputs": [],
   "source": [
    "female = Yall['M/F']=='M'\n",
    "age80 = Yall['Age_band']=='80 and over'\n",
    "on_time_m_80=sum(Yall[male & age80]['Offical_Time_Mins']<=295)"
   ]
  },
  {
   "cell_type": "code",
   "execution_count": 54,
   "metadata": {},
   "outputs": [
    {
     "data": {
      "text/plain": [
       "12"
      ]
     },
     "execution_count": 54,
     "metadata": {},
     "output_type": "execute_result"
    }
   ],
   "source": [
    "on_time_m_80"
   ]
  },
  {
   "cell_type": "code",
   "execution_count": 55,
   "metadata": {},
   "outputs": [
    {
     "data": {
      "text/plain": [
       "(21,)"
      ]
     },
     "execution_count": 55,
     "metadata": {},
     "output_type": "execute_result"
    }
   ],
   "source": [
    "Yall[male & age80]['Offical_Time_Mins'].shape"
   ]
  },
  {
   "cell_type": "markdown",
   "metadata": {},
   "source": [
    "57.14% of women in this age group ran within their qualifying time"
   ]
  },
  {
   "cell_type": "code",
   "execution_count": 56,
   "metadata": {},
   "outputs": [],
   "source": [
    "run=pd.read_csv(\"../data/%_runners.csv\")"
   ]
  },
  {
   "cell_type": "code",
   "execution_count": 57,
   "metadata": {},
   "outputs": [
    {
     "data": {
      "text/html": [
       "<div>\n",
       "<style scoped>\n",
       "    .dataframe tbody tr th:only-of-type {\n",
       "        vertical-align: middle;\n",
       "    }\n",
       "\n",
       "    .dataframe tbody tr th {\n",
       "        vertical-align: top;\n",
       "    }\n",
       "\n",
       "    .dataframe thead th {\n",
       "        text-align: right;\n",
       "    }\n",
       "</style>\n",
       "<table border=\"1\" class=\"dataframe\">\n",
       "  <thead>\n",
       "    <tr style=\"text-align: right;\">\n",
       "      <th></th>\n",
       "      <th>Age_Band</th>\n",
       "      <th>% Female</th>\n",
       "      <th>% Male</th>\n",
       "    </tr>\n",
       "  </thead>\n",
       "  <tbody>\n",
       "    <tr>\n",
       "      <th>0</th>\n",
       "      <td>18-34</td>\n",
       "      <td>35.60</td>\n",
       "      <td>39.42</td>\n",
       "    </tr>\n",
       "    <tr>\n",
       "      <th>1</th>\n",
       "      <td>35-39</td>\n",
       "      <td>38.70</td>\n",
       "      <td>36.93</td>\n",
       "    </tr>\n",
       "    <tr>\n",
       "      <th>2</th>\n",
       "      <td>40-44</td>\n",
       "      <td>36.87</td>\n",
       "      <td>36.98</td>\n",
       "    </tr>\n",
       "    <tr>\n",
       "      <th>3</th>\n",
       "      <td>45-49</td>\n",
       "      <td>41.61</td>\n",
       "      <td>38.20</td>\n",
       "    </tr>\n",
       "    <tr>\n",
       "      <th>4</th>\n",
       "      <td>50-54</td>\n",
       "      <td>40.45</td>\n",
       "      <td>33.27</td>\n",
       "    </tr>\n",
       "    <tr>\n",
       "      <th>5</th>\n",
       "      <td>55-59</td>\n",
       "      <td>38.51</td>\n",
       "      <td>33.79</td>\n",
       "    </tr>\n",
       "    <tr>\n",
       "      <th>6</th>\n",
       "      <td>60-64</td>\n",
       "      <td>43.06</td>\n",
       "      <td>34.96</td>\n",
       "    </tr>\n",
       "    <tr>\n",
       "      <th>7</th>\n",
       "      <td>65-69</td>\n",
       "      <td>41.77</td>\n",
       "      <td>37.84</td>\n",
       "    </tr>\n",
       "    <tr>\n",
       "      <th>8</th>\n",
       "      <td>70-74</td>\n",
       "      <td>40.00</td>\n",
       "      <td>31.92</td>\n",
       "    </tr>\n",
       "    <tr>\n",
       "      <th>9</th>\n",
       "      <td>75-79</td>\n",
       "      <td>75.00</td>\n",
       "      <td>40.20</td>\n",
       "    </tr>\n",
       "    <tr>\n",
       "      <th>10</th>\n",
       "      <td>80 and over</td>\n",
       "      <td>25.00</td>\n",
       "      <td>57.14</td>\n",
       "    </tr>\n",
       "  </tbody>\n",
       "</table>\n",
       "</div>"
      ],
      "text/plain": [
       "       Age_Band  % Female  % Male\n",
       "0         18-34     35.60   39.42\n",
       "1         35-39     38.70   36.93\n",
       "2         40-44     36.87   36.98\n",
       "3         45-49     41.61   38.20\n",
       "4         50-54     40.45   33.27\n",
       "5         55-59     38.51   33.79\n",
       "6         60-64     43.06   34.96\n",
       "7         65-69     41.77   37.84\n",
       "8         70-74     40.00   31.92\n",
       "9         75-79     75.00   40.20\n",
       "10  80 and over     25.00   57.14"
      ]
     },
     "execution_count": 57,
     "metadata": {},
     "output_type": "execute_result"
    }
   ],
   "source": [
    "run.head(11)"
   ]
  },
  {
   "cell_type": "code",
   "execution_count": 59,
   "metadata": {},
   "outputs": [
    {
     "data": {
      "text/html": [
       "<div>\n",
       "<style scoped>\n",
       "    .dataframe tbody tr th:only-of-type {\n",
       "        vertical-align: middle;\n",
       "    }\n",
       "\n",
       "    .dataframe tbody tr th {\n",
       "        vertical-align: top;\n",
       "    }\n",
       "\n",
       "    .dataframe thead th {\n",
       "        text-align: right;\n",
       "    }\n",
       "</style>\n",
       "<table border=\"1\" class=\"dataframe\">\n",
       "  <thead>\n",
       "    <tr style=\"text-align: right;\">\n",
       "      <th></th>\n",
       "      <th>10K</th>\n",
       "      <th>15K</th>\n",
       "      <th>20K</th>\n",
       "      <th>25K</th>\n",
       "      <th>30K</th>\n",
       "      <th>35K</th>\n",
       "      <th>40K</th>\n",
       "      <th>5K</th>\n",
       "      <th>Age</th>\n",
       "      <th>Bib</th>\n",
       "      <th>...</th>\n",
       "      <th>Overall</th>\n",
       "      <th>Pace</th>\n",
       "      <th>Proj Time</th>\n",
       "      <th>State</th>\n",
       "      <th>Unnamed: 0</th>\n",
       "      <th>Unnamed: 8</th>\n",
       "      <th>Unnamed: 9</th>\n",
       "      <th>year</th>\n",
       "      <th>Age_band</th>\n",
       "      <th>Offical_Time_Mins</th>\n",
       "    </tr>\n",
       "  </thead>\n",
       "  <tbody>\n",
       "    <tr>\n",
       "      <th>0</th>\n",
       "      <td>0:29:43</td>\n",
       "      <td>0:44:57</td>\n",
       "      <td>1:00:29</td>\n",
       "      <td>1:16:07</td>\n",
       "      <td>1:32:00</td>\n",
       "      <td>1:47:59</td>\n",
       "      <td>2:02:39</td>\n",
       "      <td>0:14:43</td>\n",
       "      <td>25</td>\n",
       "      <td>3</td>\n",
       "      <td>...</td>\n",
       "      <td>1</td>\n",
       "      <td>0:04:56</td>\n",
       "      <td>-</td>\n",
       "      <td>NaN</td>\n",
       "      <td>0.0</td>\n",
       "      <td>NaN</td>\n",
       "      <td>NaN</td>\n",
       "      <td>2015</td>\n",
       "      <td>18-34</td>\n",
       "      <td>129.283333</td>\n",
       "    </tr>\n",
       "    <tr>\n",
       "      <th>1</th>\n",
       "      <td>0:29:43</td>\n",
       "      <td>0:44:58</td>\n",
       "      <td>1:00:28</td>\n",
       "      <td>1:16:07</td>\n",
       "      <td>1:31:59</td>\n",
       "      <td>1:47:59</td>\n",
       "      <td>2:02:42</td>\n",
       "      <td>0:14:43</td>\n",
       "      <td>30</td>\n",
       "      <td>4</td>\n",
       "      <td>...</td>\n",
       "      <td>2</td>\n",
       "      <td>0:04:58</td>\n",
       "      <td>-</td>\n",
       "      <td>NaN</td>\n",
       "      <td>1.0</td>\n",
       "      <td>NaN</td>\n",
       "      <td>NaN</td>\n",
       "      <td>2015</td>\n",
       "      <td>18-34</td>\n",
       "      <td>129.800000</td>\n",
       "    </tr>\n",
       "    <tr>\n",
       "      <th>2</th>\n",
       "      <td>0:29:43</td>\n",
       "      <td>0:44:57</td>\n",
       "      <td>1:00:29</td>\n",
       "      <td>1:16:07</td>\n",
       "      <td>1:32:00</td>\n",
       "      <td>1:47:59</td>\n",
       "      <td>2:03:01</td>\n",
       "      <td>0:14:43</td>\n",
       "      <td>29</td>\n",
       "      <td>8</td>\n",
       "      <td>...</td>\n",
       "      <td>3</td>\n",
       "      <td>0:04:59</td>\n",
       "      <td>-</td>\n",
       "      <td>NaN</td>\n",
       "      <td>2.0</td>\n",
       "      <td>NaN</td>\n",
       "      <td>NaN</td>\n",
       "      <td>2015</td>\n",
       "      <td>18-34</td>\n",
       "      <td>130.366667</td>\n",
       "    </tr>\n",
       "    <tr>\n",
       "      <th>3</th>\n",
       "      <td>0:29:44</td>\n",
       "      <td>0:45:01</td>\n",
       "      <td>1:00:29</td>\n",
       "      <td>1:16:07</td>\n",
       "      <td>1:32:00</td>\n",
       "      <td>1:48:03</td>\n",
       "      <td>2:03:47</td>\n",
       "      <td>0:14:43</td>\n",
       "      <td>28</td>\n",
       "      <td>11</td>\n",
       "      <td>...</td>\n",
       "      <td>4</td>\n",
       "      <td>0:05:00</td>\n",
       "      <td>-</td>\n",
       "      <td>NaN</td>\n",
       "      <td>3.0</td>\n",
       "      <td>NaN</td>\n",
       "      <td>NaN</td>\n",
       "      <td>2015</td>\n",
       "      <td>18-34</td>\n",
       "      <td>130.783333</td>\n",
       "    </tr>\n",
       "    <tr>\n",
       "      <th>4</th>\n",
       "      <td>0:29:44</td>\n",
       "      <td>0:44:58</td>\n",
       "      <td>1:00:28</td>\n",
       "      <td>1:16:07</td>\n",
       "      <td>1:32:00</td>\n",
       "      <td>1:47:59</td>\n",
       "      <td>2:03:27</td>\n",
       "      <td>0:14:43</td>\n",
       "      <td>32</td>\n",
       "      <td>10</td>\n",
       "      <td>...</td>\n",
       "      <td>5</td>\n",
       "      <td>0:05:00</td>\n",
       "      <td>-</td>\n",
       "      <td>NaN</td>\n",
       "      <td>4.0</td>\n",
       "      <td>NaN</td>\n",
       "      <td>NaN</td>\n",
       "      <td>2015</td>\n",
       "      <td>18-34</td>\n",
       "      <td>130.816667</td>\n",
       "    </tr>\n",
       "    <tr>\n",
       "      <th>5</th>\n",
       "      <td>0:29:45</td>\n",
       "      <td>0:44:59</td>\n",
       "      <td>1:00:29</td>\n",
       "      <td>1:16:07</td>\n",
       "      <td>1:32:00</td>\n",
       "      <td>1:47:59</td>\n",
       "      <td>2:03:18</td>\n",
       "      <td>0:14:44</td>\n",
       "      <td>30</td>\n",
       "      <td>9</td>\n",
       "      <td>...</td>\n",
       "      <td>6</td>\n",
       "      <td>0:05:00</td>\n",
       "      <td>-</td>\n",
       "      <td>NaN</td>\n",
       "      <td>5.0</td>\n",
       "      <td>NaN</td>\n",
       "      <td>NaN</td>\n",
       "      <td>2015</td>\n",
       "      <td>18-34</td>\n",
       "      <td>130.866667</td>\n",
       "    </tr>\n",
       "    <tr>\n",
       "      <th>6</th>\n",
       "      <td>0:29:45</td>\n",
       "      <td>0:45:20</td>\n",
       "      <td>1:00:43</td>\n",
       "      <td>1:16:05</td>\n",
       "      <td>1:31:59</td>\n",
       "      <td>1:48:06</td>\n",
       "      <td>2:04:05</td>\n",
       "      <td>0:14:45</td>\n",
       "      <td>32</td>\n",
       "      <td>14</td>\n",
       "      <td>...</td>\n",
       "      <td>7</td>\n",
       "      <td>0:05:01</td>\n",
       "      <td>-</td>\n",
       "      <td>MI</td>\n",
       "      <td>6.0</td>\n",
       "      <td>NaN</td>\n",
       "      <td>NaN</td>\n",
       "      <td>2015</td>\n",
       "      <td>18-34</td>\n",
       "      <td>131.333333</td>\n",
       "    </tr>\n",
       "    <tr>\n",
       "      <th>7</th>\n",
       "      <td>0:29:44</td>\n",
       "      <td>0:44:59</td>\n",
       "      <td>1:00:30</td>\n",
       "      <td>1:16:07</td>\n",
       "      <td>1:31:59</td>\n",
       "      <td>1:47:59</td>\n",
       "      <td>2:04:58</td>\n",
       "      <td>0:14:44</td>\n",
       "      <td>39</td>\n",
       "      <td>1</td>\n",
       "      <td>...</td>\n",
       "      <td>8</td>\n",
       "      <td>0:05:04</td>\n",
       "      <td>-</td>\n",
       "      <td>CA</td>\n",
       "      <td>7.0</td>\n",
       "      <td>NaN</td>\n",
       "      <td>NaN</td>\n",
       "      <td>2015</td>\n",
       "      <td>35-39</td>\n",
       "      <td>132.700000</td>\n",
       "    </tr>\n",
       "    <tr>\n",
       "      <th>8</th>\n",
       "      <td>0:29:43</td>\n",
       "      <td>0:44:58</td>\n",
       "      <td>1:00:28</td>\n",
       "      <td>1:16:07</td>\n",
       "      <td>1:32:00</td>\n",
       "      <td>1:48:00</td>\n",
       "      <td>2:04:39</td>\n",
       "      <td>0:14:43</td>\n",
       "      <td>27</td>\n",
       "      <td>5</td>\n",
       "      <td>...</td>\n",
       "      <td>9</td>\n",
       "      <td>0:05:06</td>\n",
       "      <td>-</td>\n",
       "      <td>NaN</td>\n",
       "      <td>8.0</td>\n",
       "      <td>NaN</td>\n",
       "      <td>NaN</td>\n",
       "      <td>2015</td>\n",
       "      <td>18-34</td>\n",
       "      <td>133.583333</td>\n",
       "    </tr>\n",
       "    <tr>\n",
       "      <th>9</th>\n",
       "      <td>0:30:34</td>\n",
       "      <td>0:46:05</td>\n",
       "      <td>1:01:43</td>\n",
       "      <td>1:17:18</td>\n",
       "      <td>1:33:11</td>\n",
       "      <td>1:49:43</td>\n",
       "      <td>2:06:16</td>\n",
       "      <td>0:15:14</td>\n",
       "      <td>33</td>\n",
       "      <td>16</td>\n",
       "      <td>...</td>\n",
       "      <td>10</td>\n",
       "      <td>0:05:07</td>\n",
       "      <td>-</td>\n",
       "      <td>NaN</td>\n",
       "      <td>9.0</td>\n",
       "      <td>NaN</td>\n",
       "      <td>NaN</td>\n",
       "      <td>2015</td>\n",
       "      <td>18-34</td>\n",
       "      <td>133.866667</td>\n",
       "    </tr>\n",
       "  </tbody>\n",
       "</table>\n",
       "<p>10 rows × 29 columns</p>\n",
       "</div>"
      ],
      "text/plain": [
       "       10K      15K      20K      25K      30K      35K      40K       5K  \\\n",
       "0  0:29:43  0:44:57  1:00:29  1:16:07  1:32:00  1:47:59  2:02:39  0:14:43   \n",
       "1  0:29:43  0:44:58  1:00:28  1:16:07  1:31:59  1:47:59  2:02:42  0:14:43   \n",
       "2  0:29:43  0:44:57  1:00:29  1:16:07  1:32:00  1:47:59  2:03:01  0:14:43   \n",
       "3  0:29:44  0:45:01  1:00:29  1:16:07  1:32:00  1:48:03  2:03:47  0:14:43   \n",
       "4  0:29:44  0:44:58  1:00:28  1:16:07  1:32:00  1:47:59  2:03:27  0:14:43   \n",
       "5  0:29:45  0:44:59  1:00:29  1:16:07  1:32:00  1:47:59  2:03:18  0:14:44   \n",
       "6  0:29:45  0:45:20  1:00:43  1:16:05  1:31:59  1:48:06  2:04:05  0:14:45   \n",
       "7  0:29:44  0:44:59  1:00:30  1:16:07  1:31:59  1:47:59  2:04:58  0:14:44   \n",
       "8  0:29:43  0:44:58  1:00:28  1:16:07  1:32:00  1:48:00  2:04:39  0:14:43   \n",
       "9  0:30:34  0:46:05  1:01:43  1:17:18  1:33:11  1:49:43  2:06:16  0:15:14   \n",
       "\n",
       "   Age Bib  ... Overall     Pace Proj Time  State  Unnamed: 0 Unnamed: 8  \\\n",
       "0   25   3  ...       1  0:04:56         -    NaN         0.0        NaN   \n",
       "1   30   4  ...       2  0:04:58         -    NaN         1.0        NaN   \n",
       "2   29   8  ...       3  0:04:59         -    NaN         2.0        NaN   \n",
       "3   28  11  ...       4  0:05:00         -    NaN         3.0        NaN   \n",
       "4   32  10  ...       5  0:05:00         -    NaN         4.0        NaN   \n",
       "5   30   9  ...       6  0:05:00         -    NaN         5.0        NaN   \n",
       "6   32  14  ...       7  0:05:01         -     MI         6.0        NaN   \n",
       "7   39   1  ...       8  0:05:04         -     CA         7.0        NaN   \n",
       "8   27   5  ...       9  0:05:06         -    NaN         8.0        NaN   \n",
       "9   33  16  ...      10  0:05:07         -    NaN         9.0        NaN   \n",
       "\n",
       "  Unnamed: 9  year Age_band  Offical_Time_Mins  \n",
       "0        NaN  2015    18-34         129.283333  \n",
       "1        NaN  2015    18-34         129.800000  \n",
       "2        NaN  2015    18-34         130.366667  \n",
       "3        NaN  2015    18-34         130.783333  \n",
       "4        NaN  2015    18-34         130.816667  \n",
       "5        NaN  2015    18-34         130.866667  \n",
       "6        NaN  2015    18-34         131.333333  \n",
       "7        NaN  2015    35-39         132.700000  \n",
       "8        NaN  2015    18-34         133.583333  \n",
       "9        NaN  2015    18-34         133.866667  \n",
       "\n",
       "[10 rows x 29 columns]"
      ]
     },
     "execution_count": 59,
     "metadata": {},
     "output_type": "execute_result"
    }
   ],
   "source": [
    "male_df = Yall[Yall['M/F'] == 'M']\n",
    "male_df.head(10)"
   ]
  },
  {
   "cell_type": "code",
   "execution_count": 62,
   "metadata": {},
   "outputs": [],
   "source": [
    "fastest_timesm=male_df.loc[male_df.groupby('Age_band' )['Offical_Time_Mins'].idxmin()]"
   ]
  },
  {
   "cell_type": "code",
   "execution_count": 63,
   "metadata": {},
   "outputs": [
    {
     "data": {
      "text/html": [
       "<div>\n",
       "<style scoped>\n",
       "    .dataframe tbody tr th:only-of-type {\n",
       "        vertical-align: middle;\n",
       "    }\n",
       "\n",
       "    .dataframe tbody tr th {\n",
       "        vertical-align: top;\n",
       "    }\n",
       "\n",
       "    .dataframe thead th {\n",
       "        text-align: right;\n",
       "    }\n",
       "</style>\n",
       "<table border=\"1\" class=\"dataframe\">\n",
       "  <thead>\n",
       "    <tr style=\"text-align: right;\">\n",
       "      <th></th>\n",
       "      <th>10K</th>\n",
       "      <th>15K</th>\n",
       "      <th>20K</th>\n",
       "      <th>25K</th>\n",
       "      <th>30K</th>\n",
       "      <th>35K</th>\n",
       "      <th>40K</th>\n",
       "      <th>5K</th>\n",
       "      <th>Age</th>\n",
       "      <th>Bib</th>\n",
       "      <th>...</th>\n",
       "      <th>Overall</th>\n",
       "      <th>Pace</th>\n",
       "      <th>Proj Time</th>\n",
       "      <th>State</th>\n",
       "      <th>Unnamed: 0</th>\n",
       "      <th>Unnamed: 8</th>\n",
       "      <th>Unnamed: 9</th>\n",
       "      <th>year</th>\n",
       "      <th>Age_band</th>\n",
       "      <th>Offical_Time_Mins</th>\n",
       "    </tr>\n",
       "  </thead>\n",
       "  <tbody>\n",
       "    <tr>\n",
       "      <th>0</th>\n",
       "      <td>0:29:43</td>\n",
       "      <td>0:44:57</td>\n",
       "      <td>1:00:29</td>\n",
       "      <td>1:16:07</td>\n",
       "      <td>1:32:00</td>\n",
       "      <td>1:47:59</td>\n",
       "      <td>2:02:39</td>\n",
       "      <td>0:14:43</td>\n",
       "      <td>25</td>\n",
       "      <td>3</td>\n",
       "      <td>...</td>\n",
       "      <td>1</td>\n",
       "      <td>0:04:56</td>\n",
       "      <td>-</td>\n",
       "      <td>NaN</td>\n",
       "      <td>0.0</td>\n",
       "      <td>NaN</td>\n",
       "      <td>NaN</td>\n",
       "      <td>2015</td>\n",
       "      <td>18-34</td>\n",
       "      <td>129.283333</td>\n",
       "    </tr>\n",
       "    <tr>\n",
       "      <th>7</th>\n",
       "      <td>0:29:44</td>\n",
       "      <td>0:44:59</td>\n",
       "      <td>1:00:30</td>\n",
       "      <td>1:16:07</td>\n",
       "      <td>1:31:59</td>\n",
       "      <td>1:47:59</td>\n",
       "      <td>2:04:58</td>\n",
       "      <td>0:14:44</td>\n",
       "      <td>39</td>\n",
       "      <td>1</td>\n",
       "      <td>...</td>\n",
       "      <td>8</td>\n",
       "      <td>0:05:04</td>\n",
       "      <td>-</td>\n",
       "      <td>CA</td>\n",
       "      <td>7.0</td>\n",
       "      <td>NaN</td>\n",
       "      <td>NaN</td>\n",
       "      <td>2015</td>\n",
       "      <td>35-39</td>\n",
       "      <td>132.700000</td>\n",
       "    </tr>\n",
       "    <tr>\n",
       "      <th>53233</th>\n",
       "      <td>0:30:28</td>\n",
       "      <td>0:45:44</td>\n",
       "      <td>1:01:15</td>\n",
       "      <td>1:16:59</td>\n",
       "      <td>1:33:01</td>\n",
       "      <td>1:48:52</td>\n",
       "      <td>2:05:21</td>\n",
       "      <td>0:15:25</td>\n",
       "      <td>40</td>\n",
       "      <td>15</td>\n",
       "      <td>...</td>\n",
       "      <td>6</td>\n",
       "      <td>0:05:04</td>\n",
       "      <td>-</td>\n",
       "      <td>AZ</td>\n",
       "      <td>5.0</td>\n",
       "      <td>NaN</td>\n",
       "      <td>NaN</td>\n",
       "      <td>2017</td>\n",
       "      <td>40-44</td>\n",
       "      <td>132.750000</td>\n",
       "    </tr>\n",
       "    <tr>\n",
       "      <th>29</th>\n",
       "      <td>0:32:20</td>\n",
       "      <td>0:48:43</td>\n",
       "      <td>1:06:06</td>\n",
       "      <td>1:23:36</td>\n",
       "      <td>1:41:36</td>\n",
       "      <td>1:59:54</td>\n",
       "      <td>2:17:02</td>\n",
       "      <td>0:15:58</td>\n",
       "      <td>46</td>\n",
       "      <td>83</td>\n",
       "      <td>...</td>\n",
       "      <td>30</td>\n",
       "      <td>0:05:32</td>\n",
       "      <td>-</td>\n",
       "      <td>NaN</td>\n",
       "      <td>29.0</td>\n",
       "      <td>NaN</td>\n",
       "      <td>NaN</td>\n",
       "      <td>2015</td>\n",
       "      <td>45-49</td>\n",
       "      <td>144.816667</td>\n",
       "    </tr>\n",
       "    <tr>\n",
       "      <th>26634</th>\n",
       "      <td>0:34:20</td>\n",
       "      <td>0:51:28</td>\n",
       "      <td>1:09:27</td>\n",
       "      <td>1:27:22</td>\n",
       "      <td>1:45:53</td>\n",
       "      <td>2:04:39</td>\n",
       "      <td>2:22:44</td>\n",
       "      <td>0:17:01</td>\n",
       "      <td>53</td>\n",
       "      <td>84</td>\n",
       "      <td>...</td>\n",
       "      <td>37</td>\n",
       "      <td>0:05:46</td>\n",
       "      <td>2:30:57</td>\n",
       "      <td>NaN</td>\n",
       "      <td>NaN</td>\n",
       "      <td>NaN</td>\n",
       "      <td>NaN</td>\n",
       "      <td>2016</td>\n",
       "      <td>50-54</td>\n",
       "      <td>150.950000</td>\n",
       "    </tr>\n",
       "    <tr>\n",
       "      <th>53554</th>\n",
       "      <td>0:37:18</td>\n",
       "      <td>0:56:53</td>\n",
       "      <td>1:16:45</td>\n",
       "      <td>1:36:14</td>\n",
       "      <td>1:56:10</td>\n",
       "      <td>2:16:18</td>\n",
       "      <td>2:36:04</td>\n",
       "      <td>0:18:23</td>\n",
       "      <td>56</td>\n",
       "      <td>371</td>\n",
       "      <td>...</td>\n",
       "      <td>327</td>\n",
       "      <td>0:06:18</td>\n",
       "      <td>-</td>\n",
       "      <td>VA</td>\n",
       "      <td>326.0</td>\n",
       "      <td>NaN</td>\n",
       "      <td>NaN</td>\n",
       "      <td>2017</td>\n",
       "      <td>55-59</td>\n",
       "      <td>164.866667</td>\n",
       "    </tr>\n",
       "    <tr>\n",
       "      <th>26883</th>\n",
       "      <td>0:37:48</td>\n",
       "      <td>0:57:08</td>\n",
       "      <td>1:16:44</td>\n",
       "      <td>1:36:06</td>\n",
       "      <td>1:56:27</td>\n",
       "      <td>2:17:03</td>\n",
       "      <td>2:37:07</td>\n",
       "      <td>0:18:40</td>\n",
       "      <td>60</td>\n",
       "      <td>806</td>\n",
       "      <td>...</td>\n",
       "      <td>286</td>\n",
       "      <td>0:06:20</td>\n",
       "      <td>2:45:47</td>\n",
       "      <td>IL</td>\n",
       "      <td>NaN</td>\n",
       "      <td>NaN</td>\n",
       "      <td>NaN</td>\n",
       "      <td>2016</td>\n",
       "      <td>60-64</td>\n",
       "      <td>165.783333</td>\n",
       "    </tr>\n",
       "    <tr>\n",
       "      <th>3567</th>\n",
       "      <td>0:42:33</td>\n",
       "      <td>1:03:32</td>\n",
       "      <td>1:25:59</td>\n",
       "      <td>1:47:41</td>\n",
       "      <td>2:10:05</td>\n",
       "      <td>2:32:47</td>\n",
       "      <td>2:54:58</td>\n",
       "      <td>0:21:34</td>\n",
       "      <td>66</td>\n",
       "      <td>4708</td>\n",
       "      <td>...</td>\n",
       "      <td>3568</td>\n",
       "      <td>0:07:04</td>\n",
       "      <td>-</td>\n",
       "      <td>NaN</td>\n",
       "      <td>3567.0</td>\n",
       "      <td>NaN</td>\n",
       "      <td>NaN</td>\n",
       "      <td>2015</td>\n",
       "      <td>65-69</td>\n",
       "      <td>184.916667</td>\n",
       "    </tr>\n",
       "    <tr>\n",
       "      <th>60189</th>\n",
       "      <td>0:47:18</td>\n",
       "      <td>1:10:56</td>\n",
       "      <td>1:34:35</td>\n",
       "      <td>1:58:13</td>\n",
       "      <td>2:22:36</td>\n",
       "      <td>2:48:06</td>\n",
       "      <td>3:15:27</td>\n",
       "      <td>0:23:45</td>\n",
       "      <td>70</td>\n",
       "      <td>9897</td>\n",
       "      <td>...</td>\n",
       "      <td>6963</td>\n",
       "      <td>0:08:00</td>\n",
       "      <td>-</td>\n",
       "      <td>FL</td>\n",
       "      <td>6961.0</td>\n",
       "      <td>NaN</td>\n",
       "      <td>NaN</td>\n",
       "      <td>2017</td>\n",
       "      <td>70-74</td>\n",
       "      <td>209.633333</td>\n",
       "    </tr>\n",
       "    <tr>\n",
       "      <th>11886</th>\n",
       "      <td>0:50:22</td>\n",
       "      <td>1:15:17</td>\n",
       "      <td>1:40:17</td>\n",
       "      <td>2:05:25</td>\n",
       "      <td>2:31:34</td>\n",
       "      <td>2:58:15</td>\n",
       "      <td>3:24:16</td>\n",
       "      <td>0:25:25</td>\n",
       "      <td>76</td>\n",
       "      <td>20278</td>\n",
       "      <td>...</td>\n",
       "      <td>11887</td>\n",
       "      <td>0:08:13</td>\n",
       "      <td>-</td>\n",
       "      <td>ON</td>\n",
       "      <td>11886.0</td>\n",
       "      <td>NaN</td>\n",
       "      <td>NaN</td>\n",
       "      <td>2015</td>\n",
       "      <td>75-79</td>\n",
       "      <td>215.350000</td>\n",
       "    </tr>\n",
       "    <tr>\n",
       "      <th>71704</th>\n",
       "      <td>0:56:33</td>\n",
       "      <td>1:25:08</td>\n",
       "      <td>1:55:09</td>\n",
       "      <td>2:25:17</td>\n",
       "      <td>2:56:26</td>\n",
       "      <td>3:28:47</td>\n",
       "      <td>4:00:24</td>\n",
       "      <td>0:27:35</td>\n",
       "      <td>80</td>\n",
       "      <td>21517</td>\n",
       "      <td>...</td>\n",
       "      <td>18478</td>\n",
       "      <td>0:09:42</td>\n",
       "      <td>-</td>\n",
       "      <td>PA</td>\n",
       "      <td>18476.0</td>\n",
       "      <td>NaN</td>\n",
       "      <td>NaN</td>\n",
       "      <td>2017</td>\n",
       "      <td>80 and over</td>\n",
       "      <td>254.166667</td>\n",
       "    </tr>\n",
       "  </tbody>\n",
       "</table>\n",
       "<p>11 rows × 29 columns</p>\n",
       "</div>"
      ],
      "text/plain": [
       "           10K      15K      20K      25K      30K      35K      40K       5K  \\\n",
       "0      0:29:43  0:44:57  1:00:29  1:16:07  1:32:00  1:47:59  2:02:39  0:14:43   \n",
       "7      0:29:44  0:44:59  1:00:30  1:16:07  1:31:59  1:47:59  2:04:58  0:14:44   \n",
       "53233  0:30:28  0:45:44  1:01:15  1:16:59  1:33:01  1:48:52  2:05:21  0:15:25   \n",
       "29     0:32:20  0:48:43  1:06:06  1:23:36  1:41:36  1:59:54  2:17:02  0:15:58   \n",
       "26634  0:34:20  0:51:28  1:09:27  1:27:22  1:45:53  2:04:39  2:22:44  0:17:01   \n",
       "53554  0:37:18  0:56:53  1:16:45  1:36:14  1:56:10  2:16:18  2:36:04  0:18:23   \n",
       "26883  0:37:48  0:57:08  1:16:44  1:36:06  1:56:27  2:17:03  2:37:07  0:18:40   \n",
       "3567   0:42:33  1:03:32  1:25:59  1:47:41  2:10:05  2:32:47  2:54:58  0:21:34   \n",
       "60189  0:47:18  1:10:56  1:34:35  1:58:13  2:22:36  2:48:06  3:15:27  0:23:45   \n",
       "11886  0:50:22  1:15:17  1:40:17  2:05:25  2:31:34  2:58:15  3:24:16  0:25:25   \n",
       "71704  0:56:33  1:25:08  1:55:09  2:25:17  2:56:26  3:28:47  4:00:24  0:27:35   \n",
       "\n",
       "       Age    Bib  ... Overall     Pace Proj Time  State  Unnamed: 0  \\\n",
       "0       25      3  ...       1  0:04:56         -    NaN         0.0   \n",
       "7       39      1  ...       8  0:05:04         -     CA         7.0   \n",
       "53233   40     15  ...       6  0:05:04         -     AZ         5.0   \n",
       "29      46     83  ...      30  0:05:32         -    NaN        29.0   \n",
       "26634   53     84  ...      37  0:05:46   2:30:57    NaN         NaN   \n",
       "53554   56    371  ...     327  0:06:18         -     VA       326.0   \n",
       "26883   60    806  ...     286  0:06:20   2:45:47     IL         NaN   \n",
       "3567    66   4708  ...    3568  0:07:04         -    NaN      3567.0   \n",
       "60189   70   9897  ...    6963  0:08:00         -     FL      6961.0   \n",
       "11886   76  20278  ...   11887  0:08:13         -     ON     11886.0   \n",
       "71704   80  21517  ...   18478  0:09:42         -     PA     18476.0   \n",
       "\n",
       "      Unnamed: 8 Unnamed: 9  year     Age_band  Offical_Time_Mins  \n",
       "0            NaN        NaN  2015        18-34         129.283333  \n",
       "7            NaN        NaN  2015        35-39         132.700000  \n",
       "53233        NaN        NaN  2017        40-44         132.750000  \n",
       "29           NaN        NaN  2015        45-49         144.816667  \n",
       "26634        NaN        NaN  2016        50-54         150.950000  \n",
       "53554        NaN        NaN  2017        55-59         164.866667  \n",
       "26883        NaN        NaN  2016        60-64         165.783333  \n",
       "3567         NaN        NaN  2015        65-69         184.916667  \n",
       "60189        NaN        NaN  2017        70-74         209.633333  \n",
       "11886        NaN        NaN  2015        75-79         215.350000  \n",
       "71704        NaN        NaN  2017  80 and over         254.166667  \n",
       "\n",
       "[11 rows x 29 columns]"
      ]
     },
     "execution_count": 63,
     "metadata": {},
     "output_type": "execute_result"
    }
   ],
   "source": [
    "fastest_timesm"
   ]
  },
  {
   "cell_type": "code",
   "execution_count": 64,
   "metadata": {},
   "outputs": [],
   "source": [
    "slowest_timesm=male_df.loc[male_df.groupby('Age_band' )['Offical_Time_Mins'].idxmax()]"
   ]
  },
  {
   "cell_type": "code",
   "execution_count": 65,
   "metadata": {},
   "outputs": [
    {
     "data": {
      "text/html": [
       "<div>\n",
       "<style scoped>\n",
       "    .dataframe tbody tr th:only-of-type {\n",
       "        vertical-align: middle;\n",
       "    }\n",
       "\n",
       "    .dataframe tbody tr th {\n",
       "        vertical-align: top;\n",
       "    }\n",
       "\n",
       "    .dataframe thead th {\n",
       "        text-align: right;\n",
       "    }\n",
       "</style>\n",
       "<table border=\"1\" class=\"dataframe\">\n",
       "  <thead>\n",
       "    <tr style=\"text-align: right;\">\n",
       "      <th></th>\n",
       "      <th>10K</th>\n",
       "      <th>15K</th>\n",
       "      <th>20K</th>\n",
       "      <th>25K</th>\n",
       "      <th>30K</th>\n",
       "      <th>35K</th>\n",
       "      <th>40K</th>\n",
       "      <th>5K</th>\n",
       "      <th>Age</th>\n",
       "      <th>Bib</th>\n",
       "      <th>...</th>\n",
       "      <th>Overall</th>\n",
       "      <th>Pace</th>\n",
       "      <th>Proj Time</th>\n",
       "      <th>State</th>\n",
       "      <th>Unnamed: 0</th>\n",
       "      <th>Unnamed: 8</th>\n",
       "      <th>Unnamed: 9</th>\n",
       "      <th>year</th>\n",
       "      <th>Age_band</th>\n",
       "      <th>Offical_Time_Mins</th>\n",
       "    </tr>\n",
       "  </thead>\n",
       "  <tbody>\n",
       "    <tr>\n",
       "      <th>79634</th>\n",
       "      <td>1:05:33</td>\n",
       "      <td>1:52:17</td>\n",
       "      <td>2:49:41</td>\n",
       "      <td>3:50:19</td>\n",
       "      <td>4:50:01</td>\n",
       "      <td>5:53:48</td>\n",
       "      <td>6:54:21</td>\n",
       "      <td>0:32:03</td>\n",
       "      <td>25</td>\n",
       "      <td>25178</td>\n",
       "      <td>...</td>\n",
       "      <td>26408</td>\n",
       "      <td>0:16:40</td>\n",
       "      <td>-</td>\n",
       "      <td>NC</td>\n",
       "      <td>26406.0</td>\n",
       "      <td>NaN</td>\n",
       "      <td>MI</td>\n",
       "      <td>2017</td>\n",
       "      <td>18-34</td>\n",
       "      <td>436.983333</td>\n",
       "    </tr>\n",
       "    <tr>\n",
       "      <th>53226</th>\n",
       "      <td>1:15:09</td>\n",
       "      <td>1:58:09</td>\n",
       "      <td>2:49:15</td>\n",
       "      <td>4:07:15</td>\n",
       "      <td>5:27:59</td>\n",
       "      <td>6:49:51</td>\n",
       "      <td>7:59:12</td>\n",
       "      <td>0:35:58</td>\n",
       "      <td>35</td>\n",
       "      <td>30690</td>\n",
       "      <td>...</td>\n",
       "      <td>26628</td>\n",
       "      <td>0:19:17</td>\n",
       "      <td>8:25:09</td>\n",
       "      <td>TN</td>\n",
       "      <td>NaN</td>\n",
       "      <td>MI</td>\n",
       "      <td>NaN</td>\n",
       "      <td>2016</td>\n",
       "      <td>35-39</td>\n",
       "      <td>505.150000</td>\n",
       "    </tr>\n",
       "    <tr>\n",
       "      <th>53222</th>\n",
       "      <td>0:41:41</td>\n",
       "      <td>1:02:29</td>\n",
       "      <td>1:23:34</td>\n",
       "      <td>1:45:00</td>\n",
       "      <td>2:07:21</td>\n",
       "      <td>2:31:21</td>\n",
       "      <td>6:54:20</td>\n",
       "      <td>0:20:58</td>\n",
       "      <td>43</td>\n",
       "      <td>4358</td>\n",
       "      <td>...</td>\n",
       "      <td>26624</td>\n",
       "      <td>0:16:53</td>\n",
       "      <td>7:22:23</td>\n",
       "      <td>PA</td>\n",
       "      <td>NaN</td>\n",
       "      <td>NaN</td>\n",
       "      <td>NaN</td>\n",
       "      <td>2016</td>\n",
       "      <td>40-44</td>\n",
       "      <td>442.383333</td>\n",
       "    </tr>\n",
       "    <tr>\n",
       "      <th>79637</th>\n",
       "      <td>1:17:12</td>\n",
       "      <td>2:00:10</td>\n",
       "      <td>2:58:55</td>\n",
       "      <td>4:27:14</td>\n",
       "      <td>5:37:13</td>\n",
       "      <td>6:39:07</td>\n",
       "      <td>7:41:23</td>\n",
       "      <td>0:39:36</td>\n",
       "      <td>48</td>\n",
       "      <td>25266</td>\n",
       "      <td>...</td>\n",
       "      <td>26411</td>\n",
       "      <td>0:18:15</td>\n",
       "      <td>-</td>\n",
       "      <td>GA</td>\n",
       "      <td>26409.0</td>\n",
       "      <td>NaN</td>\n",
       "      <td>MI</td>\n",
       "      <td>2017</td>\n",
       "      <td>45-49</td>\n",
       "      <td>478.233333</td>\n",
       "    </tr>\n",
       "    <tr>\n",
       "      <th>26596</th>\n",
       "      <td>1:40:12</td>\n",
       "      <td>2:33:31</td>\n",
       "      <td>3:31:41</td>\n",
       "      <td>4:29:20</td>\n",
       "      <td>5:31:11</td>\n",
       "      <td>6:33:35</td>\n",
       "      <td>7:35:38</td>\n",
       "      <td>0:49:04</td>\n",
       "      <td>53</td>\n",
       "      <td>29396</td>\n",
       "      <td>...</td>\n",
       "      <td>26597</td>\n",
       "      <td>0:18:20</td>\n",
       "      <td>-</td>\n",
       "      <td>MA</td>\n",
       "      <td>26596.0</td>\n",
       "      <td>NaN</td>\n",
       "      <td>NaN</td>\n",
       "      <td>2015</td>\n",
       "      <td>50-54</td>\n",
       "      <td>480.616667</td>\n",
       "    </tr>\n",
       "    <tr>\n",
       "      <th>26591</th>\n",
       "      <td>1:23:34</td>\n",
       "      <td>2:08:29</td>\n",
       "      <td>2:55:21</td>\n",
       "      <td>3:44:46</td>\n",
       "      <td>4:38:41</td>\n",
       "      <td>5:33:09</td>\n",
       "      <td>6:33:45</td>\n",
       "      <td>0:39:52</td>\n",
       "      <td>57</td>\n",
       "      <td>25481</td>\n",
       "      <td>...</td>\n",
       "      <td>26592</td>\n",
       "      <td>0:15:57</td>\n",
       "      <td>-</td>\n",
       "      <td>IL</td>\n",
       "      <td>26591.0</td>\n",
       "      <td>NaN</td>\n",
       "      <td>MI</td>\n",
       "      <td>2015</td>\n",
       "      <td>55-59</td>\n",
       "      <td>417.833333</td>\n",
       "    </tr>\n",
       "    <tr>\n",
       "      <th>26597</th>\n",
       "      <td>1:28:18</td>\n",
       "      <td>2:26:46</td>\n",
       "      <td>3:28:41</td>\n",
       "      <td>4:36:06</td>\n",
       "      <td>5:43:44</td>\n",
       "      <td>6:51:31</td>\n",
       "      <td>7:41:28</td>\n",
       "      <td>0:40:14</td>\n",
       "      <td>62</td>\n",
       "      <td>25651</td>\n",
       "      <td>...</td>\n",
       "      <td>26598</td>\n",
       "      <td>0:18:33</td>\n",
       "      <td>-</td>\n",
       "      <td>NY</td>\n",
       "      <td>26597.0</td>\n",
       "      <td>NaN</td>\n",
       "      <td>MI</td>\n",
       "      <td>2015</td>\n",
       "      <td>60-64</td>\n",
       "      <td>486.016667</td>\n",
       "    </tr>\n",
       "    <tr>\n",
       "      <th>79629</th>\n",
       "      <td>1:10:13</td>\n",
       "      <td>1:56:07</td>\n",
       "      <td>2:50:10</td>\n",
       "      <td>3:44:08</td>\n",
       "      <td>4:41:33</td>\n",
       "      <td>5:42:35</td>\n",
       "      <td>6:31:28</td>\n",
       "      <td>0:32:16</td>\n",
       "      <td>68</td>\n",
       "      <td>15547</td>\n",
       "      <td>...</td>\n",
       "      <td>26403</td>\n",
       "      <td>0:15:40</td>\n",
       "      <td>-</td>\n",
       "      <td>IL</td>\n",
       "      <td>26401.0</td>\n",
       "      <td>NaN</td>\n",
       "      <td>NaN</td>\n",
       "      <td>2017</td>\n",
       "      <td>65-69</td>\n",
       "      <td>410.583333</td>\n",
       "    </tr>\n",
       "    <tr>\n",
       "      <th>26590</th>\n",
       "      <td>1:24:31</td>\n",
       "      <td>2:09:01</td>\n",
       "      <td>2:55:40</td>\n",
       "      <td>3:44:29</td>\n",
       "      <td>4:39:38</td>\n",
       "      <td>5:34:43</td>\n",
       "      <td>6:32:06</td>\n",
       "      <td>0:41:32</td>\n",
       "      <td>71</td>\n",
       "      <td>25647</td>\n",
       "      <td>...</td>\n",
       "      <td>26591</td>\n",
       "      <td>0:15:54</td>\n",
       "      <td>-</td>\n",
       "      <td>NC</td>\n",
       "      <td>26590.0</td>\n",
       "      <td>NaN</td>\n",
       "      <td>MI</td>\n",
       "      <td>2015</td>\n",
       "      <td>70-74</td>\n",
       "      <td>416.783333</td>\n",
       "    </tr>\n",
       "    <tr>\n",
       "      <th>53212</th>\n",
       "      <td>1:17:24</td>\n",
       "      <td>1:59:56</td>\n",
       "      <td>2:43:40</td>\n",
       "      <td>3:29:53</td>\n",
       "      <td>4:18:53</td>\n",
       "      <td>5:12:49</td>\n",
       "      <td>6:05:09</td>\n",
       "      <td>0:36:59</td>\n",
       "      <td>78</td>\n",
       "      <td>15528</td>\n",
       "      <td>...</td>\n",
       "      <td>26614</td>\n",
       "      <td>0:14:50</td>\n",
       "      <td>6:28:33</td>\n",
       "      <td>UT</td>\n",
       "      <td>NaN</td>\n",
       "      <td>NaN</td>\n",
       "      <td>NaN</td>\n",
       "      <td>2016</td>\n",
       "      <td>75-79</td>\n",
       "      <td>388.550000</td>\n",
       "    </tr>\n",
       "    <tr>\n",
       "      <th>53196</th>\n",
       "      <td>1:09:11</td>\n",
       "      <td>1:44:04</td>\n",
       "      <td>2:20:17</td>\n",
       "      <td>3:02:48</td>\n",
       "      <td>3:46:36</td>\n",
       "      <td>4:57:43</td>\n",
       "      <td>5:48:07</td>\n",
       "      <td>0:34:18</td>\n",
       "      <td>81</td>\n",
       "      <td>25990</td>\n",
       "      <td>...</td>\n",
       "      <td>26598</td>\n",
       "      <td>0:14:03</td>\n",
       "      <td>6:08:10</td>\n",
       "      <td>HI</td>\n",
       "      <td>NaN</td>\n",
       "      <td>NaN</td>\n",
       "      <td>NaN</td>\n",
       "      <td>2016</td>\n",
       "      <td>80 and over</td>\n",
       "      <td>368.166667</td>\n",
       "    </tr>\n",
       "  </tbody>\n",
       "</table>\n",
       "<p>11 rows × 29 columns</p>\n",
       "</div>"
      ],
      "text/plain": [
       "           10K      15K      20K      25K      30K      35K      40K       5K  \\\n",
       "79634  1:05:33  1:52:17  2:49:41  3:50:19  4:50:01  5:53:48  6:54:21  0:32:03   \n",
       "53226  1:15:09  1:58:09  2:49:15  4:07:15  5:27:59  6:49:51  7:59:12  0:35:58   \n",
       "53222  0:41:41  1:02:29  1:23:34  1:45:00  2:07:21  2:31:21  6:54:20  0:20:58   \n",
       "79637  1:17:12  2:00:10  2:58:55  4:27:14  5:37:13  6:39:07  7:41:23  0:39:36   \n",
       "26596  1:40:12  2:33:31  3:31:41  4:29:20  5:31:11  6:33:35  7:35:38  0:49:04   \n",
       "26591  1:23:34  2:08:29  2:55:21  3:44:46  4:38:41  5:33:09  6:33:45  0:39:52   \n",
       "26597  1:28:18  2:26:46  3:28:41  4:36:06  5:43:44  6:51:31  7:41:28  0:40:14   \n",
       "79629  1:10:13  1:56:07  2:50:10  3:44:08  4:41:33  5:42:35  6:31:28  0:32:16   \n",
       "26590  1:24:31  2:09:01  2:55:40  3:44:29  4:39:38  5:34:43  6:32:06  0:41:32   \n",
       "53212  1:17:24  1:59:56  2:43:40  3:29:53  4:18:53  5:12:49  6:05:09  0:36:59   \n",
       "53196  1:09:11  1:44:04  2:20:17  3:02:48  3:46:36  4:57:43  5:48:07  0:34:18   \n",
       "\n",
       "       Age    Bib  ... Overall     Pace Proj Time  State  Unnamed: 0  \\\n",
       "79634   25  25178  ...   26408  0:16:40         -     NC     26406.0   \n",
       "53226   35  30690  ...   26628  0:19:17   8:25:09     TN         NaN   \n",
       "53222   43   4358  ...   26624  0:16:53   7:22:23     PA         NaN   \n",
       "79637   48  25266  ...   26411  0:18:15         -     GA     26409.0   \n",
       "26596   53  29396  ...   26597  0:18:20         -     MA     26596.0   \n",
       "26591   57  25481  ...   26592  0:15:57         -     IL     26591.0   \n",
       "26597   62  25651  ...   26598  0:18:33         -     NY     26597.0   \n",
       "79629   68  15547  ...   26403  0:15:40         -     IL     26401.0   \n",
       "26590   71  25647  ...   26591  0:15:54         -     NC     26590.0   \n",
       "53212   78  15528  ...   26614  0:14:50   6:28:33     UT         NaN   \n",
       "53196   81  25990  ...   26598  0:14:03   6:08:10     HI         NaN   \n",
       "\n",
       "      Unnamed: 8 Unnamed: 9  year     Age_band  Offical_Time_Mins  \n",
       "79634        NaN         MI  2017        18-34         436.983333  \n",
       "53226         MI        NaN  2016        35-39         505.150000  \n",
       "53222        NaN        NaN  2016        40-44         442.383333  \n",
       "79637        NaN         MI  2017        45-49         478.233333  \n",
       "26596        NaN        NaN  2015        50-54         480.616667  \n",
       "26591        NaN         MI  2015        55-59         417.833333  \n",
       "26597        NaN         MI  2015        60-64         486.016667  \n",
       "79629        NaN        NaN  2017        65-69         410.583333  \n",
       "26590        NaN         MI  2015        70-74         416.783333  \n",
       "53212        NaN        NaN  2016        75-79         388.550000  \n",
       "53196        NaN        NaN  2016  80 and over         368.166667  \n",
       "\n",
       "[11 rows x 29 columns]"
      ]
     },
     "execution_count": 65,
     "metadata": {},
     "output_type": "execute_result"
    }
   ],
   "source": [
    "slowest_timesm"
   ]
  },
  {
   "cell_type": "markdown",
   "metadata": {},
   "source": [
    "The rest of the analysis is in the file: \"COMM318_Final_Project//data_analysis/all_years_marathon_data_female.ipynb\""
   ]
  },
  {
   "cell_type": "code",
   "execution_count": null,
   "metadata": {},
   "outputs": [],
   "source": []
  }
 ],
 "metadata": {
  "kernelspec": {
   "display_name": "Python 3",
   "language": "python",
   "name": "python3"
  },
  "language_info": {
   "codemirror_mode": {
    "name": "ipython",
    "version": 3
   },
   "file_extension": ".py",
   "mimetype": "text/x-python",
   "name": "python",
   "nbconvert_exporter": "python",
   "pygments_lexer": "ipython3",
   "version": "3.7.3"
  }
 },
 "nbformat": 4,
 "nbformat_minor": 2
}
