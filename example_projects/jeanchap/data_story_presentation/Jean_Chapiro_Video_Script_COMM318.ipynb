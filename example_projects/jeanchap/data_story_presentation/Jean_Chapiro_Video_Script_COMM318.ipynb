{
 "cells": [
  {
   "cell_type": "markdown",
   "metadata": {},
   "source": [
    "# Video script"
   ]
  },
  {
   "cell_type": "markdown",
   "metadata": {},
   "source": [
    "This is the script that I created for my video"
   ]
  },
  {
   "cell_type": "markdown",
   "metadata": {},
   "source": [
    "### Intro\n",
    "\n",
    "* Running is the most natural of sports, dating back to the ancient Greeks \n",
    "* Over the course of time, running as a sport has become increasingly popular around the world\n",
    "* Each year thousands of people across the glob challenge themselves and decide to embark on the journey of running 26.2 miles\n",
    "* Although there are thousands of marathons, the Boston Marathon remains as the most prestigious of these races due to its history and qualifying criteria \n",
    "* Both male and female runners most meet strict qualifying time criteria in order to run this prestigious race. \n",
    "* However female runners in each age group get 30 more minutes to qualify than the males in their group\n",
    "* So are women running The Boston Marathon really on average 30 minutes slower than men?\n",
    "* Or is this a time that was just arbitrarily set?\n",
    "\n",
    "\n",
    "### History\n",
    "\n",
    "* First let's talk a little bit about The race's history\n",
    "* The first Boston Marathon was held on On April 19, 1897 but the course was only  24.5 miles  and it was ran by 15 men\n",
    "    Text insert : In 1924, the course was lengthened to 26 miles, 385 yards to conform to the Olympic standard\n",
    "* In the 1960’s the US witnessed a running boom where the amount of people that started to run increased in an exponential way \n",
    "* As a consequence the number of people who were interested in running the Boston marathon also grew by large quantities at a steady rate \n",
    "    Text insert: from 197 in 1960 to 447 in 1965 and 1,342 by 1969\n",
    "* In 1970 in order to keep with the intended 1,000 participant cap,  the first qualifying time requirement  was established \n",
    "    Text insert: “A runner must submit the certification of either the Long Distance Running chairman of the Amateur     Athletics Union of his district or his college coach that he has trained sufficiently to finish the course in         less than four hours. This is not a jogging race” – 1970 race application\n",
    "* In 1972  women were officially allowed to run the race if they kept with the same qualifying requirements as men\n",
    "* Through the 70’s the running boom continued and the number of female runners increased by nearly 50% between 1976 and 1977.\n",
    "\n",
    "* In the early 80’s age division were taken into account for both males and females. And women were given slower qualifying times than men by a 30 minute difference\n",
    "* The race has now been caped at 30,000 athletes but more runners have been able to keep with the qualifying requirements each year\n",
    "* Most recently, for the 2020 Boston Marathon, qualifying times decreased again by 5 minutes.\n",
    "* Over the course of the years the race has changed and adapted in multiple ways. \n",
    "* The decrease in qualifying times is backed up by the number of people who whish to participants and are able to qualify\n",
    "* However the 30 minute qualifying time disparity between males and females has remained constant without any clear logic or data supporting it.\n",
    "* Lets find out if female runners really are  30 minutes slower than men?\n",
    "\n",
    "### Analysis\n",
    "* Using the official data from the 2015, 2016 and 2017 Boston Marathon I  was able to find that on average women  are not 30 minutes slower \n",
    "* But in fact, only 25.2 minutes slower on average \n",
    "* However it is important to note that the difference between men and women does change significantly by age group.\n",
    "* Apart from the 80 and over category, the biggest difference is seen in the 18 to 34 age group where women are on average just around 30 minutes slower than men\n",
    "* Surprisingly, in the 70-74 year age group on average women run only 17 minutes slower than men\n",
    "* This suggests that maybe the qualifying time disparities should be implemented by age group instead of by an overall standard of 30 minutes\n",
    "\n",
    "* However it is also important to look into the percentage of runners who actually keep with their respective qualifying time requisites on the day of the race\n",
    "* The data illustrates that on average only 41.5% of female runners and 38.24% of male runners keep with their respective qualifying times on race day\n",
    "* But why this happens  might be altered by other factors such as weather and  the course \n",
    "* In addition this disparity between the qualifying times and race day performance might also be skewed by the 6,000 runners who are allowed into the race by means of donating at least $5,000 to a charity.\n",
    "\n"
   ]
  },
  {
   "cell_type": "markdown",
   "metadata": {},
   "source": [
    "* In addition the analysis also shows that the age group with the most amount of participants for both genders is the one between 18 and 34 years\n",
    "* Representing 33.7 percent in the female category and in the male category\n",
    "* The age group with the least amount of participants is 80 and over, representing less than 1 percent of participants for both males and females\n",
    "\n",
    "* Additionally, the data analysis illustrates that the mean difference between the average of the  fastest and slowest female runners across all age groups is almost 4 hours\n",
    "* While the difference for men is almost of 4 and a half hours \n",
    "* More importantly the difference between the average of the fastest female and male runners across all age groups is close to 25 minutes. \n",
    "* Which is the same as the mean disparity found between all male and female runners in the race.\n",
    "* This further suggest that perhaps the qualifying time difference between gender should be of 25 minutes instead of 30\n",
    "\n",
    "### Closing remarks\n",
    "* Weather qualifying time differences between man and women will change is uncertain\n",
    "* However  what is evidently clear is that each year runners are getting faster and achieving new records, thus the qualifying times for The Boston Marathon for both male and females alike might need to keep dropping down."
   ]
  },
  {
   "cell_type": "code",
   "execution_count": null,
   "metadata": {},
   "outputs": [],
   "source": []
  }
 ],
 "metadata": {
  "kernelspec": {
   "display_name": "Python 3",
   "language": "python",
   "name": "python3"
  },
  "language_info": {
   "codemirror_mode": {
    "name": "ipython",
    "version": 3
   },
   "file_extension": ".py",
   "mimetype": "text/x-python",
   "name": "python",
   "nbconvert_exporter": "python",
   "pygments_lexer": "ipython3",
   "version": "3.7.3"
  }
 },
 "nbformat": 4,
 "nbformat_minor": 2
}
