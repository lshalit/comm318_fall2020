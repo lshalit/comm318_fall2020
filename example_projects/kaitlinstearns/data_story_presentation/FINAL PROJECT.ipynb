{
 "cells": [
  {
   "cell_type": "markdown",
   "metadata": {},
   "source": [
    "# Teens and Social Media: What Does that Mean?\n",
    "#### _By Kaitlin Stearns_"
   ]
  },
  {
   "cell_type": "markdown",
   "metadata": {},
   "source": [
    "<img style=\"float: center; width:500px\" src=\"graphs/image_group_of_teens_with_mobile_phones_1200x800.png\"/>"
   ]
  },
  {
   "cell_type": "markdown",
   "metadata": {},
   "source": [
    "Technology and social media are engulfed in teenager's lives. The increase in accessibility of smart phones and apps have allowed for social to consume our everyday lives. \"Social Media\" is a broad term that covers many areas. Social media platforms allow for users to post content, communicate with others, look up specific information and many others. Many apps have these capabilities and some have risen and fallen in popularity in recent years. The following graph depicts U.S. teens favorite platforms from 2012-2019."
   ]
  },
  {
   "cell_type": "markdown",
   "metadata": {},
   "source": [
    "<img style=\"float: center; width:900px\" src=\"graphs/Teens_Favorite_Platforms_2012_2019_Graph.png\"/>"
   ]
  },
  {
   "cell_type": "markdown",
   "metadata": {},
   "source": [
    "As shown in the graph, Facebook was the lead social media platform in 2012 and 2013, but its popularity has decreased greatly since. Instagram has had a steady amount of usage by teens throughout the years, decreasing slightly with the invention of Snapchat. More Instagram analysis will follow. Snapchat has dominated the teen's social media platform field since its introduction in 2015. Snapchat has immense capabilities from sending pictures to being able to see your friend's location. All contributing to being the favorite platform amongst teens. "
   ]
  },
  {
   "cell_type": "markdown",
   "metadata": {},
   "source": [
    "Continuing the trend, Snapchat was also the most used platform amongst teens ages 13-17 in 2018. Female teens use social media more in general that their male counterparts. As seen from the graph below, females dominate each major platform, except for Facebook. Age also does not seem to be a factor as there are only slight differences between 13-14 year old users and 15-17 year old users. However, it is clear that teens, no matter the gender or age, use Snapchat, Instagram and Facebook the most."
   ]
  },
  {
   "cell_type": "markdown",
   "metadata": {},
   "source": [
    "<img style=\"float: center; width:1100px\" src=\"graphs/Teens_Most_Used_Social_Media_Platforms_2018_by_Age_&_Gender.png\"/>"
   ]
  },
  {
   "cell_type": "markdown",
   "metadata": {},
   "source": [
    "Although teens might not be using all social media platforms, they are still exposed to all of them. Despite not being amongst the most used platform, YouTube reaches over 80% of teenagers. Teenagers watch and listen to the immense amount of content on YouTube and often share it with their friends. As mentioned before, the majority of teens are also exposed to Snapchat, Instagram, Facebook and Twitter. Teenagers have access and exposure to various platforms, as shown, but they only to an elite few that they use constantly."
   ]
  },
  {
   "cell_type": "markdown",
   "metadata": {},
   "source": [
    "<img style=\"float: center; width:1000px\" src=\"graphs/Teens_most_used_social_media_all_teens_vs_reach.png\"/>"
   ]
  },
  {
   "cell_type": "markdown",
   "metadata": {},
   "source": [
    "Every social media platform is different and teens use each for different purposes. Instagram, for example, was invented to post pictures for your followers to see. However, the app has evolved over time and has increased its capabilities. Even though teens still use Instagram the most to post pictures, communication and media consumption throughout the app has increased."
   ]
  },
  {
   "cell_type": "markdown",
   "metadata": {},
   "source": [
    "<img style=\"float: center; width:2000px\" src=\"graphs/Instagram_Usage_Graph.png\"/>"
   ]
  },
  {
   "cell_type": "markdown",
   "metadata": {},
   "source": [
    "<img style=\"float: center; width:1000px\" src=\"graphs/Teens_Activities_on_Platforms_Graph.png\"/>"
   ]
  },
  {
   "cell_type": "markdown",
   "metadata": {},
   "source": [
    "As Instagram dominates its competition for viewing photos, other platforms have their own specialties. As shown in the graph, Twitter is used the most amongst teens to read and learn about the news. Teens use Pinterest to find and shop for products. Facebook is the more public platform as it is used to share content with everyone. Teens use Facebook to get the most exposure about what they post or share. However, Snapchat is the more intimate platform in terms of communication. It is interesting that each platform has the capability to perform each activity, but each has their own specialty amongst teens."
   ]
  },
  {
   "cell_type": "markdown",
   "metadata": {},
   "source": [
    "Technology has allowed for communication to be easier and faster than ever. With the increase of technology, there has also been an increase in the type of communication methods being used amongst teens. Nearly 80% of teenagers use instant messaging and social media to share ideas and content with others. E-mail is still a popular type of digital communication as most teens are still in school and use it to contact teachers. Also, e-mail is the preferred use of digital communication throughout older generations. In addition, video games have features that allow for players to speak with their opponent while competing. "
   ]
  },
  {
   "cell_type": "markdown",
   "metadata": {},
   "source": [
    "<img style=\"float: center; width:600px\" src=\"graphs/How_teens_communicate_Graph.png\"/>"
   ]
  },
  {
   "cell_type": "markdown",
   "metadata": {},
   "source": [
    "Social media allows for easier communication, as 40% of teens found that connecting with friends and family is a positive effect of social media. Other positives include the ease of finding news and information, meeting others and enforcing self-expression and other interests. The following graph reveals the effects, both positive and negative, of social media according to teens."
   ]
  },
  {
   "cell_type": "markdown",
   "metadata": {},
   "source": [
    "<img style=\"float: center; width:1200px\" src=\"graphs/effects_of_social_media_graph.png\"/>"
   ]
  },
  {
   "cell_type": "markdown",
   "metadata": {},
   "source": [
    "With positives come negatives. Social media has made communication easier, but also allows for the opportunity of bullying or harassment amongst teenagers. People can hide behind screens and screen names to say and do things they would never say or do in person. Jealousy and the feeling of having to have a perfect online profile, whether through their pictures or videos, also contributes to the negative aspects of social media. With so many platforms, the content that teenagers consume is overwhelming and can often times do more harm than good."
   ]
  },
  {
   "cell_type": "markdown",
   "metadata": {},
   "source": [
    "The harmful effects of social media have led parents to monitor and/or have access to their teenager's profiles. As seen from the graph below, most parents are aware of their child's Facebook profile more than the other leading platforms. This is due to the fact that most parents have Facebook profiles of their own and are the most familiar with that platform. Instagram and Snapchat lean more towards younger generations and can be easier to hide from parents."
   ]
  },
  {
   "cell_type": "markdown",
   "metadata": {},
   "source": [
    "<img style=\"float: center; width:600px\" src=\"graphs/Parents_Awareness_Graph.png\"/>"
   ]
  },
  {
   "cell_type": "markdown",
   "metadata": {},
   "source": [
    "Unfortunately, not everything can be hidden. The following graph depicts discoveries on social media found by job recruiters about potential employees. Social media is forever and teens often post inappropriate content that can have consequences in the future. The most popular discoveries included images, videos or words that were not appropriate and did not portray the potential employee in the correct light."
   ]
  },
  {
   "cell_type": "markdown",
   "metadata": {},
   "source": [
    "<img style=\"float: center; width:900px\" src=\"graphs/Recruiters_Graph.png\"/>"
   ]
  },
  {
   "cell_type": "markdown",
   "metadata": {},
   "source": [
    "As shown, social media is a dynamic and complicated term that plays a key role in teens lives. Social media has various platforms, each serving a different purpose and each having varying popularity amongst teens. Overall, social media affects how they communicate, who they communicate to and how others see them. "
   ]
  }
 ],
 "metadata": {
  "kernelspec": {
   "display_name": "Python 3",
   "language": "python",
   "name": "python3"
  },
  "language_info": {
   "codemirror_mode": {
    "name": "ipython",
    "version": 3
   },
   "file_extension": ".py",
   "mimetype": "text/x-python",
   "name": "python",
   "nbconvert_exporter": "python",
   "pygments_lexer": "ipython3",
   "version": "3.7.3"
  }
 },
 "nbformat": 4,
 "nbformat_minor": 2
}
