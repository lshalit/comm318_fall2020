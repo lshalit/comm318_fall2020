{
 "cells": [
  {
   "cell_type": "markdown",
   "metadata": {},
   "source": [
    "# Biking in Moscow vs. Biking in Philadelphia "
   ]
  },
  {
   "cell_type": "markdown",
   "metadata": {},
   "source": [
    "# *What are the differences in cycling cultures in Moscow and Philadelphia?*"
   ]
  },
  {
   "cell_type": "markdown",
   "metadata": {},
   "source": [
    "### 1. Bike Lanes "
   ]
  },
  {
   "cell_type": "markdown",
   "metadata": {},
   "source": [
    "Just comparing the maps of the two cities with the bike lanes as a filter, it is clear that Philadelphia's bike lane network is far more robust. However, it is also true that Moscow is a *much* larger city than Philadelphia. Moscow is 970 mi², while Philadelphia is 141.7 mi². Moscow has a population of 11.9 million residents, while Philadelphia has about 1.6 million people.\n",
    "\n",
    "According to a news article on the Moscow city website published in 2018 (https://www.mos.ru/en/news/item/39793073/), there is over 773 km/480.3 miles of bike lanes in local streets and parks in the city. As of 2017, in Philadelphia there is about 200 miles of bike lanes (https://www.inquirer.com/philly/business/transportation/what-you-need-to-know-about-bike-lanes-in-philadelphia-20171129.html), which is close to half of what Moscow has, despite Philadelphia being around seven times smaller than Moscow. \n",
    "\n",
    "Moscow created its first protected bike lane last year, and intended to create more.It did not list how long the lane was. (https://www.unece.org/fileadmin/DAM/trans/doc/2017/wp5/WP5_30th_session_Ms_Maltseva_Part2.pdf) Meanwhile, Philadelphia has 2.5 miles of protected bike lanes. "
   ]
  },
  {
   "cell_type": "markdown",
   "metadata": {},
   "source": [
    "### 2. Bikeshare: Ridership and Stations"
   ]
  },
  {
   "cell_type": "markdown",
   "metadata": {},
   "source": [
    "Moscow has no official, open data for ridership for its bikeshare. However, according to one recent news article, in 2019 over a seven month period, there were over 5 million trips. The average trip was 19.8 minutes, and they say most trips were for transportation purposes. (https://www.mos.ru/en/news/item/65374073/). \n",
    "\n",
    "From July-September 2019, there were 275,197 Indego rides, with most rides being 8 minutess long. Using the estimate provided in the article, there are far more Velobike trips than Indego trips. \n",
    "\n",
    "Velobike has 442 stations according to the open data - though the Moscow government in the article above claimed there were 528 - while Indego has 147. Although Philadelphia has significantly less stations, it has 1/4 (or 1/5, if using the city's estimate) of the amount of Moscow's bikeshare stations, while being around 1/7 Moscow's size. \n",
    "\n",
    "Both cities have a high concentration of bikeshare stations in the center of the city, particularly for Moscow. It would be easy to say this means that Philadelphia bikeshare stations are more spread out, but also, Moscow is *huge.* "
   ]
  },
  {
   "cell_type": "markdown",
   "metadata": {},
   "source": [
    "### 3. Bike Parking"
   ]
  },
  {
   "cell_type": "markdown",
   "metadata": {},
   "source": [
    "There is no official, comprehensive data set analyzing bike parking in Philadelphia. According to one estimate from 2017, there are over 4000 bike parking spots in Center City, though this is not nearly comprehensive. (https://billypenn.com/2017/09/07/philly-has-4000-bike-parking-spaces-in-center-city/) Given the narrow scope of the count and when it was published, however, it is almost certain that there are more. \n",
    "\n",
    "In Moscow, there is officially 862 bicycle parking places, with 6029 spots. Almost all this parking exists in the center of the city. \n",
    "\n",
    "For this analysis then, I will focus on the city centers. Therefore, given the size differences between the cities yet similar bike parking, it can be said that Philadelphia has a more comprehensive bike parking infrastructure. "
   ]
  },
  {
   "cell_type": "markdown",
   "metadata": {},
   "source": [
    "### 4. Crash Data "
   ]
  },
  {
   "cell_type": "markdown",
   "metadata": {},
   "source": [
    "From 2007 until 2017, there were over 3518 reported incidents where a car hit a bicyclist; it is important to note that not all incidents of a cyclist being hit by a car are reported to the police. 22 of those 3518 incidents resulted in deaths. There were more cyclists who died as a result of being hit by a car in 2018 and 2019. \n",
    "\n",
    "Based on a very preliminary examination, the center of Moscow seems to have far less car accidents involving cyclists, which is in many ways remarkable given Moscow's comparative lack of bicycle infrastructure and far greater car traffic. Given the format of the data, this will be examined in depth in the next step in this project. "
   ]
  }
 ],
 "metadata": {
  "kernelspec": {
   "display_name": "Python 3",
   "language": "python",
   "name": "python3"
  },
  "language_info": {
   "codemirror_mode": {
    "name": "ipython",
    "version": 3
   },
   "file_extension": ".py",
   "mimetype": "text/x-python",
   "name": "python",
   "nbconvert_exporter": "python",
   "pygments_lexer": "ipython3",
   "version": "3.7.3"
  }
 },
 "nbformat": 4,
 "nbformat_minor": 2
}
