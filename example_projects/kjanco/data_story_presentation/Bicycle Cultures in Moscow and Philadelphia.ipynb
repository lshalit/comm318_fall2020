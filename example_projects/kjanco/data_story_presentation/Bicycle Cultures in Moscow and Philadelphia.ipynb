{
 "cells": [
  {
   "cell_type": "markdown",
   "metadata": {},
   "source": [
    "# Comparing Bicycle Cultures in Moscow and Philadelphia\n",
    "## *What can the City of Brotherly Love learn from the Third Rome, and vice versa?*"
   ]
  },
  {
   "cell_type": "markdown",
   "metadata": {},
   "source": [
    "![](intro_image.png)\n",
    "*Cycling in Moscow to the left, and cycling in Philadelphia to the right.*"
   ]
  },
  {
   "cell_type": "markdown",
   "metadata": {},
   "source": [
    " By Katrina Janco                       \n",
    " December 22, 2019                    \n",
    " COMM318: Stories from Data"
   ]
  },
  {
   "cell_type": "markdown",
   "metadata": {},
   "source": [
    "The only times Moscow and Philadelphia have ever been in the same sentence has been within the context of sports, whether it'd be the *Rocky* movie franchise, or when the Flyers became the only American team to [beat the Red Army hockey team](https://bleacherreport.com/articles/1907922-how-we-remember-the-philadelphia-flyers-red-army-game-38-years-later) in 1976. However, today Moscow and Philadelphia are in the same sentence with respect to their bicycle cultures; to clarify, bicycle culture is defined here as how it feels to be a cyclist in a given city, and the culture's relevancy in the lives of citizens. For example, the Netherlands is known for having [a vibrant bicycle culture](https://www.vox.com/science-and-health/2018/8/28/17789510/bike-cycling-netherlands-dutch-infrastructure), with an extensive bike lane network separated from cars, car drivers being much more cognizant of cyclists, and more. Both cities have said that they are in favor of fostering a pro-bicycle culture, with one of the primary reasons being all the issues that cars cause, from air pollution to fatalities. \n",
    "\n",
    "Surely, there are drastic differences in size between the two, which will have to be accounted for in analyzing both cities. After all, Moscow is Russia's sprawling 970 mi² cosmopolitan capital with 11.9 million people, while Philadelphia is only 141.7 mi² and has only 1.6 million residents. However, the differences make comparing and contrasting cultures can help answer the following question: in creating robust bicycling infrastructure and positive bicycling culture in cities, what matters more, the sheer size, resources and historical physical infrastructure of the respective city, or the willingness of governments to make this vision a reality? Or is it something else entirely?"
   ]
  },
  {
   "cell_type": "markdown",
   "metadata": {},
   "source": [
    "## Indego vs. Велобайк - How Do They Compare? "
   ]
  },
  {
   "cell_type": "markdown",
   "metadata": {},
   "source": [
    "One factor that contributes to a city's bicycle culture is the presence of bikeshares, which is a system where someone can rent out a bike at a station for a certain amount of time and money, and then return it to another station. The presence of bikeshares in public urban spaces shows that having a positive bicycle culture and having another public transportation option, is something the city prioritizes. \n",
    "\n",
    "Bikeshares have popped up in cities all over the world during the [past decade](https://www.citylab.com/city-makers-connections/bike-share/#slide-1965) Indeed, VeloBike, Moscow's bikeshare, [officially debuted in June 2014](https://www.smoove-bike.com/moscow), while Indego, Philadelphia's bike share, Indego [debuted in 2015](https://www.rideindego.com/about/). Besides their respective local governments, VeloBike is sponsored by VTB Bank, a  large Russian bank and Mir, a credit card company, while Indego is sponsored by Independent Blue Cross Blue Shield, a health insurance company. \n",
    "\n",
    "Moscow has no publicly available open data about their ridership data, and only has open data about their stations. However, according to [one recent press release](https://www.mos.ru/en/news/item/65374073/), in 2019 over a seven month period, there were over 5 million trips. The average trip was 19.8 minutes, and they say most trips were for transportation purposes. In Philadelphia, from July-September 2019, there were 275,197 Indego rides, with most rides being 8 minutes long. Using the estimate provided in the article, there are far more VeloBike trips than Indego trips. However, given the differences in population, a higher percentage of people in Philadelphia use Indego than the population in Moscow. \n",
    "\n",
    "As for the stations, VeloBike has 442 stations according to the open data, while Indego has 132. Although Philadelphia has significantly less stations, it has 1/4 of the amount of Moscow's bikeshare stations, while being around 1/7 Moscow's size. Both cities have a high concentration of bikeshare stations in the center of the city, particularly for Moscow. It would be easy to say this means that Philadelphia bikeshare stations are more spread out, but one must also remember that Moscow is much larger. In terms of growth, the number of VeloBike [grows quickly each year,](https://www.mos.ru/en/news/item/39673073/) while many Indego stations were built in 2015. \n",
    "\n",
    "Both cities have the highest concentration of bikeshare stations in the center of the city. Indego has made a great effort into building bike stations outside of Center City. However, one notable finding was that eight Indego stations built in 2015 and 2016 are now inactive. All of these stations except for one, were in areas outside of Center City, and that aren't necessarily known to be prosperous. It's not clear why the stations are inactive, but it is telling that they were almost exclusively outside Center City. Meanwhile, Moscow does not have the same kind of neighborhood inequality, where living in a different part of the city can result in a completely different quality of life.\n",
    "\n",
    "Both bikeshare programs offer various membership tiers, and a single-way trip is relatively inexpensive. What is notable, however, is that in Moscow, people pay for VeloBike with their [Troika card](\n",
    "https://www.mos.ru/en/news/item/26718073/) that pays for other forms of public transit, such as the metro. In Philadelphia, however, since Indego is not directly associated with SEPTA, there is no such convenience. "
   ]
  },
  {
   "cell_type": "markdown",
   "metadata": {},
   "source": [
    "## Broader Bike Infrastructure \n",
    "\n",
    "### *Bike Parking, Bike Lanes, and the Role of the Government*"
   ]
  },
  {
   "cell_type": "markdown",
   "metadata": {},
   "source": [
    "Now obviously, there is much more a bicycle culture than just bikeshares. There also needs to be consideration for bike parking and bike lanes. Without bike parking, cyclists can only make round-trips, and without bike lanes, cyclists are much more likely to be hit by a vehicle, and less people feel comfortable riding their bikes.\n",
    "\n",
    "Moscow has only began its bicycle infrastructure program over [the past few years,](https://www.mos.ru/en/services/advisor/story/Bicycles_in_Moscow/) which is not entirely surprising given the country's recent history, with the dissolution of the Soviet Union and the following decade being an absolute nightmare for Russians. Philadelphia began its bike infrastructure journey much earlier, with its first bike lanes debuting in 1998.\n",
    "\n",
    "Just comparing the maps of the two cities and their bike lanes, it is clear that Philadelphia's bike lane network is far more extensive. According to [a news article](https://www.mos.ru/en/news/item/39793073/) on the Moscow city website published in 2018, there is over 773 km/480.3 miles of bike lanes in local streets and parks in the city. As of 2017, in Philadelphia there is about [200 miles of bike lanes](https://www.inquirer.com/philly/business/transportation/what-you-need-to-know-about-bike-lanes-in-philadelphia-20171129.html), which is close to half of what Moscow has, despite Philadelphia being around seven times smaller than Moscow. Others could point to the fact, however, that Moscow got started in all of this much later.\n",
    "\n",
    "![](bike_network_comparison.png)\n",
    "*Moscow to the left, Philadelphia to the right, with the red lines representing bike lanes.*\n",
    "\n",
    "Moscow also created its first protected bike lane [last year,](https://www.unece.org/fileadmin/DAM/trans/doc/2017/wp5/WP5_30th_session_Ms_Maltseva_Part2.pdf) and intended to create more. It did not list how long the lane was. Meanwhile, Philadelphia has 4.35 miles of protected bike lanes, with intentions to do [much more.](https://www.phillymag.com/news/2019/06/17/bike-lanes-city-council/)\n",
    "\n",
    "A key point in analyzing the bicycle cultures in Moscow and Philadelphia is the different in governments generally. Each okrug in Moscow is essentially its own local government that while under the larger Moscow government, they make their own decisions. Meanwhile, in Philadelphia there are City Council members elected by the public to make decisions on their behalf. There are, of course, neighborhood associations that debate on the issues of things like bike lanes, but ultimately all the elected officials representing different districts have to work together to makes the decisions for the entire city. While for the sake of freedoms and separation of powers the arrangement Philadelphia has makes sense, for biking infrastructure, the Moscow okrugs who choose to be proactive seem to face less resistance to implementing bicycle infrastructure, since they go about their business independently of other okrugs. None of the bicycle infrastructure in Moscow seems to be run by any individuals or businesses, but solely governmental departments, making there be less hurdles in applying to have a bike corral at a given intersection, for example. And this isn't beginning to scratch the surface on all the [bizarre rules](https://www.phillymag.com/news/2019/06/17/bike-lanes-city-council/) for bicycle infrastructure in Philadelphia, such as the state being responsible for most of the bike lanes in the city.\n",
    "\n",
    "Another aspect of this is the concept of [*blagoustroistvo*](https://www.calvertjournal.com/features/show/10054/beyond-the-game-my-street-moscow-regeneration-urbanism) in Russian culture, which is the beautification of public spaces, and making it a desirable place to be. This concept has its roots in the 19th century and was a crucial part of certain Soviet initiatives like the Moscow metro system. Over the past decade, there has been a massive *blagoustroistvo* campaign [in Moscow](https://www.mos.ru/en/news/item/22289073/) and bicycle infrastructure is a portion of that project. As we can easily see in American cities like Philadelphia, *blagoustroistvo* is not really a priority, aside from debates surrounding gentrification, which usually isn't *actually* about aesthetics. \n",
    "\n",
    "It is not all perfect for Moscow, however. According to [Russian bicycle activists,](https://www.forbes.com/sites/carltonreid/2018/11/12/moscow-cycling-facing-dangerous-take-over-by-transport-department/#67761fb67dd3) the Moscow Department of Transportation has attempted to take over activist-organized bike parades in order to repress dissent. While Philadelphia has had many issues with the Philadelphia government to be more proactive in creating a better bicycle culture, no one can claim that City Hall is trying to co-opt their cause to silence activists."
   ]
  },
  {
   "cell_type": "markdown",
   "metadata": {},
   "source": [
    "## Motor Vehicle Accidents Involving Cyclists "
   ]
  },
  {
   "cell_type": "markdown",
   "metadata": {},
   "source": [
    "One of the biggest determinants of a healthy bicycle culture is the risk of a cyclist being hit by a car, and if the cyclist is killed. After all, no one wants to ride their bike if they think they'll be hurt or die in the process.\n",
    "\n",
    "Compared to America, Russia has had a lot of issues with car crashes in general; there were 15.85 deaths per 100,000 from car crashes, compared to 10.04 deaths per 100,000 in America, [according to the Russian government](https://www.rbth.com/lifestyle/330210-traffic-accidents). Moscow also has the worst traffic jams in the world, according to [a study done last year.](https://www.themoscowtimes.com/2019/02/13/moscow-has-worst-traffic-jams-in-world-study-says-a64477) There are a number of reasons cited for this, from to Russians being reckless drivers to outdated traffic management processes. \n",
    "\n",
    "In 2017, there were 494 deaths from 8907 recorded car crashes in Moscow. According to [a report](https://bicyclecoalition.org/wp-content/uploads/2019/02/Serving-Justice-in-Fatal-Crashes.pdf) released in January 2019 by the Bicycle Coalition of Philadelphia and Families for Safer Streets Greater Philadelphia, there is an average of 100 deaths from motor vehicle accidents per year in Philadelphia, and in 2017, there were 11013 accidents. \n",
    "\n",
    "With regard to accidents involving cyclists, in 2017 the Central Administrative Okrug in Moscow had 18 crashes involving cyclists in 2017, which resulted in 3 deaths and 15 people being injured. These areas of Moscow are where bicycle infrastructure exists; a preliminary look and other regions of Moscow show almost no reports of crashes involving cyclists. Philadelphia had 430 accidents involving cyclists, which resulted in two deaths. Considering all of that,  one must wonder why Moscow, knowing how much bigger it is than any American city, higher numbers of motor vehicle crash deaths, less bike infrastructure, and way more traffic than any American city, has this low amount of crashes with cyclists. \n",
    "\n",
    "There is always the possibility of going unreported and bureaucracy not working the way it should. It also helps that Moscow is extremely cold for many months of the year, so year-around cycling isn't a thing like it is in Philadelphia. However, these records are incredibly detailed, given the dash cams. And as seen above, Moscow has less car accidents in general than Philadelphia. This seems to be in part due to seemingly [more aggressive tackling](https://www.mos.ru/en/news/item/23356073/) of traffic and transportation issues from the Moscow government. The general road infrastructure itself is also much more clearly marked, and the roads are extremely smooth, unlike Philadelphia's pot-hole ridden streets. Although more research would need to be done to determine the exact reasons for why this is the case, the overall superior road infrastructure in Moscow helps the most to explain why cyclists in Moscow are not hit by cars nearly as much as cyclists in Philadelphia.  "
   ]
  },
  {
   "cell_type": "markdown",
   "metadata": {},
   "source": [
    "## Now all of this leads to the natural question: what can each city learn from one another?"
   ]
  },
  {
   "cell_type": "markdown",
   "metadata": {},
   "source": [
    "If Moscow is serious about its commitment to creating a bicycle-friendly city, it needs to move beyond the city center, and more parts of the city need to get on board with improving Moscow's bicycle culture. And of course, they should work with activists, not silence them, though this will never happen under current Russian politics. One can say that Philadelphia's bicycle infrastructure leaves a lot to be desired in this regard, but it's not all because of a lack of trying. Although Philadelphia certainly has much more work to do to make its city more bike-friendly, it has done more with less in many ways compared to Moscow.\n",
    "\n",
    "There are, however, things Philadelphia can learn from Moscow. For instance, being able to use one's SEPTA key to rent out an Indego bike, or creating a membership package that included SEPTA and Indego memberships in one, would incentivize someone to come and try Indego. The most significant take-away for Philadelphia would be to study why Moscow has so fewer cyclists being hit and killed by cars, especially given Moscow's higher motor vehicle crashes and population. Whatever the exact set of reasons are, those working on the issue in Philadelphia could do well for themselves by studying Moscow's bicycle culture and how the city government works to create better road conditions generally, and seeing what is different. \n",
    "\n",
    "All in all, seeing both cities that face two completely different sets of challenges in creating a positive bicycle culture, doing what they can is inspiring. Although there is a lot that both cities can improve upon, seeing all of this helps reassure cyclists of the world that someday we will all live in a place where it is safe to bike. "
   ]
  }
 ],
 "metadata": {
  "kernelspec": {
   "display_name": "Python 3",
   "language": "python",
   "name": "python3"
  },
  "language_info": {
   "codemirror_mode": {
    "name": "ipython",
    "version": 3
   },
   "file_extension": ".py",
   "mimetype": "text/x-python",
   "name": "python",
   "nbconvert_exporter": "python",
   "pygments_lexer": "ipython3",
   "version": "3.7.3"
  }
 },
 "nbformat": 4,
 "nbformat_minor": 2
}
