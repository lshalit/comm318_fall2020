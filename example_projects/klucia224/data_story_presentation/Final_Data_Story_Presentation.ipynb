{
 "cells": [
  {
   "cell_type": "markdown",
   "metadata": {},
   "source": [
    "# Data Exploration with California counties: Do economic and racial disparities affect teen pregnancy?\n",
    "### Lucia Kim "
   ]
  },
  {
   "cell_type": "markdown",
   "metadata": {},
   "source": [
    "![alt text](teen-pregnancy.png)\n",
    "                                                                                   Photo by Oklahoma Policy Institute \n"
   ]
  },
  {
   "cell_type": "markdown",
   "metadata": {},
   "source": [
    "The teen pregnancy rate in the United States has been on a [steady decline since 2009](https://www.cdc.gov/teenpregnancy/about/index.htm). In 2017, 194,377 babies were born to women ages 15-19 for a birth rate of about 19% per 1,000 women in this age category. Despite this statistic being a record low for American teens, the United States continues to have the highest teen pregnancy rate of developed nations. \n",
    "\n",
    "Therefore, teen pregnancy rate is a widely discussed topic, and various causation factors and solutions should be explored. Looking specifically at California, the question I'd like to investigate is whether the race and/or income of a county's population affects the observed proportion of adolescent births. In other words, could the racial and socioeconomic status of a women affect the probability of a teen birth?"
   ]
  },
  {
   "cell_type": "markdown",
   "metadata": {},
   "source": [
    "## Methods of Extracting Data "
   ]
  },
  {
   "cell_type": "markdown",
   "metadata": {},
   "source": [
    "To explore my data question, I used two datasets from California Open Data, a statewide open data portal. \n",
    " \n",
    "* The [first dataset](https://data.ca.gov/dataset/adolescent-births) contains information about the number of adolescent births (mothers' ages 15-19) in California counties from 2014-2016. It is important to note that I created another column containing the county's proportion of births, which takes into account the number of births in relation to the county's population. Other key variables in this dataset that I observed include the total population of the county as well as the ethnicity of the mother. Five mutually exclusive race categories are utilized: Hispanic, Multi-Race, Black, American Indian (includes Eskimo and Aleut), Asian and Pacific Islander (includes Hawaiian), and White. \n",
    "\n",
    "\n",
    "* The [second dataset](https://data.ca.gov/dataset/b-7-adjusted-gross-income-by-county) contains information about adjusted gross income for California personal income tax return data by county from 1995 to 2016. I focused on the \"All Returns\" column, as there is no information on the calculations behind the \"Adjusted Gross Income\" column. I drew conclusions about the income of an average woman in a given county based on this information."
   ]
  },
  {
   "cell_type": "markdown",
   "metadata": {},
   "source": [
    "## Main Findings\n",
    "### Proportion of Teen Births and County Returns"
   ]
  },
  {
   "cell_type": "markdown",
   "metadata": {},
   "source": [
    "![alt text](county_teenpopulation.png)\n",
    "Graph showing teen population by county. "
   ]
  },
  {
   "cell_type": "markdown",
   "metadata": {},
   "source": [
    "\n",
    "* There are huge discrepancies in teen population by county. The largest counties, Los Angeles, Orange, and San Diego, have teen populations of 3,226,770, 1,015,598, and 92,268, respectively. The smallest counties, Alpine, Sierra, and Modoc, have teen populations of 387, 621, and 2,784.\n",
    "\n",
    "\n",
    "* The top two counties in terms of returns are Orange and Los Angeles, and the bottom two are Tehama and Lake. The top two counties in terms of proportion of births are Imperial and Madera, and the bottom two are San Francisco and Placer. The fact that there isn't any overlap in the top counties in these two categories suggests that returns and births may have an inverse relationship. \n",
    "\n",
    "\n",
    "* Now to compare the proportion of births by county (number of births/county population) with returns by county, I've created the heatmaps below. The darkening of color represents an increase in the proportion of births or county returns, dependent on the graph you're looking at. Note that the red indicates missing data. "
   ]
  },
  {
   "cell_type": "markdown",
   "metadata": {},
   "source": [
    "<tr>\n",
    "    <td> <img src=\"births_heatmap.png\" alt=\"Drawing\" style=\"width: 700x;\"/> </td>\n",
    "    <td> <img src=\"returns_heatmap.png\" alt=\"Drawing\" style=\"width: 700px;\"/> </td>\n",
    "    </tr>\n"
   ]
  },
  {
   "cell_type": "markdown",
   "metadata": {},
   "source": [
    "* The side by side comparison shows the opposition of colors in these two graphs, once again revealing the potential inverse relationship between proportion of births and returns. \n",
    "\n",
    "\n",
    "* In fact, there is a calculated correlation of about -.2 between the variables \"All Returns\" and \"Proportion of Births.\" In other words, counties with higher returns see a lower proportion of births whereas counties with lower returns see a higher proportion of births.\n",
    "![alt text](corr_plot.png \"Title\")\n",
    "Graph showing correlation between returns and proportion of births. "
   ]
  },
  {
   "cell_type": "markdown",
   "metadata": {},
   "source": [
    "### Interactive Data\n",
    "As you scroll around, you can explore data on a given county's returns, proportion of births, and teen population."
   ]
  },
  {
   "cell_type": "code",
   "execution_count": 1,
   "metadata": {
    "hide_input": true
   },
   "outputs": [
    {
     "data": {
      "text/html": [
       "\n",
       "        <iframe\n",
       "            width=\"900\"\n",
       "            height=\"600\"\n",
       "            src=\"fig_interactive_VF.html\"\n",
       "            frameborder=\"0\"\n",
       "            allowfullscreen\n",
       "        ></iframe>\n",
       "        "
      ],
      "text/plain": [
       "<IPython.lib.display.IFrame at 0x7f3b74084978>"
      ]
     },
     "execution_count": 1,
     "metadata": {},
     "output_type": "execute_result"
    }
   ],
   "source": [
    "from IPython.display import IFrame\n",
    "\n",
    "IFrame(src='fig_interactive_VF.html', width=900, height=600)"
   ]
  },
  {
   "cell_type": "markdown",
   "metadata": {},
   "source": [
    "### Proportion of Teen Births and Race\n",
    "In exploring proportion of births and race, I will focus on the counties at the tail ends of the interactive figure. Orange County and Los Angeles are on the high end of returns and low end of births while Imperial and Madera are on the high end of births and low end of returns. It'll be interesting to look at the racial breakdown of these counties."
   ]
  },
  {
   "cell_type": "markdown",
   "metadata": {},
   "source": [
    "* We saw earlier that a county's returns  play a factor in its proportion of births, but further investigation reveals that race may also be an influential factor. In all four counties, the largest racial group is Hispanic; in fact, in Madera and Imperial, the observed population is entirely Hispanic.\n",
    "![alt text](county_racebreakdown.png \"Title\")\n",
    "\n",
    "* When specifically examining births by race within Los Angeles and Orange County, we see that Hispanics account for the greatest proportion of births, followed by Blacks."
   ]
  },
  {
   "cell_type": "markdown",
   "metadata": {},
   "source": [
    "<tr>\n",
    "    <td> <img src=\"births_LA.png\" alt=\"Drawing\" style=\"width: 700x;\"/> </td>\n",
    "    <td> <img src=\"births_OC.png\" alt=\"Drawing\" style=\"width: 700x;\"/> </td>\n",
    "    </tr>\n"
   ]
  },
  {
   "cell_type": "markdown",
   "metadata": {},
   "source": [
    "**The question then remains of why/how socioeconomic status and race, specifically low income and Hispanic demographics, interact to affect the number of teen pregnancies.**\n",
    "\n",
    "One explanation could be the lack of sex education. In 2016, however, the [California Healthy Youth Act](https://leginfo.legislature.ca.gov/faces/billNavClient.xhtml?bill_id=201520160AB329) was enacted, requiring that students in grades 7-12 receive education on human growth and development, including comprehensive sex education as well as birth control, abortion, and HIV prevention education. Of course, a  law does not necessarily guarentee change.  \n",
    "\n",
    "The issue may be deeper than education: it could be access to health clinics. Kayla Wilson teaches sex education for the Office of the Fresno County Superintendent of Schools, and works with Latina teen moms. Fresno is in the top 10 counties in terms of proportion of births. In explaining the [disproportionate birth rates](https://www.centerforhealthjournalism.org/fellowships/projects/teen-birth-rates-are-highest-our-poorest-neighborhoods-they-affect-all-us), she states, “[White affluent girls] are going to clinics. They have transportation. They have more of a means to get birth control.”\n",
    "\n",
    "Another potential factor in these rates could be cultural differences. Although we don't want to make broad cultural generalizations as families' approach to sex education varies on a case by case basis, cultural norms could influence the situation."
   ]
  },
  {
   "cell_type": "markdown",
   "metadata": {},
   "source": [
    "## Conclusion "
   ]
  },
  {
   "cell_type": "markdown",
   "metadata": {},
   "source": [
    "There are a lot of factors that play into teen pregnancy. My data exploration focused specifically on county returns and race, drawing implications about how a woman's ethnicity and socioeconomic status could potentially impact the probability of teen pregnancy. \n",
    "\n",
    "Today, we see that people are being proactive and responding to available data on teen pregnancy. School-based health centers are offering reproductive services, programs are mailing condoms to teens, and communities are fostering more productive conversations. \n",
    "\n",
    "There is no one solution, but by continuing to shed light on important data-driven results and proposing tailored solutions, hopefully, we can reduce the disparities among teen birth rates. **It is crucial to approach the situation with a lens that explores how various social groups may be impacted similarly or differently by a given solution. Understanding a proposed solution from multiple perspectives is key.**"
   ]
  }
 ],
 "metadata": {
  "kernelspec": {
   "display_name": "Python 3",
   "language": "python",
   "name": "python3"
  },
  "language_info": {
   "codemirror_mode": {
    "name": "ipython",
    "version": 3
   },
   "file_extension": ".py",
   "mimetype": "text/x-python",
   "name": "python",
   "nbconvert_exporter": "python",
   "pygments_lexer": "ipython3",
   "version": "3.7.3"
  }
 },
 "nbformat": 4,
 "nbformat_minor": 2
}
