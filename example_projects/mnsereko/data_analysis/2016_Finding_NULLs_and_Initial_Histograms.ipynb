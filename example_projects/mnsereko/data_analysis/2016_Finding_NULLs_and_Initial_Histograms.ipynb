{
 "cells": [
  {
   "cell_type": "code",
   "execution_count": 1,
   "metadata": {},
   "outputs": [],
   "source": [
    "%matplotlib inline\n",
    "import warnings\n",
    "warnings.filterwarnings('ignore')\n",
    "import matplotlib.pyplot as plt\n",
    "import pandas as pd\n",
    "import seaborn as sns\n",
    "import plotly_express as px\n",
    "import math"
   ]
  },
  {
   "cell_type": "markdown",
   "metadata": {},
   "source": [
    "## Initial Data Info"
   ]
  },
  {
   "cell_type": "code",
   "execution_count": 2,
   "metadata": {},
   "outputs": [
    {
     "data": {
      "text/plain": [
       "(2900, 49)"
      ]
     },
     "execution_count": 2,
     "metadata": {},
     "output_type": "execute_result"
    }
   ],
   "source": [
    "wta2016df= pd.read_csv(\"../data/orig/wta_matches_2016(1).csv\")\n",
    "wta2016df.shape"
   ]
  },
  {
   "cell_type": "code",
   "execution_count": 3,
   "metadata": {},
   "outputs": [
    {
     "data": {
      "text/html": [
       "<div>\n",
       "<style scoped>\n",
       "    .dataframe tbody tr th:only-of-type {\n",
       "        vertical-align: middle;\n",
       "    }\n",
       "\n",
       "    .dataframe tbody tr th {\n",
       "        vertical-align: top;\n",
       "    }\n",
       "\n",
       "    .dataframe thead th {\n",
       "        text-align: right;\n",
       "    }\n",
       "</style>\n",
       "<table border=\"1\" class=\"dataframe\">\n",
       "  <thead>\n",
       "    <tr style=\"text-align: right;\">\n",
       "      <th></th>\n",
       "      <th>tourney_id</th>\n",
       "      <th>tourney_name</th>\n",
       "      <th>surface</th>\n",
       "      <th>draw_size</th>\n",
       "      <th>tourney_level</th>\n",
       "      <th>tourney_date</th>\n",
       "      <th>match_num</th>\n",
       "      <th>winner_id</th>\n",
       "      <th>winner_seed</th>\n",
       "      <th>winner_entry</th>\n",
       "      <th>...</th>\n",
       "      <th>w_bpFaced</th>\n",
       "      <th>l_ace</th>\n",
       "      <th>l_df</th>\n",
       "      <th>l_svpt</th>\n",
       "      <th>l_1stIn</th>\n",
       "      <th>l_1stWon</th>\n",
       "      <th>l_2ndWon</th>\n",
       "      <th>l_SvGms</th>\n",
       "      <th>l_bpSaved</th>\n",
       "      <th>l_bpFaced</th>\n",
       "    </tr>\n",
       "  </thead>\n",
       "  <tbody>\n",
       "    <tr>\n",
       "      <th>0</th>\n",
       "      <td>2016-1049</td>\n",
       "      <td>Auckland</td>\n",
       "      <td>Hard</td>\n",
       "      <td>32</td>\n",
       "      <td>I</td>\n",
       "      <td>20160104</td>\n",
       "      <td>300</td>\n",
       "      <td>201585</td>\n",
       "      <td>5</td>\n",
       "      <td>NaN</td>\n",
       "      <td>...</td>\n",
       "      <td>2.0</td>\n",
       "      <td>6.0</td>\n",
       "      <td>2.0</td>\n",
       "      <td>59.0</td>\n",
       "      <td>35.0</td>\n",
       "      <td>26.0</td>\n",
       "      <td>11.0</td>\n",
       "      <td>10.0</td>\n",
       "      <td>3.0</td>\n",
       "      <td>6.0</td>\n",
       "    </tr>\n",
       "    <tr>\n",
       "      <th>1</th>\n",
       "      <td>2016-1049</td>\n",
       "      <td>Auckland</td>\n",
       "      <td>Hard</td>\n",
       "      <td>32</td>\n",
       "      <td>I</td>\n",
       "      <td>20160104</td>\n",
       "      <td>299</td>\n",
       "      <td>201504</td>\n",
       "      <td>NaN</td>\n",
       "      <td>NaN</td>\n",
       "      <td>...</td>\n",
       "      <td>1.0</td>\n",
       "      <td>0.0</td>\n",
       "      <td>0.0</td>\n",
       "      <td>44.0</td>\n",
       "      <td>27.0</td>\n",
       "      <td>19.0</td>\n",
       "      <td>5.0</td>\n",
       "      <td>9.0</td>\n",
       "      <td>2.0</td>\n",
       "      <td>6.0</td>\n",
       "    </tr>\n",
       "    <tr>\n",
       "      <th>2</th>\n",
       "      <td>2016-1049</td>\n",
       "      <td>Auckland</td>\n",
       "      <td>Hard</td>\n",
       "      <td>32</td>\n",
       "      <td>I</td>\n",
       "      <td>20160104</td>\n",
       "      <td>298</td>\n",
       "      <td>201585</td>\n",
       "      <td>5</td>\n",
       "      <td>NaN</td>\n",
       "      <td>...</td>\n",
       "      <td>7.0</td>\n",
       "      <td>1.0</td>\n",
       "      <td>3.0</td>\n",
       "      <td>68.0</td>\n",
       "      <td>43.0</td>\n",
       "      <td>26.0</td>\n",
       "      <td>12.0</td>\n",
       "      <td>10.0</td>\n",
       "      <td>4.0</td>\n",
       "      <td>7.0</td>\n",
       "    </tr>\n",
       "    <tr>\n",
       "      <th>3</th>\n",
       "      <td>2016-1049</td>\n",
       "      <td>Auckland</td>\n",
       "      <td>Hard</td>\n",
       "      <td>32</td>\n",
       "      <td>I</td>\n",
       "      <td>20160104</td>\n",
       "      <td>297</td>\n",
       "      <td>201504</td>\n",
       "      <td>NaN</td>\n",
       "      <td>NaN</td>\n",
       "      <td>...</td>\n",
       "      <td>0.0</td>\n",
       "      <td>4.0</td>\n",
       "      <td>2.0</td>\n",
       "      <td>91.0</td>\n",
       "      <td>61.0</td>\n",
       "      <td>44.0</td>\n",
       "      <td>15.0</td>\n",
       "      <td>15.0</td>\n",
       "      <td>2.0</td>\n",
       "      <td>5.0</td>\n",
       "    </tr>\n",
       "    <tr>\n",
       "      <th>4</th>\n",
       "      <td>2016-1049</td>\n",
       "      <td>Auckland</td>\n",
       "      <td>Hard</td>\n",
       "      <td>32</td>\n",
       "      <td>I</td>\n",
       "      <td>20160104</td>\n",
       "      <td>296</td>\n",
       "      <td>201481</td>\n",
       "      <td>NaN</td>\n",
       "      <td>Q</td>\n",
       "      <td>...</td>\n",
       "      <td>17.0</td>\n",
       "      <td>5.0</td>\n",
       "      <td>8.0</td>\n",
       "      <td>98.0</td>\n",
       "      <td>60.0</td>\n",
       "      <td>32.0</td>\n",
       "      <td>18.0</td>\n",
       "      <td>15.0</td>\n",
       "      <td>7.0</td>\n",
       "      <td>14.0</td>\n",
       "    </tr>\n",
       "  </tbody>\n",
       "</table>\n",
       "<p>5 rows × 49 columns</p>\n",
       "</div>"
      ],
      "text/plain": [
       "  tourney_id tourney_name surface  draw_size tourney_level  tourney_date  \\\n",
       "0  2016-1049     Auckland    Hard         32             I      20160104   \n",
       "1  2016-1049     Auckland    Hard         32             I      20160104   \n",
       "2  2016-1049     Auckland    Hard         32             I      20160104   \n",
       "3  2016-1049     Auckland    Hard         32             I      20160104   \n",
       "4  2016-1049     Auckland    Hard         32             I      20160104   \n",
       "\n",
       "   match_num  winner_id winner_seed winner_entry  ... w_bpFaced l_ace  l_df  \\\n",
       "0        300     201585           5          NaN  ...       2.0   6.0   2.0   \n",
       "1        299     201504         NaN          NaN  ...       1.0   0.0   0.0   \n",
       "2        298     201585           5          NaN  ...       7.0   1.0   3.0   \n",
       "3        297     201504         NaN          NaN  ...       0.0   4.0   2.0   \n",
       "4        296     201481         NaN            Q  ...      17.0   5.0   8.0   \n",
       "\n",
       "  l_svpt  l_1stIn  l_1stWon  l_2ndWon  l_SvGms l_bpSaved l_bpFaced  \n",
       "0   59.0     35.0      26.0      11.0     10.0       3.0       6.0  \n",
       "1   44.0     27.0      19.0       5.0      9.0       2.0       6.0  \n",
       "2   68.0     43.0      26.0      12.0     10.0       4.0       7.0  \n",
       "3   91.0     61.0      44.0      15.0     15.0       2.0       5.0  \n",
       "4   98.0     60.0      32.0      18.0     15.0       7.0      14.0  \n",
       "\n",
       "[5 rows x 49 columns]"
      ]
     },
     "execution_count": 3,
     "metadata": {},
     "output_type": "execute_result"
    }
   ],
   "source": [
    "wta2016df.head()"
   ]
  },
  {
   "cell_type": "markdown",
   "metadata": {},
   "source": [
    "## Identifying Null height values to manually input heights from the WTA database"
   ]
  },
  {
   "cell_type": "code",
   "execution_count": 4,
   "metadata": {},
   "outputs": [
    {
     "data": {
      "text/plain": [
       "1247"
      ]
     },
     "execution_count": 4,
     "metadata": {},
     "output_type": "execute_result"
    }
   ],
   "source": [
    "wta2016df[wta2016df['winner_ht'].isnull()]['winner_name'].count()"
   ]
  },
  {
   "cell_type": "code",
   "execution_count": 5,
   "metadata": {},
   "outputs": [
    {
     "data": {
      "text/plain": [
       "1549"
      ]
     },
     "execution_count": 5,
     "metadata": {},
     "output_type": "execute_result"
    }
   ],
   "source": [
    "wta2016df[wta2016df['loser_ht'].isnull()]['loser_name'].count()"
   ]
  },
  {
   "cell_type": "code",
   "execution_count": 6,
   "metadata": {},
   "outputs": [
    {
     "data": {
      "text/plain": [
       "170.0    153\n",
       "174.0    152\n",
       "180.0    126\n",
       "177.0    107\n",
       "168.0    104\n",
       "182.0    102\n",
       "173.0    101\n",
       "178.0     91\n",
       "184.0     76\n",
       "175.0     69\n",
       "183.0     61\n",
       "164.0     60\n",
       "161.0     56\n",
       "185.0     55\n",
       "165.0     48\n",
       "162.0     39\n",
       "176.0     39\n",
       "179.0     35\n",
       "172.0     32\n",
       "163.0     31\n",
       "166.0     30\n",
       "181.0     29\n",
       "159.0     25\n",
       "157.0     16\n",
       "169.0     13\n",
       "171.0      3\n",
       "Name: winner_ht, dtype: int64"
      ]
     },
     "execution_count": 6,
     "metadata": {},
     "output_type": "execute_result"
    }
   ],
   "source": [
    "wta2016df['winner_ht'].value_counts()"
   ]
  },
  {
   "cell_type": "code",
   "execution_count": 7,
   "metadata": {},
   "outputs": [
    {
     "data": {
      "text/plain": [
       "Johanna Konta                   46\n",
       "Monica Puig                     42\n",
       "Caroline Garcia                 41\n",
       "Darya Kasatkina                 33\n",
       "Timea Bacsinszky                32\n",
       "Shuai Zhang                     30\n",
       "Laura Siegemund                 29\n",
       "Eugenie Bouchard                29\n",
       "Daria Gavrilova                 29\n",
       "Yulia Putintseva                28\n",
       "Alison Riske                    26\n",
       "Ana Konjuh                      22\n",
       "Anastasija Sevastova            21\n",
       "Naomi Osaka                     20\n",
       "Belinda Bencic                  20\n",
       "Viktorija Golubic               20\n",
       "Jelena Ostapenko                19\n",
       "Anna Lena Friedsam              19\n",
       "Nao Hibino                      19\n",
       "Danka Kovinic                   18\n",
       "Katerina Siniakova              17\n",
       "Kurumi Nara                     16\n",
       "Madison Brengle                 16\n",
       "Evgeniya Rodina                 16\n",
       "Kristyna Pliskova               15\n",
       "Mirjana Lucic                   14\n",
       "Denisa Allertova                14\n",
       "Saisai Zheng                    13\n",
       "Anett Kontaveit                 13\n",
       "Shelby Rogers                   13\n",
       "                                ..\n",
       "Maria Fernanda Alvarez Teran     1\n",
       "Andrea Koch Benvenuto            1\n",
       "Marketa Vondrousova              1\n",
       "Camila Quesada                   1\n",
       "Amira Benaissa                   1\n",
       "Myrtille Georges                 1\n",
       "Khim Iglupas                     1\n",
       "Anastasia Pivovarova             1\n",
       "Eleni Christofi                  1\n",
       "Danielle Lao                     1\n",
       "Danielle Rose Collins            1\n",
       "Jil Belen Teichmann              1\n",
       "Jamie Loeb                       1\n",
       "Jawairiah Noordin                1\n",
       "Barbora Stefkova                 1\n",
       "Silvia Njiric                    1\n",
       "Chiraz Bechri                    1\n",
       "Arlinda Rushiti                  1\n",
       "Deria Nur Haliza                 1\n",
       "Katharina Lehnert                1\n",
       "Katie Swan                       1\n",
       "Barbara Haas                     1\n",
       "Dona Abo Habaga                  1\n",
       "Sara Amiri                       1\n",
       "Anna Bondar                      1\n",
       "Nigina Abduraimova               1\n",
       "Andrea Gamiz                     1\n",
       "Anne Schaefer                    1\n",
       "Florencia Rossi                  1\n",
       "Ulrikke Eikeri                   1\n",
       "Name: winner_name, Length: 195, dtype: int64"
      ]
     },
     "execution_count": 7,
     "metadata": {},
     "output_type": "execute_result"
    }
   ],
   "source": [
    "wta2016df[wta2016df['winner_ht'].isnull()]['winner_name'].value_counts()"
   ]
  },
  {
   "cell_type": "markdown",
   "metadata": {},
   "source": [
    "__I can now go into the original data set and add the appopriate heights for each of these players__"
   ]
  },
  {
   "cell_type": "markdown",
   "metadata": {},
   "source": [
    "## Working with the New Data Set after Inputting heights"
   ]
  },
  {
   "cell_type": "code",
   "execution_count": 8,
   "metadata": {},
   "outputs": [
    {
     "data": {
      "text/plain": [
       "(2900, 49)"
      ]
     },
     "execution_count": 8,
     "metadata": {},
     "output_type": "execute_result"
    }
   ],
   "source": [
    "wta2016df= pd.read_csv(\"../data/clean/wta_matches_2016 (1).csv\")\n",
    "wta2016df.shape"
   ]
  },
  {
   "cell_type": "code",
   "execution_count": 9,
   "metadata": {},
   "outputs": [
    {
     "data": {
      "text/plain": [
       "Index(['tourney_id', 'tourney_name', 'surface', 'draw_size', 'tourney_level',\n",
       "       'tourney_date', 'match_num', 'winner_id', 'winner_seed', 'winner_entry',\n",
       "       'winner_name', 'winner_hand', 'winner_ht', 'winner_ioc', 'winner_age',\n",
       "       'winner_rank', 'winner_rank_points', 'loser_id', 'loser_seed',\n",
       "       'loser_entry', 'loser_name', 'loser_hand', 'loser_ht', 'loser_ioc',\n",
       "       'loser_age', 'loser_rank', 'loser_rank_points', 'score', 'best_of',\n",
       "       'round', 'minutes', 'w_ace', 'w_df', 'w_svpt', 'w_1stIn', 'w_1stWon',\n",
       "       'w_2ndWon', 'w_SvGms', 'w_bpSaved', 'w_bpFaced', 'l_ace', 'l_df',\n",
       "       'l_svpt', 'l_1stIn', 'l_1stWon', 'l_2ndWon', 'l_SvGms', 'l_bpSaved',\n",
       "       'l_bpFaced'],\n",
       "      dtype='object')"
      ]
     },
     "execution_count": 9,
     "metadata": {},
     "output_type": "execute_result"
    }
   ],
   "source": [
    "wta2016df.columns"
   ]
  },
  {
   "cell_type": "markdown",
   "metadata": {},
   "source": [
    "## Inputting a Number of Sets Column into the New Data Set"
   ]
  },
  {
   "cell_type": "code",
   "execution_count": 10,
   "metadata": {},
   "outputs": [],
   "source": [
    "wta2016df['num_sets']=wta2016df['score'].str.count('-')"
   ]
  },
  {
   "cell_type": "code",
   "execution_count": 11,
   "metadata": {},
   "outputs": [
    {
     "data": {
      "text/plain": [
       "0           7-5 6-2\n",
       "1           6-4 6-2\n",
       "2        6-2 7-6(3)\n",
       "3    6-7(3) 6-2 6-4\n",
       "4    6-4 6-7(3) 6-3\n",
       "Name: score, dtype: object"
      ]
     },
     "execution_count": 11,
     "metadata": {},
     "output_type": "execute_result"
    }
   ],
   "source": [
    "wta2016df.head(5)['score']"
   ]
  },
  {
   "cell_type": "code",
   "execution_count": 12,
   "metadata": {},
   "outputs": [
    {
     "data": {
      "text/plain": [
       "0    2\n",
       "1    2\n",
       "2    2\n",
       "3    3\n",
       "4    3\n",
       "Name: num_sets, dtype: int64"
      ]
     },
     "execution_count": 12,
     "metadata": {},
     "output_type": "execute_result"
    }
   ],
   "source": [
    "wta2016df.head(5)['num_sets']"
   ]
  },
  {
   "cell_type": "markdown",
   "metadata": {},
   "source": [
    "## Confirming that the New Data Has Less Null Heights"
   ]
  },
  {
   "cell_type": "code",
   "execution_count": 13,
   "metadata": {},
   "outputs": [
    {
     "data": {
      "text/plain": [
       "314"
      ]
     },
     "execution_count": 13,
     "metadata": {},
     "output_type": "execute_result"
    }
   ],
   "source": [
    "wta2016df[wta2016df['loser_ht'].isnull()]['loser_name'].count()"
   ]
  },
  {
   "cell_type": "markdown",
   "metadata": {},
   "source": [
    "314 < 1549 so the loser nulls have decreased"
   ]
  },
  {
   "cell_type": "code",
   "execution_count": 14,
   "metadata": {},
   "outputs": [
    {
     "data": {
      "text/plain": [
       "118"
      ]
     },
     "execution_count": 14,
     "metadata": {},
     "output_type": "execute_result"
    }
   ],
   "source": [
    "wta2016df[wta2016df['winner_ht'].isnull()]['winner_name'].count()"
   ]
  },
  {
   "cell_type": "markdown",
   "metadata": {},
   "source": [
    "118 < 1247 so the winner nulls have decreased"
   ]
  },
  {
   "cell_type": "markdown",
   "metadata": {},
   "source": [
    "## Saving the New Data Set"
   ]
  },
  {
   "cell_type": "code",
   "execution_count": 15,
   "metadata": {},
   "outputs": [],
   "source": [
    "wta2016df.to_csv('../data/clean/wta_matches_2016.csv', index=False)"
   ]
  },
  {
   "cell_type": "markdown",
   "metadata": {},
   "source": [
    "## Initial Histograms comparing Winners v. Losers distribution of key variables"
   ]
  },
  {
   "cell_type": "code",
   "execution_count": 16,
   "metadata": {},
   "outputs": [
    {
     "data": {
      "image/png": "[encoded data removed]",
      "text/plain": [
       "<Figure size 432x288 with 1 Axes>"
      ]
     },
     "metadata": {
      "needs_background": "light"
     },
     "output_type": "display_data"
    }
   ],
   "source": [
    "plt.hist(wta2016df['winner_age'], alpha=0.5, label='Match Winner')\n",
    "plt.hist(wta2016df['loser_age'], alpha=0.5, label='Match Loser')\n",
    "plt.legend(loc='upper right')\n",
    "plt.show()"
   ]
  },
  {
   "cell_type": "code",
   "execution_count": 17,
   "metadata": {},
   "outputs": [
    {
     "data": {
      "image/png": "[encoded data removed]",
      "text/plain": [
       "<Figure size 432x288 with 1 Axes>"
      ]
     },
     "metadata": {
      "needs_background": "light"
     },
     "output_type": "display_data"
    }
   ],
   "source": [
    "plt.hist(wta2016df['w_df'], alpha=0.5, label='Match Winner')\n",
    "plt.hist(wta2016df['l_df'], alpha=0.5, label='Match Loser')\n",
    "plt.legend(loc='upper right')\n",
    "plt.show()"
   ]
  },
  {
   "cell_type": "code",
   "execution_count": 18,
   "metadata": {},
   "outputs": [
    {
     "data": {
      "image/png": "[encoded data removed]",
      "text/plain": [
       "<Figure size 432x288 with 1 Axes>"
      ]
     },
     "metadata": {
      "needs_background": "light"
     },
     "output_type": "display_data"
    }
   ],
   "source": [
    "plt.hist(wta2016df['winner_ht'], alpha=0.5, label='Match Winner')\n",
    "plt.hist(wta2016df['loser_ht'], alpha=0.5, label='Match Loser')\n",
    "plt.legend(loc='upper right')\n",
    "plt.show()"
   ]
  },
  {
   "cell_type": "code",
   "execution_count": 19,
   "metadata": {},
   "outputs": [
    {
     "data": {
      "image/png": "[encoded data removed]",
      "text/plain": [
       "<Figure size 432x288 with 1 Axes>"
      ]
     },
     "metadata": {
      "needs_background": "light"
     },
     "output_type": "display_data"
    }
   ],
   "source": [
    "plt.hist(wta2016df['w_1stIn'], alpha=0.5, label='Match Winner')\n",
    "plt.hist(wta2016df['l_1stIn'], alpha=0.5, label='Match Loser')\n",
    "plt.legend(loc='upper right')\n",
    "plt.show()"
   ]
  },
  {
   "cell_type": "code",
   "execution_count": 20,
   "metadata": {},
   "outputs": [
    {
     "data": {
      "image/png": "[encoded data removed]",
      "text/plain": [
       "<Figure size 432x288 with 1 Axes>"
      ]
     },
     "metadata": {
      "needs_background": "light"
     },
     "output_type": "display_data"
    }
   ],
   "source": [
    "plt.hist(wta2016df['w_bpFaced'], alpha=0.5, label='Match Winner')\n",
    "plt.hist(wta2016df['l_bpFaced'], alpha=0.5, label='Match Loser')\n",
    "plt.legend(loc='upper right')\n",
    "plt.show()"
   ]
  },
  {
   "cell_type": "code",
   "execution_count": 21,
   "metadata": {},
   "outputs": [
    {
     "data": {
      "image/png": "[encoded data removed]",
      "text/plain": [
       "<Figure size 432x288 with 1 Axes>"
      ]
     },
     "metadata": {
      "needs_background": "light"
     },
     "output_type": "display_data"
    }
   ],
   "source": [
    "plt.hist(wta2016df['w_bpSaved'], alpha=0.5, label='Match Winner')\n",
    "plt.hist(wta2016df['l_bpSaved'], alpha=0.5, label='Match Loser')\n",
    "plt.legend(loc='upper right')\n",
    "plt.show()"
   ]
  },
  {
   "cell_type": "code",
   "execution_count": 22,
   "metadata": {},
   "outputs": [
    {
     "data": {
      "image/png": "[encoded data removed]",
      "text/plain": [
       "<Figure size 432x288 with 1 Axes>"
      ]
     },
     "metadata": {
      "needs_background": "light"
     },
     "output_type": "display_data"
    }
   ],
   "source": [
    "plt.hist(wta2016df['winner_rank'], alpha=0.5, label='Match Winner')\n",
    "plt.hist(wta2016df['loser_rank'], alpha=0.5, label='Match Loser')\n",
    "plt.legend(loc='upper right')\n",
    "plt.show()"
   ]
  },
  {
   "cell_type": "code",
   "execution_count": 23,
   "metadata": {},
   "outputs": [
    {
     "data": {
      "image/png": "[encoded data removed]",
      "text/plain": [
       "<Figure size 432x288 with 1 Axes>"
      ]
     },
     "metadata": {
      "needs_background": "light"
     },
     "output_type": "display_data"
    }
   ],
   "source": [
    "plt.hist(wta2016df['w_1stWon'], alpha=0.5, label='Match Winner')\n",
    "plt.hist(wta2016df['l_1stWon'], alpha=0.5, label='Match Loser')\n",
    "plt.legend(loc='upper right')\n",
    "plt.show()"
   ]
  },
  {
   "cell_type": "code",
   "execution_count": 24,
   "metadata": {},
   "outputs": [
    {
     "data": {
      "image/png": "[encoded data removed]",
      "text/plain": [
       "<Figure size 432x288 with 1 Axes>"
      ]
     },
     "metadata": {
      "needs_background": "light"
     },
     "output_type": "display_data"
    }
   ],
   "source": [
    "plt.hist(wta2016df['w_2ndWon'], alpha=0.5, label='Match Winner')\n",
    "plt.hist(wta2016df['l_2ndWon'], alpha=0.5, label='Match Loser')\n",
    "plt.legend(loc='upper right')\n",
    "plt.show()"
   ]
  }
 ],
 "metadata": {
  "kernelspec": {
   "display_name": "Python 3",
   "language": "python",
   "name": "python3"
  },
  "language_info": {
   "codemirror_mode": {
    "name": "ipython",
    "version": 3
   },
   "file_extension": ".py",
   "mimetype": "text/x-python",
   "name": "python",
   "nbconvert_exporter": "python",
   "pygments_lexer": "ipython3",
   "version": "3.7.3"
  }
 },
 "nbformat": 4,
 "nbformat_minor": 2
}
