{
 "cells": [
  {
   "cell_type": "code",
   "execution_count": 1,
   "metadata": {},
   "outputs": [],
   "source": [
    "%matplotlib inline\n",
    "import warnings\n",
    "warnings.filterwarnings('ignore')\n",
    "import matplotlib.pyplot as plt\n",
    "import pandas as pd\n",
    "import seaborn as sns\n",
    "import plotly_express as px\n",
    "import math"
   ]
  },
  {
   "cell_type": "markdown",
   "metadata": {},
   "source": [
    "## Initial Data Info"
   ]
  },
  {
   "cell_type": "code",
   "execution_count": 2,
   "metadata": {},
   "outputs": [
    {
     "data": {
      "text/plain": [
       "(2181, 49)"
      ]
     },
     "execution_count": 2,
     "metadata": {},
     "output_type": "execute_result"
    }
   ],
   "source": [
    "wta2017df= pd.read_csv(\"../data/orig/wta_matches_2017.csv\")\n",
    "wta2017df.shape"
   ]
  },
  {
   "cell_type": "code",
   "execution_count": 3,
   "metadata": {},
   "outputs": [
    {
     "data": {
      "text/html": [
       "<div>\n",
       "<style scoped>\n",
       "    .dataframe tbody tr th:only-of-type {\n",
       "        vertical-align: middle;\n",
       "    }\n",
       "\n",
       "    .dataframe tbody tr th {\n",
       "        vertical-align: top;\n",
       "    }\n",
       "\n",
       "    .dataframe thead th {\n",
       "        text-align: right;\n",
       "    }\n",
       "</style>\n",
       "<table border=\"1\" class=\"dataframe\">\n",
       "  <thead>\n",
       "    <tr style=\"text-align: right;\">\n",
       "      <th></th>\n",
       "      <th>tourney_id</th>\n",
       "      <th>tourney_name</th>\n",
       "      <th>surface</th>\n",
       "      <th>draw_size</th>\n",
       "      <th>tourney_level</th>\n",
       "      <th>tourney_date</th>\n",
       "      <th>match_num</th>\n",
       "      <th>winner_id</th>\n",
       "      <th>winner_seed</th>\n",
       "      <th>winner_entry</th>\n",
       "      <th>...</th>\n",
       "      <th>w_bpFaced</th>\n",
       "      <th>l_ace</th>\n",
       "      <th>l_df</th>\n",
       "      <th>l_svpt</th>\n",
       "      <th>l_1stIn</th>\n",
       "      <th>l_1stWon</th>\n",
       "      <th>l_2ndWon</th>\n",
       "      <th>l_SvGms</th>\n",
       "      <th>l_bpSaved</th>\n",
       "      <th>l_bpFaced</th>\n",
       "    </tr>\n",
       "  </thead>\n",
       "  <tbody>\n",
       "    <tr>\n",
       "      <th>0</th>\n",
       "      <td>2017-1049</td>\n",
       "      <td>Auckland</td>\n",
       "      <td>Hard</td>\n",
       "      <td>32</td>\n",
       "      <td>I</td>\n",
       "      <td>20170102</td>\n",
       "      <td>300</td>\n",
       "      <td>201616</td>\n",
       "      <td>NaN</td>\n",
       "      <td>NaN</td>\n",
       "      <td>...</td>\n",
       "      <td>3.0</td>\n",
       "      <td>2.0</td>\n",
       "      <td>5.0</td>\n",
       "      <td>51.0</td>\n",
       "      <td>23.0</td>\n",
       "      <td>14.0</td>\n",
       "      <td>10.0</td>\n",
       "      <td>8.0</td>\n",
       "      <td>3.0</td>\n",
       "      <td>8.0</td>\n",
       "    </tr>\n",
       "    <tr>\n",
       "      <th>1</th>\n",
       "      <td>2017-1049</td>\n",
       "      <td>Auckland</td>\n",
       "      <td>Hard</td>\n",
       "      <td>32</td>\n",
       "      <td>I</td>\n",
       "      <td>20170102</td>\n",
       "      <td>299</td>\n",
       "      <td>201616</td>\n",
       "      <td>NaN</td>\n",
       "      <td>NaN</td>\n",
       "      <td>...</td>\n",
       "      <td>15.0</td>\n",
       "      <td>5.0</td>\n",
       "      <td>10.0</td>\n",
       "      <td>76.0</td>\n",
       "      <td>46.0</td>\n",
       "      <td>31.0</td>\n",
       "      <td>8.0</td>\n",
       "      <td>12.0</td>\n",
       "      <td>5.0</td>\n",
       "      <td>10.0</td>\n",
       "    </tr>\n",
       "    <tr>\n",
       "      <th>2</th>\n",
       "      <td>2017-1049</td>\n",
       "      <td>Auckland</td>\n",
       "      <td>Hard</td>\n",
       "      <td>32</td>\n",
       "      <td>I</td>\n",
       "      <td>20170102</td>\n",
       "      <td>298</td>\n",
       "      <td>211951</td>\n",
       "      <td>8.0</td>\n",
       "      <td>NaN</td>\n",
       "      <td>...</td>\n",
       "      <td>9.0</td>\n",
       "      <td>7.0</td>\n",
       "      <td>4.0</td>\n",
       "      <td>91.0</td>\n",
       "      <td>51.0</td>\n",
       "      <td>35.0</td>\n",
       "      <td>19.0</td>\n",
       "      <td>14.0</td>\n",
       "      <td>8.0</td>\n",
       "      <td>12.0</td>\n",
       "    </tr>\n",
       "    <tr>\n",
       "      <th>3</th>\n",
       "      <td>2017-1049</td>\n",
       "      <td>Auckland</td>\n",
       "      <td>Hard</td>\n",
       "      <td>32</td>\n",
       "      <td>I</td>\n",
       "      <td>20170102</td>\n",
       "      <td>297</td>\n",
       "      <td>211533</td>\n",
       "      <td>7.0</td>\n",
       "      <td>NaN</td>\n",
       "      <td>...</td>\n",
       "      <td>10.0</td>\n",
       "      <td>0.0</td>\n",
       "      <td>2.0</td>\n",
       "      <td>68.0</td>\n",
       "      <td>39.0</td>\n",
       "      <td>22.0</td>\n",
       "      <td>10.0</td>\n",
       "      <td>10.0</td>\n",
       "      <td>5.0</td>\n",
       "      <td>11.0</td>\n",
       "    </tr>\n",
       "    <tr>\n",
       "      <th>4</th>\n",
       "      <td>2017-1049</td>\n",
       "      <td>Auckland</td>\n",
       "      <td>Hard</td>\n",
       "      <td>32</td>\n",
       "      <td>I</td>\n",
       "      <td>20170102</td>\n",
       "      <td>296</td>\n",
       "      <td>201616</td>\n",
       "      <td>NaN</td>\n",
       "      <td>NaN</td>\n",
       "      <td>...</td>\n",
       "      <td>7.0</td>\n",
       "      <td>1.0</td>\n",
       "      <td>3.0</td>\n",
       "      <td>65.0</td>\n",
       "      <td>45.0</td>\n",
       "      <td>28.0</td>\n",
       "      <td>5.0</td>\n",
       "      <td>9.0</td>\n",
       "      <td>6.0</td>\n",
       "      <td>10.0</td>\n",
       "    </tr>\n",
       "  </tbody>\n",
       "</table>\n",
       "<p>5 rows × 49 columns</p>\n",
       "</div>"
      ],
      "text/plain": [
       "  tourney_id tourney_name surface  draw_size tourney_level  tourney_date  \\\n",
       "0  2017-1049     Auckland    Hard         32             I      20170102   \n",
       "1  2017-1049     Auckland    Hard         32             I      20170102   \n",
       "2  2017-1049     Auckland    Hard         32             I      20170102   \n",
       "3  2017-1049     Auckland    Hard         32             I      20170102   \n",
       "4  2017-1049     Auckland    Hard         32             I      20170102   \n",
       "\n",
       "   match_num  winner_id  winner_seed winner_entry  ... w_bpFaced l_ace  l_df  \\\n",
       "0        300     201616          NaN          NaN  ...       3.0   2.0   5.0   \n",
       "1        299     201616          NaN          NaN  ...      15.0   5.0  10.0   \n",
       "2        298     211951          8.0          NaN  ...       9.0   7.0   4.0   \n",
       "3        297     211533          7.0          NaN  ...      10.0   0.0   2.0   \n",
       "4        296     201616          NaN          NaN  ...       7.0   1.0   3.0   \n",
       "\n",
       "  l_svpt  l_1stIn  l_1stWon  l_2ndWon  l_SvGms  l_bpSaved l_bpFaced  \n",
       "0   51.0     23.0      14.0      10.0      8.0        3.0       8.0  \n",
       "1   76.0     46.0      31.0       8.0     12.0        5.0      10.0  \n",
       "2   91.0     51.0      35.0      19.0     14.0        8.0      12.0  \n",
       "3   68.0     39.0      22.0      10.0     10.0        5.0      11.0  \n",
       "4   65.0     45.0      28.0       5.0      9.0        6.0      10.0  \n",
       "\n",
       "[5 rows x 49 columns]"
      ]
     },
     "execution_count": 3,
     "metadata": {},
     "output_type": "execute_result"
    }
   ],
   "source": [
    "wta2017df.head()"
   ]
  },
  {
   "cell_type": "markdown",
   "metadata": {},
   "source": [
    "## Identifying Null height values to manually input heights from the WTA database"
   ]
  },
  {
   "cell_type": "code",
   "execution_count": 4,
   "metadata": {},
   "outputs": [
    {
     "data": {
      "text/plain": [
       "1007"
      ]
     },
     "execution_count": 4,
     "metadata": {},
     "output_type": "execute_result"
    }
   ],
   "source": [
    "wta2017df[wta2017df['winner_ht'].isnull()]['winner_name'].count()"
   ]
  },
  {
   "cell_type": "code",
   "execution_count": 5,
   "metadata": {},
   "outputs": [
    {
     "data": {
      "text/plain": [
       "1237"
      ]
     },
     "execution_count": 5,
     "metadata": {},
     "output_type": "execute_result"
    }
   ],
   "source": [
    "wta2017df[wta2017df['loser_ht'].isnull()]['loser_name'].count()"
   ]
  },
  {
   "cell_type": "code",
   "execution_count": 6,
   "metadata": {},
   "outputs": [
    {
     "data": {
      "text/plain": [
       "177.0    119\n",
       "174.0    112\n",
       "180.0     88\n",
       "184.0     85\n",
       "182.0     83\n",
       "168.0     82\n",
       "185.0     79\n",
       "170.0     74\n",
       "173.0     72\n",
       "164.0     48\n",
       "178.0     46\n",
       "176.0     41\n",
       "181.0     29\n",
       "175.0     28\n",
       "162.0     26\n",
       "166.0     24\n",
       "161.0     23\n",
       "172.0     23\n",
       "157.0     19\n",
       "165.0     18\n",
       "183.0     15\n",
       "179.0     12\n",
       "163.0     10\n",
       "159.0      9\n",
       "169.0      7\n",
       "167.0      2\n",
       "Name: winner_ht, dtype: int64"
      ]
     },
     "execution_count": 6,
     "metadata": {},
     "output_type": "execute_result"
    }
   ],
   "source": [
    "wta2017df['winner_ht'].value_counts()"
   ]
  },
  {
   "cell_type": "code",
   "execution_count": 7,
   "metadata": {},
   "outputs": [
    {
     "data": {
      "text/plain": [
       "Johanna Konta               37\n",
       "Anastasija Sevastova        35\n",
       "Caroline Garcia             33\n",
       "Jelena Ostapenko            31\n",
       "Daria Gavrilova             28\n",
       "Elise Mertens               26\n",
       "Ashleigh Barty              24\n",
       "Anett Kontaveit             24\n",
       "Darya Kasatkina             22\n",
       "Ana Konjuh                  22\n",
       "Kristyna Pliskova           21\n",
       "Katerina Siniakova          21\n",
       "Qiang Wang                  21\n",
       "Shelby Rogers               21\n",
       "Mirjana Lucic               20\n",
       "Alison Riske                19\n",
       "Timea Bacsinszky            18\n",
       "Naomi Osaka                 17\n",
       "Yulia Putintseva            17\n",
       "Catherine Cartan Bellis     17\n",
       "Carina Witthoeft            16\n",
       "Donna Vekic                 16\n",
       "Shuai Zhang                 14\n",
       "Ying Ying Duan              14\n",
       "Aliaksandra Sasnovich       14\n",
       "Monica Puig                 13\n",
       "Oceane Dodin                13\n",
       "Maria Sakkari               13\n",
       "Laura Siegemund             13\n",
       "Magda Linette               12\n",
       "                            ..\n",
       "Elitsa Kostova               1\n",
       "Riko Sawayanagi              1\n",
       "Zhaoxuan Yang                1\n",
       "Tena Lukas                   1\n",
       "Asia Muhammed                1\n",
       "Meiling Wang                 1\n",
       "Destanee Aiava               1\n",
       "Elena Gabriela Ruse          1\n",
       "Jia Jing Lu                  1\n",
       "Tereza Mrdeza                1\n",
       "Gabriela Dabrowski           1\n",
       "Miyu Kato                    1\n",
       "Olga Saez Larra              1\n",
       "Cindy Burger                 1\n",
       "Jaimee Fourlis               1\n",
       "Jaqueline Adina Cristian     1\n",
       "Petra Krejsova               1\n",
       "Anna Zaja                    1\n",
       "Chia Jung Chuang             1\n",
       "Barbara Haas                 1\n",
       "Amandine Hesse               1\n",
       "Viktoriya Tomova             1\n",
       "Xinyu Gao                    1\n",
       "Lina Gjorcheska              1\n",
       "Shiho Akita                  1\n",
       "Caroline Dolehide            1\n",
       "Martina Trevisan             1\n",
       "Chloe Paquet                 1\n",
       "Lizette Cabrera              1\n",
       "Ayla Aksu                    1\n",
       "Name: winner_name, Length: 140, dtype: int64"
      ]
     },
     "execution_count": 7,
     "metadata": {},
     "output_type": "execute_result"
    }
   ],
   "source": [
    "wta2017df[wta2017df['winner_ht'].isnull()]['winner_name'].value_counts()"
   ]
  },
  {
   "cell_type": "markdown",
   "metadata": {},
   "source": [
    "__I can now go into the original data set and add the appopriate heights for each of these players__"
   ]
  },
  {
   "cell_type": "markdown",
   "metadata": {},
   "source": [
    "## Working with the New Data Set after Inputting heights"
   ]
  },
  {
   "cell_type": "code",
   "execution_count": 8,
   "metadata": {},
   "outputs": [
    {
     "data": {
      "text/plain": [
       "(2181, 49)"
      ]
     },
     "execution_count": 8,
     "metadata": {},
     "output_type": "execute_result"
    }
   ],
   "source": [
    "wta2017df= pd.read_csv(\"../data/clean/wta_matches_2017(1).csv\")\n",
    "wta2017df.shape"
   ]
  },
  {
   "cell_type": "code",
   "execution_count": 9,
   "metadata": {},
   "outputs": [
    {
     "data": {
      "text/plain": [
       "Index(['tourney_id', 'tourney_name', 'surface', 'draw_size', 'tourney_level',\n",
       "       'tourney_date', 'match_num', 'winner_id', 'winner_seed', 'winner_entry',\n",
       "       'winner_name', 'winner_hand', 'winner_ht', 'winner_ioc', 'winner_age',\n",
       "       'winner_rank', 'winner_rank_points', 'loser_id', 'loser_seed',\n",
       "       'loser_entry', 'loser_name', 'loser_hand', 'loser_ht', 'loser_ioc',\n",
       "       'loser_age', 'loser_rank', 'loser_rank_points', 'score', 'best_of',\n",
       "       'round', 'minutes', 'w_ace', 'w_df', 'w_svpt', 'w_1stIn', 'w_1stWon',\n",
       "       'w_2ndWon', 'w_SvGms', 'w_bpSaved', 'w_bpFaced', 'l_ace', 'l_df',\n",
       "       'l_svpt', 'l_1stIn', 'l_1stWon', 'l_2ndWon', 'l_SvGms', 'l_bpSaved',\n",
       "       'l_bpFaced'],\n",
       "      dtype='object')"
      ]
     },
     "execution_count": 9,
     "metadata": {},
     "output_type": "execute_result"
    }
   ],
   "source": [
    "wta2017df.columns"
   ]
  },
  {
   "cell_type": "markdown",
   "metadata": {},
   "source": [
    "## Inputting a Number of Sets Column into the New Data Set"
   ]
  },
  {
   "cell_type": "code",
   "execution_count": 10,
   "metadata": {},
   "outputs": [],
   "source": [
    "wta2017df['num_sets']=wta2017df['score'].str.count('-')"
   ]
  },
  {
   "cell_type": "code",
   "execution_count": 11,
   "metadata": {},
   "outputs": [
    {
     "data": {
      "text/plain": [
       "0            6-3 6-1\n",
       "1    4-6 6-4 4-1 RET\n",
       "2        6-3 4-6 6-3\n",
       "3            7-5 6-3\n",
       "4         6-1 7-6(4)\n",
       "Name: score, dtype: object"
      ]
     },
     "execution_count": 11,
     "metadata": {},
     "output_type": "execute_result"
    }
   ],
   "source": [
    "wta2017df.head(5)['score']"
   ]
  },
  {
   "cell_type": "code",
   "execution_count": 12,
   "metadata": {},
   "outputs": [
    {
     "data": {
      "text/plain": [
       "0    2\n",
       "1    3\n",
       "2    3\n",
       "3    2\n",
       "4    2\n",
       "Name: num_sets, dtype: int64"
      ]
     },
     "execution_count": 12,
     "metadata": {},
     "output_type": "execute_result"
    }
   ],
   "source": [
    "wta2017df.head(5)['num_sets']"
   ]
  },
  {
   "cell_type": "markdown",
   "metadata": {},
   "source": [
    "## Confirming that the New Data Has Less Null Heights"
   ]
  },
  {
   "cell_type": "code",
   "execution_count": 13,
   "metadata": {},
   "outputs": [
    {
     "data": {
      "text/plain": [
       "373"
      ]
     },
     "execution_count": 13,
     "metadata": {},
     "output_type": "execute_result"
    }
   ],
   "source": [
    "wta2017df[wta2017df['loser_ht'].isnull()]['loser_name'].count()"
   ]
  },
  {
   "cell_type": "markdown",
   "metadata": {},
   "source": [
    "373 < 1237 so the loser nulls have decreased"
   ]
  },
  {
   "cell_type": "code",
   "execution_count": 14,
   "metadata": {},
   "outputs": [
    {
     "data": {
      "text/plain": [
       "152"
      ]
     },
     "execution_count": 14,
     "metadata": {},
     "output_type": "execute_result"
    }
   ],
   "source": [
    "wta2017df[wta2017df['winner_ht'].isnull()]['winner_name'].count()"
   ]
  },
  {
   "cell_type": "markdown",
   "metadata": {},
   "source": [
    "152 < 1007 so the winner nulls have decreased"
   ]
  },
  {
   "cell_type": "markdown",
   "metadata": {},
   "source": [
    "## Saving the New Data Set"
   ]
  },
  {
   "cell_type": "code",
   "execution_count": 15,
   "metadata": {},
   "outputs": [],
   "source": [
    "wta2017df.to_csv('../data/clean/wta_matches_2017.csv', index=False)"
   ]
  },
  {
   "cell_type": "markdown",
   "metadata": {},
   "source": [
    "## Initial Histograms comparing Winners v. Losers distribution of key variables"
   ]
  },
  {
   "cell_type": "code",
   "execution_count": 16,
   "metadata": {},
   "outputs": [
    {
     "data": {
      "image/png": "[encoded data removed]",
      "text/plain": [
       "<Figure size 432x288 with 1 Axes>"
      ]
     },
     "metadata": {
      "needs_background": "light"
     },
     "output_type": "display_data"
    }
   ],
   "source": [
    "plt.hist(wta2017df['winner_age'], alpha=0.5, label='Match Winner')\n",
    "plt.hist(wta2017df['loser_age'], alpha=0.5, label='Match Loser')\n",
    "plt.legend(loc='upper right')\n",
    "plt.show()"
   ]
  },
  {
   "cell_type": "code",
   "execution_count": 17,
   "metadata": {},
   "outputs": [
    {
     "data": {
      "image/png": "[encoded data removed]",
      "text/plain": [
       "<Figure size 432x288 with 1 Axes>"
      ]
     },
     "metadata": {
      "needs_background": "light"
     },
     "output_type": "display_data"
    }
   ],
   "source": [
    "plt.hist(wta2017df['w_df'], alpha=0.5, label='Match Winner')\n",
    "plt.hist(wta2017df['l_df'], alpha=0.5, label='Match Loser')\n",
    "plt.legend(loc='upper right')\n",
    "plt.show()"
   ]
  },
  {
   "cell_type": "code",
   "execution_count": 18,
   "metadata": {},
   "outputs": [
    {
     "data": {
      "image/png": "[encoded data removed]",
      "text/plain": [
       "<Figure size 432x288 with 1 Axes>"
      ]
     },
     "metadata": {
      "needs_background": "light"
     },
     "output_type": "display_data"
    }
   ],
   "source": [
    "plt.hist(wta2017df['winner_ht'], alpha=0.5, label='Match Winner')\n",
    "plt.hist(wta2017df['loser_ht'], alpha=0.5, label='Match Loser')\n",
    "plt.legend(loc='upper right')\n",
    "plt.show()"
   ]
  },
  {
   "cell_type": "code",
   "execution_count": 19,
   "metadata": {},
   "outputs": [
    {
     "data": {
      "image/png": "[encoded data removed]",
      "text/plain": [
       "<Figure size 432x288 with 1 Axes>"
      ]
     },
     "metadata": {
      "needs_background": "light"
     },
     "output_type": "display_data"
    }
   ],
   "source": [
    "plt.hist(wta2017df['w_1stIn'], alpha=0.5, label='Match Winner')\n",
    "plt.hist(wta2017df['l_1stIn'], alpha=0.5, label='Match Loser')\n",
    "plt.legend(loc='upper right')\n",
    "plt.show()"
   ]
  },
  {
   "cell_type": "code",
   "execution_count": 20,
   "metadata": {},
   "outputs": [
    {
     "data": {
      "image/png": "[encoded data removed]",
      "text/plain": [
       "<Figure size 432x288 with 1 Axes>"
      ]
     },
     "metadata": {
      "needs_background": "light"
     },
     "output_type": "display_data"
    }
   ],
   "source": [
    "plt.hist(wta2017df['w_bpFaced'], alpha=0.5, label='Match Winner')\n",
    "plt.hist(wta2017df['l_bpFaced'], alpha=0.5, label='Match Loser')\n",
    "plt.legend(loc='upper right')\n",
    "plt.show()"
   ]
  },
  {
   "cell_type": "code",
   "execution_count": 21,
   "metadata": {},
   "outputs": [
    {
     "data": {
      "image/png": "[encoded data removed]",
      "text/plain": [
       "<Figure size 432x288 with 1 Axes>"
      ]
     },
     "metadata": {
      "needs_background": "light"
     },
     "output_type": "display_data"
    }
   ],
   "source": [
    "plt.hist(wta2017df['w_bpSaved'], alpha=0.5, label='Match Winner')\n",
    "plt.hist(wta2017df['l_bpSaved'], alpha=0.5, label='Match Loser')\n",
    "plt.legend(loc='upper right')\n",
    "plt.show()"
   ]
  },
  {
   "cell_type": "code",
   "execution_count": 22,
   "metadata": {},
   "outputs": [
    {
     "data": {
      "image/png": "[encoded data removed]",
      "text/plain": [
       "<Figure size 432x288 with 1 Axes>"
      ]
     },
     "metadata": {
      "needs_background": "light"
     },
     "output_type": "display_data"
    }
   ],
   "source": [
    "plt.hist(wta2017df['winner_rank'], alpha=0.5, label='Match Winner')\n",
    "plt.hist(wta2017df['loser_rank'], alpha=0.5, label='Match Loser')\n",
    "plt.legend(loc='upper right')\n",
    "plt.show()"
   ]
  },
  {
   "cell_type": "code",
   "execution_count": 23,
   "metadata": {},
   "outputs": [
    {
     "data": {
      "image/png": "[encoded data removed]",
      "text/plain": [
       "<Figure size 432x288 with 1 Axes>"
      ]
     },
     "metadata": {
      "needs_background": "light"
     },
     "output_type": "display_data"
    }
   ],
   "source": [
    "plt.hist(wta2017df['w_1stWon'], alpha=0.5, label='Match Winner')\n",
    "plt.hist(wta2017df['l_1stWon'], alpha=0.5, label='Match Loser')\n",
    "plt.legend(loc='upper right')\n",
    "plt.show()"
   ]
  },
  {
   "cell_type": "code",
   "execution_count": 24,
   "metadata": {},
   "outputs": [
    {
     "data": {
      "image/png": "[encoded data removed]",
      "text/plain": [
       "<Figure size 432x288 with 1 Axes>"
      ]
     },
     "metadata": {
      "needs_background": "light"
     },
     "output_type": "display_data"
    }
   ],
   "source": [
    "plt.hist(wta2017df['w_2ndWon'], alpha=0.5, label='Match Winner')\n",
    "plt.hist(wta2017df['l_2ndWon'], alpha=0.5, label='Match Loser')\n",
    "plt.legend(loc='upper right')\n",
    "plt.show()"
   ]
  }
 ],
 "metadata": {
  "kernelspec": {
   "display_name": "Python 3",
   "language": "python",
   "name": "python3"
  },
  "language_info": {
   "codemirror_mode": {
    "name": "ipython",
    "version": 3
   },
   "file_extension": ".py",
   "mimetype": "text/x-python",
   "name": "python",
   "nbconvert_exporter": "python",
   "pygments_lexer": "ipython3",
   "version": "3.7.3"
  }
 },
 "nbformat": 4,
 "nbformat_minor": 2
}
