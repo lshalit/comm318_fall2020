{
 "cells": [
  {
   "cell_type": "code",
   "execution_count": 1,
   "metadata": {},
   "outputs": [],
   "source": [
    "%matplotlib inline\n",
    "import warnings\n",
    "warnings.filterwarnings('ignore')\n",
    "import matplotlib.pyplot as plt\n",
    "import pandas as pd\n",
    "import seaborn as sns\n",
    "import plotly_express as px\n",
    "import math"
   ]
  },
  {
   "cell_type": "code",
   "execution_count": 2,
   "metadata": {},
   "outputs": [
    {
     "name": "stdout",
     "output_type": "stream",
     "text": [
      "(2900, 49)\n",
      "(2181, 49)\n"
     ]
    }
   ],
   "source": [
    "wta2016df= pd.read_csv(\"../data/clean/wta_matches_2016 (1).csv\")\n",
    "print(wta2016df.shape)\n",
    "wta2017df= pd.read_csv(\"../data/clean/wta_matches_2017(1).csv\")\n",
    "print(wta2017df.shape)"
   ]
  },
  {
   "cell_type": "code",
   "execution_count": 3,
   "metadata": {
    "scrolled": false
   },
   "outputs": [
    {
     "data": {
      "text/html": [
       "<div>\n",
       "<style scoped>\n",
       "    .dataframe tbody tr th:only-of-type {\n",
       "        vertical-align: middle;\n",
       "    }\n",
       "\n",
       "    .dataframe tbody tr th {\n",
       "        vertical-align: top;\n",
       "    }\n",
       "\n",
       "    .dataframe thead th {\n",
       "        text-align: right;\n",
       "    }\n",
       "</style>\n",
       "<table border=\"1\" class=\"dataframe\">\n",
       "  <thead>\n",
       "    <tr style=\"text-align: right;\">\n",
       "      <th></th>\n",
       "      <th>tourney_id</th>\n",
       "      <th>tourney_name</th>\n",
       "      <th>surface</th>\n",
       "      <th>draw_size</th>\n",
       "      <th>tourney_level</th>\n",
       "      <th>tourney_date</th>\n",
       "      <th>match_num</th>\n",
       "      <th>winner_id</th>\n",
       "      <th>winner_seed</th>\n",
       "      <th>winner_entry</th>\n",
       "      <th>...</th>\n",
       "      <th>w_bpFaced</th>\n",
       "      <th>l_ace</th>\n",
       "      <th>l_df</th>\n",
       "      <th>l_svpt</th>\n",
       "      <th>l_1stIn</th>\n",
       "      <th>l_1stWon</th>\n",
       "      <th>l_2ndWon</th>\n",
       "      <th>l_SvGms</th>\n",
       "      <th>l_bpSaved</th>\n",
       "      <th>l_bpFaced</th>\n",
       "    </tr>\n",
       "  </thead>\n",
       "  <tbody>\n",
       "    <tr>\n",
       "      <th>0</th>\n",
       "      <td>2017-1049</td>\n",
       "      <td>Auckland</td>\n",
       "      <td>Hard</td>\n",
       "      <td>32</td>\n",
       "      <td>I</td>\n",
       "      <td>20170102</td>\n",
       "      <td>300</td>\n",
       "      <td>201616</td>\n",
       "      <td>NaN</td>\n",
       "      <td>NaN</td>\n",
       "      <td>...</td>\n",
       "      <td>3.0</td>\n",
       "      <td>2.0</td>\n",
       "      <td>5.0</td>\n",
       "      <td>51.0</td>\n",
       "      <td>23.0</td>\n",
       "      <td>14.0</td>\n",
       "      <td>10.0</td>\n",
       "      <td>8.0</td>\n",
       "      <td>3.0</td>\n",
       "      <td>8.0</td>\n",
       "    </tr>\n",
       "    <tr>\n",
       "      <th>1</th>\n",
       "      <td>2017-1049</td>\n",
       "      <td>Auckland</td>\n",
       "      <td>Hard</td>\n",
       "      <td>32</td>\n",
       "      <td>I</td>\n",
       "      <td>20170102</td>\n",
       "      <td>299</td>\n",
       "      <td>201616</td>\n",
       "      <td>NaN</td>\n",
       "      <td>NaN</td>\n",
       "      <td>...</td>\n",
       "      <td>15.0</td>\n",
       "      <td>5.0</td>\n",
       "      <td>10.0</td>\n",
       "      <td>76.0</td>\n",
       "      <td>46.0</td>\n",
       "      <td>31.0</td>\n",
       "      <td>8.0</td>\n",
       "      <td>12.0</td>\n",
       "      <td>5.0</td>\n",
       "      <td>10.0</td>\n",
       "    </tr>\n",
       "    <tr>\n",
       "      <th>2</th>\n",
       "      <td>2017-1049</td>\n",
       "      <td>Auckland</td>\n",
       "      <td>Hard</td>\n",
       "      <td>32</td>\n",
       "      <td>I</td>\n",
       "      <td>20170102</td>\n",
       "      <td>298</td>\n",
       "      <td>211951</td>\n",
       "      <td>8.0</td>\n",
       "      <td>NaN</td>\n",
       "      <td>...</td>\n",
       "      <td>9.0</td>\n",
       "      <td>7.0</td>\n",
       "      <td>4.0</td>\n",
       "      <td>91.0</td>\n",
       "      <td>51.0</td>\n",
       "      <td>35.0</td>\n",
       "      <td>19.0</td>\n",
       "      <td>14.0</td>\n",
       "      <td>8.0</td>\n",
       "      <td>12.0</td>\n",
       "    </tr>\n",
       "    <tr>\n",
       "      <th>3</th>\n",
       "      <td>2017-1049</td>\n",
       "      <td>Auckland</td>\n",
       "      <td>Hard</td>\n",
       "      <td>32</td>\n",
       "      <td>I</td>\n",
       "      <td>20170102</td>\n",
       "      <td>297</td>\n",
       "      <td>211533</td>\n",
       "      <td>7.0</td>\n",
       "      <td>NaN</td>\n",
       "      <td>...</td>\n",
       "      <td>10.0</td>\n",
       "      <td>0.0</td>\n",
       "      <td>2.0</td>\n",
       "      <td>68.0</td>\n",
       "      <td>39.0</td>\n",
       "      <td>22.0</td>\n",
       "      <td>10.0</td>\n",
       "      <td>10.0</td>\n",
       "      <td>5.0</td>\n",
       "      <td>11.0</td>\n",
       "    </tr>\n",
       "    <tr>\n",
       "      <th>4</th>\n",
       "      <td>2017-1049</td>\n",
       "      <td>Auckland</td>\n",
       "      <td>Hard</td>\n",
       "      <td>32</td>\n",
       "      <td>I</td>\n",
       "      <td>20170102</td>\n",
       "      <td>296</td>\n",
       "      <td>201616</td>\n",
       "      <td>NaN</td>\n",
       "      <td>NaN</td>\n",
       "      <td>...</td>\n",
       "      <td>7.0</td>\n",
       "      <td>1.0</td>\n",
       "      <td>3.0</td>\n",
       "      <td>65.0</td>\n",
       "      <td>45.0</td>\n",
       "      <td>28.0</td>\n",
       "      <td>5.0</td>\n",
       "      <td>9.0</td>\n",
       "      <td>6.0</td>\n",
       "      <td>10.0</td>\n",
       "    </tr>\n",
       "  </tbody>\n",
       "</table>\n",
       "<p>5 rows × 49 columns</p>\n",
       "</div>"
      ],
      "text/plain": [
       "  tourney_id tourney_name surface  draw_size tourney_level  tourney_date  \\\n",
       "0  2017-1049     Auckland    Hard         32             I      20170102   \n",
       "1  2017-1049     Auckland    Hard         32             I      20170102   \n",
       "2  2017-1049     Auckland    Hard         32             I      20170102   \n",
       "3  2017-1049     Auckland    Hard         32             I      20170102   \n",
       "4  2017-1049     Auckland    Hard         32             I      20170102   \n",
       "\n",
       "   match_num  winner_id  winner_seed winner_entry  ... w_bpFaced l_ace  l_df  \\\n",
       "0        300     201616          NaN          NaN  ...       3.0   2.0   5.0   \n",
       "1        299     201616          NaN          NaN  ...      15.0   5.0  10.0   \n",
       "2        298     211951          8.0          NaN  ...       9.0   7.0   4.0   \n",
       "3        297     211533          7.0          NaN  ...      10.0   0.0   2.0   \n",
       "4        296     201616          NaN          NaN  ...       7.0   1.0   3.0   \n",
       "\n",
       "  l_svpt  l_1stIn  l_1stWon  l_2ndWon  l_SvGms  l_bpSaved l_bpFaced  \n",
       "0   51.0     23.0      14.0      10.0      8.0        3.0       8.0  \n",
       "1   76.0     46.0      31.0       8.0     12.0        5.0      10.0  \n",
       "2   91.0     51.0      35.0      19.0     14.0        8.0      12.0  \n",
       "3   68.0     39.0      22.0      10.0     10.0        5.0      11.0  \n",
       "4   65.0     45.0      28.0       5.0      9.0        6.0      10.0  \n",
       "\n",
       "[5 rows x 49 columns]"
      ]
     },
     "execution_count": 3,
     "metadata": {},
     "output_type": "execute_result"
    }
   ],
   "source": [
    "wta2017df.head()"
   ]
  },
  {
   "cell_type": "code",
   "execution_count": 4,
   "metadata": {},
   "outputs": [
    {
     "data": {
      "text/plain": [
       "152"
      ]
     },
     "execution_count": 4,
     "metadata": {},
     "output_type": "execute_result"
    }
   ],
   "source": [
    "wta2017df[wta2017df['winner_ht'].isnull()]['winner_name'].count()"
   ]
  },
  {
   "cell_type": "code",
   "execution_count": 5,
   "metadata": {},
   "outputs": [
    {
     "data": {
      "text/plain": [
       "373"
      ]
     },
     "execution_count": 5,
     "metadata": {},
     "output_type": "execute_result"
    }
   ],
   "source": [
    "wta2017df[wta2017df['loser_ht'].isnull()]['loser_name'].count()"
   ]
  },
  {
   "cell_type": "code",
   "execution_count": 6,
   "metadata": {},
   "outputs": [
    {
     "data": {
      "text/plain": [
       "177.0    197\n",
       "174.0    193\n",
       "170.0    172\n",
       "180.0    156\n",
       "184.0    106\n",
       "168.0    101\n",
       "185.0     99\n",
       "173.0     88\n",
       "182.0     87\n",
       "172.0     80\n",
       "166.0     76\n",
       "178.0     75\n",
       "175.0     70\n",
       "176.0     69\n",
       "163.0     62\n",
       "179.0     56\n",
       "169.0     55\n",
       "181.0     49\n",
       "164.0     48\n",
       "162.0     37\n",
       "183.0     28\n",
       "161.0     23\n",
       "157.0     19\n",
       "171.0     19\n",
       "165.0     18\n",
       "186.0     14\n",
       "167.0     11\n",
       "159.0      9\n",
       "188.0      9\n",
       "189.0      3\n",
       "Name: winner_ht, dtype: int64"
      ]
     },
     "execution_count": 6,
     "metadata": {},
     "output_type": "execute_result"
    }
   ],
   "source": [
    "wta2017df['winner_ht'].value_counts()"
   ]
  },
  {
   "cell_type": "code",
   "execution_count": 7,
   "metadata": {},
   "outputs": [
    {
     "data": {
      "text/plain": [
       "Laura Siegemund               13\n",
       "Ana Bogdan                     6\n",
       "Tereza Martincova              5\n",
       "Jana Fett                      5\n",
       "Sabina Sharipova               4\n",
       "Fangzhou Liu                   4\n",
       "Julia Boserup                  4\n",
       "Cagla Buyukakcay               4\n",
       "Ekaterina Alexandrova          4\n",
       "Ajla Tomljanovic               4\n",
       "Rebecca Sramkova               3\n",
       "Kai Chen Chang                 3\n",
       "Yafan Wang                     3\n",
       "Tamara Korpatsch               3\n",
       "Richel Hogenkamp               3\n",
       "Bianca Andreescu               3\n",
       "Alison Van Uytvanck            3\n",
       "Jing Jing Lu                   3\n",
       "Anna Kalinskaya                3\n",
       "Fanny Stollar                  3\n",
       "Kristie Ahn                    3\n",
       "Kayla Day                      3\n",
       "Antonia Lottner                3\n",
       "Dalila Jakupovic               2\n",
       "Basak Eraydin                  2\n",
       "Eri Hozumi                     2\n",
       "Irina Falconi                  2\n",
       "Ivana Jorovic                  2\n",
       "Dayana Yastremska              2\n",
       "Louisa Chirico                 2\n",
       "                              ..\n",
       "Olga Saez Larra                1\n",
       "Elena Gabriela Ruse            1\n",
       "Jaimee Fourlis                 1\n",
       "Riko Sawayanagi                1\n",
       "Elitsa Kostova                 1\n",
       "Lina Gjorcheska                1\n",
       "Jaqueline Adina Cristian       1\n",
       "Ayla Aksu                      1\n",
       "Lizette Cabrera                1\n",
       "Destanee Aiava                 1\n",
       "Tena Lukas                     1\n",
       "Amandine Hesse                 1\n",
       "Jia Jing Lu                    1\n",
       "Tereza Mrdeza                  1\n",
       "Meiling Wang                   1\n",
       "Cindy Burger                   1\n",
       "Chloe Paquet                   1\n",
       "Anna Zaja                      1\n",
       "Asia Muhammed                  1\n",
       "Chia Jung Chuang               1\n",
       "Martina Trevisan               1\n",
       "Petra Krejsova                 1\n",
       "Valentini Grammatikopoulou     1\n",
       "Miyu Kato                      1\n",
       "Samantha Crawford              1\n",
       "Silvia Soler Espinosa          1\n",
       "Barbara Haas                   1\n",
       "Caroline Dolehide              1\n",
       "Viktoriya Tomova               1\n",
       "Gabriela Dabrowski             1\n",
       "Name: winner_name, Length: 70, dtype: int64"
      ]
     },
     "execution_count": 7,
     "metadata": {},
     "output_type": "execute_result"
    }
   ],
   "source": [
    "wta2017df[wta2017df['winner_ht'].isnull()]['winner_name'].value_counts()"
   ]
  },
  {
   "cell_type": "code",
   "execution_count": 8,
   "metadata": {},
   "outputs": [
    {
     "data": {
      "text/plain": [
       "Cagla Buyukakcay             10\n",
       "Louisa Chirico               10\n",
       "Ekaterina Alexandrova        10\n",
       "Ajla Tomljanovic              8\n",
       "Silvia Soler Espinosa         8\n",
       "Ana Bogdan                    8\n",
       "Julia Boserup                 8\n",
       "Maryna Zanevska               8\n",
       "Kai Chen Chang                8\n",
       "Alison Van Uytvanck           7\n",
       "Irina Khromacheva             7\n",
       "Irina Falconi                 7\n",
       "Anna Kalinskaya               6\n",
       "Elizaveta Kulichkova          6\n",
       "Miyu Kato                     6\n",
       "Tereza Martincova             5\n",
       "Richel Hogenkamp              5\n",
       "Tamara Korpatsch              5\n",
       "Ya Hsuan Lee                  5\n",
       "Kayla Day                     5\n",
       "Nadia Podoroska               4\n",
       "Bianca Andreescu              4\n",
       "Fiona Ferro                   4\n",
       "Antonia Lottner               4\n",
       "Fangzhou Liu                  4\n",
       "Lesley Kerkhove               4\n",
       "Elitsa Kostova                4\n",
       "Su Jeong Jang                 4\n",
       "Ipek Soylu                    3\n",
       "Peangtarn Plipuech            3\n",
       "                             ..\n",
       "Alexa Glatch                  1\n",
       "Prarthana G Thombare          1\n",
       "Katharina Gerlach             1\n",
       "Xenia Knoll                   1\n",
       "Julia Glushko                 1\n",
       "Sofya Zhuk                    1\n",
       "Katarina Zavatska             1\n",
       "Caroline Dolehide             1\n",
       "Alize Lim                     1\n",
       "Anastasia Potapova            1\n",
       "Yue Yuan                      1\n",
       "Anna Karolina Schmiedlova     1\n",
       "Alla Kudryavtseva             1\n",
       "Lina Qostal                   1\n",
       "Mirjam Bjorklund              1\n",
       "Dalma Galfi                   1\n",
       "Mihaela Buzarnescu            1\n",
       "Tena Lukas                    1\n",
       "Hao Chen Tang                 1\n",
       "Katharina Hobgarski           1\n",
       "Lena Rueffer                  1\n",
       "Olga Saez Larra               1\n",
       "Zhaoxuan Yang                 1\n",
       "Ayla Aksu                     1\n",
       "Yi Fan Xu                     1\n",
       "Magdalena Frech               1\n",
       "Tara Moore                    1\n",
       "Alexandra Dulgheru            1\n",
       "Tereza Mrdeza                 1\n",
       "Gabriela Dabrowski            1\n",
       "Name: loser_name, Length: 154, dtype: int64"
      ]
     },
     "execution_count": 8,
     "metadata": {},
     "output_type": "execute_result"
    }
   ],
   "source": [
    "wta2017df[wta2017df['loser_ht'].isnull()]['loser_name'].value_counts()"
   ]
  },
  {
   "cell_type": "code",
   "execution_count": 10,
   "metadata": {},
   "outputs": [
    {
     "data": {
      "text/plain": [
       "(2900, 49)"
      ]
     },
     "execution_count": 10,
     "metadata": {},
     "output_type": "execute_result"
    }
   ],
   "source": [
    "wta2016df= pd.read_csv(\"../data/clean/wta_matches_2016 (1).csv\")\n",
    "wta2016df.shape"
   ]
  },
  {
   "cell_type": "code",
   "execution_count": null,
   "metadata": {},
   "outputs": [],
   "source": []
  }
 ],
 "metadata": {
  "kernelspec": {
   "display_name": "Python 3",
   "language": "python",
   "name": "python3"
  },
  "language_info": {
   "codemirror_mode": {
    "name": "ipython",
    "version": 3
   },
   "file_extension": ".py",
   "mimetype": "text/x-python",
   "name": "python",
   "nbconvert_exporter": "python",
   "pygments_lexer": "ipython3",
   "version": "3.7.3"
  }
 },
 "nbformat": 4,
 "nbformat_minor": 2
}
