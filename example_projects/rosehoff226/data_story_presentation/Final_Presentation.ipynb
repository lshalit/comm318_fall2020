{
 "cells": [
  {
   "cell_type": "markdown",
   "metadata": {},
   "source": [
    "# THE OLYMPICS THROUGH TIME "
   ]
  },
  {
   "cell_type": "markdown",
   "metadata": {},
   "source": [
    "##### Rose Hoffman"
   ]
  },
  {
   "cell_type": "markdown",
   "metadata": {},
   "source": [
    "In 1896, the first modern Olympics took place in Athens, Greece. Pulling from the traditions of Ancient Greece, this event set the stage for the next 120 years of Olympics. The tradition is continuing this summer with the 2020 Summer Olympics in Tokyo. However, the Olympics we know today looks different than it did in 1896. \n",
    "\n",
    "How did the Olympics come to be the way it is today? "
   ]
  },
  {
   "cell_type": "markdown",
   "metadata": {},
   "source": [
    "## Snapshot: 1896 to 2016 "
   ]
  },
  {
   "cell_type": "markdown",
   "metadata": {},
   "source": [
    "While the Olympics today is thought to be a worldwide event, when it first emerged in 1896, not very many countries participated. Only twelve countries, mainly European, were represented at these games. In Rio 2016, there were 207 different countries represented. In recent Olympic history, the United States tends to be among the top performers, in terms of total medal count. In 2016 the United States won a total of 264 medals. In 1896, the United States was the third top performer behind Greece and Germany. Greece was the top performer with forty-eight total medals.  \n",
    "\n",
    "Not only has the Olympics become more global, the number of sports that athletes compete in has also greatly increased. In 1896, the only sports that were played were tennis, swimming, gymnastics, shooting, cycling, fencing, weightlifting and wrestling. While all of these sports are still played today, there are now a total of 34 sports in the Olympics, and more are being added for Tokyo 2020. \n",
    "\n",
    "The make-up of the athletes has also changed over the past 120 years. In 1896, there were only 380 athletes, while in 2016, there were over 13,000 athletes. On average, athletes in the 2016 Olympics were older than athletes in 1896. The youngest athlete in 1896 was a ten years old gymnast, while the youngest in 2016 were two thirteen year old swimmers. The oldest in the 1896 Games was a 40 year old shooter, while the oldest in 2016 was a 62 year old Equestrian. The larger age span between the first and most recent Olympics reflect the expansion of countries that participate and sports that athletes compete in. \n",
    "\n",
    "From this snapshot of the first modern Olympics in Athens, Greece to the most recent in Rio de Janerio, it is clear that the Olympics has expanded to become a much more global event. \n",
    "\n",
    "Now, let's explore some of the trends to see how and when the Olympics came to be the way it is today. "
   ]
  },
  {
   "cell_type": "markdown",
   "metadata": {},
   "source": [
    "# Historical Trends"
   ]
  },
  {
   "cell_type": "markdown",
   "metadata": {},
   "source": [
    "## Country Participation "
   ]
  },
  {
   "cell_type": "markdown",
   "metadata": {},
   "source": [
    "<img src='visualizations/country.png' width=\"450\" height=\"500\"/>"
   ]
  },
  {
   "cell_type": "markdown",
   "metadata": {},
   "source": [
    "The Olympics is considered to be a global event, however, the number of countries that actually participated in the Games remained relatively low until the end of the 20th Century. There were less than 100 countries that participated until 1960. The Summer and Winter Games used to be held in the same year, however, after 1986, they began to alternate every two years. After this transition, the number of countries has remained relatively stable, with a slight upward trend. From 1986 onwards, there is an alternating pattern of which reflect the seasonal pattern of the Olympics. Another trend that will be explored more closely. \n",
    "\n",
    "This graph over the past 120 years also reflects the geo-political events that impacted country participation. For example, there is a dip in the graph around 1980. The 1980 Games were held in Moscow at the peek of the Cold War. It was during this Olympics that the United States and it's allies boycotted the Games. There were roughly the same amount of teams represented in 1956 as there were in 1980. <sup>1</sup>  At the next Olympics, however, the number of countries represented exceeded the amount previous to 1980. This shows that while the Olympics aims to bring together the world, it is not insulated from the political events at the time. "
   ]
  },
  {
   "cell_type": "markdown",
   "metadata": {},
   "source": [
    "<img src='visualizations/corr.png' width=\"450\" height=\"500\"/>"
   ]
  },
  {
   "cell_type": "markdown",
   "metadata": {},
   "source": [
    "As the amount of countries participating increases, the number of athletes within each country also is increasing. Throughout the years, most countries teams have increased their number of athletes. This also reflects that addition of new sports to the games throughout the years. From this graph, it shows that there is a positive correlation between the size of a team and the number of medals that team wins. It would make sense that larger teams would end up being more successful because they have a larger pool of athletes participating, therefore more chances to win medals. "
   ]
  },
  {
   "cell_type": "markdown",
   "metadata": {},
   "source": [
    "## Country Participation by Season"
   ]
  },
  {
   "cell_type": "markdown",
   "metadata": {},
   "source": [
    "<img src='visualizations/season.png' width=\"450\" height=\"500\"/>"
   ]
  },
  {
   "cell_type": "markdown",
   "metadata": {},
   "source": [
    "The original Olympics were only held in the summer. It was not until 1924 that the first Winter Olympics was held. Looking at overall participation by country throughout the years, the Summer Games is the larger event. There are many more countries represented in the Summer Games rather than the Winter Games. However, overall, the trend of more countries being represented each year is true in both seasons. This graph also reflects drops in participation that reflect the geo-political events of the time. For the Summer Games, there was a large drop in participation during the 1980 Moscow Games due to the boycott. However, even with a boycott, there was still more countries represented in 1980 than in the Winter Games that year. Representation for both seasons is increasing over time, however, there is a large difference between amount of countries that participate in the Summer Games than the Winter Games. Also, the amount of sports played in each season is very different. There are many more sports in the Summer Games than the Winter Games. "
   ]
  },
  {
   "cell_type": "markdown",
   "metadata": {},
   "source": [
    "## Women in the Olympics"
   ]
  },
  {
   "cell_type": "markdown",
   "metadata": {},
   "source": [
    "Today, some of the most popular Olympics sports are played by women. For example, women's gymnastics is one of the most popular sports between both the Summer and Winter Games. However, in 1896, there were no women who participated in the Olympics. It was not until 1900 that women joined the Games. There were only 33 women who participated in the 1900 Games. In 2016, however, there was 6,223 female athletes. There has been a steady increase of women participating in the Olympics over the past 200 years. "
   ]
  },
  {
   "cell_type": "markdown",
   "metadata": {},
   "source": [
    "<img src='visualizations/gender.png' width=\"450\" height=\"500\"/>"
   ]
  },
  {
   "cell_type": "markdown",
   "metadata": {},
   "source": [
    "This graph shows that women's participation in the Olympics did not really pick up until the end of the 20th Century. After 1986, it is clear that more women participate in the Summer Games than the Winter Games. Women's participation has been upward since they entered in 1900. Male participation has also overall increased, however, there were dips in male participation throughout the years due to geo-political events such as World War I, World War II and the boycotting of the 1980 Olympics. While there is still more male participation, over the past 30 years, the difference between the genders has declined."
   ]
  },
  {
   "cell_type": "markdown",
   "metadata": {},
   "source": [
    "## Sports Played"
   ]
  },
  {
   "cell_type": "markdown",
   "metadata": {},
   "source": [
    "When it comes to Olympics sports, some of the most popular today are gymnastics, swimming, track and field, and ice skating. The number of sports have greatly increased since the start of the Olympics. Some of the more traditional sports such as gymnastics have been around since the start of the Olympics, there are other, more obscure, sports that have been added and removed along the way. For example, from 1900 until 1920 Tug-of-War was played during the Summer Olympics. Overall, the number of sports has been increasing since 1896. There were a few years were the number of sports played decreased, these again were during years that there were also major political events. "
   ]
  },
  {
   "cell_type": "markdown",
   "metadata": {},
   "source": [
    "## Medal Count Throughout the Years"
   ]
  },
  {
   "cell_type": "markdown",
   "metadata": {},
   "source": [
    "<img src='visualizations/medalcount.png' width=\"10000\" height=\"1000\"/>"
   ]
  },
  {
   "cell_type": "markdown",
   "metadata": {},
   "source": [
    "Throughout the years, most of the same countries have remained dominant. Usually, when a country becomes dominant they stay that way for a few cycles of the Olympics. At the beginning it was Greece, and then towards the middle of the 19th Century, the USSR claimed the title as top medal earner for a few games, this was during the height of the Soviet Union. In recent history, the top medal earner tends to be the United States. Since 1996 the United States has dominated the medal count for Summer Olympics, however, for Winter Olympics, other countries such as Canada and Finland have been dominant, reflecting the difference between the Summer and Winter Games. As the Tokyo Games approach is will be interesting to see if the United States is able to maintain it's dominance in the medal count. "
   ]
  },
  {
   "cell_type": "markdown",
   "metadata": {},
   "source": [
    "## Road to 2020"
   ]
  },
  {
   "cell_type": "markdown",
   "metadata": {},
   "source": [
    "With each game, the Olympics is become more global and more diverse in terms of countries represented, sports played and athletes that participate. As the 2020 Tokyo Olympics come up, if it follows the trends, this Olympics is on track to be the largest, most global Olympics in modern history. The ultimate goal of the Olympics is to bring the world together and for athletes to compete to be named the best in the world, a legacy that has been preserved through over 120 years of history. "
   ]
  },
  {
   "cell_type": "markdown",
   "metadata": {},
   "source": [
    "1. Glass, Andrew. “President Carter Orders an Olympic Boycott, March 21, 1980.” POLITICO, March 21, 2017. \n",
    "    https://www.politico.com/story/2017/03/president-carter-orders-an-olympic-boycott-march-21-1980-236185"
   ]
  }
 ],
 "metadata": {
  "kernelspec": {
   "display_name": "Python 3",
   "language": "python",
   "name": "python3"
  },
  "language_info": {
   "codemirror_mode": {
    "name": "ipython",
    "version": 3
   },
   "file_extension": ".py",
   "mimetype": "text/x-python",
   "name": "python",
   "nbconvert_exporter": "python",
   "pygments_lexer": "ipython3",
   "version": "3.7.3"
  }
 },
 "nbformat": 4,
 "nbformat_minor": 2
}
