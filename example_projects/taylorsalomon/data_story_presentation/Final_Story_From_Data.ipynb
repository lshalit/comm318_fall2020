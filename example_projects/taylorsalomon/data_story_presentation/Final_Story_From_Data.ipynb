{
 "cells": [
  {
   "attachments": {},
   "cell_type": "markdown",
   "metadata": {},
   "source": [
    "## New York State Shows that “Racism got Trump elected” Isn’t all that True\n",
    "\n",
    "In 2016 Hillary Clinton, the Democratic nominee for president called half of Donald Trump’s supporters “a basket of deplorables” due to their “racist, sexist, homophobic, xenophobic, Islamaphobic” views. This opinion was, and has continued to be a common trope amongst left leaning politicians and citizens. But is it really true? Is the reason Trump got elected because Americans are racist?\n",
    "\n",
    "Well, in the state of New York the answer is probably not. Granted, it is difficult to assess whether a person or a group is truly prejudiced. People can hide their true feelings, or things that they say may hover in a subjective grey area that some may consider to be clearly discriminatory and others may not. So let’s focus on the quantitative stats: hate crime data. \n",
    "\n",
    "This data comes from a file on Data.gov that shows the number of hate crimes in each county for the entire year of 2016. That includes crimes of violence against people as well as crimes against property, such as vandalism. The hate crimes that are documented are not just those that were racially motivated; they included crimes on the basis of sex, sexual orientation, religion, and physical abilities in addition to those on the basis of race. \n",
    "\n",
    "When the hate crimes data was normalized to account for the varying populations of New York State’s counties it showed that the amount of hate crimes per million people hovered around 20-40 in most counties that experienced crimes of that nature, apart from a few spikes in Manhattan and a couple of upstate counties. "
   ]
  },
  {
   "cell_type": "markdown",
   "metadata": {},
   "source": [
    "<img src=\"../data_story_presentation/photos_for_data_story/nys_hate_bar.png\" />"
   ]
  },
  {
   "attachments": {},
   "cell_type": "markdown",
   "metadata": {},
   "source": [
    " Looking at the data on a heat map helps to further visualize the relatively low number of hate crimes throughout New York State compared to a few specific counties:"
   ]
  },
  {
   "cell_type": "markdown",
   "metadata": {},
   "source": [
    "<img src=\"../data_story_presentation/photos_for_data_story/nys_hate_geo.png\" />"
   ]
  },
  {
   "attachments": {},
   "cell_type": "markdown",
   "metadata": {},
   "source": [
    "Understanding how these numbers relates to the way people voted in 2016 provides a clearer picture of the lack of correlation between where prejudice lies and who people supported in the election. Laying a map of who won each county in New York over the heat map displaying hate crime statistics shows how the two do not have a clear relationship."
   ]
  },
  {
   "cell_type": "markdown",
   "metadata": {},
   "source": [
    "<img src=\"../data_story_presentation/photos_for_data_story/hate_with_votes.png\" />"
   ]
  },
  {
   "attachments": {},
   "cell_type": "markdown",
   "metadata": {},
   "source": [
    "It is important to understand that whether or not people’s prejudice attitudes contributed to their voting for Trump is impossible to prove numerically, and to understand that just because there is a low amount of actual hate crimes in a certain place it does not mean that people there do not hold some discriminatory opinions. However, this is the best way to try to understand the relationship between prejudice attitudes and the way people voted using provable numbers.\n",
    "\n",
    "The majority of the counties in New York State voted for Donald Trump, although Clinton ended up winning the historically blue state. But in those counties where Trump won, most had low instances of hate crimes against both people and property. \n",
    "\n",
    "There are many factors that contributed to the election of Donald Trump: people losing their jobs, frustration with the government, and even in some instances, feelings of prejudice toward people of a different race or ethnicity. It is important to remember though that just one thing cannot be blamed for the election of Donald Trump. New York State is just an example, but it serves to show that politics is not black and white; each voter is also a person with unique concerns, who will vote however they may for their own unique reasons.\n"
   ]
  }
 ],
 "metadata": {
  "kernelspec": {
   "display_name": "Python 3",
   "language": "python",
   "name": "python3"
  },
  "language_info": {
   "codemirror_mode": {
    "name": "ipython",
    "version": 3
   },
   "file_extension": ".py",
   "mimetype": "text/x-python",
   "name": "python",
   "nbconvert_exporter": "python",
   "pygments_lexer": "ipython3",
   "version": "3.7.3"
  }
 },
 "nbformat": 4,
 "nbformat_minor": 2
}
